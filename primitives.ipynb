{
 "cells": [
  {
   "cell_type": "markdown",
   "metadata": {},
   "source": [
    "# Tips for Primitive Types"
   ]
  },
  {
   "cell_type": "code",
   "execution_count": 36,
   "metadata": {},
   "outputs": [],
   "source": [
    "import math\n",
    "import random"
   ]
  },
  {
   "cell_type": "markdown",
   "metadata": {},
   "source": [
    "#### Absolute Value"
   ]
  },
  {
   "cell_type": "code",
   "execution_count": 9,
   "metadata": {},
   "outputs": [
    {
     "name": "stdout",
     "output_type": "stream",
     "text": [
      "x =      5\n",
      "abs(-x): 5\n",
      "abs(x):  5\n"
     ]
    }
   ],
   "source": [
    "x = 5\n",
    "print('x =     ', x)\n",
    "print('abs(-x):',  abs(-x))\n",
    "print('abs(x): ', abs(x))"
   ]
  },
  {
   "cell_type": "markdown",
   "metadata": {},
   "source": [
    "#### Rounding"
   ]
  },
  {
   "cell_type": "code",
   "execution_count": 10,
   "metadata": {},
   "outputs": [
    {
     "name": "stdout",
     "output_type": "stream",
     "text": [
      "x =               2.17\n",
      "math.ceil(2.17):  3\n",
      "math.floor(2.17): 2\n"
     ]
    }
   ],
   "source": [
    "x = 2.17\n",
    "print('x =              ', x)\n",
    "print('math.ceil(2.17): ', math.ceil(x))\n",
    "print('math.floor(2.17):', math.floor(x))"
   ]
  },
  {
   "cell_type": "markdown",
   "metadata": {},
   "source": [
    "#### Powers"
   ]
  },
  {
   "cell_type": "code",
   "execution_count": 13,
   "metadata": {},
   "outputs": [
    {
     "name": "stdout",
     "output_type": "stream",
     "text": [
      "x^y =      2.71^3.14\n",
      "pow(x, y): 22.883559193263366\n",
      "x**y:      22.883559193263366\n"
     ]
    }
   ],
   "source": [
    "x = 2.71\n",
    "y = 3.14\n",
    "print(f'x^y =      {x}^{y}', )\n",
    "print('pow(x, y):', pow(x, y))\n",
    "print('x**y:     ', x**y)"
   ]
  },
  {
   "cell_type": "markdown",
   "metadata": {},
   "source": [
    "#### Square Roots"
   ]
  },
  {
   "cell_type": "code",
   "execution_count": 17,
   "metadata": {},
   "outputs": [
    {
     "name": "stdout",
     "output_type": "stream",
     "text": [
      "x =           225\n",
      "math.sqrt(x): 15.0\n",
      "x**(1/2):     15.0\n"
     ]
    }
   ],
   "source": [
    "x = 225\n",
    "print('x =          ', x)\n",
    "print('math.sqrt(x):', math.sqrt(x))\n",
    "print('x**(1/2):    ', x**(1/2))"
   ]
  },
  {
   "cell_type": "markdown",
   "metadata": {},
   "source": [
    "#### Converting Between Strings and Numbers"
   ]
  },
  {
   "cell_type": "code",
   "execution_count": 23,
   "metadata": {},
   "outputs": [
    {
     "name": "stdout",
     "output_type": "stream",
     "text": [
      "int --> string: str(42):       42\n",
      "string --> int: int('42'):     42\n",
      "float --> string: str(3.14):   3.14\n",
      "string --> float: int('3.14'): 3.14\n",
      "float --> int: int(3.14):      3\n"
     ]
    }
   ],
   "source": [
    "print(\"int --> string: str(42):      \", str(42))\n",
    "print(\"string --> int: int('42'):    \", int('42'))\n",
    "print(\"float --> string: str(3.14):  \", str(3.14))\n",
    "print(\"string --> float: int('3.14'):\", float('3.14'))\n",
    "print('float --> int: int(3.14):     ', int(3.14))"
   ]
  },
  {
   "cell_type": "markdown",
   "metadata": {},
   "source": [
    "#### Infinity\n",
    "Unlike integers, floats are not infinite precision.  \n",
    "float('inf') and float(-inf') values are comparable and can be used to create pseudo max-int, min-int"
   ]
  },
  {
   "cell_type": "code",
   "execution_count": 31,
   "metadata": {},
   "outputs": [
    {
     "name": "stdout",
     "output_type": "stream",
     "text": [
      "float('inf') < 5:  False\n",
      "float('inf') > 5:  True\n",
      "float('-inf') < 5: False\n",
      "float('-inf') > 5: True\n"
     ]
    }
   ],
   "source": [
    "print(\"float('inf') < 5: \", float('inf') < 5)\n",
    "print(\"float('inf') > 5: \", float('inf') > 5)\n",
    "print(\"float('-inf') < 5:\", float('inf') < 5)\n",
    "print(\"float('-inf') > 5:\", float('inf') > 5)"
   ]
  },
  {
   "cell_type": "markdown",
   "metadata": {},
   "source": [
    "#### Comparing Floats for Equalty\n",
    "Consider using math.isclose()"
   ]
  },
  {
   "cell_type": "code",
   "execution_count": 34,
   "metadata": {},
   "outputs": [
    {
     "name": "stdout",
     "output_type": "stream",
     "text": [
      "math.isclose(1.233, 1.4566)      False\n",
      "math.isclose(1.233, 1.233)       True\n",
      "math.isclose(1.233, 1.24)        False\n",
      "math.isclose(1.233, 1.233000001) True\n"
     ]
    }
   ],
   "source": [
    "print('math.isclose(1.233, 1.4566)     ', math.isclose(1.233, 1.4566))\n",
    "print('math.isclose(1.233, 1.233)      ', math.isclose(1.233, 1.233))\n",
    "print('math.isclose(1.233, 1.24)       ', math.isclose(1.233, 1.24))\n",
    "print('math.isclose(1.233, 1.233000001)', math.isclose(1.233, 1.233000001))"
   ]
  },
  {
   "cell_type": "markdown",
   "metadata": {},
   "source": [
    "#### Random Number Generation\n",
    "random.randrange(start, stop): random integer between [start, stop)\n",
    "random.int(start, stop): random integer between [start, stop]\n",
    "random.int(start, stop): random float between [0, 1)\n",
    "random.shuffle(A): shuffle list in place. returns None\n",
    "random.choice(A): choose a random element from a non-empty sequence"
   ]
  },
  {
   "cell_type": "code",
   "execution_count": 73,
   "metadata": {},
   "outputs": [
    {
     "name": "stdout",
     "output_type": "stream",
     "text": [
      "random.randrange(3, 10): 9\n",
      "random.randint(3, 10):   8\n",
      "random.random():         0.5877490985478362\n",
      "A:                       [0, 1, 2, 3, 4, 5, 6, 7, 8, 9]\n",
      "random.shuffle(A):       [5, 9, 1, 7, 6, 3, 0, 2, 8, 4]\n",
      "random.choice(A):        6\n"
     ]
    }
   ],
   "source": [
    "print('random.randrange(3, 10):', random.randrange(3, 10))\n",
    "print('random.randint(3, 10):  ', random.randint(3, 10))\n",
    "print('random.random():        ', random.random())\n",
    "A = [i for i in range(10)]\n",
    "print('A:                      ', A)\n",
    "random.shuffle(A)\n",
    "print('random.shuffle(A):      ', A)\n",
    "print('random.choice(A):       ', random.choice(A))"
   ]
  }
 ],
 "metadata": {
  "kernelspec": {
   "display_name": "Python 3.6.13 ('survtrace')",
   "language": "python",
   "name": "python3"
  },
  "language_info": {
   "codemirror_mode": {
    "name": "ipython",
    "version": 3
   },
   "file_extension": ".py",
   "mimetype": "text/x-python",
   "name": "python",
   "nbconvert_exporter": "python",
   "pygments_lexer": "ipython3",
   "version": "3.6.13"
  },
  "orig_nbformat": 4,
  "vscode": {
   "interpreter": {
    "hash": "7350660d3aac55fe8c4b8dcc925e909d6449502b265d5ee80d6d6f39ced54ac7"
   }
  }
 },
 "nbformat": 4,
 "nbformat_minor": 2
}
