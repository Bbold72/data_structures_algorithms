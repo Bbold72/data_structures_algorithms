{
 "cells": [
  {
   "cell_type": "markdown",
   "metadata": {},
   "source": [
    "# Linked Lists Interview Questions\n",
    "Questions: Page 108   \n",
    "Answers: Page 239"
   ]
  },
  {
   "cell_type": "code",
   "execution_count": 1,
   "metadata": {},
   "outputs": [],
   "source": [
    "from collections import deque\n",
    "from data_structures.linked_lists.single import Node\n",
    "\n"
   ]
  },
  {
   "cell_type": "markdown",
   "metadata": {},
   "source": [
    "### Stack Min: \n",
    "How would you design a stack which, in addition to push and pop, has a function min \n",
    "which returns the minimum eiement? Push, pop and min should all operate in O(1) time.   \n",
    "Note: min does not pop the value"
   ]
  },
  {
   "cell_type": "code",
   "execution_count": 2,
   "metadata": {},
   "outputs": [],
   "source": [
    "class NodeMin:\n",
    "\n",
    "    def __init__(self, data, min_val):\n",
    "        self.data = data \n",
    "        self.min_val = min_val\n",
    "\n",
    "\n",
    "class stackWithMin():\n",
    "\n",
    "    def __init__(self):\n",
    "        self.stack = deque() \n",
    "\n",
    "    def is_empty(self):\n",
    "        if self.stack:\n",
    "            return False\n",
    "        else:\n",
    "            return True\n",
    "\n",
    "    def push(self, value):\n",
    "        if self.is_empty():\n",
    "            n = NodeMin(value, value)\n",
    "            self.stack.append(n)\n",
    "        else:\n",
    "            current_min = self.min()\n",
    "            current_min = value if value < current_min else current_min\n",
    "            n = NodeMin(value, current_min)\n",
    "            self.stack.append(n)\n",
    "\n",
    "    def pop(self):\n",
    "        n = self.stack.pop()\n",
    "        return n.data, n.min_val\n",
    "        # return n.data, n.min_val\n",
    "\n",
    "    def peek(self):\n",
    "        return self.stack[-1].data\n",
    "\n",
    "    def min(self):\n",
    "        return self.stack[-1].min_val\n",
    "    \n",
    "\n",
    "class stackWithMin2():\n",
    "\n",
    "    def __init__(self):\n",
    "        self.stack = deque() \n",
    "        self.min_stack = deque()\n",
    "\n",
    "    def is_empty(self):\n",
    "        if self.stack:\n",
    "            return False\n",
    "        else:\n",
    "            return True\n",
    "\n",
    "    def push(self, value):\n",
    "        if self.is_empty():\n",
    "            self.stack.append(Node(value))\n",
    "            self.min_stack.append(Node(value))\n",
    "        else:\n",
    "            if value < self.min():\n",
    "                self.min_stack.append(Node(value))\n",
    "            self.stack.append(Node(value))\n",
    "\n",
    "    def pop(self):\n",
    "        value = self.stack.pop().data\n",
    "        if value == self.min():\n",
    "            self.min_stack.pop()\n",
    "        return value\n",
    "\n",
    "    def peek(self):\n",
    "        return self.stack[-1].data\n",
    "\n",
    "    def min(self):\n",
    "        return self.min_stack[-1].data"
   ]
  },
  {
   "cell_type": "code",
   "execution_count": 3,
   "metadata": {},
   "outputs": [
    {
     "name": "stdout",
     "output_type": "stream",
     "text": [
      "True\n",
      "peek 1\n",
      "min: 1\n",
      "value: 1000\n",
      "(1000, 1)\n",
      "\n",
      "min: 1\n",
      "value: 3\n",
      "(3, 1)\n",
      "\n",
      "min: 1\n",
      "value: 1\n",
      "(1, 1)\n",
      "\n",
      "min: 5\n",
      "value: 100\n",
      "(100, 5)\n",
      "\n",
      "min: 5\n",
      "value: 5\n",
      "(5, 5)\n",
      "\n"
     ]
    }
   ],
   "source": [
    "s = stackWithMin()\n",
    "print(s.is_empty())\n",
    "s.push(5)\n",
    "s.push(100)\n",
    "s.push(1)\n",
    "print('peek', s.peek())\n",
    "s.push(3)\n",
    "s.push(1000)\n",
    "while not s.is_empty():\n",
    "    print('min:', s.min())\n",
    "    print('value:', s.peek())\n",
    "    print(s.pop())\n",
    "    print()"
   ]
  },
  {
   "cell_type": "code",
   "execution_count": 4,
   "metadata": {},
   "outputs": [
    {
     "name": "stdout",
     "output_type": "stream",
     "text": [
      "True\n",
      "peek 1\n",
      "min: 1\n",
      "value: 1000\n",
      "1000\n",
      "\n",
      "min: 1\n",
      "value: 3\n",
      "3\n",
      "\n",
      "min: 1\n",
      "value: 1\n",
      "1\n",
      "\n",
      "min: 5\n",
      "value: 100\n",
      "100\n",
      "\n",
      "min: 5\n",
      "value: 5\n",
      "5\n",
      "\n"
     ]
    }
   ],
   "source": [
    "s = stackWithMin2()\n",
    "print(s.is_empty())\n",
    "s.push(5)\n",
    "s.push(100)\n",
    "s.push(1)\n",
    "print('peek', s.peek())\n",
    "s.push(3)\n",
    "s.push(1000)\n",
    "while not s.is_empty():\n",
    "    print('min:', s.min())\n",
    "    print('value:', s.peek())\n",
    "    print(s.pop())\n",
    "    print()"
   ]
  }
 ],
 "metadata": {
  "kernelspec": {
   "display_name": "Python 3.6.13 ('survtrace')",
   "language": "python",
   "name": "python3"
  },
  "language_info": {
   "codemirror_mode": {
    "name": "ipython",
    "version": 3
   },
   "file_extension": ".py",
   "mimetype": "text/x-python",
   "name": "python",
   "nbconvert_exporter": "python",
   "pygments_lexer": "ipython3",
   "version": "3.6.13"
  },
  "orig_nbformat": 4,
  "vscode": {
   "interpreter": {
    "hash": "7350660d3aac55fe8c4b8dcc925e909d6449502b265d5ee80d6d6f39ced54ac7"
   }
  }
 },
 "nbformat": 4,
 "nbformat_minor": 2
}
