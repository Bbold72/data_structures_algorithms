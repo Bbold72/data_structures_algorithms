{
 "cells": [
  {
   "cell_type": "markdown",
   "metadata": {},
   "source": [
    "# Arrays\n",
    "- contiguous block of memory\n",
    "- retreiving/updating: O(1)\n",
    "- insertion: amoritized O(1) since resizing infrequent\n",
    "- deletion: O(n-index) since have to shift elements\n",
    "- resizing: \n",
    "\n",
    "## Tips\n",
    "- Array problems often have simple brute-force solutions that use $O(n)$ space, but there are solutions that **use the array itself to reduce space** complexity to $O(1)$\n",
    "- Filling an array from the front is slow, so see if it is possible to **write the values from the back**\n",
    "- Instead of deleting an entry (which requires moving all entries to its left), consider **overwriting** it\n",
    "- When dealing with integers encoded by an array, consider **processing the digits from the back** of the array. Alternatively, revers the array so that the **least-significant digit is the first entry**\n",
    "- Be comfortable with writing code that operates on subarrays\n",
    "- It's easy to make **off-by-1** errors\n",
    "- Don't worry about preserving the integrity of the array (sortedness, keeping equal entries together) until its time to return\n",
    "- When operating on 2D arrays, **use parallel logic** for rows and columns\n",
    "- Sometimes it its easier to **simulate the specification**, than to analytically solve for the result. For example, rather than writing a formula for the *i*-th entry in the spiral order for an $n\\times n$ matrix, just compute the output from the beginning.\n",
    "- An array can serve as a good data strucutre when you know the distribution of the elements in advance. For example, a Boolean array of length *W* is a good choice for representing a **subset of** $\\{0, 1,...,W-1\\}$.\n",
    "\n"
   ]
  },
  {
   "cell_type": "code",
   "execution_count": 92,
   "metadata": {},
   "outputs": [],
   "source": [
    "from typing import List, Iterator, Tuple\n",
    "import math\n",
    "import random"
   ]
  },
  {
   "cell_type": "markdown",
   "metadata": {},
   "source": [
    "## Libraries"
   ]
  },
  {
   "cell_type": "code",
   "execution_count": 2,
   "metadata": {},
   "outputs": [
    {
     "name": "stdout",
     "output_type": "stream",
     "text": [
      "Instantiating a List:\n",
      "[1] + [0]*10    -> [1, 0, 0, 0, 0, 0, 0, 0, 0, 0]\n",
      "list(range(10)) -> [0, 1, 2, 3, 4, 5, 6, 7, 8, 9]\n",
      "\n",
      "List Methods:\n",
      "A               -> [0, 1, 2, 3, 4]\n",
      "len(A)          -> 5\n",
      "A.append(13)    -> [0, 1, 2, 3, 4, 13]\n",
      "A.remove(2)     -> [0, 1, 3, 4, 13]\n",
      "A.insert(4, -5) -> [0, 1, 3, 4, -5, 13]\n",
      "\n",
      "Instantiating 2D Arrays:\n",
      "[[1, 2, 3], [4, 5, 6], [7, 8, 9]]\n",
      "[[1, 2, 3], [4, 5], [6]]\n"
     ]
    }
   ],
   "source": [
    "print('Instantiating a List:')\n",
    "print('[1] + [0]*10    ->', [1] + [0]*9)\n",
    "print('list(range(10)) ->', list(range(10)))\n",
    "\n",
    "\n",
    "print('\\nList Methods:')\n",
    "A = list(range(5))\n",
    "print('A               ->', A)\n",
    "\n",
    "print('len(A)          ->', len(A))\n",
    "\n",
    "A.append(13)\n",
    "print('A.append(13)    ->', A)\n",
    "\n",
    "A.remove(2)\n",
    "print('A.remove(2)     ->', A)\n",
    "\n",
    "A.insert(4, -5)                # index, object\n",
    "# like putting to left of index in old Array\n",
    "# index parameter is index in new array\n",
    "print('A.insert(4, -5) ->', A) \n",
    "\n",
    "\n",
    "print('\\nInstantiating 2D Arrays:')\n",
    "print([[1, 2, 3], [4, 5, 6], [7, 8, 9]])  # makes rows first\n",
    "print([[1, 2, 3], [4, 5], [6]])\n"
   ]
  },
  {
   "cell_type": "markdown",
   "metadata": {},
   "source": [
    "## Even-Odd Array\n",
    "sort an array s.t. the elements at the fron are at the front"
   ]
  },
  {
   "cell_type": "code",
   "execution_count": 4,
   "metadata": {},
   "outputs": [
    {
     "name": "stdout",
     "output_type": "stream",
     "text": [
      "[4, 2, 3, 1, 5]\n",
      "[2, 2, 4, 4, 4, 7, 3, 5, 5, 3, 1]\n"
     ]
    }
   ],
   "source": [
    "def even_odd_array(A: List[int]) -> List[int]:\n",
    "    i, j = 0, len(A) - 1\n",
    "    i_odd, j_even = False, False\n",
    "\n",
    "    while i < j:           # cannot be != because since increment indexes simultaneosuly, posible to jump over each other\n",
    "        if A[i] % 2 == 0:  # if even, then number already in right spot\n",
    "            i += 1\n",
    "        else:\n",
    "            i_odd = True\n",
    "        if A[j] % 2 == 1:  # if odd, then number already in right spot\n",
    "            j -= 1\n",
    "        else:\n",
    "            j_even = True \n",
    "        if i_odd and j_even:   # only need to exchange when odd-even\n",
    "            A[j], A[i] = A[i], A[j]\n",
    "            i_odd, j_even = False, False\n",
    "            i += 1\n",
    "            j -= 1\n",
    "    \n",
    "\n",
    "A = [1, 2, 3, 4, 5]\n",
    "even_odd_array(A)\n",
    "print(A)\n",
    "A = [1, 2, 3, 4, 5, 7, 3, 4, 5, 4, 2]\n",
    "even_odd_array(A)\n",
    "print(A)"
   ]
  },
  {
   "cell_type": "code",
   "execution_count": 5,
   "metadata": {},
   "outputs": [
    {
     "name": "stdout",
     "output_type": "stream",
     "text": [
      "[4, 2, 3, 1, 5]\n",
      "[2, 2, 4, 4, 4, 7, 3, 5, 5, 3, 1]\n"
     ]
    }
   ],
   "source": [
    "def even_odd_array_v2(A: List[int]) -> None:\n",
    "    # postition for next even, odd number\n",
    "    next_even, next_odd = 0, len(A) - 1\n",
    "\n",
    "    while next_even < next_odd:\n",
    "        if A[next_even] % 2 == 0:    # even number already in right place\n",
    "            next_even += 1\n",
    "        # puts odd number at end\n",
    "        else:\n",
    "            A[next_odd], A[next_even] = A[next_even], A[next_odd]\n",
    "            next_odd -= 1\n",
    "\n",
    "A = [1, 2, 3, 4, 5]\n",
    "even_odd_array(A)\n",
    "print(A)\n",
    "A = [1, 2, 3, 4, 5, 7, 3, 4, 5, 4, 2]\n",
    "even_odd_array(A)\n",
    "print(A)"
   ]
  },
  {
   "cell_type": "markdown",
   "metadata": {},
   "source": [
    "O(n) time and O(1) space complexity"
   ]
  },
  {
   "cell_type": "markdown",
   "metadata": {},
   "source": [
    "## Tip: Looping from end of array to front"
   ]
  },
  {
   "cell_type": "code",
   "execution_count": 6,
   "metadata": {},
   "outputs": [
    {
     "name": "stdout",
     "output_type": "stream",
     "text": [
      "4\n",
      "3\n",
      "2\n",
      "1\n",
      "0\n"
     ]
    }
   ],
   "source": [
    "for i in reversed(range(5)):\n",
    "    print(i)"
   ]
  },
  {
   "cell_type": "markdown",
   "metadata": {},
   "source": [
    "## Dutch National Flag Problem\n",
    "Arrange elements of array s.t. elements less than the pivot appear at the beginning of the array, element equal to the pivot appear in the middle, and elements larger than the pivot appear at the end."
   ]
  },
  {
   "cell_type": "code",
   "execution_count": 7,
   "metadata": {},
   "outputs": [
    {
     "name": "stdout",
     "output_type": "stream",
     "text": [
      "[1, 2, 1, 3, 3, 3, 3, 7, 8, 5]\n"
     ]
    }
   ],
   "source": [
    "def dutch_flag_partion(A: List[int], pivot_index: int) -> None:\n",
    "    pivot = A[pivot_index]\n",
    "\n",
    "    # First pass: group elements smaller than pivot\n",
    "    for i in range(len(A)):\n",
    "        # look for a smaller element\n",
    "        for j in range(i+1, len(A)):\n",
    "            if A[j] < pivot:\n",
    "                A[i], A[j] = A[j], A[i]\n",
    "                break\n",
    "\n",
    "    # second pass: group elements larger than pivot\n",
    "    for i in reversed(range(len(A))):\n",
    "        # look for a larger element\n",
    "        for j in reversed(range(i)):\n",
    "            if A[j] > pivot:\n",
    "                A[i], A[j] = A[j], A[i]\n",
    "                break\n",
    "     \n",
    "\n",
    "A = [3, 1, 5, 2, 7, 8, 3, 1, 3, 3]\n",
    "dutch_flag_partion(A, 0)\n",
    "print(A)"
   ]
  },
  {
   "cell_type": "markdown",
   "metadata": {},
   "source": [
    "$O(n^2)$ time and $O(1)$ space complexity"
   ]
  },
  {
   "cell_type": "code",
   "execution_count": 8,
   "metadata": {},
   "outputs": [
    {
     "name": "stdout",
     "output_type": "stream",
     "text": [
      "[1, 2, 1, 3, 3, 3, 3, 7, 8, 5]\n"
     ]
    }
   ],
   "source": [
    "# make a single pass\n",
    "def dutch_flag_partion(A: List[int], pivot_index: int) -> None:\n",
    "    pivot = A[pivot_index]\n",
    "\n",
    "     # First pass: group elements smaller than pivot\n",
    "    smaller = 0\n",
    "    for i in range(len(A)):\n",
    "        if A[i] < pivot:\n",
    "            A[i], A[smaller] = A[smaller], A[i]\n",
    "            smaller += 1\n",
    "\n",
    "    # second pass: group elements larger than pivot\n",
    "    larger = len(A) - 1\n",
    "    for i in reversed(range(len(A))):\n",
    "        if A[i] > pivot:\n",
    "            A[i], A[larger] = A[larger], A[i]\n",
    "            larger -= 1\n",
    "\n",
    "A = [3, 1, 5, 2, 7, 8, 3, 1, 3, 3]\n",
    "dutch_flag_partion(A, 0)\n",
    "print(A)"
   ]
  },
  {
   "cell_type": "markdown",
   "metadata": {},
   "source": [
    "$O(n)$ time and $O(1)$ space complexity"
   ]
  },
  {
   "cell_type": "code",
   "execution_count": null,
   "metadata": {},
   "outputs": [],
   "source": []
  },
  {
   "cell_type": "markdown",
   "metadata": {},
   "source": [
    "## Incrment an Arbitrary Integer\n",
    "Update array to represent $D+1$              \n",
    "e.g. $[1, 2, 9]$ -> $[1, 3, 0]$"
   ]
  },
  {
   "cell_type": "code",
   "execution_count": 9,
   "metadata": {},
   "outputs": [],
   "source": [
    "def run_tests(f, inputs: Tuple, answers: Tuple):\n",
    "    for input, ans in zip(inputs, answers):\n",
    "        result = f(input)\n",
    "        assert result == ans, f'Error. Expected {ans} for input {input}. Got {result}'"
   ]
  },
  {
   "cell_type": "code",
   "execution_count": 10,
   "metadata": {},
   "outputs": [],
   "source": [
    "def add_one(A: List[int]) -> List[int]:\n",
    "\n",
    "    carry = 0\n",
    "    A[-1] += 1\n",
    "    for i in reversed(range(len(A))):\n",
    "        d = A[i] + carry\n",
    "        if d == 10:\n",
    "            A[i], carry = 0, 1\n",
    "        else:\n",
    "            A[i], carry = d, 0\n",
    "        if carry == 0:\n",
    "            break\n",
    "    if carry > 0:\n",
    "        A.insert(0, carry)\n",
    "    \n",
    "    return A\n",
    "\n",
    "inputs, outputs = ([1, 2, 9], [1, 2, 8], [9, 9, 9]), ([1, 3, 0], [1, 2, 9], [1, 0, 0, 0])\n",
    "run_tests(add_one, inputs, outputs)\n"
   ]
  },
  {
   "cell_type": "code",
   "execution_count": 11,
   "metadata": {},
   "outputs": [],
   "source": [
    "def _one(A: List[int]) -> List[int]:\n",
    "    \n",
    "    #  one\n",
    "    A[-1] += 1\n",
    "    \n",
    "    # check if need to carry\n",
    "    for i in reversed(range(1, len(A))):\n",
    "        if A[i] != 10:\n",
    "            break\n",
    "        # need to carry\n",
    "        A[i]= 0\n",
    "        A[i-1] += 1\n",
    "\n",
    "    # resize array if first element is 10\n",
    "    if A[0] == 10:\n",
    "        # much faster to append to end of array\n",
    "        A[0] = 1\n",
    "        A.append(0)      \n",
    "    \n",
    "    return A\n",
    "\n",
    "inputs, outputs = ([1, 2, 9], [1, 2, 8], [9, 9, 9]), ([1, 3, 0], [1, 2, 9], [1, 0, 0, 0])\n",
    "run_tests(_one, inputs, outputs)\n"
   ]
  },
  {
   "cell_type": "markdown",
   "metadata": {},
   "source": [
    "$O(n)$ time complexity"
   ]
  },
  {
   "cell_type": "markdown",
   "metadata": {},
   "source": [
    "### Variant\n",
    "Write a program which takes as input two strings $s$ and $t$ of bits encoding binary numbers, and returns a new string of bits representing their sum"
   ]
  },
  {
   "cell_type": "code",
   "execution_count": 12,
   "metadata": {},
   "outputs": [],
   "source": [
    "def add_binary_string(x: str, y: str) -> str:\n",
    "\n",
    "    # find which string is smallest\n",
    "    # these are just references; not making copies \n",
    "    if len(x) < len(y):\n",
    "        smaller, larger = x, y\n",
    "    else:\n",
    "        smaller, larger = y, x\n",
    "\n",
    "    result = ['' for i in range(len(larger)+1)]\n",
    "    carry = '0'\n",
    "    for index_larger in reversed(range(len(larger))):\n",
    "        index_smaller = index_larger - (len(larger) - len(smaller))\n",
    "        if index_smaller >= 0:\n",
    "            digit_larger, digit_smaller = larger[index_larger], smaller[index_smaller]\n",
    "\n",
    "            num_ones = sum([1 for i in [digit_larger, digit_smaller, carry] if i == '1'])\n",
    "            if num_ones == 0:\n",
    "                result[index_larger+1], carry = '0', '0'\n",
    "            elif num_ones == 1:\n",
    "                result[index_larger+1], carry = '1', '0'\n",
    "            elif num_ones == 2:\n",
    "                result[index_larger+1], carry = '0', '1'\n",
    "            # num ones = 3\n",
    "            else:\n",
    "                result[index_larger+1], carry = '1', '1'\n",
    "\n",
    "        else:\n",
    "            digit_larger = larger[index_larger+1]\n",
    "            \n",
    "            num_ones = sum([1 for i in [digit_larger, carry]])\n",
    "            if num_ones == 0:\n",
    "                result[index_larger+1], carry = '0', '0'\n",
    "            elif num_ones == 1:\n",
    "                result[index_larger+1], carry = '1', '0'\n",
    "            # num ones = 2\n",
    "            else:\n",
    "                result[index_larger+1], carry = '0', '1'\n",
    "\n",
    "    # check if value to carry still\n",
    "    if carry == '1':\n",
    "        result[0] = '1'\n",
    "\n",
    "    return ''.join(result)\n",
    "\n",
    "\n",
    "inputs, outputs = (('100', '101'), ('111', '111'), ('111', '1'), ('10101', '11001'), ('1110101', '11010')), ('1001', '1110', '1000', '101110', '10001111')\n",
    "for input, ans in zip(inputs, outputs):\n",
    "    s1, s2 = input\n",
    "    result = add_binary_string(s1, s2)\n",
    "    assert result == ans, f'Error. Expected {ans} for input {s1} + {s2} but got {result}'\n"
   ]
  },
  {
   "cell_type": "code",
   "execution_count": 13,
   "metadata": {},
   "outputs": [],
   "source": [
    "def add_binary_string_cache(x: str, y: str) -> str:\n",
    "\n",
    "    def helper(digits: List[str]) -> Tuple[str]:\n",
    "        key = ''.join(digits)\n",
    "        return LOOKUP[key]\n",
    "\n",
    "    # find which string is smallest\n",
    "    # these are just references; not making copies \n",
    "    if len(x) < len(y):\n",
    "        smaller, larger = x, y\n",
    "    else:\n",
    "        smaller, larger = y, x\n",
    "\n",
    "    # create lookup values\n",
    "    # result of sum, carry value\n",
    "    LOOKUP = {\n",
    "                '111': ('1', '1'),\n",
    "                '110': ('0', '1'),\n",
    "                '101': ('0', '1'),\n",
    "                '100': ('1', '0'),\n",
    "                '011': ('0', '1'),\n",
    "                '010': ('1', '0'),\n",
    "                '001': ('1', '0'),\n",
    "                '000': ('0', '0'),\n",
    "                '00': ('0', '0'),\n",
    "                '10': ('1', '0'),\n",
    "                '01': ('1', '0'),\n",
    "                '11': ('0', '1'),\n",
    "    }\n",
    "\n",
    "\n",
    "    result = ['' for i in range(len(larger)+1)]\n",
    "    carry = '0'\n",
    "    for index_larger in reversed(range(len(larger))):\n",
    "        index_smaller = index_larger - (len(larger) - len(smaller))\n",
    "        if index_smaller >= 0:\n",
    "            digit_larger, digit_smaller = larger[index_larger], smaller[index_smaller]\n",
    "            result[index_larger+1], carry = helper([digit_larger, digit_smaller, carry])\n",
    "\n",
    "        else:\n",
    "            digit_larger = larger[index_larger+1]\n",
    "            result[index_larger+1], carry = helper([digit_larger, carry])\n",
    "\n",
    "    # check if value to carry still\n",
    "    if carry == '1':\n",
    "        result[0] = '1'\n",
    "\n",
    "    # dont want to build string iteratively since immutable and would create many copies\n",
    "    return ''.join(result)\n",
    "\n",
    "\n",
    "inputs, outputs = (('100', '101'), ('111', '111'), ('111', '1'), ('10101', '11001'), ('1110101', '11010')), ('1001', '1110', '1000', '101110', '10001111')\n",
    "for input, ans in zip(inputs, outputs):\n",
    "    s1, s2 = input\n",
    "    result = add_binary_string_cache(s1, s2)\n",
    "    assert result == ans, f'Error. Expected {ans} for input {s1} + {s2} but got {result}'\n"
   ]
  },
  {
   "cell_type": "code",
   "execution_count": 14,
   "metadata": {},
   "outputs": [],
   "source": [
    "def run_tests_2_inputs(f, inputs, outputs):\n",
    "    for input, ans in zip(inputs, outputs):\n",
    "        A, B = input\n",
    "        result = f(A, B)\n",
    "        assert result == ans, f'Error. Expected {ans} for input ({A}, {B}) but got {result}'"
   ]
  },
  {
   "cell_type": "markdown",
   "metadata": {},
   "source": [
    "$O(n)$ time and $O(1)$ space complexity"
   ]
  },
  {
   "cell_type": "markdown",
   "metadata": {},
   "source": [
    "### Multiply to Arbitrary-Precision Integers\n",
    "takes two integers as arrays and outputs their product as an array     \n",
    "e.g. $325 \\times 4523 = 1469975$ --> $[3, 2, 5] \\times [4, 5, 2, 3] = [1, 4, 6, 9, 9, 7, 5]$"
   ]
  },
  {
   "cell_type": "code",
   "execution_count": 15,
   "metadata": {},
   "outputs": [],
   "source": [
    "def product_arrays(A: List[int], B: List[int]) -> List[int]:\n",
    "\n",
    "    # get sign of product and remove sign from first digit\n",
    "    # sign = 1\n",
    "    # if A[0] < 0:\n",
    "    #     sign *= -1\n",
    "    #     A[0] *= -1\n",
    "    # if B[0] < 0:\n",
    "    #     sign *= -1\n",
    "    #     B[0] *= -1\n",
    "\n",
    "    sign = -1 if (A[0] < 0) ^ (B[0] < 0) else 1\n",
    "    A[0], B[0] = abs(A[0]), abs(B[0])\n",
    "\n",
    "    result = [0 for i in range(len(A)+len(B))]\n",
    "\n",
    "    for i in reversed(range(len(A))):\n",
    "        for j in reversed(range(len(B))):\n",
    "            result[i+j+1] += A[i] * B[j]\n",
    "            result[i+j] += result[i+j+1] // 10   # do carrying first\n",
    "            result[i+j+1] %= 10\n",
    "\n",
    "    # remove zeros from front of array\n",
    "    num_zeros = 0\n",
    "    for i in result:\n",
    "        if i == 0:\n",
    "            num_zeros += 1\n",
    "        else:\n",
    "            break\n",
    "\n",
    "    # add sign to first digit if negative product     \n",
    "    if sign < 0:\n",
    "        result[0+num_zeros] *= -1\n",
    "    \n",
    "    return result[num_zeros:]\n",
    "\n",
    "inputs = (([1, 2, 3], [1, 2]), ([-1, 2, 3], [1, 2]), ([1, 2, 3], [-1, 2]), ([-1, 2, 3], [-1, 2]), ([1, 2, 3, 4], [5, 6, 7]), ([1, 9, 3, 7, 0, 7, 7, 2, 1], [-7, 6, 1, 8, 3, 8, 2, 5, 7, 2, 8, 7]))\n",
    "outputs = ([1, 4, 7, 6], [-1, 4, 7, 6], [-1, 4, 7, 6], [1, 4, 7, 6], [6, 9, 9, 6, 7, 8], [-1, 4, 7, 5, 7, 3, 9, 5, 2, 5, 8, 9, 6, 7, 6, 4, 1, 2, 9, 2, 7])\n",
    "run_tests_2_inputs(product_arrays, inputs, outputs)"
   ]
  },
  {
   "cell_type": "markdown",
   "metadata": {},
   "source": [
    "$O(mn)$ time and $O(m+n)$ space complexity where *m* is the length of the first array and *n* is the length of the second array"
   ]
  },
  {
   "cell_type": "markdown",
   "metadata": {},
   "source": [
    "### 5.4 Advancing through an Array\n",
    "In a particular board game, a player has to advance through a sequence of positions. Each position has a nonegative integer associated with it, representing the maximum you can from that position in one move. You begin at the first position and win the game by getting to the last position.    \n",
    "e.g. A = [3, 3, 1, 0, 2, 0, 1]: A[0] to A[1] to A[4] to A[6]"
   ]
  },
  {
   "cell_type": "code",
   "execution_count": 16,
   "metadata": {},
   "outputs": [],
   "source": [
    "def advance_game(A: List[int]) -> bool:\n",
    "\n",
    "    index_max = 0     # farthers position reached so far\n",
    "    i = 0             # iterating through every element of list\n",
    "\n",
    "    # if i is greater than max position reached, then not possible to get to end\n",
    "    while i <= index_max:\n",
    "\n",
    "        # see if advance further in array\n",
    "        index_max = max([index_max, i+A[i]])\n",
    "        \n",
    "        # check if reached end\n",
    "        if index_max >= len(A) - 1:\n",
    "            return True\n",
    "        \n",
    "        i += 1\n",
    "\n",
    "    return False\n",
    "\n",
    "\n",
    "inputs, outputs = ([3, 3, 1, 0, 2, 0, 1], [3, 3, 1, 0, 1, 0, 1], [3, 3, 1, 0, 10, 0, 1], [0, 3, 1, 0, 1, 0, 1], [20, 3, 1, 0, 1, 0, 1], [3, 2, 1, 0, 2, 0, 1]), (True, False, True, False, True, False)\n",
    "run_tests(advance_game, inputs, outputs)\n"
   ]
  },
  {
   "cell_type": "markdown",
   "metadata": {},
   "source": [
    "$O(n)$ time and $O(1)$ space"
   ]
  },
  {
   "cell_type": "markdown",
   "metadata": {},
   "source": [
    "#### Variant: Return minimum number of steps to get to end\n",
    "maybe keep track of minimum number of steps at each position"
   ]
  },
  {
   "cell_type": "markdown",
   "metadata": {},
   "source": [
    "### 5.5 Delete Duplicates from Sorted Array\n"
   ]
  },
  {
   "cell_type": "code",
   "execution_count": 17,
   "metadata": {},
   "outputs": [
    {
     "name": "stdout",
     "output_type": "stream",
     "text": [
      "[1, 2, 3]\n",
      "[1, 2, 3, 4, 5, 6]\n",
      "[1, 2, 3]\n",
      "[1]\n",
      "[1, 2]\n",
      "[1, 2, 4, 5, 6]\n"
     ]
    }
   ],
   "source": [
    "def sorted_array_remove_dups(A: List[int]) -> int:\n",
    "    # empty array\n",
    "    if not A:\n",
    "        return 0\n",
    "\n",
    "    index_write = 1\n",
    "    for i in range(1, len(A)):\n",
    "        if A[i] != A[index_write - 1]:\n",
    "            A[index_write] = A[i]\n",
    "            index_write += 1\n",
    "    print(A[0:index_write])\n",
    "    return index_write\n",
    "\n",
    "inputs, outputs = ([1, 1, 1, 2, 3, 3], [1, 2, 3, 4, 5, 6], [1, 2, 3, 3, 3, 3, 3], [1, 1, 1, 1, 1], [1, 1, 1, 1, 1, 2], [1, 2, 4, 4, 5, 5, 6, 6]), (3, 6, 3, 1, 2, 5)\n",
    "run_tests(sorted_array_remove_dups, inputs, outputs)"
   ]
  },
  {
   "cell_type": "markdown",
   "metadata": {},
   "source": [
    "$O(n)$ time and $O(1)$ space"
   ]
  },
  {
   "cell_type": "markdown",
   "metadata": {},
   "source": [
    "#### Variant: \n",
    "Implement a function which takes an input array and a key, and removes the key from the array and shifts all remaining elements to the left."
   ]
  },
  {
   "cell_type": "code",
   "execution_count": 18,
   "metadata": {},
   "outputs": [
    {
     "name": "stdout",
     "output_type": "stream",
     "text": [
      "[1, 3]\n",
      "[1, 3]\n",
      "[1, 1, 1, 2]\n",
      "[1, 2, 3, 4, 5, 6]\n",
      "[1, 2]\n",
      "[]\n",
      "[1, 1, 1, 1, 1]\n",
      "[2, 4, 4, 5, 5, 6, 6]\n",
      "[4, 6, 7, 4, 7, 7, 1, 100]\n"
     ]
    }
   ],
   "source": [
    "def remove_array_key(A: List[int], key: int) -> int:\n",
    "    # empty array\n",
    "    if not A:\n",
    "        return 0\n",
    "\n",
    "    index_write = 0\n",
    "    for i, val in enumerate(A):\n",
    "        if val != key:\n",
    "            A[index_write] = val \n",
    "            index_write += 1\n",
    "    print(A[0:index_write])\n",
    "    return index_write\n",
    "\n",
    "remove_array_key([1, 2, 2, 2, 3, 2], 2)\n",
    "inputs = (([1, 2, 2, 2, 3, 2], 2), ([1, 1, 1, 2, 3, 3], 3), ([1, 2, 3, 4, 5, 6], 7), ([1, 2, 3, 3, 3, 3, 3], 3), ([1, 1, 1, 1, 1], 1), ([1, 1, 1, 1, 1, 2], 2), ([1, 2, 4, 4, 5, 5, 6, 6], 1), ([4, 2, 6, 2, 7, 4, 2, 7, 7, 1, 2, 100], 2))\n",
    "outputs = (2, 4, 6, 2, 0, 5, 7, 8)\n",
    "run_tests_2_inputs(remove_array_key, inputs, outputs)"
   ]
  },
  {
   "cell_type": "markdown",
   "metadata": {},
   "source": [
    "$O(n)$ time and $O(1)$ space"
   ]
  },
  {
   "cell_type": "markdown",
   "metadata": {},
   "source": [
    "#### Variant:"
   ]
  },
  {
   "cell_type": "markdown",
   "metadata": {},
   "source": [
    "### Buy and Sell a Stock Once\n",
    "Give a sequence of prices, design an algorithm that determines the maximum profit that could have been made by buying and then selling a single share over a given day range\n",
    "e.g. [310, 315, 275, 295, 260, 270, 290, 230, 255, 250]: max profit = 30 -> buy at 260 and sell at 270"
   ]
  },
  {
   "cell_type": "code",
   "execution_count": 19,
   "metadata": {},
   "outputs": [],
   "source": [
    "def buy_sell_stock_brute_force(prices: List[int]) -> int:\n",
    "\n",
    "    max_profit = 0\n",
    "\n",
    "    for i_buy, buy_price in enumerate(prices):\n",
    "        for j_sell in range(i_buy+1, len(prices)):\n",
    "            max_profit = max([max_profit, prices[j_sell] - buy_price])\n",
    "    \n",
    "    return max_profit\n",
    "\n",
    "inputs, outputs = ([310, 315, 275, 295, 260, 270, 290, 230, 255, 250], [120, 100, 50], [20, 30], [30, 20], [30]), (30, 0, 10, 0, 0)\n",
    "run_tests(buy_sell_stock_brute_force, inputs, outputs)"
   ]
  },
  {
   "cell_type": "markdown",
   "metadata": {},
   "source": [
    "$O(n^2)$ time and $O(1)$ space complexity       \n",
    "         \n",
    "The max profit that can be made by selling on a specific day is determined by the minimum of the stock prices over the previous days\n",
    "- keep track of minimum price so far\n",
    "- calculate max profit so far\n",
    "e.g. [310, 315, 275, 295, 260, 270, 290, 230, 255, 250] --> max profits so far taking min price so far [0, 5, 0, 20, 0, 10, 30, 0, 25, 20]"
   ]
  },
  {
   "cell_type": "code",
   "execution_count": 20,
   "metadata": {},
   "outputs": [],
   "source": [
    "def buy_sell_stock(prices: List[int]) -> int:\n",
    "    max_profit, min_price = 0, float('inf')\n",
    "\n",
    "    for price in prices:\n",
    "        profit_today = price - min_price\n",
    "        max_profit = max([profit_today, max_profit])\n",
    "        min_price = min([price, min_price])\n",
    "\n",
    "    return max_profit\n",
    "\n",
    "inputs, outputs = ([310, 315, 275, 295, 260, 270, 290, 230, 255, 250], [120, 100, 50], [20, 30], [30, 20], [30]), (30, 0, 10, 0, 0)\n",
    "run_tests(buy_sell_stock, inputs, outputs)"
   ]
  },
  {
   "cell_type": "markdown",
   "metadata": {},
   "source": [
    "$O(n)$ time and $O(1)$ space"
   ]
  },
  {
   "cell_type": "markdown",
   "metadata": {},
   "source": [
    "### Buy and Sell a Stock Twice\n",
    "Write a program that computes the maximum profit that can be made by buying and selling a stock at most twice. The second buy must be made after the first sale."
   ]
  },
  {
   "cell_type": "code",
   "execution_count": 21,
   "metadata": {},
   "outputs": [],
   "source": [
    "def buy_sell_stock_twice_brute_force(prices: List[int]) -> int:\n",
    "\n",
    "    max_profit = 0\n",
    "    \n",
    "    for i in range(len(prices)):\n",
    "        max_profit = max([max_profit, buy_sell_stock(prices[0:i]) + buy_sell_stock(prices[i:])])\n",
    "    return max_profit\n",
    "\n",
    "\n",
    "inputs, outputs = ([310, 315, 275, 295, 260, 270, 290, 230, 255, 250], [120, 100, 50], [240, 260, 290], [240, 260, 250, 300], [20, 30], [30, 20], [30], [12, 11, 13, 9, 12, 8, 14, 13, 15]), (55, 0, 50, 70, 10, 0, 0, 10)\n",
    "run_tests(buy_sell_stock_twice_brute_force, inputs, outputs)"
   ]
  },
  {
   "cell_type": "markdown",
   "metadata": {},
   "source": [
    "$O(n^2)$ time and $O(1)$ space"
   ]
  },
  {
   "cell_type": "markdown",
   "metadata": {},
   "source": [
    "want max profit from $A[0:i]$ and $A[i:]$. Can do a iterate through the list forwards and backwards to get these   \n",
    "e.g. $[12, 11, 13, 9, 12, 8, 14, 13, 15]$    \n",
    "Forwards max profits so far: $ [0, 0, 2, 2,  3,  3, 6, 6, 7]$    \n",
    "Backwards max profits so far: $[7, 7, 7, 7,  7,  7, 2, 2, 0]$   \n",
    "Add forwards and backwards arrays            \n",
    "Max Total Profits:            $[7, 7, 9, 9, 10, 10, 8, 8, 7]$\n",
    "\n"
   ]
  },
  {
   "cell_type": "code",
   "execution_count": 22,
   "metadata": {},
   "outputs": [],
   "source": [
    "def buy_sell_stock_twice(prices: List[int]) -> int:\n",
    "\n",
    "    # forward pass\n",
    "    max_profit, min_price = 0, float('inf')\n",
    "    first_buy_sell_profits = [0] * len(prices)\n",
    "    for i, price in enumerate(prices):\n",
    "        profit_today = price - min_price\n",
    "        max_profit = max([profit_today, max_profit])\n",
    "        first_buy_sell_profits[i] = max_profit\n",
    "        min_price = min([price, min_price])\n",
    "\n",
    "    # backward pass\n",
    "    max_profit, max_price = 0, float('-inf')\n",
    "    second_buy_sell_profits = [0] * len(prices)\n",
    "    for i, price in reversed(list(enumerate(prices))):\n",
    "        profit_today = max_price - price\n",
    "        max_profit = max([profit_today, max_profit])\n",
    "        second_buy_sell_profits[i] = max_profit\n",
    "        max_price = max([price, max_price])\n",
    "\n",
    "    # find over all max profit\n",
    "    max_profit = 0\n",
    "    for i in range(len(prices)):\n",
    "        max_profit = max([max_profit, first_buy_sell_profits[i] + second_buy_sell_profits[i]])\n",
    "    return max_profit\n",
    "    \n",
    "run_tests(buy_sell_stock_twice, inputs, outputs)\n"
   ]
  },
  {
   "cell_type": "markdown",
   "metadata": {},
   "source": [
    "$O(n)$ time and $O(2n)$ space"
   ]
  },
  {
   "cell_type": "code",
   "execution_count": 23,
   "metadata": {},
   "outputs": [],
   "source": [
    "def buy_sell_stock_twice(prices: List[int]) -> int:\n",
    "    max_total_profit, min_price = 0, float('inf')\n",
    "\n",
    "    first_buy_sell_profits = [0] * len(prices)\n",
    "\n",
    "    # forward pass\n",
    "    for i, price in enumerate(prices):\n",
    "        profit_today = price - min_price\n",
    "        max_total_profit = max([profit_today, max_total_profit])\n",
    "        first_buy_sell_profits[i] = max_total_profit\n",
    "        min_price = min([price, min_price])\n",
    "\n",
    "    # backward pass\n",
    "    max_price = float('-inf')\n",
    "    for i, price in reversed(list(enumerate(prices[1:], 1))): # offset index by 1\n",
    "        max_total_profit = max([max_total_profit, max_price - price + first_buy_sell_profits[i]])\n",
    "        max_price = max([max_price, price])\n",
    "\n",
    "    return max_total_profit\n",
    "\n",
    "run_tests(buy_sell_stock_twice, inputs, outputs)"
   ]
  },
  {
   "cell_type": "code",
   "execution_count": 24,
   "metadata": {},
   "outputs": [
    {
     "data": {
      "text/plain": [
       "[(9, 250),\n",
       " (8, 255),\n",
       " (7, 230),\n",
       " (6, 290),\n",
       " (5, 270),\n",
       " (4, 260),\n",
       " (3, 295),\n",
       " (2, 275),\n",
       " (1, 315)]"
      ]
     },
     "execution_count": 24,
     "metadata": {},
     "output_type": "execute_result"
    }
   ],
   "source": [
    "p = [310, 315, 275, 295, 260, 270, 290, 230, 255, 250]\n",
    "list(reversed(list(enumerate(p[1:], 1))))"
   ]
  },
  {
   "cell_type": "markdown",
   "metadata": {},
   "source": [
    "$O(n)$ time and $O(n)$ space and better run time since only looping through twice instead of three times"
   ]
  },
  {
   "cell_type": "markdown",
   "metadata": {},
   "source": [
    "### 5.8 Compute an Alteration:\n",
    "Write a program that takes an array $A$ of $n$ numbers and rearranges $A$'s elements to get a new array $B$ having the property that $B[0] \\leq B[1] \\geq B[2] \\leq B[3] \\geq B[4] ...$"
   ]
  },
  {
   "cell_type": "code",
   "execution_count": 25,
   "metadata": {},
   "outputs": [],
   "source": [
    "def alternating_array(A: List[int]) -> None:\n",
    "\n",
    "    A.sort()\n",
    "    i = 2\n",
    "    while i < len(A):\n",
    "        A[i-1], A[i] = A[i], A[i-1]\n",
    "        i += 2\n",
    "\n",
    "def check_alternating(A: List[int]) -> bool:\n",
    "\n",
    "    for i in range(1, len(A)):\n",
    "        if i % 2 == 0:\n",
    "            if not A[i-1] >= A[i]:\n",
    "                return False        \n",
    "        else:\n",
    "            if not A[i-1] <= A[i]:\n",
    "                return False\n",
    "    return True\n",
    "\n",
    "for input in ([3, 1, 5, 3, 7, 9, 4, 8, 2], [5, 10, 8, 9, 4]):\n",
    "    alternating_array(input)\n",
    "    assert check_alternating(input) == True"
   ]
  },
  {
   "cell_type": "markdown",
   "metadata": {},
   "source": [
    "$O(n\\log n)$ time complexity because of the sort"
   ]
  },
  {
   "cell_type": "code",
   "execution_count": 26,
   "metadata": {},
   "outputs": [],
   "source": [
    "def alternating_array(A: List[int]) -> None:\n",
    "\n",
    "    for i in range(1, len(A)):\n",
    "        if i % 2 == 0:\n",
    "            if not A[i-1] >= A[i]:\n",
    "                A[i-1], A[i] = A[i], A[i-1]         \n",
    "        else:\n",
    "            if not A[i-1] <= A[i]:\n",
    "                A[i-1], A[i] = A[i], A[i-1]\n",
    "\n",
    "\n",
    "for input in ([3, 1, 5, 3, 7, 9, 4, 8, 2], [5, 10, 8, 9, 4]):\n",
    "    alternating_array(input)\n",
    "    assert check_alternating(input) == True\n",
    "  "
   ]
  },
  {
   "cell_type": "code",
   "execution_count": 27,
   "metadata": {},
   "outputs": [],
   "source": [
    "def alternating_array(A: List[int]) -> None:\n",
    "\n",
    "    for i in range(len(A)):\n",
    "        A[i:(i+2)] = sorted(A[i:(i+2)], reverse=bool(i % 2))\n",
    "\n",
    "\n",
    "\n",
    "for input in ([3, 1, 5, 3, 7, 9, 4, 8, 2], [5, 10, 8, 9, 4]):\n",
    "    alternating_array(input)\n",
    "    assert check_alternating(input) == True"
   ]
  },
  {
   "cell_type": "code",
   "execution_count": 28,
   "metadata": {},
   "outputs": [
    {
     "name": "stdout",
     "output_type": "stream",
     "text": [
      "[5]\n",
      "[]\n"
     ]
    }
   ],
   "source": [
    "A = [4, 2, 1, 4, 5]\n",
    "print(A[4:6])\n",
    "print(A[5:7])"
   ]
  },
  {
   "cell_type": "markdown",
   "metadata": {},
   "source": [
    "$O(n)$ time $O(1)$ space complexity"
   ]
  },
  {
   "cell_type": "markdown",
   "metadata": {},
   "source": [
    "### 5.9 Enumerate All Primes to n\n"
   ]
  },
  {
   "cell_type": "code",
   "execution_count": 32,
   "metadata": {},
   "outputs": [
    {
     "data": {
      "text/plain": [
       "[2, 3, 5, 7, 11, 13, 17, 19, 23, 29, 31, 37, 41, 43, 47]"
      ]
     },
     "execution_count": 32,
     "metadata": {},
     "output_type": "execute_result"
    }
   ],
   "source": [
    "def generate_primes_brute_force(n: int) -> List[int]:\n",
    "    primes = []\n",
    "\n",
    "    def is_prime(num: int) -> bool:\n",
    "        upper_limit = math.floor(math.sqrt(num))\n",
    "        for x in range(2, upper_limit+1):\n",
    "            if num % x == 0:\n",
    "                return False\n",
    "        return True\n",
    "    \n",
    "    for i in range(2, n+1):\n",
    "        if is_prime(i):\n",
    "            primes.append(i)\n",
    "\n",
    "    return primes\n",
    "\n",
    "generate_primes_brute_force(50)"
   ]
  },
  {
   "cell_type": "markdown",
   "metadata": {},
   "source": [
    "$O(n^{3/2})$ time complexity    \n",
    "\n",
    "First intialize an array will a boolean array of potential prime candidates (all true initially except for 0, 1)    \n",
    "Iterate through array and anytime come across True, it is a prime since nothing before it was a divisor     \n",
    "Then get rid of all multiple of that prime  \n",
    "e.g. n = 10    \n",
    "$[F, F, T, T, T, T, T, T, T, T, T]$           \n",
    "$[F, F, T, T, F, T, F, T, F, T, F]$ process 2; 2 is prime; remove multiples of 2            \n",
    "$[F, F, T, T, F, T, F, T, F, F, F]$ process 3; 3 is prime; remove multiples of 3\n",
    "\n",
    "\n",
    "\n"
   ]
  },
  {
   "cell_type": "code",
   "execution_count": 36,
   "metadata": {},
   "outputs": [],
   "source": [
    "def generate_primes(n: int) -> List[int]:\n",
    "\n",
    "    primes = []\n",
    "    is_prime = [False, False] + [True] * (n - 1)\n",
    "\n",
    "    for num in range(2, n+1):\n",
    "        if is_prime[num]:\n",
    "            primes.append(num)\n",
    "\n",
    "            # remove multiples of prime (sieving)\n",
    "            for multiple in range(2*num, n+1, num):\n",
    "                is_prime[multiple] = False\n",
    "    \n",
    "    return primes\n",
    "\n",
    "generate_primes(1)\n",
    "\n",
    "for input in [10, 50, 20, 1, 2, 100]:\n",
    "    brute_force, optimal = generate_primes_brute_force(input), generate_primes(input)\n",
    "    assert brute_force == optimal, f'Error: brute force return {brute_force} and optimal returned {optimal}'"
   ]
  },
  {
   "cell_type": "markdown",
   "metadata": {},
   "source": [
    "sieving multiples of primes is proportional to $n/p$, so overall time complexity is $O(n/2 + n/3 + n/5 + n/7 + n/11 + ...)$ = $O(n\\log \\log n)$. $O(n)$ space complexity        \n",
    "\n",
    "Can improve run time by sieving multiples from $p^2$ since all numbers from $kp$ where $k<p$ have already been sieved out. Storage can be reduced by ignoring even numbers"
   ]
  },
  {
   "cell_type": "code",
   "execution_count": null,
   "metadata": {},
   "outputs": [],
   "source": [
    "def generate_primes(n: int) -> List[int]:\n",
    "    pass"
   ]
  },
  {
   "cell_type": "markdown",
   "metadata": {},
   "source": [
    "### 5.10: Permute the Elements of an Array\n",
    "e.g. $A=[a, b, c, d]$ and $P=[2, 0, 1, 3]$ -> $[b, c, a, d]$   \n",
    "$P[i]$ means the location at *i* is moved to $P[i]$        \n",
    "\n"
   ]
  },
  {
   "cell_type": "code",
   "execution_count": 44,
   "metadata": {},
   "outputs": [],
   "source": [
    "def apply_permutation_brute_force(A: List[str], P: List[int]) -> List[int]:\n",
    "    A_perm = [0] * len(A)\n",
    "    for i, pos, in enumerate(P):\n",
    "        A_perm[pos] = A[i]\n",
    "\n",
    "    return A_perm\n",
    "\n",
    "permutations = ([2, 0, 1, 3], [2, 0, 3, 1], [0, 1, 2, 3], [3, 2, 1, 0])\n",
    "input = ['a', 'b', 'c', 'd']\n",
    "outputs = (['b', 'c', 'a', 'd'], ['b', 'd', 'a', 'c'], ['a', 'b', 'c', 'd'], ['d', 'c', 'b', 'a'])\n",
    "for p, out in zip(permutations, outputs):\n",
    "    result = apply_permutation_brute_force(input, p)\n",
    "    assert out == result, f'Error: Expected {out} for input {input} and permutation {p} but got {result}'\n"
   ]
  },
  {
   "cell_type": "markdown",
   "metadata": {},
   "source": [
    "$O(n)$ time and space complexity    \n",
    " \n",
    "To solve without using additional space and can modify P, swap elements in A but also swap in P to keep track of where element was moved to. When position and index in P match, skip    \n",
    "e.g. $A=[a, b, c, d]$ and $P=[2, 0, 1, 3]$ -> $[b, c, a, d]$     \n",
    "$A=[c, b, a, d]$ and $P=[1, 0, 2, 3]$ swap at postion 0   \n",
    "$A=[b, c, a, d]$ and $P=[0, 1, 2, 3]$ swap at postion 1   \n",
    "stop since positions match indices\n"
   ]
  },
  {
   "cell_type": "code",
   "execution_count": 49,
   "metadata": {},
   "outputs": [],
   "source": [
    "def apply_permutation(A: List[str], P: List[int]) -> None:\n",
    "    for i in range(len(A)):\n",
    "        while i != P[i]:\n",
    "            A[P[i]], A[i] = A[i], A[P[i]]\n",
    "            P[P[i]], P[i] = P[i], P[P[i]]\n",
    "\n",
    "permutations = ([2, 0, 1, 3], [2, 0, 3, 1], [0, 1, 2, 3], [3, 2, 1, 0])\n",
    "outputs = (['b', 'c', 'a', 'd'], ['b', 'd', 'a', 'c'], ['a', 'b', 'c', 'd'], ['d', 'c', 'b', 'a'])\n",
    "for p, out in zip(permutations, outputs):\n",
    "    input = ['a', 'b', 'c', 'd']\n",
    "    original_input = input[0:]\n",
    "    apply_permutation(input, p)\n",
    "    assert out == input, f'Error: Expected {out} for input {original_input} and permutation {p} but got {input}'\n"
   ]
  },
  {
   "cell_type": "markdown",
   "metadata": {},
   "source": [
    "$O(n)$ time and space complexity. modify permuation array so $O(n)$ space   \n",
    "\n",
    "\n",
    "#### Variant: Use O(1) space\n"
   ]
  },
  {
   "cell_type": "code",
   "execution_count": 47,
   "metadata": {},
   "outputs": [
    {
     "data": {
      "text/plain": [
       "[2, 0, 1, 3]"
      ]
     },
     "execution_count": 47,
     "metadata": {},
     "output_type": "execute_result"
    }
   ],
   "source": [
    "def apply_permutation(A: List[str], P: List[int]) -> None:\n",
    "    pass"
   ]
  },
  {
   "cell_type": "markdown",
   "metadata": {},
   "source": [
    "#### Variant: Find Unique Inverse of Permutation"
   ]
  },
  {
   "cell_type": "code",
   "execution_count": null,
   "metadata": {},
   "outputs": [],
   "source": [
    "def inverse_permutation(A: List[str], P: List[int]) -> None:\n",
    "    pass"
   ]
  },
  {
   "cell_type": "markdown",
   "metadata": {},
   "source": [
    "### 5.11: Compute the Next Permutation"
   ]
  },
  {
   "cell_type": "code",
   "execution_count": null,
   "metadata": {},
   "outputs": [],
   "source": [
    "def next_permutation(P: List[int]) -> List[int]:\n",
    "    pass"
   ]
  },
  {
   "cell_type": "markdown",
   "metadata": {},
   "source": [
    "### 5.12: Sample Offline Data\n",
    "Implement and algorithm that takes as input an array of distinct elements and a size, and returns a subset of the given size of the array of elements. All subsets should be equally likely\n"
   ]
  },
  {
   "cell_type": "code",
   "execution_count": 73,
   "metadata": {},
   "outputs": [
    {
     "name": "stdout",
     "output_type": "stream",
     "text": [
      "[8, 4, 3, 9, 7, 2, 1, 0, 5, 6]\n",
      "[5, 3, 4, 2, 7, 9, 8, 6, 0, 1]\n",
      "[9, 6, 8, 4, 0, 1, 7, 2, 3, 5]\n",
      "[2, 4, 9, 0, 6, 3, 5, 1, 7, 8]\n",
      "[2, 6, 9, 7, 3, 1, 4, 8, 0, 5]\n"
     ]
    }
   ],
   "source": [
    "def my_shuffle(A: List[int]) -> None:\n",
    "\n",
    "    for i in range(len(A)):\n",
    "        j = int(i * random.random())\n",
    "        A[i], A[j] = A[j], A[i]\n",
    "\n",
    "for i in range(5):\n",
    "    A = [i for i in range(10)]  \n",
    "    my_shuffle(A)\n",
    "    print(A)"
   ]
  },
  {
   "cell_type": "code",
   "execution_count": 61,
   "metadata": {},
   "outputs": [
    {
     "name": "stdout",
     "output_type": "stream",
     "text": [
      "[7, 5, 9]\n",
      "[5, 7, 0]\n",
      "[4, 3, 1]\n",
      "[4, 6, 1]\n",
      "[9, 2, 1]\n"
     ]
    }
   ],
   "source": [
    "def sample_offline_brute_force(A: List[int], k: int) -> List[int]:\n",
    "    indexes = [i for i in range(len(A))]\n",
    "    random.shuffle(indexes)\n",
    "\n",
    "    # apply permutation\n",
    "    return [A[indexes[i]] for i in range(k)]\n",
    "\n",
    "A = [i for i in range(10)]  \n",
    "for i in range(5): \n",
    "    print(sample_offline_brute_force(A, 3))"
   ]
  },
  {
   "cell_type": "markdown",
   "metadata": {},
   "source": [
    "$O(n)$ time and space complexity\n",
    "\n",
    "Key to efficient algorithm, is first build a random subset of size $k-1$ first, then add one more element from *k* to *n* at random.   \n",
    "When k=1, this is trivial   \n",
    "k=2, search [1, n-1]"
   ]
  },
  {
   "cell_type": "code",
   "execution_count": 91,
   "metadata": {},
   "outputs": [
    {
     "name": "stdout",
     "output_type": "stream",
     "text": [
      "[8, 4, 2]\n",
      "[0, 5, 6]\n",
      "[5, 2, 7]\n",
      "[4, 0, 2]\n",
      "[3, 5, 4]\n",
      "[1, 3, 0, 5, 9, 8, 2, 6]\n",
      "[8, 5, 7, 0, 3, 4, 1, 6]\n",
      "[5, 2, 1, 6, 7, 3, 9, 0]\n",
      "[4, 5, 1, 0, 2, 7, 8, 6]\n",
      "[5, 9, 3, 8, 7, 1, 4, 6]\n"
     ]
    }
   ],
   "source": [
    "def sample_offline(A: List[int], k: int) -> List[int]:\n",
    "    \n",
    "    for i in range(k):\n",
    "        j = random.randint(i, len(A)-1)\n",
    "        A[i], A[j] = A[j], A[i]\n",
    "\n",
    "    return A[0:k]\n",
    "\n",
    "\n",
    "for size in [3, 8]:\n",
    "    for i in range(5): \n",
    "        A = [i for i in range(10)]  \n",
    "        print(sample_offline(A, size))"
   ]
  },
  {
   "cell_type": "markdown",
   "metadata": {},
   "source": [
    "$O(k)$ time and O(1) space comlexity   \n",
    "\n",
    "Can improve run time by recognizing that when $k > n/2$, instead of adding k elements to subset, can remove n - k elements from subset\n",
    "\n"
   ]
  },
  {
   "cell_type": "code",
   "execution_count": 90,
   "metadata": {},
   "outputs": [
    {
     "name": "stdout",
     "output_type": "stream",
     "text": [
      "[1, 2, 8]\n",
      "[6, 4, 2]\n",
      "[0, 5, 1]\n",
      "[5, 9, 6]\n",
      "[3, 0, 5]\n",
      "[2, 3, 4, 0, 6, 7, 8, 9]\n",
      "[2, 1, 4, 0, 6, 7, 8, 9]\n",
      "[2, 3, 4, 5, 6, 1, 8, 0]\n",
      "[2, 1, 4, 5, 6, 7, 8, 9]\n",
      "[2, 3, 4, 5, 6, 7, 0, 9]\n"
     ]
    }
   ],
   "source": [
    "def sample_offline(A: List[int], k: int) -> List[int]:\n",
    "\n",
    "    def helper_shuffle(A: List[int], size: int) -> None:\n",
    "        for i in range(size):\n",
    "            j = random.randint(i, len(A)-1)\n",
    "            A[i], A[j] = A[j], A[i]\n",
    "\n",
    "\n",
    "    # select k random elements to add to subset\n",
    "    if k < len(A)/2:\n",
    "        helper_shuffle(A, k)\n",
    "        return A[0:k]\n",
    "    # select n - k random elements to remove from subset\n",
    "    else:\n",
    "        size = len(A) - k\n",
    "        helper_shuffle(A, size)\n",
    "        return A[size:]\n",
    "\n",
    "    \n",
    "for size in [3, 8]:\n",
    "    for i in range(5): \n",
    "        A = [i for i in range(10)]  \n",
    "        print(sample_offline(A, size))"
   ]
  },
  {
   "cell_type": "markdown",
   "metadata": {},
   "source": [
    "### 5.13: Sample Online Data\n",
    "Design a program that takes as input a size *k* and read packets continuously maintaining uniform random subset of size k of the read packets    \n",
    "\n",
    "Suppose already have a random subset of k elements. Then the $(n+1)$ packet will belong to the new subset with probability $\\frac{k}{n+1}$"
   ]
  },
  {
   "cell_type": "code",
   "execution_count": 98,
   "metadata": {},
   "outputs": [
    {
     "name": "stdout",
     "output_type": "stream",
     "text": [
      "[74, 98, 63, 86, 54]\n",
      "[88, 1, 50, 86, 15]\n",
      "[20, 11, 69, 90, 32]\n",
      "[82, 36, 66, 87, 31]\n",
      "[42, 69, 2, 92, 94]\n"
     ]
    }
   ],
   "source": [
    "from typing import Iterator\n",
    "import itertools\n",
    "\n",
    "\n",
    "def random_online_sampling(stream: Iterator, k: int) -> List[int]:\n",
    "\n",
    "    # store first k elements\n",
    "    running_sample = list(itertools.islice(stream, k))\n",
    "\n",
    "    num_seen_so_far = k\n",
    "    for x in stream:\n",
    "        num_seen_so_far += 1\n",
    "\n",
    "        idx_to_replace = random.randrange(num_seen_so_far)  # randrange does not include endpoint\n",
    "        if idx_to_replace < k:\n",
    "            running_sample[idx_to_replace] = x\n",
    "\n",
    "    return running_sample \n",
    "\n",
    "for i in range(5):\n",
    "    stream = iter([i for i in range(100)])\n",
    "    print(random_online_sampling(stream, 5))\n"
   ]
  },
  {
   "cell_type": "markdown",
   "metadata": {},
   "source": [
    "The time complexity is proportional to the the number of elements in the stream, since spend $O(1)$ time per element. The space complexity is $O(k)$"
   ]
  },
  {
   "cell_type": "code",
   "execution_count": 97,
   "metadata": {},
   "outputs": [
    {
     "name": "stdout",
     "output_type": "stream",
     "text": [
      "[0, 1, 2]\n",
      "3\n",
      "4\n",
      "5\n",
      "6\n",
      "7\n",
      "8\n",
      "9\n"
     ]
    }
   ],
   "source": [
    "stream = iter([i for i in range(10)])\n",
    "print(list(itertools.islice(stream, 3)))    # slice first three elements from stream\n",
    "for i in stream:\n",
    "    print(i)\n"
   ]
  }
 ],
 "metadata": {
  "kernelspec": {
   "display_name": "Python 3.6.13 ('survtrace')",
   "language": "python",
   "name": "python3"
  },
  "language_info": {
   "codemirror_mode": {
    "name": "ipython",
    "version": 3
   },
   "file_extension": ".py",
   "mimetype": "text/x-python",
   "name": "python",
   "nbconvert_exporter": "python",
   "pygments_lexer": "ipython3",
   "version": "3.6.13"
  },
  "orig_nbformat": 4,
  "vscode": {
   "interpreter": {
    "hash": "7350660d3aac55fe8c4b8dcc925e909d6449502b265d5ee80d6d6f39ced54ac7"
   }
  }
 },
 "nbformat": 4,
 "nbformat_minor": 2
}
