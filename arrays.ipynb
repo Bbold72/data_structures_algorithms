{
 "cells": [
  {
   "cell_type": "markdown",
   "metadata": {},
   "source": [
    "# Arrays\n",
    "- contiguous block of memory\n",
    "- retreiving/updating: O(1)\n",
    "- insertion: amoritized O(1) since resizing infrequent\n",
    "- deletion: O(n-index) since have to shift elements\n",
    "- resizing: "
   ]
  },
  {
   "cell_type": "code",
   "execution_count": 1,
   "metadata": {},
   "outputs": [],
   "source": [
    "from typing import List"
   ]
  },
  {
   "cell_type": "markdown",
   "metadata": {},
   "source": [
    "## Even-Odd Array\n",
    "sort an array s.t. the elements at the fron are at the front"
   ]
  },
  {
   "cell_type": "code",
   "execution_count": 5,
   "metadata": {},
   "outputs": [
    {
     "name": "stdout",
     "output_type": "stream",
     "text": [
      "[4, 2, 3, 1, 5]\n",
      "[2, 2, 4, 4, 4, 7, 3, 5, 5, 3, 1]\n"
     ]
    }
   ],
   "source": [
    "def even_odd_array(A: List[int]) -> List[int]:\n",
    "    i, j = 0, len(A) - 1\n",
    "    i_odd, j_even = False, False\n",
    "\n",
    "    while i < j:           # cannot be != because since increment indexes simultaneosuly, posible to jump over each other\n",
    "        if A[i] % 2 == 0:  # if even, then number already in right spot\n",
    "            i += 1\n",
    "        else:\n",
    "            i_odd = True\n",
    "        if A[j] % 2 == 1:  # if odd, then number already in right spot\n",
    "            j -= 1\n",
    "        else:\n",
    "            j_even = True \n",
    "        if i_odd and j_even:   # only need to exchange when odd-even\n",
    "            A[j], A[i] = A[i], A[j]\n",
    "            i_odd, j_even = False, False\n",
    "            i += 1\n",
    "            j -= 1\n",
    "    \n",
    "\n",
    "A = [1, 2, 3, 4, 5]\n",
    "even_odd_array(A)\n",
    "print(A)\n",
    "A = [1, 2, 3, 4, 5, 7, 3, 4, 5, 4, 2]\n",
    "even_odd_array(A)\n",
    "print(A)"
   ]
  },
  {
   "cell_type": "code",
   "execution_count": 6,
   "metadata": {},
   "outputs": [
    {
     "name": "stdout",
     "output_type": "stream",
     "text": [
      "[4, 2, 3, 1, 5]\n",
      "[2, 2, 4, 4, 4, 7, 3, 5, 5, 3, 1]\n"
     ]
    }
   ],
   "source": [
    "def even_odd_array_v2(A: List[int]) -> None:\n",
    "    # postition for next even, odd number\n",
    "    next_even, next_odd = 0, len(A) - 1\n",
    "\n",
    "    while next_even < next_odd:\n",
    "        if A[next_even] % 2 == 0:    # even number already in right place\n",
    "            next_even += 1\n",
    "        # puts odd number at end\n",
    "        else:\n",
    "            A[next_odd], A[next_even] = A[next_even], A[next_odd]\n",
    "            next_odd -= 1\n",
    "\n",
    "A = [1, 2, 3, 4, 5]\n",
    "even_odd_array(A)\n",
    "print(A)\n",
    "A = [1, 2, 3, 4, 5, 7, 3, 4, 5, 4, 2]\n",
    "even_odd_array(A)\n",
    "print(A)"
   ]
  },
  {
   "cell_type": "markdown",
   "metadata": {},
   "source": [
    "O(n) time and O(1) space complexity"
   ]
  },
  {
   "cell_type": "markdown",
   "metadata": {},
   "source": [
    "## Tip: Looping from end of array to front"
   ]
  },
  {
   "cell_type": "code",
   "execution_count": 8,
   "metadata": {},
   "outputs": [
    {
     "name": "stdout",
     "output_type": "stream",
     "text": [
      "4\n",
      "3\n",
      "2\n",
      "1\n",
      "0\n"
     ]
    }
   ],
   "source": [
    "for i in reversed(range(5)):\n",
    "    print(i)"
   ]
  },
  {
   "cell_type": "markdown",
   "metadata": {},
   "source": [
    "## Dutch National Flag Problem\n",
    "Arrange elements of array s.t. elements less than the pivot appear at the beginning of the array, element equal to the pivot appear in the middle, and elements larger than the pivot appear at the end."
   ]
  },
  {
   "cell_type": "code",
   "execution_count": 20,
   "metadata": {},
   "outputs": [
    {
     "name": "stdout",
     "output_type": "stream",
     "text": [
      "[1, 2, 1, 3, 3, 3, 3, 7, 8, 5]\n"
     ]
    }
   ],
   "source": [
    "def dutch_flag_partion(A: List[int], pivot_index: int) -> None:\n",
    "    pivot = A[pivot_index]\n",
    "\n",
    "    # First pass: group elements smaller than pivot\n",
    "    for i in range(len(A)):\n",
    "        # look for a smaller element\n",
    "        for j in range(i+1, len(A)):\n",
    "            if A[j] < pivot:\n",
    "                A[i], A[j] = A[j], A[i]\n",
    "                break\n",
    "\n",
    "    # second pass: group elements larger than pivot\n",
    "    for i in reversed(range(len(A))):\n",
    "        # look for a larger element\n",
    "        for j in reversed(range(i)):\n",
    "            if A[j] > pivot:\n",
    "                A[i], A[j] = A[j], A[i]\n",
    "                break\n",
    "     \n",
    "\n",
    "A = [3, 1, 5, 2, 7, 8, 3, 1, 3, 3]\n",
    "dutch_flag_partion(A, 0)\n",
    "print(A)"
   ]
  },
  {
   "cell_type": "markdown",
   "metadata": {},
   "source": [
    "$O(n^2)$ time and $O(1)$ space complexity"
   ]
  },
  {
   "cell_type": "code",
   "execution_count": 21,
   "metadata": {},
   "outputs": [
    {
     "name": "stdout",
     "output_type": "stream",
     "text": [
      "[1, 2, 1, 3, 3, 3, 3, 7, 8, 5]\n"
     ]
    }
   ],
   "source": [
    "# make a single pass\n",
    "def dutch_flag_partion(A: List[int], pivot_index: int) -> None:\n",
    "    pivot = A[pivot_index]\n",
    "\n",
    "     # First pass: group elements smaller than pivot\n",
    "    smaller = 0\n",
    "    for i in range(len(A)):\n",
    "        if A[i] < pivot:\n",
    "            A[i], A[smaller] = A[smaller], A[i]\n",
    "            smaller += 1\n",
    "\n",
    "    # second pass: group elements larger than pivot\n",
    "    larger = len(A) - 1\n",
    "    for i in reversed(range(len(A))):\n",
    "        if A[i] > pivot:\n",
    "            A[i], A[larger] = A[larger], A[i]\n",
    "            larger -= 1\n",
    "\n",
    "A = [3, 1, 5, 2, 7, 8, 3, 1, 3, 3]\n",
    "dutch_flag_partion(A, 0)\n",
    "print(A)"
   ]
  },
  {
   "cell_type": "markdown",
   "metadata": {},
   "source": [
    "$O(n)$ time and $O(1)$ space complexity"
   ]
  },
  {
   "cell_type": "code",
   "execution_count": null,
   "metadata": {},
   "outputs": [],
   "source": []
  }
 ],
 "metadata": {
  "kernelspec": {
   "display_name": "Python 3.6.13 ('survtrace')",
   "language": "python",
   "name": "python3"
  },
  "language_info": {
   "codemirror_mode": {
    "name": "ipython",
    "version": 3
   },
   "file_extension": ".py",
   "mimetype": "text/x-python",
   "name": "python",
   "nbconvert_exporter": "python",
   "pygments_lexer": "ipython3",
   "version": "3.6.13"
  },
  "orig_nbformat": 4,
  "vscode": {
   "interpreter": {
    "hash": "7350660d3aac55fe8c4b8dcc925e909d6449502b265d5ee80d6d6f39ced54ac7"
   }
  }
 },
 "nbformat": 4,
 "nbformat_minor": 2
}
