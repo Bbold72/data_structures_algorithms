{
 "cells": [
  {
   "cell_type": "markdown",
   "metadata": {},
   "source": [
    "# Arrays\n",
    "- contiguous block of memory\n",
    "- retreiving/updating: O(1)\n",
    "- insertion: amoritized O(1) since resizing infrequent\n",
    "- deletion: O(n-index) since have to shift elements\n",
    "- resizing: \n",
    "\n",
    "## Tips\n",
    "- Array problems often have simple brute-force solutions that use $O(n)$ space, but there are solutions that **use the array itself to reduce space** complexity to $O(1)$\n",
    "- Filling an array from the front is slow, so see if it is possible to **write the values from the back**\n",
    "- Instead of deleting an entry (which requires moving all entries to its left), consider **overwriting** it\n",
    "- When dealing with integers encoded by an array, consider **processing the digits from the back** of the array. Alternatively, revers the array so that the **least-significant digit is the first entry**\n",
    "- Be comfortable with writing code that operates on subarrays\n",
    "- It's easy to make **off-by-1** errors\n",
    "- Don't worry about preserving the integrity of the array (sortedness, keeping equal entries together) until its time to return\n",
    "- When operating on 2D arrays, **use parallel logic** for rows and columns\n",
    "- Sometimes it its easier to **simulate the specification**, than to analytically solve for the result. For example, rather than writing a formula for the *i*-th entry in the spiral order for an $n\\times n$ matrix, just compute the output from the beginning.\n",
    "- An array can serve as a good data strucutre when you know the distribution of the elements in advance. For example, a Boolean array of length *W* is a good choice for representing a **subset of** $\\{0, 1,...,W-1\\}$.\n",
    "\n",
    "## Libraries"
   ]
  },
  {
   "cell_type": "code",
   "execution_count": 11,
   "metadata": {},
   "outputs": [
    {
     "name": "stdout",
     "output_type": "stream",
     "text": [
      "Instantiating a List:\n",
      "[1] + [0]*10    -> [1, 0, 0, 0, 0, 0, 0, 0, 0, 0]\n",
      "list(range(10)) -> [0, 1, 2, 3, 4, 5, 6, 7, 8, 9]\n",
      "\n",
      "List Methods:\n",
      "A               -> [0, 1, 2, 3, 4]\n",
      "len(A)          -> 5\n",
      "A.append(13)    -> [0, 1, 2, 3, 4, 13]\n",
      "A.remove(2)     -> [0, 1, 3, 4, 13]\n",
      "A.insert(4, -5) -> [0, 1, 3, 4, -5, 13]\n",
      "\n",
      "Instantiating 2D Arrays:\n",
      "[[1, 2, 3], [4, 5, 6], [7, 8, 9]]\n",
      "[[1, 2, 3], [4, 5], [6]]\n"
     ]
    }
   ],
   "source": [
    "print('Instantiating a List:')\n",
    "print('[1] + [0]*10    ->', [1] + [0]*9)\n",
    "print('list(range(10)) ->', list(range(10)))\n",
    "\n",
    "\n",
    "print('\\nList Methods:')\n",
    "A = list(range(5))\n",
    "print('A               ->', A)\n",
    "\n",
    "print('len(A)          ->', len(A))\n",
    "\n",
    "A.append(13)\n",
    "print('A.append(13)    ->', A)\n",
    "\n",
    "A.remove(2)\n",
    "print('A.remove(2)     ->', A)\n",
    "\n",
    "A.insert(4, -5)                # index, object\n",
    "# like putting to left of index in old Array\n",
    "# index parameter is index in new array\n",
    "print('A.insert(4, -5) ->', A) \n",
    "\n",
    "\n",
    "print('\\nInstantiating 2D Arrays:')\n",
    "print([[1, 2, 3], [4, 5, 6], [7, 8, 9]])  # makes rows first\n",
    "print([[1, 2, 3], [4, 5], [6]])\n"
   ]
  },
  {
   "cell_type": "code",
   "execution_count": 35,
   "metadata": {},
   "outputs": [],
   "source": [
    "from typing import List, Tuple"
   ]
  },
  {
   "cell_type": "markdown",
   "metadata": {},
   "source": [
    "## Even-Odd Array\n",
    "sort an array s.t. the elements at the fron are at the front"
   ]
  },
  {
   "cell_type": "code",
   "execution_count": 5,
   "metadata": {},
   "outputs": [
    {
     "name": "stdout",
     "output_type": "stream",
     "text": [
      "[4, 2, 3, 1, 5]\n",
      "[2, 2, 4, 4, 4, 7, 3, 5, 5, 3, 1]\n"
     ]
    }
   ],
   "source": [
    "def even_odd_array(A: List[int]) -> List[int]:\n",
    "    i, j = 0, len(A) - 1\n",
    "    i_odd, j_even = False, False\n",
    "\n",
    "    while i < j:           # cannot be != because since increment indexes simultaneosuly, posible to jump over each other\n",
    "        if A[i] % 2 == 0:  # if even, then number already in right spot\n",
    "            i += 1\n",
    "        else:\n",
    "            i_odd = True\n",
    "        if A[j] % 2 == 1:  # if odd, then number already in right spot\n",
    "            j -= 1\n",
    "        else:\n",
    "            j_even = True \n",
    "        if i_odd and j_even:   # only need to exchange when odd-even\n",
    "            A[j], A[i] = A[i], A[j]\n",
    "            i_odd, j_even = False, False\n",
    "            i += 1\n",
    "            j -= 1\n",
    "    \n",
    "\n",
    "A = [1, 2, 3, 4, 5]\n",
    "even_odd_array(A)\n",
    "print(A)\n",
    "A = [1, 2, 3, 4, 5, 7, 3, 4, 5, 4, 2]\n",
    "even_odd_array(A)\n",
    "print(A)"
   ]
  },
  {
   "cell_type": "code",
   "execution_count": 6,
   "metadata": {},
   "outputs": [
    {
     "name": "stdout",
     "output_type": "stream",
     "text": [
      "[4, 2, 3, 1, 5]\n",
      "[2, 2, 4, 4, 4, 7, 3, 5, 5, 3, 1]\n"
     ]
    }
   ],
   "source": [
    "def even_odd_array_v2(A: List[int]) -> None:\n",
    "    # postition for next even, odd number\n",
    "    next_even, next_odd = 0, len(A) - 1\n",
    "\n",
    "    while next_even < next_odd:\n",
    "        if A[next_even] % 2 == 0:    # even number already in right place\n",
    "            next_even += 1\n",
    "        # puts odd number at end\n",
    "        else:\n",
    "            A[next_odd], A[next_even] = A[next_even], A[next_odd]\n",
    "            next_odd -= 1\n",
    "\n",
    "A = [1, 2, 3, 4, 5]\n",
    "even_odd_array(A)\n",
    "print(A)\n",
    "A = [1, 2, 3, 4, 5, 7, 3, 4, 5, 4, 2]\n",
    "even_odd_array(A)\n",
    "print(A)"
   ]
  },
  {
   "cell_type": "markdown",
   "metadata": {},
   "source": [
    "O(n) time and O(1) space complexity"
   ]
  },
  {
   "cell_type": "markdown",
   "metadata": {},
   "source": [
    "## Tip: Looping from end of array to front"
   ]
  },
  {
   "cell_type": "code",
   "execution_count": 8,
   "metadata": {},
   "outputs": [
    {
     "name": "stdout",
     "output_type": "stream",
     "text": [
      "4\n",
      "3\n",
      "2\n",
      "1\n",
      "0\n"
     ]
    }
   ],
   "source": [
    "for i in reversed(range(5)):\n",
    "    print(i)"
   ]
  },
  {
   "cell_type": "markdown",
   "metadata": {},
   "source": [
    "## Dutch National Flag Problem\n",
    "Arrange elements of array s.t. elements less than the pivot appear at the beginning of the array, element equal to the pivot appear in the middle, and elements larger than the pivot appear at the end."
   ]
  },
  {
   "cell_type": "code",
   "execution_count": 20,
   "metadata": {},
   "outputs": [
    {
     "name": "stdout",
     "output_type": "stream",
     "text": [
      "[1, 2, 1, 3, 3, 3, 3, 7, 8, 5]\n"
     ]
    }
   ],
   "source": [
    "def dutch_flag_partion(A: List[int], pivot_index: int) -> None:\n",
    "    pivot = A[pivot_index]\n",
    "\n",
    "    # First pass: group elements smaller than pivot\n",
    "    for i in range(len(A)):\n",
    "        # look for a smaller element\n",
    "        for j in range(i+1, len(A)):\n",
    "            if A[j] < pivot:\n",
    "                A[i], A[j] = A[j], A[i]\n",
    "                break\n",
    "\n",
    "    # second pass: group elements larger than pivot\n",
    "    for i in reversed(range(len(A))):\n",
    "        # look for a larger element\n",
    "        for j in reversed(range(i)):\n",
    "            if A[j] > pivot:\n",
    "                A[i], A[j] = A[j], A[i]\n",
    "                break\n",
    "     \n",
    "\n",
    "A = [3, 1, 5, 2, 7, 8, 3, 1, 3, 3]\n",
    "dutch_flag_partion(A, 0)\n",
    "print(A)"
   ]
  },
  {
   "cell_type": "markdown",
   "metadata": {},
   "source": [
    "$O(n^2)$ time and $O(1)$ space complexity"
   ]
  },
  {
   "cell_type": "code",
   "execution_count": 21,
   "metadata": {},
   "outputs": [
    {
     "name": "stdout",
     "output_type": "stream",
     "text": [
      "[1, 2, 1, 3, 3, 3, 3, 7, 8, 5]\n"
     ]
    }
   ],
   "source": [
    "# make a single pass\n",
    "def dutch_flag_partion(A: List[int], pivot_index: int) -> None:\n",
    "    pivot = A[pivot_index]\n",
    "\n",
    "     # First pass: group elements smaller than pivot\n",
    "    smaller = 0\n",
    "    for i in range(len(A)):\n",
    "        if A[i] < pivot:\n",
    "            A[i], A[smaller] = A[smaller], A[i]\n",
    "            smaller += 1\n",
    "\n",
    "    # second pass: group elements larger than pivot\n",
    "    larger = len(A) - 1\n",
    "    for i in reversed(range(len(A))):\n",
    "        if A[i] > pivot:\n",
    "            A[i], A[larger] = A[larger], A[i]\n",
    "            larger -= 1\n",
    "\n",
    "A = [3, 1, 5, 2, 7, 8, 3, 1, 3, 3]\n",
    "dutch_flag_partion(A, 0)\n",
    "print(A)"
   ]
  },
  {
   "cell_type": "markdown",
   "metadata": {},
   "source": [
    "$O(n)$ time and $O(1)$ space complexity"
   ]
  },
  {
   "cell_type": "code",
   "execution_count": null,
   "metadata": {},
   "outputs": [],
   "source": []
  },
  {
   "cell_type": "markdown",
   "metadata": {},
   "source": [
    "## Incrment an Arbitrary Integer\n",
    "Update array to represent $D+1$              \n",
    "e.g. $[1, 2, 9]$ -> $[1, 3, 0]$"
   ]
  },
  {
   "cell_type": "code",
   "execution_count": 41,
   "metadata": {},
   "outputs": [],
   "source": [
    "def run_tests(f, inputs: Tuple, answers: Tuple):\n",
    "    for input, ans in zip(inputs, answers):\n",
    "        result = f(input)\n",
    "        assert result == ans, f'Error. Expected {ans} for input {input}. Got {result}'"
   ]
  },
  {
   "cell_type": "code",
   "execution_count": 42,
   "metadata": {},
   "outputs": [],
   "source": [
    "def add_one(A: List[int]) -> List[int]:\n",
    "\n",
    "    carry = 0\n",
    "    A[-1] += 1\n",
    "    for i in reversed(range(len(A))):\n",
    "        d = A[i] + carry\n",
    "        if d == 10:\n",
    "            A[i], carry = 0, 1\n",
    "        else:\n",
    "            A[i], carry = d, 0\n",
    "        if carry == 0:\n",
    "            break\n",
    "    if carry > 0:\n",
    "        A.insert(0, carry)\n",
    "    \n",
    "    return A\n",
    "\n",
    "inputs, outputs = ([1, 2, 9], [1, 2, 8], [9, 9, 9]), ([1, 3, 0], [1, 2, 9], [1, 0, 0, 0])\n",
    "run_tests(add_one, inputs, outputs)\n"
   ]
  },
  {
   "cell_type": "code",
   "execution_count": 45,
   "metadata": {},
   "outputs": [],
   "source": [
    "def _one(A: List[int]) -> List[int]:\n",
    "    \n",
    "    #  one\n",
    "    A[-1] += 1\n",
    "    \n",
    "    # check if need to carry\n",
    "    for i in reversed(range(1, len(A))):\n",
    "        if A[i] != 10:\n",
    "            break\n",
    "        # need to carry\n",
    "        A[i]= 0\n",
    "        A[i-1] += 1\n",
    "\n",
    "    # resize array if first element is 10\n",
    "    if A[0] == 10:\n",
    "        # much faster to append to end of array\n",
    "        A[0] = 1\n",
    "        A.append(0)      \n",
    "    \n",
    "    return A\n",
    "\n",
    "inputs, outputs = ([1, 2, 9], [1, 2, 8], [9, 9, 9]), ([1, 3, 0], [1, 2, 9], [1, 0, 0, 0])\n",
    "run_tests(_one, inputs, outputs)\n"
   ]
  },
  {
   "cell_type": "markdown",
   "metadata": {},
   "source": [
    "$O(n)$ time complexity"
   ]
  },
  {
   "cell_type": "markdown",
   "metadata": {},
   "source": [
    "### Variant\n",
    "Write a program which takes as input two strings $s$ and $t$ of bits encoding binary numbers, and returns a new string of bits representing their sum"
   ]
  },
  {
   "cell_type": "code",
   "execution_count": 37,
   "metadata": {},
   "outputs": [],
   "source": [
    "def add_binary_string(x: str, y: str) -> str:\n",
    "\n",
    "    # find which string is smallest\n",
    "    # these are just references; not making copies \n",
    "    if len(x) < len(y):\n",
    "        smaller, larger = x, y\n",
    "    else:\n",
    "        smaller, larger = y, x\n",
    "\n",
    "    result = ['' for i in range(len(larger)+1)]\n",
    "    carry = '0'\n",
    "    for index_larger in reversed(range(len(larger))):\n",
    "        index_smaller = index_larger - (len(larger) - len(smaller))\n",
    "        if index_smaller >= 0:\n",
    "            digit_larger, digit_smaller = larger[index_larger], smaller[index_smaller]\n",
    "\n",
    "            num_ones = sum([1 for i in [digit_larger, digit_smaller, carry] if i == '1'])\n",
    "            if num_ones == 0:\n",
    "                result[index_larger+1], carry = '0', '0'\n",
    "            elif num_ones == 1:\n",
    "                result[index_larger+1], carry = '1', '0'\n",
    "            elif num_ones == 2:\n",
    "                result[index_larger+1], carry = '0', '1'\n",
    "            # num ones = 3\n",
    "            else:\n",
    "                result[index_larger+1], carry = '1', '1'\n",
    "\n",
    "        else:\n",
    "            digit_larger = larger[index_larger+1]\n",
    "            \n",
    "            num_ones = sum([1 for i in [digit_larger, carry]])\n",
    "            if num_ones == 0:\n",
    "                result[index_larger+1], carry = '0', '0'\n",
    "            elif num_ones == 1:\n",
    "                result[index_larger+1], carry = '1', '0'\n",
    "            # num ones = 2\n",
    "            else:\n",
    "                result[index_larger+1], carry = '0', '1'\n",
    "\n",
    "    # check if value to carry still\n",
    "    if carry == '1':\n",
    "        result[0] = '1'\n",
    "\n",
    "    return ''.join(result)\n",
    "\n",
    "\n",
    "inputs, outputs = (('100', '101'), ('111', '111'), ('111', '1'), ('10101', '11001'), ('1110101', '11010')), ('1001', '1110', '1000', '101110', '10001111')\n",
    "for input, ans in zip(inputs, outputs):\n",
    "    s1, s2 = input\n",
    "    result = add_binary_string(s1, s2)\n",
    "    assert result == ans, f'Error. Expected {ans} for input {s1} + {s2} but got {result}'\n"
   ]
  },
  {
   "cell_type": "code",
   "execution_count": 54,
   "metadata": {},
   "outputs": [],
   "source": [
    "def add_binary_string_cache(x: str, y: str) -> str:\n",
    "\n",
    "    def helper(digits: List[str]) -> Tuple[str]:\n",
    "        key = ''.join(digits)\n",
    "        return LOOKUP[key]\n",
    "\n",
    "    # find which string is smallest\n",
    "    # these are just references; not making copies \n",
    "    if len(x) < len(y):\n",
    "        smaller, larger = x, y\n",
    "    else:\n",
    "        smaller, larger = y, x\n",
    "\n",
    "    # create lookup values\n",
    "    # result of sum, carry value\n",
    "    LOOKUP = {\n",
    "                '111': ('1', '1'),\n",
    "                '110': ('0', '1'),\n",
    "                '101': ('0', '1'),\n",
    "                '100': ('1', '0'),\n",
    "                '011': ('0', '1'),\n",
    "                '010': ('1', '0'),\n",
    "                '001': ('1', '0'),\n",
    "                '000': ('0', '0'),\n",
    "                '00': ('0', '0'),\n",
    "                '10': ('1', '0'),\n",
    "                '01': ('1', '0'),\n",
    "                '11': ('0', '1'),\n",
    "    }\n",
    "\n",
    "\n",
    "    result = ['' for i in range(len(larger)+1)]\n",
    "    carry = '0'\n",
    "    for index_larger in reversed(range(len(larger))):\n",
    "        index_smaller = index_larger - (len(larger) - len(smaller))\n",
    "        if index_smaller >= 0:\n",
    "            digit_larger, digit_smaller = larger[index_larger], smaller[index_smaller]\n",
    "            result[index_larger+1], carry = helper([digit_larger, digit_smaller, carry])\n",
    "\n",
    "        else:\n",
    "            digit_larger = larger[index_larger+1]\n",
    "            result[index_larger+1], carry = helper([digit_larger, carry])\n",
    "\n",
    "    # check if value to carry still\n",
    "    if carry == '1':\n",
    "        result[0] = '1'\n",
    "\n",
    "    # dont want to build string iteratively since immutable and would create many copies\n",
    "    return ''.join(result)\n",
    "\n",
    "\n",
    "inputs, outputs = (('100', '101'), ('111', '111'), ('111', '1'), ('10101', '11001'), ('1110101', '11010')), ('1001', '1110', '1000', '101110', '10001111')\n",
    "for input, ans in zip(inputs, outputs):\n",
    "    s1, s2 = input\n",
    "    result = add_binary_string_cache(s1, s2)\n",
    "    assert result == ans, f'Error. Expected {ans} for input {s1} + {s2} but got {result}'\n"
   ]
  },
  {
   "cell_type": "code",
   "execution_count": 56,
   "metadata": {},
   "outputs": [],
   "source": [
    "def run_tests_2_inputs(f, inputs, outputs):\n",
    "    for input, ans in zip(inputs, outputs):\n",
    "        A, B = input\n",
    "        result = f(A, B)\n",
    "        assert result == ans, f'Error. Expected {ans} for input {A} + {B} but got {result}'"
   ]
  },
  {
   "cell_type": "markdown",
   "metadata": {},
   "source": [
    "$O(n)$ time and $O(1)$ space complexity"
   ]
  },
  {
   "cell_type": "markdown",
   "metadata": {},
   "source": [
    "### Multiply to Arbitrary-Precision Integers\n",
    "takes two integers as arrays and outputs their product as an array     \n",
    "e.g. $325 \\times 4523 = 1469975$ --> $[3, 2, 5] \\times [4, 5, 2, 3] = [1, 4, 6, 9, 9, 7, 5]$"
   ]
  },
  {
   "cell_type": "code",
   "execution_count": 60,
   "metadata": {},
   "outputs": [],
   "source": [
    "def product_arrays(A: List[int], B: List[int]) -> List[int]:\n",
    "\n",
    "    # get sign of product and remove sign from first digit\n",
    "    # sign = 1\n",
    "    # if A[0] < 0:\n",
    "    #     sign *= -1\n",
    "    #     A[0] *= -1\n",
    "    # if B[0] < 0:\n",
    "    #     sign *= -1\n",
    "    #     B[0] *= -1\n",
    "\n",
    "    sign = -1 if (A[0] < 0) ^ (B[0] < 0) else 1\n",
    "    A[0], B[0] = abs(A[0]), abs(B[0])\n",
    "\n",
    "    result = [0 for i in range(len(A)+len(B))]\n",
    "\n",
    "    for i in reversed(range(len(A))):\n",
    "        for j in reversed(range(len(B))):\n",
    "            result[i+j+1] += A[i] * B[j]\n",
    "            result[i+j] += result[i+j+1] // 10   # do carrying first\n",
    "            result[i+j+1] %= 10\n",
    "\n",
    "    # remove zeros from front of array\n",
    "    num_zeros = 0\n",
    "    for i in result:\n",
    "        if i == 0:\n",
    "            num_zeros += 1\n",
    "        else:\n",
    "            break\n",
    "\n",
    "    # add sign to first digit if negative product     \n",
    "    if sign < 0:\n",
    "        result[0+num_zeros] *= -1\n",
    "    \n",
    "    return result[num_zeros:]\n",
    "\n",
    "inputs = (([1, 2, 3], [1, 2]), ([-1, 2, 3], [1, 2]), ([1, 2, 3], [-1, 2]), ([-1, 2, 3], [-1, 2]), ([1, 2, 3, 4], [5, 6, 7]), ([1, 9, 3, 7, 0, 7, 7, 2, 1], [-7, 6, 1, 8, 3, 8, 2, 5, 7, 2, 8, 7]))\n",
    "outputs = ([1, 4, 7, 6], [-1, 4, 7, 6], [-1, 4, 7, 6], [1, 4, 7, 6], [6, 9, 9, 6, 7, 8], [-1, 4, 7, 5, 7, 3, 9, 5, 2, 5, 8, 9, 6, 7, 6, 4, 1, 2, 9, 2, 7])\n",
    "run_tests_2_inputs(product_arrays, inputs, outputs)"
   ]
  },
  {
   "cell_type": "markdown",
   "metadata": {},
   "source": [
    "$O(mn)$ time and $O(m+n)$ space complexity where *m* is the length of the first array and *n* is the length of the second array"
   ]
  },
  {
   "cell_type": "markdown",
   "metadata": {},
   "source": [
    "### Advancing through an Array"
   ]
  }
 ],
 "metadata": {
  "kernelspec": {
   "display_name": "Python 3.6.13 ('survtrace')",
   "language": "python",
   "name": "python3"
  },
  "language_info": {
   "codemirror_mode": {
    "name": "ipython",
    "version": 3
   },
   "file_extension": ".py",
   "mimetype": "text/x-python",
   "name": "python",
   "nbconvert_exporter": "python",
   "pygments_lexer": "ipython3",
   "version": "3.6.13"
  },
  "orig_nbformat": 4,
  "vscode": {
   "interpreter": {
    "hash": "7350660d3aac55fe8c4b8dcc925e909d6449502b265d5ee80d6d6f39ced54ac7"
   }
  }
 },
 "nbformat": 4,
 "nbformat_minor": 2
}
