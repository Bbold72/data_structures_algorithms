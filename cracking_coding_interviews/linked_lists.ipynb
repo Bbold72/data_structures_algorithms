{
 "cells": [
  {
   "cell_type": "markdown",
   "metadata": {},
   "source": [
    "# Linked Lists Interview Questions\n",
    "Questions: Page 104    \n",
    "Answers: Page 220"
   ]
  },
  {
   "cell_type": "code",
   "execution_count": 1,
   "metadata": {},
   "outputs": [],
   "source": [
    "from collections import deque\n",
    "# from data_structures.linked_lists.single import *\n",
    "import data_structures"
   ]
  },
  {
   "cell_type": "markdown",
   "metadata": {},
   "source": [
    "### Remove Duplicates: \n",
    "Write code to remove duplicates from an unsorted linked list. \n",
    "\n",
    "FOLLOW UP \n",
    "How would you solve this problem if a temporary buffer is not allowed? "
   ]
  },
  {
   "cell_type": "code",
   "execution_count": 2,
   "metadata": {},
   "outputs": [],
   "source": [
    "def remove_duplicates(node):\n",
    "\n",
    "    # store values seen so far\n",
    "    values = {}\n",
    "\n",
    "    previous_node = None\n",
    "    while node is not None:\n",
    "        try:\n",
    "            values[node.data]                # already seen so this node is duplicate value\n",
    "            previous_node.next = node.next   # removes current, duplicate node\n",
    "            node = node.next                 # get next node\n",
    "        except KeyError:\n",
    "            values[node.data] = 1            # add to temporary store   \n",
    "            previous_node = node             # update previous node\n",
    "            node = node.next                 # get next node\n",
    "\n",
    " \n",
    "def remove_duplicates_nodict(node):\n",
    "\n",
    "    # store values seen so far\n",
    "    values = {}\n",
    "\n",
    "    \n",
    "    while node is not None:\n",
    "        previous_node = node\n",
    "        runner_node = node.next\n",
    "        val = node.data\n",
    "\n",
    "        while runner_node is not None:\n",
    "            if runner_node.data == val:\n",
    "                previous_node.next = runner_node.next   # removes current, duplicate node\n",
    "                runner_node = runner_node.next                        # get next node\n",
    "\n",
    "        node = node.next"
   ]
  },
  {
   "cell_type": "code",
   "execution_count": 3,
   "metadata": {},
   "outputs": [
    {
     "ename": "NameError",
     "evalue": "name 'push_list' is not defined",
     "output_type": "error",
     "traceback": [
      "\u001b[0;31m---------------------------------------------------------------------------\u001b[0m",
      "\u001b[0;31mNameError\u001b[0m                                 Traceback (most recent call last)",
      "\u001b[1;32m/home/bxjxrx7/data_structures_algorithms/cracking_coding_interviews/linked_lists.ipynb Cell 5\u001b[0m in \u001b[0;36m<cell line: 1>\u001b[0;34m()\u001b[0m\n\u001b[1;32m      <a href='vscode-notebook-cell://wsl%2Bubuntu-18.04/home/bxjxrx7/data_structures_algorithms/cracking_coding_interviews/linked_lists.ipynb#W4sdnNjb2RlLXJlbW90ZQ%3D%3D?line=0'>1</a>\u001b[0m \u001b[39mfor\u001b[39;00m f \u001b[39min\u001b[39;00m [remove_duplicates, remove_duplicates_nodict]:\n\u001b[1;32m      <a href='vscode-notebook-cell://wsl%2Bubuntu-18.04/home/bxjxrx7/data_structures_algorithms/cracking_coding_interviews/linked_lists.ipynb#W4sdnNjb2RlLXJlbW90ZQ%3D%3D?line=1'>2</a>\u001b[0m     \u001b[39mfor\u001b[39;00m test \u001b[39min\u001b[39;00m [((\u001b[39m5\u001b[39m, \u001b[39m10\u001b[39m, \u001b[39m1\u001b[39m), (\u001b[39m1\u001b[39m, \u001b[39m10\u001b[39m, \u001b[39m5\u001b[39m)), ((\u001b[39m5\u001b[39m, \u001b[39m10\u001b[39m, \u001b[39m5\u001b[39m, \u001b[39m100\u001b[39m), (\u001b[39m100\u001b[39m, \u001b[39m5\u001b[39m, \u001b[39m10\u001b[39m)), (\u001b[39mtuple\u001b[39m([\u001b[39m1\u001b[39m]), \u001b[39mtuple\u001b[39m([\u001b[39m1\u001b[39m])),  ((\u001b[39m12\u001b[39m, \u001b[39m10\u001b[39m, \u001b[39m5\u001b[39m, \u001b[39m5\u001b[39m, \u001b[39m100\u001b[39m, \u001b[39m5\u001b[39m, \u001b[39m10\u001b[39m, \u001b[39m5\u001b[39m), (\u001b[39m5\u001b[39m, \u001b[39m10\u001b[39m, \u001b[39m100\u001b[39m, \u001b[39m12\u001b[39m))]:\n\u001b[0;32m----> <a href='vscode-notebook-cell://wsl%2Bubuntu-18.04/home/bxjxrx7/data_structures_algorithms/cracking_coding_interviews/linked_lists.ipynb#W4sdnNjb2RlLXJlbW90ZQ%3D%3D?line=2'>3</a>\u001b[0m         head, ans \u001b[39m=\u001b[39m push_list(test[\u001b[39m0\u001b[39m]), test[\u001b[39m1\u001b[39m]\n\u001b[1;32m      <a href='vscode-notebook-cell://wsl%2Bubuntu-18.04/home/bxjxrx7/data_structures_algorithms/cracking_coding_interviews/linked_lists.ipynb#W4sdnNjb2RlLXJlbW90ZQ%3D%3D?line=3'>4</a>\u001b[0m         remove_duplicates(head)\n\u001b[1;32m      <a href='vscode-notebook-cell://wsl%2Bubuntu-18.04/home/bxjxrx7/data_structures_algorithms/cracking_coding_interviews/linked_lists.ipynb#W4sdnNjb2RlLXJlbW90ZQ%3D%3D?line=4'>5</a>\u001b[0m         \u001b[39massert\u001b[39;00m get_value_list(head) \u001b[39m==\u001b[39m \u001b[39mlist\u001b[39m(ans)\n",
      "\u001b[0;31mNameError\u001b[0m: name 'push_list' is not defined"
     ]
    }
   ],
   "source": [
    "for f in [remove_duplicates, remove_duplicates_nodict]:\n",
    "    for test in [((5, 10, 1), (1, 10, 5)), ((5, 10, 5, 100), (100, 5, 10)), (tuple([1]), tuple([1])),  ((12, 10, 5, 5, 100, 5, 10, 5), (5, 10, 100, 12))]:\n",
    "        head, ans = push_list(test[0]), test[1]\n",
    "        remove_duplicates(head)\n",
    "        assert get_value_list(head) == list(ans)\n"
   ]
  },
  {
   "cell_type": "markdown",
   "metadata": {},
   "source": [
    "First solution solution takes O(N) time, where N is the number of elements in the linked list, but O(N) space. \n",
    "Second solution solution takes O(N^2) time, but O(1) space. "
   ]
  },
  {
   "cell_type": "markdown",
   "metadata": {},
   "source": [
    "### Return Kth to Last: \n",
    "Implement an algorithm to find the kth to last element of a singly linked list. "
   ]
  },
  {
   "cell_type": "code",
   "execution_count": null,
   "metadata": {},
   "outputs": [],
   "source": [
    "# only prints out value\n",
    "def kth_last(node, k):\n",
    "\n",
    "    if node == None:\n",
    "        return 0\n",
    "\n",
    "    # recursively calls function until end of linked list\n",
    "    # then pop off stack and add one til i == k\n",
    "    i = kth_last(node.next, k) + 1\n",
    "\n",
    "    if i == k:\n",
    "        print(node.data)\n",
    "\n",
    "    return i\n",
    "\n",
    "kthlast_val = 0\n",
    "\n",
    "\n",
    "\n",
    "# returns value\n",
    "def kth_last_value(node, k):\n",
    "    # outer function holds state of kth value\n",
    "    kthlast_val = None\n",
    "\n",
    "    def kth_last_helper(node, k):\n",
    "\n",
    "        # reference outer variable\n",
    "        nonlocal kthlast_val   \n",
    "\n",
    "        if node == None:\n",
    "            return 0\n",
    "\n",
    "        # recursively calls function until end of linked list\n",
    "        # then pop off stack and add one til i == k\n",
    "        i = kth_last_helper(node.next, k) + 1\n",
    "\n",
    "        if i == k:\n",
    "            # update outer variable with value \n",
    "            kthlast_val = node.data\n",
    "            return i\n",
    "\n",
    "        return i\n",
    "\n",
    "    kth_last_helper(node, k)\n",
    "\n",
    "    return kthlast_val\n",
    "\n",
    "\n",
    "# iterate with leader and follwer node\n",
    "def kth_last_iterative(node, k):\n",
    "\n",
    "    index_leader = 1\n",
    "    node_follower = node\n",
    "\n",
    "    \n",
    "    while node.next is not None:\n",
    "        node = node.next \n",
    "        \n",
    "        index_leader += 1\n",
    "\n",
    "        # iterate first node k units before iterating through follwer node\n",
    "        # when leader node reaches end, follower node will be at kth last\n",
    "        if index_leader > k:\n",
    "            node_follower = node_follower.next\n",
    "\n",
    "    if k > index_leader:\n",
    "        return None\n",
    "    else:\n",
    "        return node_follower.data"
   ]
  },
  {
   "cell_type": "code",
   "execution_count": null,
   "metadata": {},
   "outputs": [],
   "source": [
    "head = push_list([2, 3, 5, 7, 11, 13, 17])\n",
    "\n",
    "for test in [(2, 3), (1, 2), (5, 11), (100, None)]:\n",
    "    k, ans = test\n",
    "    for f in [kth_last_value, kth_last_iterative]:\n",
    "        for test in [(2, 3)]:\n",
    "            \n",
    "            result = f(head, k)\n",
    "            assert result == ans,  f'Error for input {k} in function {f}. Expected {ans} but got {result}'"
   ]
  },
  {
   "cell_type": "code",
   "execution_count": null,
   "metadata": {},
   "outputs": [
    {
     "name": "stdout",
     "output_type": "stream",
     "text": [
      "3\n",
      "2\n",
      "11\n"
     ]
    }
   ],
   "source": [
    "head = push_list([2, 3, 5, 7, 11, 13, 17])\n",
    "# print_list(head)\n",
    "kth_last(head, 2)\n",
    "x = kth_last(head, 1)\n",
    "x = kth_last(head, 5)\n",
    "x = kth_last(head, 100)"
   ]
  },
  {
   "cell_type": "markdown",
   "metadata": {},
   "source": [
    "All run in O(N) time. Recursive algorithms use O(N) space while iterative algoithm uses O(1)"
   ]
  },
  {
   "cell_type": "markdown",
   "metadata": {},
   "source": [
    "### Delete Middle Node: \n",
    "Implement an algorithm to delete a node in the middle (i.e., any node but \n",
    "the first and last node, not necessarily the exact middle) of a singly linked list, given only access to \n",
    "that node. \n",
    "\n",
    "EXAMPLE \n",
    "Input: the node c from the linked list a - >b- >c - >d - >e- >f \n",
    "Result: nothing is returned, but the new linked list looks like a->b->d->e-> f "
   ]
  },
  {
   "cell_type": "code",
   "execution_count": null,
   "metadata": {},
   "outputs": [],
   "source": [
    "def delete_middle_node(n):\n",
    "    if n is None or n.next is None:\n",
    "        return False\n",
    "\n",
    "    # overwrite node n (which we want to remove) with neighbor's node and value\n",
    "    next = n.next\n",
    "    n.data = next.data\n",
    "    n.next = next.next\n",
    "    return True"
   ]
  },
  {
   "cell_type": "code",
   "execution_count": null,
   "metadata": {},
   "outputs": [
    {
     "name": "stdout",
     "output_type": "stream",
     "text": [
      "17 13 11 7 5 3 2 "
     ]
    }
   ],
   "source": [
    "head = push_list([2, 3, 5, 7, 11, 13, 17])\n",
    "a = head.next\n",
    "b = a.next\n",
    "print_list(head)"
   ]
  },
  {
   "cell_type": "code",
   "execution_count": null,
   "metadata": {},
   "outputs": [
    {
     "name": "stdout",
     "output_type": "stream",
     "text": [
      "13\n"
     ]
    }
   ],
   "source": [
    "print(a.data)"
   ]
  },
  {
   "cell_type": "code",
   "execution_count": null,
   "metadata": {},
   "outputs": [
    {
     "name": "stdout",
     "output_type": "stream",
     "text": [
      "11\n"
     ]
    }
   ],
   "source": [
    "print(b.data)"
   ]
  },
  {
   "cell_type": "code",
   "execution_count": null,
   "metadata": {},
   "outputs": [
    {
     "name": "stdout",
     "output_type": "stream",
     "text": [
      "11 7 5 3 2 "
     ]
    }
   ],
   "source": [
    "print_list(b)"
   ]
  },
  {
   "cell_type": "code",
   "execution_count": null,
   "metadata": {},
   "outputs": [
    {
     "data": {
      "text/plain": [
       "True"
      ]
     },
     "execution_count": 16,
     "metadata": {},
     "output_type": "execute_result"
    }
   ],
   "source": [
    "delete_middle_node(b)"
   ]
  },
  {
   "cell_type": "code",
   "execution_count": null,
   "metadata": {},
   "outputs": [
    {
     "name": "stdout",
     "output_type": "stream",
     "text": [
      "17 13 7 5 3 2 "
     ]
    }
   ],
   "source": [
    "print_list(head)"
   ]
  },
  {
   "cell_type": "markdown",
   "metadata": {},
   "source": [
    "### Partition: \n",
    "Write code to partition a linked list around a value x, such that all nodes less than x come \n",
    "before all nodes greater than or equal to x. Ifxis contained within the list, the values of x only need \n",
    "to be after the elements less than x (see below). The partition element x can appear anywhere in the \n",
    "\"right partition\"; it does not need to appear between the right and right partitions. \n",
    "\n",
    "EXAMPLE \n",
    "Input: 3 -> 5 -> 8 -> 5 -> 10 -> 2 -> 1 [partition = 5] \n",
    "Output: 3 -> 1 -> 2 -> 10 -> 5 -> 5 -> 8 "
   ]
  },
  {
   "cell_type": "code",
   "execution_count": null,
   "metadata": {},
   "outputs": [],
   "source": [
    "# uses four pointer to preserve order\n",
    "def partition_stable(node, x):\n",
    "\n",
    "    # need to keep track of last node of right partion so can merge with right side\n",
    "    left_head, left_tail = None, None\n",
    "    right_head, right_tail = None, None\n",
    "\n",
    "\n",
    "    while node is not None:\n",
    "\n",
    "        # re-assigning pointers instead of creating new nodes to save space\n",
    "        next = node.next\n",
    "        node.next = None\n",
    "\n",
    "        # value less than pivot\n",
    "        if node.data < x:\n",
    "            if left_head is None:\n",
    "                left_head = node\n",
    "                left_tail = left_head\n",
    "            else:\n",
    "                # how does this update tail pointer w/o overwriting?\n",
    "                left_tail.next = node    \n",
    "                left_tail = node\n",
    "        \n",
    "        # value >= pivot\n",
    "        else:\n",
    "            if right_head is None:\n",
    "                right_head = node\n",
    "                right_tail = right_head\n",
    "            else:\n",
    "                right_tail.next = node      # previous node\n",
    "                right_tail = node\n",
    "\n",
    "        node = next\n",
    "\n",
    "\n",
    "    # if x < all values in linked list\n",
    "    if left_head is None:\n",
    "        return right_head\n",
    "\n",
    "    # merge left and right together\n",
    "    else:\n",
    "        left_tail.next = right_head\n",
    "        return left_head\n",
    "\n",
    "\n",
    "# only use two pointers to rebuild list but changes order\n",
    "def partition(node, x):\n",
    "\n",
    "    head, tail = None, None\n",
    "\n",
    "    while node is not None:\n",
    "\n",
    "        # re-assign pointer so don't allocate more memory\n",
    "        next = node.next\n",
    "        node.next = None\n",
    "\n",
    "        # assign head and tail to first node\n",
    "        if head is None:\n",
    "            head = node \n",
    "            tail = head\n",
    "\n",
    "        # assign to front of list\n",
    "        elif node.data < x:\n",
    "            node.next = head\n",
    "            head = node\n",
    "\n",
    "        # assign to end of list\n",
    "        else:\n",
    "            tail.next = node \n",
    "            tail = node\n",
    "\n",
    "        # iterate to next node \n",
    "        node = next\n",
    "\n",
    "    return head\n",
    "            \n",
    "\n"
   ]
  },
  {
   "cell_type": "code",
   "execution_count": null,
   "metadata": {},
   "outputs": [
    {
     "name": "stdout",
     "output_type": "stream",
     "text": [
      "100 13 11 20 123 5 32 "
     ]
    }
   ],
   "source": [
    "head = push_list([32, 5, 123, 20, 11, 13, 100])\n",
    "print_list(head)\n"
   ]
  },
  {
   "cell_type": "code",
   "execution_count": null,
   "metadata": {},
   "outputs": [
    {
     "name": "stdout",
     "output_type": "stream",
     "text": [
      "13 11 5 100 20 123 32 "
     ]
    }
   ],
   "source": [
    "head = push_list([32, 5, 123, 20, 11, 13, 100])\n",
    "x = partition_stable(head, 20)\n",
    "print_list(x)\n"
   ]
  },
  {
   "cell_type": "code",
   "execution_count": null,
   "metadata": {},
   "outputs": [
    {
     "name": "stdout",
     "output_type": "stream",
     "text": [
      "5 11 13 100 20 123 32 "
     ]
    }
   ],
   "source": [
    "head = push_list([32, 5, 123, 20, 11, 13, 100])\n",
    "x = partition(head, 20)\n",
    "print_list(x)"
   ]
  },
  {
   "cell_type": "code",
   "execution_count": null,
   "metadata": {},
   "outputs": [
    {
     "name": "stdout",
     "output_type": "stream",
     "text": [
      "13 11 20 5 100 123 32 "
     ]
    }
   ],
   "source": [
    "head = push_list([32, 5, 123, 20, 11, 13, 100])\n",
    "x = partition_stable(head, 21)\n",
    "print_list(x)"
   ]
  },
  {
   "cell_type": "code",
   "execution_count": null,
   "metadata": {},
   "outputs": [
    {
     "name": "stdout",
     "output_type": "stream",
     "text": [
      "5 20 11 13 100 123 32 "
     ]
    }
   ],
   "source": [
    "head = push_list([32, 5, 123, 20, 11, 13, 100])\n",
    "x = partition(head, 21)\n",
    "print_list(x)"
   ]
  },
  {
   "cell_type": "code",
   "execution_count": null,
   "metadata": {},
   "outputs": [
    {
     "name": "stdout",
     "output_type": "stream",
     "text": [
      "100 13 11 20 123 5 32 "
     ]
    }
   ],
   "source": [
    "head = push_list([32, 5, 123, 20, 11, 13, 100])\n",
    "x = partition_stable(head, 1)\n",
    "print_list(x)"
   ]
  },
  {
   "cell_type": "code",
   "execution_count": null,
   "metadata": {},
   "outputs": [
    {
     "name": "stdout",
     "output_type": "stream",
     "text": [
      "100 13 11 20 123 5 32 "
     ]
    }
   ],
   "source": [
    "head = push_list([32, 5, 123, 20, 11, 13, 100])\n",
    "x = partition(head, 1)\n",
    "print_list(x)"
   ]
  },
  {
   "cell_type": "code",
   "execution_count": null,
   "metadata": {},
   "outputs": [
    {
     "name": "stdout",
     "output_type": "stream",
     "text": [
      "100 13 11 20 123 5 32 "
     ]
    }
   ],
   "source": [
    "head = push_list([32, 5, 123, 20, 11, 13, 100])\n",
    "x = partition_stable(head, 1000)\n",
    "print_list(x)"
   ]
  },
  {
   "cell_type": "code",
   "execution_count": null,
   "metadata": {},
   "outputs": [
    {
     "name": "stdout",
     "output_type": "stream",
     "text": [
      "32 5 123 20 11 13 100 "
     ]
    }
   ],
   "source": [
    "head = push_list([32, 5, 123, 20, 11, 13, 100])\n",
    "x = partition(head, 1000)\n",
    "print_list(x)"
   ]
  },
  {
   "cell_type": "markdown",
   "metadata": {},
   "source": [
    "### Sum Lists:  \n",
    "You have two numbers represented by a linked list, where each node contains a single \n",
    "digit. The digits are stored in reverse order, such that the Vs digit is at the head of the list. Write a \n",
    "function that adds the two numbers and returns the sum as a linked list. \n",
    "\n",
    "EXAMPLE    \n",
    "Input: (7- > 1 -> 6) + (5 -> 9 -> 2). That is,617 + 295.     \n",
    "Output: 2 -> 1 -> 9. That is, 912.    \n",
    "\n",
    "FOLLOW UP       \n",
    "Suppose the digits are stored in forward order. Repeat the above problem. \n",
    "EXAMPLE "
   ]
  },
  {
   "cell_type": "code",
   "execution_count": null,
   "metadata": {},
   "outputs": [],
   "source": [
    "def sum_list(x, y):\n",
    "\n",
    "    carry = 0\n",
    "    sum_list_head, sum_list_tail = None, None \n",
    "\n",
    "    while x is not None or y is not None or carry != 0:\n",
    "\n",
    "        # get data from each node or 0 is empty\n",
    "        if x is None:\n",
    "            dx = 0  \n",
    "        else:  \n",
    "            dx = x.data\n",
    "            x = x.next\n",
    "\n",
    "        if y is None:\n",
    "            dy = 0  \n",
    "        else:  \n",
    "            dy = y.data\n",
    "            y = y.next\n",
    "\n",
    "        # sum digits\n",
    "        value = dx + dy + carry\n",
    "\n",
    "        # separate digits\n",
    "        num, carry = value % 10, value // 10\n",
    "\n",
    "        # add number to list\n",
    "        if sum_list_head is None:          # first number in sum list\n",
    "            sum_list_head = Node(num)\n",
    "            sum_list_tail = sum_list_head \n",
    "        else:\n",
    "            n = Node(num)\n",
    "            sum_list_tail.next = n\n",
    "            sum_list_tail = n\n",
    "\n",
    "\n",
    "    return sum_list_head\n",
    "\n",
    "\n"
   ]
  },
  {
   "cell_type": "code",
   "execution_count": null,
   "metadata": {},
   "outputs": [],
   "source": [
    "x = push_list([6, 1, 7])\n",
    "y = push_list([2, 9, 5])"
   ]
  },
  {
   "cell_type": "code",
   "execution_count": null,
   "metadata": {},
   "outputs": [
    {
     "name": "stdout",
     "output_type": "stream",
     "text": [
      "7 1 6 "
     ]
    }
   ],
   "source": [
    "print_list(x)"
   ]
  },
  {
   "cell_type": "code",
   "execution_count": null,
   "metadata": {},
   "outputs": [
    {
     "name": "stdout",
     "output_type": "stream",
     "text": [
      "5 9 2 "
     ]
    }
   ],
   "source": [
    "print_list(y)"
   ]
  },
  {
   "cell_type": "code",
   "execution_count": null,
   "metadata": {},
   "outputs": [
    {
     "name": "stdout",
     "output_type": "stream",
     "text": [
      "2 1 9 "
     ]
    }
   ],
   "source": [
    "z = sum_list(x, y)\n",
    "print_list(z)"
   ]
  },
  {
   "cell_type": "code",
   "execution_count": null,
   "metadata": {},
   "outputs": [],
   "source": [
    "for test in [([6, 1, 7], [2, 9, 5], [2, 1, 9]), ([6, 1, 7], [9, 5], [2, 1, 7]), ([9, 1], [2, 9, 5], [6, 8, 3]), ([9, 9, 9], [5], [4, 0, 0, 1])]:\n",
    "    for f in [sum_list]:\n",
    "        x_list, y_list, ans = test\n",
    "        x, y = map(push_list, [x_list, y_list])\n",
    "        result = f(x, y)\n",
    "        result = get_value_list(result)\n",
    "        assert result == ans,  f'Error for input {x_list} and {y_list} in function {f}. Expected {ans} but got {result}'"
   ]
  },
  {
   "cell_type": "markdown",
   "metadata": {},
   "source": [
    "### Palindrome: \n",
    "Implement a function to check if a linked list is a palindrome. "
   ]
  },
  {
   "cell_type": "code",
   "execution_count": null,
   "metadata": {},
   "outputs": [],
   "source": [
    "# reverse list and check first half of entries\n",
    "def is_palindrome(head):\n",
    "\n",
    "    if head is None:\n",
    "        return False \n",
    "    if head.next is None:\n",
    "        return True\n",
    "\n",
    "    # pointer to head\n",
    "    node = head\n",
    "\n",
    "    # reverse linked list\n",
    "    reversed_head = None\n",
    "    num_nodes = 0\n",
    "    while node is not None:\n",
    "\n",
    "        n = Node(node.data)    # clone data\n",
    "        n.next = reversed_head\n",
    "        reversed_head = n\n",
    "\n",
    "        node = node.next \n",
    "        num_nodes += 1\n",
    "\n",
    "    # recurse throught both lists floor(N/2) times\n",
    "    N = num_nodes / 2\n",
    "    i = 1\n",
    "    node_front = head\n",
    "    while i <= N:\n",
    "\n",
    "        if node_front.data != reversed_head.data:\n",
    "            return False \n",
    "\n",
    "        node_front = node_front.next\n",
    "        reversed_head = reversed_head.next\n",
    "\n",
    "        i += 1\n",
    "\n",
    "\n",
    "    return True\n",
    "\n",
    "\n",
    "# use stack to keep track of elements in front half of list\n",
    "# when iterating through second half of list, compare with stack\n",
    "# careful with odd number linked list\n",
    "# if don't know length of list, use runner technique\n",
    "def is_palindrome_iterative(head):\n",
    "    \n",
    "    if head is None:\n",
    "        return False \n",
    "    if head.next is None:\n",
    "        return True\n",
    "\n",
    "    # intialize two pointers to iterate through linked list\n",
    "    fast, slow = head, head\n",
    "\n",
    "    # initialize stack\n",
    "    stack = deque()\n",
    "\n",
    "    # fast pointer will go through list twice as fast\n",
    "    # add elements slow pointer sees to stack\n",
    "    len_list = 0\n",
    "    while fast is not None:\n",
    "        stack.append(slow.data)\n",
    "        slow = slow.next\n",
    "\n",
    "        try:\n",
    "            fast = fast.next.next\n",
    "            len_list += 2\n",
    "        except:\n",
    "            fast = None\n",
    "            len_list += 1\n",
    "\n",
    "    # if lenght of list is odd remove middle entry that appears on stack\n",
    "    if len_list % 2 == 1:\n",
    "        stack.pop()\n",
    "\n",
    "    while slow is not None:\n",
    "        if slow.data != stack.pop(): \n",
    "            return False\n",
    "        slow = slow.next\n",
    "  \n",
    "    return True"
   ]
  },
  {
   "cell_type": "code",
   "execution_count": null,
   "metadata": {},
   "outputs": [],
   "source": [
    "for test in [(['c', 'a', 't'], False), (['c', 'a', 'c'], True), (['c', 'c'], True), (['c', 't'], False), (['c', 'c'], True), (['m', 'a', 'd', 'a', 'm'], True), (['c'], True)]:\n",
    "    for f in [is_palindrome, is_palindrome_iterative]:\n",
    "        x, ans = test\n",
    "        x = push_list(x)\n",
    "        result = f(x)\n",
    "        assert result == ans,  f'Error for input {x} in function {f}. Expected {ans} but got {result}'"
   ]
  },
  {
   "cell_type": "markdown",
   "metadata": {},
   "source": [
    "### Intersection: \n",
    "Given two (singly) linked lists, determine if the two lists intersect. Return the intersecting node. Note that the intersection is defined based on reference, not value. That is, if the kth \n",
    "node of the first linked list is the exact same node (by reference) as the jt h node of the second \n",
    "linked list, then they are intersecting. "
   ]
  },
  {
   "cell_type": "code",
   "execution_count": null,
   "metadata": {},
   "outputs": [],
   "source": [
    "# 1. Run through each linked list to get the lengths and the tails. \n",
    "# 2. Compare the tails. If they are different (by reference, not by value), return immediately. There is no intersection. \n",
    "# 3. Set two pointers to the start of each linked list. \n",
    "# 4. On the longer linked list, advance its pointer by the difference in lengths. \n",
    "# 5. Now, traverse on each linked list until the pointers are the same.\n",
    "\n",
    "def intersection(llist1: Node, llist2: Node) -> Node:\n",
    "\n",
    "    n1, n2, = llist1, llist2\n",
    "    len1, len2 = 0, 0\n",
    "\n",
    "    while n1 is not None or n2 is not None:\n",
    "        if n1 is not None:\n",
    "            len1 += 1\n",
    "            n1 = n1.next\n",
    "        if n2 is not None:\n",
    "            len2 += 1\n",
    "            n2 = n2.next\n",
    "\n",
    "    # different tails so cannot intersect\n",
    "    if n1 != n2:\n",
    "        return None\n",
    "\n",
    "    # get difference in length and assign nodes\n",
    "    if len2 > len1:\n",
    "        len_diff = len2 - len1 \n",
    "        n_long = llist2\n",
    "        n_short = llist1\n",
    "    else:\n",
    "        len_diff = len1 - len2 \n",
    "        n_long = llist1\n",
    "        n_short = llist2 \n",
    "\n",
    "    \n",
    "    # iterate through longer linked list by difference in lengths\n",
    "    i = 0\n",
    "    while i != len_diff:\n",
    "        n_long = n_long.next\n",
    "        i += 1\n",
    "\n",
    "    # iterate through both lists until reach intersection\n",
    "    while n_long != n_short:\n",
    "        n_long = n_long.next\n",
    "        n_short = n_short.next\n",
    "    \n",
    "    return n_short\n",
    "    "
   ]
  },
  {
   "cell_type": "code",
   "execution_count": null,
   "metadata": {},
   "outputs": [
    {
     "data": {
      "text/plain": [
       "True"
      ]
     },
     "execution_count": 37,
     "metadata": {},
     "output_type": "execute_result"
    }
   ],
   "source": [
    "x = Node(5)\n",
    "y = x\n",
    "y == x"
   ]
  },
  {
   "cell_type": "code",
   "execution_count": null,
   "metadata": {},
   "outputs": [
    {
     "data": {
      "text/plain": [
       "<data_structures.linked_lists.Node at 0x7f90569b65f8>"
      ]
     },
     "execution_count": 38,
     "metadata": {},
     "output_type": "execute_result"
    }
   ],
   "source": [
    "intersection(x, y)"
   ]
  },
  {
   "cell_type": "code",
   "execution_count": null,
   "metadata": {},
   "outputs": [
    {
     "name": "stdout",
     "output_type": "stream",
     "text": [
      "False\n",
      "True\n"
     ]
    }
   ],
   "source": [
    "x = push(x, 10)\n",
    "print(y == x)\n",
    "print(x.next == y)"
   ]
  },
  {
   "cell_type": "code",
   "execution_count": null,
   "metadata": {},
   "outputs": [
    {
     "data": {
      "text/plain": [
       "<data_structures.linked_lists.Node at 0x7f90569b65f8>"
      ]
     },
     "execution_count": 40,
     "metadata": {},
     "output_type": "execute_result"
    }
   ],
   "source": [
    "intersection(x, y)"
   ]
  },
  {
   "cell_type": "code",
   "execution_count": null,
   "metadata": {},
   "outputs": [
    {
     "name": "stdout",
     "output_type": "stream",
     "text": [
      "10 5 "
     ]
    }
   ],
   "source": [
    "print_list(x)"
   ]
  },
  {
   "cell_type": "code",
   "execution_count": null,
   "metadata": {},
   "outputs": [
    {
     "name": "stdout",
     "output_type": "stream",
     "text": [
      "5 "
     ]
    }
   ],
   "source": [
    "print_list(y)"
   ]
  },
  {
   "cell_type": "code",
   "execution_count": null,
   "metadata": {},
   "outputs": [],
   "source": [
    "assert intersection(push_list([1, 2, 3]), push_list([1, 2, 3])) == None\n",
    "\n",
    "x = Node(5)\n",
    "y = x\n",
    "assert intersection(x, y).data == 5\n",
    "\n",
    "x = push(x, 10)\n",
    "assert intersection(x, y).data == 5\n",
    "\n",
    "\n",
    "x = Node(5)\n",
    "for v in [10, 20, 30]:\n",
    "    x = push(x, v)\n",
    "y = x\n",
    "for v in [100, 50, 150]:\n",
    "    x = push(x, v)\n",
    "for v in range(10):\n",
    "    y = push(y, v)\n",
    "\n",
    "assert intersection(x, y).data == 30\n",
    "\n",
    "assert intersection(y, x).data == 30"
   ]
  },
  {
   "cell_type": "markdown",
   "metadata": {},
   "source": [
    "This algorithm takes 0(A + B) time, where A and B are the lengths of the two linked lists, it takes 0(1 ) \n",
    "additional space. "
   ]
  },
  {
   "cell_type": "markdown",
   "metadata": {},
   "source": [
    "### Loop Detection:\n",
    "Given a circular linked list, implement an algorithm that returns the node at the \n",
    "beginning of the loop. \n",
    "\n",
    "DEFINITION      \n",
    "Circular linked list: A (corrupt) linked list in which a node's next pointer points to an earlier node, so \n",
    "as to make a loop in the linked list. \n",
    "\n",
    "EXAMPLE     \n",
    "Input: A->8->C->D->E- > C [the same C as earlier]     \n",
    "Output: C    "
   ]
  },
  {
   "cell_type": "code",
   "execution_count": null,
   "metadata": {},
   "outputs": [],
   "source": [
    "x = Node(5)\n",
    "\n",
    "y = Node(10)\n",
    "y.next = x\n",
    "for i in range(5):\n",
    "    y = push(y, i)\n",
    "\n",
    "x.next = y\n",
    "\n"
   ]
  },
  {
   "cell_type": "code",
   "execution_count": null,
   "metadata": {},
   "outputs": [],
   "source": [
    "# detects if thre is a loop but does not return node\n",
    "def is_loop(head):\n",
    "\n",
    "    slow, fast = head, head\n",
    "\n",
    "   \n",
    "    while slow is not None or fast is not None:\n",
    "        # if terminates, then there cannot be a loop\n",
    "        try:\n",
    "            fast = fast.next.next\n",
    "            slow = slow.next\n",
    "        except:\n",
    "            return False \n",
    "\n",
    "         # if there is a loop in linked list, pointers will eventually be equal\n",
    "        if slow == fast:\n",
    "            print(slow.data)\n",
    "            return True\n"
   ]
  },
  {
   "cell_type": "code",
   "execution_count": null,
   "metadata": {},
   "outputs": [
    {
     "name": "stdout",
     "output_type": "stream",
     "text": [
      "4\n"
     ]
    },
    {
     "data": {
      "text/plain": [
       "True"
      ]
     },
     "execution_count": 46,
     "metadata": {},
     "output_type": "execute_result"
    }
   ],
   "source": [
    "is_loop(y)"
   ]
  },
  {
   "cell_type": "code",
   "execution_count": null,
   "metadata": {},
   "outputs": [
    {
     "data": {
      "text/plain": [
       "False"
      ]
     },
     "execution_count": 47,
     "metadata": {},
     "output_type": "execute_result"
    }
   ],
   "source": [
    "is_loop(push_list([1, 2, 3, 4]))"
   ]
  }
 ],
 "metadata": {
  "kernelspec": {
   "display_name": "Python 3.10.6 ('data-structures-algorithms')",
   "language": "python",
   "name": "python3"
  },
  "language_info": {
   "codemirror_mode": {
    "name": "ipython",
    "version": 3
   },
   "file_extension": ".py",
   "mimetype": "text/x-python",
   "name": "python",
   "nbconvert_exporter": "python",
   "pygments_lexer": "ipython3",
   "version": "3.10.6"
  },
  "orig_nbformat": 4,
  "vscode": {
   "interpreter": {
    "hash": "893eabf024544e5e4ccd37f92d923a15afaa2331429d096efe9b57dc3359fd4e"
   }
  }
 },
 "nbformat": 4,
 "nbformat_minor": 2
}
