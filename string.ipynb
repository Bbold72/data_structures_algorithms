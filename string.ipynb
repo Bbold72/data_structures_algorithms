{
 "cells": [
  {
   "cell_type": "markdown",
   "metadata": {},
   "source": [
    "# Strings\n",
    "- A string is like a special kind of array but is immutable\n",
    "\n",
    "## Tips\n",
    "- Similar to arrays, string problems often have simple brute-force solutions that use $O(n)$ space, but subtler solutions that use the string itself to **reduce the complexit** to $O(1)$\n",
    "- Understand the **implications** of a string type which is **immutable**, e.g., the need to allocate a new string when concatenating immutable strings. Know **alternatives** to immutable strings, e.g., a **list** in Python\n",
    "- Updating a mutable string from the font is slow, so see if it's possible to **write values from the back**\n",
    "- indexing works the same as lists"
   ]
  },
  {
   "cell_type": "code",
   "execution_count": 39,
   "metadata": {},
   "outputs": [],
   "source": [
    "from typing import List, Iterator, Tuple\n",
    "import bisect\n",
    "import collections\n",
    "import math\n",
    "import functools\n",
    "import random\n",
    "\n",
    "from utils import run_tests"
   ]
  },
  {
   "cell_type": "markdown",
   "metadata": {},
   "source": [
    "## Libraries"
   ]
  },
  {
   "cell_type": "code",
   "execution_count": 14,
   "metadata": {},
   "outputs": [
    {
     "name": "stdout",
     "output_type": "stream",
     "text": [
      "The cow jumped over the moon\n",
      "The moon is made of cheese\n",
      "\n",
      "s.startswith(\"The\"):        True\n",
      "\n",
      "s.endswith((\"moo\", \"moon\"): True\n",
      "\n",
      "s + t:                      The cow jumped over the moonThe moon is made of cheese\n",
      "\n",
      " ['the', 'cat', 'and', 'the', 'hat']\n",
      "\" \".join(strings):            the cat and the hat\n"
     ]
    }
   ],
   "source": [
    "s = 'The cow jumped over the moon'\n",
    "t = 'The moon is made of cheese'\n",
    "print(s)\n",
    "print(t)\n",
    "\n",
    "print('\\ns.startswith(\"The\"):       ', s.startswith(\"The\"))\n",
    "\n",
    "print('\\ns.endswith((\"moo\", \"moon\"):', s.endswith((\"moo\", \"moon\")))     # tuple of string to try\n",
    "\n",
    "print('\\ns + t:                     ', s + t)\n",
    "\n",
    "strings = ['the', 'cat', 'and', 'the', 'hat']\n",
    "print('\\n', strings)\n",
    "print('\" \".join(strings):           ' , \" \".join(strings))"
   ]
  },
  {
   "cell_type": "markdown",
   "metadata": {},
   "source": [
    "### Is Palindrome?\n",
    "A palindrome is a string the reads the same forwards and backwards.  \n",
    "Key to optimal solution is to traverse string forward and backwards to simultaneously"
   ]
  },
  {
   "cell_type": "code",
   "execution_count": 17,
   "metadata": {},
   "outputs": [],
   "source": [
    "def is_palindrome(s: str) -> bool:\n",
    "    # note: ~i = -(i+1)\n",
    "    return all(s[i] == s[~i] for i in range(len(s) // 2))\n",
    "\n",
    "inputs, outputs = ('cat', 'aabbaa', 'aba', 'abca'), (False, True, True, False)\n",
    "run_tests(is_palindrome, inputs, outputs)"
   ]
  },
  {
   "cell_type": "markdown",
   "metadata": {},
   "source": [
    "Time complexity is $O(n)$ and space complexity $O(1)$"
   ]
  },
  {
   "cell_type": "markdown",
   "metadata": {},
   "source": [
    "### 6.1: Interconvert Strings and Integers"
   ]
  },
  {
   "cell_type": "code",
   "execution_count": 43,
   "metadata": {},
   "outputs": [],
   "source": [
    "def int_to_string(num: int) -> str:\n",
    "\n",
    "    if num < 0:\n",
    "        is_negative, num = True, abs(num)\n",
    "    else:\n",
    "        is_negative = False\n",
    "    \n",
    "    digits = []\n",
    "    # process one digit at a time\n",
    "    # processing digits in reverse order\n",
    "    while True:\n",
    "        num, digit = num // 10, num % 10\n",
    "        digits.append(chr(ord('0') + digit))   # get code 0, add digit, then convert to character\n",
    "        if num == 0:\n",
    "            break\n",
    "\n",
    "    if is_negative:\n",
    "        digits.append('-')\n",
    "\n",
    "    return ''.join(reversed(digits))\n",
    "\n",
    "\n",
    "# sould be able to handle '314', '+314' or '-314'\n",
    "def string_to_int(s: str) -> int:\n",
    "    string_digits = {s:d for s, d, in zip(['0', '1', '2', '3', '4', '5', '6', '7', '8', '9'], range(10))}\n",
    "\n",
    "    sign = -1 if s[0] == '-' else 1\n",
    "\n",
    "    running_sum = 0\n",
    "    for i in s[s[0] in '+-':]:             # this skips first entry if has symbol\n",
    "        running_sum = running_sum * 10 + string_digits[i]  # mutliplying by 10 shift place value to left\n",
    "\n",
    "    return sign * running_sum\n",
    "\n",
    "\n",
    "def string_to_int_v2(s: str) -> int:\n",
    "    string_digits = {s:d for s, d, in zip(['0', '1', '2', '3', '4', '5', '6', '7', '8', '9'], range(10))}\n",
    "    return (-1 if s[0] == '-' else 1) * functools.reduce(\n",
    "        lambda running_sum, c: running_sum * 10 + string_digits[c],\n",
    "        s[s[0] in '+-':], 0\n",
    "    )\n",
    "\n",
    "inputs, outputs = (123, -123, 4, -4, 0), ('123', '-123', '4', '-4', '0')\n",
    "run_tests(int_to_string, inputs, outputs)\n",
    "\n",
    "inputs, outputs = ('123', '-123', '+123', '4', '-4', '+4', '0'), (123, -123, 123, 4, -4, 4, 0)\n",
    "run_tests(string_to_int, inputs, outputs)\n",
    "\n",
    "run_tests(string_to_int_v2, inputs, outputs)"
   ]
  },
  {
   "cell_type": "markdown",
   "metadata": {},
   "source": [
    "$O(n)$ time and space complexity"
   ]
  },
  {
   "cell_type": "code",
   "execution_count": 28,
   "metadata": {},
   "outputs": [
    {
     "name": "stdout",
     "output_type": "stream",
     "text": [
      "ord(\"0\") - returns Unicode code point one-character string,      e.g.: 48\n",
      "chr(ord(\"0\")) - returns Unicode string for one-character string, e.g.: 0\n",
      "ord(\"0\") + 5:      53\n",
      "chr(ord(\"0\") + 5): 5\n"
     ]
    }
   ],
   "source": [
    "print('ord(\"0\") - returns Unicode code point one-character string,      e.g.:',  ord('0'))\n",
    "print('chr(ord(\"0\")) - returns Unicode string for one-character string, e.g.:',  chr(ord('0')))\n",
    "print('ord(\"0\") + 5:     ',  ord('0') + 5)\n",
    "print('chr(ord(\"0\") + 5):',  chr(ord('0') + 5))\n"
   ]
  },
  {
   "cell_type": "code",
   "execution_count": 31,
   "metadata": {},
   "outputs": [
    {
     "data": {
      "text/plain": [
       "{'0': 0,\n",
       " '1': 1,\n",
       " '2': 2,\n",
       " '3': 3,\n",
       " '4': 4,\n",
       " '5': 5,\n",
       " '6': 6,\n",
       " '7': 7,\n",
       " '8': 8,\n",
       " '9': 9}"
      ]
     },
     "execution_count": 31,
     "metadata": {},
     "output_type": "execute_result"
    }
   ],
   "source": [
    "{s:d for s, d, in zip(['0', '1', '2', '3', '4', '5', '6', '7', '8', '9'], range(10))}"
   ]
  },
  {
   "cell_type": "markdown",
   "metadata": {},
   "source": [
    "### 6.2: Base Conversion\n",
    "Generalized decimal number system: $a_{k-1}a_{k-2}\\cdots a_1a_0$, where $0 \\leq a_i < b$, denotes in base-*b* the integer $a \\times b^0 + a_1 \\times b^1 + a_2 \\times b^2 + \\cdot + a_{k-1} \\times b^{k-1}$          \n",
    "\n",
    "Write a function that converts a string integer in $b_1$ to $b_2$   \n",
    "e.g.: '615', $b_1 = 7$ and $b_2 = 13$ --> '1A7'    \n",
    "\n",
    "Assume $b_1 \\geq 2$ and $b_2 \\leq 16$"
   ]
  },
  {
   "cell_type": "code",
   "execution_count": 53,
   "metadata": {},
   "outputs": [],
   "source": [
    "\n",
    "def base_conversion(num_as_str: str, b1: int, b2: int) -> str:\n",
    "    string_int_map = {s:d for s, d, in zip(['0', '1', '2', '3', '4', '5', '6', '7', '8', '9', 'A', 'B', 'C', 'D', 'E', 'F'], range(17))}\n",
    "    int_string_map = {d:s for s, d in string_int_map.items()}\n",
    "\n",
    "    # convert each digit to integer\n",
    "    is_negative = num_as_str[0] == '-'\n",
    "    num_as_int = functools.reduce(\n",
    "        lambda sum_so_far, c: sum_so_far * b1 + string_int_map[c],\n",
    "        num_as_str[is_negative:], 0\n",
    "    )\n",
    "\n",
    "    # process integers in revese order converting to b2\n",
    "    digits_as_string = []\n",
    "    while True:\n",
    "        num_as_int, d = num_as_int // b2, num_as_int % b2 \n",
    "        digits_as_string.append(int_string_map[d])\n",
    "        if num_as_int == 0:\n",
    "            break\n",
    "    \n",
    "    if is_negative:\n",
    "        digits_as_string.append('-')\n",
    "\n",
    "    return ''.join(reversed(digits_as_string))\n",
    "\n",
    "\n",
    "assert base_conversion('615', b1=7, b2=13) == '1A7'\n",
    "assert base_conversion('-615', b1=7, b2=13) == '-1A7'\n",
    "\n"
   ]
  },
  {
   "cell_type": "code",
   "execution_count": 51,
   "metadata": {},
   "outputs": [
    {
     "data": {
      "text/plain": [
       "306"
      ]
     },
     "execution_count": 51,
     "metadata": {},
     "output_type": "execute_result"
    }
   ],
   "source": [
    "# 615 Base-7 as decimal\n",
    "5 + (1 * 7) + (6 * 7**2)"
   ]
  },
  {
   "cell_type": "markdown",
   "metadata": {},
   "source": [
    "$Time complexity in $O(n(1 + \\log_{b_2}{b_1}))$   \n",
    "First, perform $n$ multply-and-adds to get $x$ from s.   \n",
    "Then, perform $\\log_{b_2}x$ multiply-and-adds.   \n",
    "$x$ is upper-bounded by $b_1^n$, so $\\log_{b_2}(b_1^n)$\n"
   ]
  },
  {
   "cell_type": "markdown",
   "metadata": {},
   "source": [
    "### 6.3: Compute the Spreadsheet Column Encoding"
   ]
  },
  {
   "cell_type": "code",
   "execution_count": 75,
   "metadata": {},
   "outputs": [],
   "source": [
    "def spreadsheet_column_decoder(s: str) -> int:\n",
    "    num_letters = 26\n",
    "    string_int_map = {chr(ord('A') + i):i+1 for i in range(num_letters)}\n",
    "\n",
    "    return functools.reduce(\n",
    "        lambda sum_so_far, c: sum_so_far * num_letters + string_int_map[c],\n",
    "        s, 0\n",
    "    )\n",
    "\n",
    "inputs, outputs = ('A', 'D', 'Z', 'AA', 'AC', 'DB', 'AZ', 'EZ', 'ZZ'), (1, 4, 26, 27, 29, 26*4+2, 52, 26*5+26, 702)\n",
    "run_tests(spreadsheet_column_decoder, inputs, outputs)\n",
    "\n",
    "\n",
    "def spreadsheet_column_decoder_v2(s: str) -> int:\n",
    "    return functools.reduce(\n",
    "        lambda sum_so_far, c: sum_so_far * 26 + ord(c) - ord('A') + 1,\n",
    "        s, 0\n",
    "    )\n",
    "\n",
    "inputs, outputs = ('A', 'D', 'Z', 'AA', 'AC', 'DB', 'AZ', 'EZ', 'ZZ'), (1, 4, 26, 27, 29, 26*4+2, 52, 26*5+26, 702)\n",
    "run_tests(spreadsheet_column_decoder_v2, inputs, outputs)"
   ]
  },
  {
   "cell_type": "markdown",
   "metadata": {},
   "source": [
    "$O(n)$ time complexity"
   ]
  },
  {
   "cell_type": "markdown",
   "metadata": {},
   "source": [
    "#### Variant: Solve the same problem  with \"A\" corresponding to 0"
   ]
  },
  {
   "cell_type": "code",
   "execution_count": 77,
   "metadata": {},
   "outputs": [],
   "source": [
    "# i think this is right\n",
    "def spreadsheet_column_decoder_A0(s: str) -> int:\n",
    "\n",
    "    return spreadsheet_column_decoder_v2(s) - 1\n",
    "\n",
    "inputs, outputs = ('A', 'D', 'Z', 'AA', 'AC', 'DB', 'AZ', 'EZ', 'ZZ'), (0, 3, 25, 26, 28, 25+(26*3)+2, 51, 25+26*4+26, 701)\n",
    "run_tests(spreadsheet_column_decoder_A0, inputs, outputs)"
   ]
  },
  {
   "cell_type": "markdown",
   "metadata": {},
   "source": [
    "#### Variant: Convert Integer to Spreadsheet Index"
   ]
  },
  {
   "cell_type": "code",
   "execution_count": 116,
   "metadata": {},
   "outputs": [],
   "source": [
    "def spreadsheet_column_encoder(num: int) -> str:\n",
    "\n",
    "    encoding = []\n",
    "    # process in reverse order\n",
    "    while True:\n",
    "        digit = num % 26\n",
    "        if digit == 0:           # handle case for Z separately\n",
    "            encoding.append('Z')\n",
    "            num = num // 26 - 1   \n",
    "        else:\n",
    "            encoding.append(chr(ord('A') + digit - 1))\n",
    "            num = num // 26\n",
    "        if num == 0:\n",
    "            break\n",
    "    \n",
    "    return ''.join(reversed(encoding))\n",
    "\n",
    "inputs, outputs = (1, 4, 26, 27, 29, 26*4+2, 52, 26*5+26, 702), ('A', 'D', 'Z', 'AA', 'AC', 'DB', 'AZ', 'EZ', 'ZZ')\n",
    "run_tests(spreadsheet_column_encoder, inputs, outputs)"
   ]
  },
  {
   "cell_type": "code",
   "execution_count": 56,
   "metadata": {},
   "outputs": [
    {
     "name": "stdout",
     "output_type": "stream",
     "text": [
      "A\n",
      "B\n",
      "C\n",
      "D\n",
      "E\n",
      "F\n",
      "G\n",
      "H\n",
      "I\n",
      "J\n",
      "K\n",
      "L\n",
      "M\n",
      "N\n",
      "O\n",
      "P\n",
      "Q\n",
      "R\n",
      "S\n",
      "T\n",
      "U\n",
      "V\n",
      "W\n",
      "X\n",
      "Y\n",
      "Z\n"
     ]
    }
   ],
   "source": [
    "ord('A')\n",
    "for i in range(26):\n",
    "    print(chr(ord('A') + i))"
   ]
  },
  {
   "cell_type": "code",
   "execution_count": 79,
   "metadata": {},
   "outputs": [
    {
     "data": {
      "text/plain": [
       "'B'"
      ]
     },
     "execution_count": 79,
     "metadata": {},
     "output_type": "execute_result"
    }
   ],
   "source": [
    "chr(ord('A') + 1)"
   ]
  }
 ],
 "metadata": {
  "kernelspec": {
   "display_name": "Python 3.6.13 ('survtrace')",
   "language": "python",
   "name": "python3"
  },
  "language_info": {
   "codemirror_mode": {
    "name": "ipython",
    "version": 3
   },
   "file_extension": ".py",
   "mimetype": "text/x-python",
   "name": "python",
   "nbconvert_exporter": "python",
   "pygments_lexer": "ipython3",
   "version": "3.6.13"
  },
  "orig_nbformat": 4,
  "vscode": {
   "interpreter": {
    "hash": "7350660d3aac55fe8c4b8dcc925e909d6449502b265d5ee80d6d6f39ced54ac7"
   }
  }
 },
 "nbformat": 4,
 "nbformat_minor": 2
}
