{
 "cells": [
  {
   "cell_type": "markdown",
   "metadata": {},
   "source": [
    "# Strings\n",
    "- A string is like a special kind of array but is immutable\n",
    "\n",
    "## Tips\n",
    "- Similar to arrays, string problems often have simple brute-force solutions that use $O(n)$ space, but subtler solutions that use the string itself to **reduce the complexit** to $O(1)$\n",
    "- Understand the **implications** of a string type which is **immutable**, e.g., the need to allocate a new string when concatenating immutable strings. Know **alternatives** to immutable strings, e.g., a **list** in Python\n",
    "- Updating a mutable string from the font is slow, so see if it's possible to **write values from the back**\n",
    "- indexing works the same as lists"
   ]
  },
  {
   "cell_type": "code",
   "execution_count": 39,
   "metadata": {},
   "outputs": [],
   "source": [
    "from typing import List, Iterator, Tuple\n",
    "import bisect\n",
    "import collections\n",
    "import math\n",
    "import functools\n",
    "import random\n",
    "\n",
    "from utils import run_tests"
   ]
  },
  {
   "cell_type": "markdown",
   "metadata": {},
   "source": [
    "## Libraries"
   ]
  },
  {
   "cell_type": "code",
   "execution_count": 14,
   "metadata": {},
   "outputs": [
    {
     "name": "stdout",
     "output_type": "stream",
     "text": [
      "The cow jumped over the moon\n",
      "The moon is made of cheese\n",
      "\n",
      "s.startswith(\"The\"):        True\n",
      "\n",
      "s.endswith((\"moo\", \"moon\"): True\n",
      "\n",
      "s + t:                      The cow jumped over the moonThe moon is made of cheese\n",
      "\n",
      " ['the', 'cat', 'and', 'the', 'hat']\n",
      "\" \".join(strings):            the cat and the hat\n"
     ]
    }
   ],
   "source": [
    "s = 'The cow jumped over the moon'\n",
    "t = 'The moon is made of cheese'\n",
    "print(s)\n",
    "print(t)\n",
    "\n",
    "print('\\ns.startswith(\"The\"):       ', s.startswith(\"The\"))\n",
    "\n",
    "print('\\ns.endswith((\"moo\", \"moon\"):', s.endswith((\"moo\", \"moon\")))     # tuple of string to try\n",
    "\n",
    "print('\\ns + t:                     ', s + t)\n",
    "\n",
    "strings = ['the', 'cat', 'and', 'the', 'hat']\n",
    "print('\\n', strings)\n",
    "print('\" \".join(strings):           ' , \" \".join(strings))"
   ]
  },
  {
   "cell_type": "markdown",
   "metadata": {},
   "source": [
    "### Is Palindrome?\n",
    "A palindrome is a string the reads the same forwards and backwards.  \n",
    "Key to optimal solution is to traverse string forward and backwards to simultaneously"
   ]
  },
  {
   "cell_type": "code",
   "execution_count": 17,
   "metadata": {},
   "outputs": [],
   "source": [
    "def is_palindrome(s: str) -> bool:\n",
    "    # note: ~i = -(i+1)\n",
    "    return all(s[i] == s[~i] for i in range(len(s) // 2))\n",
    "\n",
    "inputs, outputs = ('cat', 'aabbaa', 'aba', 'abca'), (False, True, True, False)\n",
    "run_tests(is_palindrome, inputs, outputs)"
   ]
  },
  {
   "cell_type": "markdown",
   "metadata": {},
   "source": [
    "Time complexity is $O(n)$ and space complexity $O(1)$"
   ]
  },
  {
   "cell_type": "markdown",
   "metadata": {},
   "source": [
    "### Interconvert Strings and Integers"
   ]
  },
  {
   "cell_type": "code",
   "execution_count": 43,
   "metadata": {},
   "outputs": [],
   "source": [
    "def int_to_string(num: int) -> str:\n",
    "\n",
    "    if num < 0:\n",
    "        is_negative, num = True, abs(num)\n",
    "    else:\n",
    "        is_negative = False\n",
    "    \n",
    "    digits = []\n",
    "    # process one digit at a time\n",
    "    # processing digits in reverse order\n",
    "    while True:\n",
    "        num, digit = num // 10, num % 10\n",
    "        digits.append(chr(ord('0') + digit))   # get code 0, add digit, then convert to character\n",
    "        if num == 0:\n",
    "            break\n",
    "\n",
    "    if is_negative:\n",
    "        digits.append('-')\n",
    "\n",
    "    return ''.join(reversed(digits))\n",
    "\n",
    "\n",
    "# sould be able to handle '314', '+314' or '-314'\n",
    "def string_to_int(s: str) -> int:\n",
    "    string_digits = {s:d for s, d, in zip(['0', '1', '2', '3', '4', '5', '6', '7', '8', '9'], range(10))}\n",
    "\n",
    "    sign = -1 if s[0] == '-' else 1\n",
    "\n",
    "    running_sum = 0\n",
    "    for i in s[s[0] in '+-':]:             # this skips first entry if has symbol\n",
    "        running_sum = running_sum * 10 + string_digits[i]  # mutliplying by 10 shift place value to left\n",
    "\n",
    "    return sign * running_sum\n",
    "\n",
    "\n",
    "def string_to_int_v2(s: str) -> int:\n",
    "    string_digits = {s:d for s, d, in zip(['0', '1', '2', '3', '4', '5', '6', '7', '8', '9'], range(10))}\n",
    "    return (-1 if s[0] == '-' else 1) * functools.reduce(\n",
    "        lambda running_sum, c: running_sum * 10 + string_digits[c],\n",
    "        s[s[0] in '+-':], 0\n",
    "    )\n",
    "\n",
    "inputs, outputs = (123, -123, 4, -4, 0), ('123', '-123', '4', '-4', '0')\n",
    "run_tests(int_to_string, inputs, outputs)\n",
    "\n",
    "inputs, outputs = ('123', '-123', '+123', '4', '-4', '+4', '0'), (123, -123, 123, 4, -4, 4, 0)\n",
    "run_tests(string_to_int, inputs, outputs)\n",
    "\n",
    "run_tests(string_to_int_v2, inputs, outputs)"
   ]
  },
  {
   "cell_type": "code",
   "execution_count": 28,
   "metadata": {},
   "outputs": [
    {
     "name": "stdout",
     "output_type": "stream",
     "text": [
      "ord(\"0\") - returns Unicode code point one-character string,      e.g.: 48\n",
      "chr(ord(\"0\")) - returns Unicode string for one-character string, e.g.: 0\n",
      "ord(\"0\") + 5:      53\n",
      "chr(ord(\"0\") + 5): 5\n"
     ]
    }
   ],
   "source": [
    "print('ord(\"0\") - returns Unicode code point one-character string,      e.g.:',  ord('0'))\n",
    "print('chr(ord(\"0\")) - returns Unicode string for one-character string, e.g.:',  chr(ord('0')))\n",
    "print('ord(\"0\") + 5:     ',  ord('0') + 5)\n",
    "print('chr(ord(\"0\") + 5):',  chr(ord('0') + 5))\n"
   ]
  },
  {
   "cell_type": "code",
   "execution_count": 31,
   "metadata": {},
   "outputs": [
    {
     "data": {
      "text/plain": [
       "{'0': 0,\n",
       " '1': 1,\n",
       " '2': 2,\n",
       " '3': 3,\n",
       " '4': 4,\n",
       " '5': 5,\n",
       " '6': 6,\n",
       " '7': 7,\n",
       " '8': 8,\n",
       " '9': 9}"
      ]
     },
     "execution_count": 31,
     "metadata": {},
     "output_type": "execute_result"
    }
   ],
   "source": [
    "{s:d for s, d, in zip(['0', '1', '2', '3', '4', '5', '6', '7', '8', '9'], range(10))}"
   ]
  },
  {
   "cell_type": "markdown",
   "metadata": {},
   "source": [
    "### Base Conversion:\n"
   ]
  }
 ],
 "metadata": {
  "kernelspec": {
   "display_name": "Python 3.6.13 ('survtrace')",
   "language": "python",
   "name": "python3"
  },
  "language_info": {
   "codemirror_mode": {
    "name": "ipython",
    "version": 3
   },
   "file_extension": ".py",
   "mimetype": "text/x-python",
   "name": "python",
   "nbconvert_exporter": "python",
   "pygments_lexer": "ipython3",
   "version": "3.6.13"
  },
  "orig_nbformat": 4,
  "vscode": {
   "interpreter": {
    "hash": "7350660d3aac55fe8c4b8dcc925e909d6449502b265d5ee80d6d6f39ced54ac7"
   }
  }
 },
 "nbformat": 4,
 "nbformat_minor": 2
}
