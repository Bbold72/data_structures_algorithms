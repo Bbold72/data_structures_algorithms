{
 "cells": [
  {
   "cell_type": "markdown",
   "metadata": {},
   "source": [
    "# Searching\n",
    "Search alglirthms can be classified in a number of different ways:\n",
    "- static or dynamic, i.e., inserts and deletes are interleaved with searching\n",
    "- is it worth the computational cost to preprocess the data so as to speed up subsequent queries?\n",
    "- are there statistical properties of the data that can be exploited?\n",
    "- should we operate on the data directly or transform it?   \n",
    "\n",
    "Section covers static data stored in a sorted array\n"
   ]
  },
  {
   "cell_type": "code",
   "execution_count": 19,
   "metadata": {},
   "outputs": [],
   "source": [
    "import bisect\n",
    "import collections\n",
    "import math\n",
    "from typing import Callable, List, Tuple\n",
    "\n",
    "from utils import run_tests"
   ]
  },
  {
   "cell_type": "markdown",
   "metadata": {},
   "source": [
    "## Binary Search\n",
    "The idea is to eliminate half the keys under consideration by keeping keys in sorted order. If the search key is not equal to the middle element of the array, one of the two sets of keys to the left or righ of the middle element can be eliminated from further considerations. \n",
    "\n",
    "Time complexity is $T(n) = T(n/2) + c = O(\\log n)$   \n",
    "$O(n)$ if array is unsorted   \n",
    "One disadvantage is that it takes $O(n\\log n)$ time to sort but this is not an issue if there are many searches to be performed on the array\n",
    "\n",
    "## Tips\n",
    "- **Binary search** is an effective search tool. It is applicable to more than just searching in **sorted arrays**, e.g., it can be used to sarch an **interval of real numbers or integers**\n",
    "- If your solution uses sorting, and the computation performed after sorting is faster than sorting, e.g. $O(n)$ or $O(\\log n)$, **look for solutions that do not perform a complete sort**\n",
    "- Consider **time/space tradeoffs**, such as making multiple passes through the data. "
   ]
  },
  {
   "cell_type": "code",
   "execution_count": 16,
   "metadata": {},
   "outputs": [
    {
     "name": "stdout",
     "output_type": "stream",
     "text": [
      "5\n",
      "-1\n",
      "4\n"
     ]
    }
   ],
   "source": [
    "def binary_search(x: int, A: List[int]) -> int:\n",
    "    L, U = 0, len(A) - 1    # lower and upper bounds respectively\n",
    "\n",
    "\n",
    "    while L <= U:\n",
    "        # this can cause overflow issues\n",
    "        # could replace with M = L + (U - L) // 2\n",
    "        M = (L + U) // 2        # midpoint \n",
    "\n",
    "        if A[M] == x:\n",
    "            return M \n",
    "    \n",
    "        # search upper half\n",
    "        elif A[M] < x:     \n",
    "            L = M + 1\n",
    "\n",
    "        # search lower half\n",
    "        else: \n",
    "            U = M - 1         \n",
    "    \n",
    "    # value not in array\n",
    "    return -1\n",
    "\n",
    "\n",
    "A = list(range(10))\n",
    "print(binary_search(5, A))\n",
    "print(binary_search(20, A))\n",
    "A = [1, 4, 5, 10, 11, 30, 45]\n",
    "print(binary_search(11, A))"
   ]
  },
  {
   "cell_type": "code",
   "execution_count": 4,
   "metadata": {},
   "outputs": [
    {
     "name": "stdout",
     "output_type": "stream",
     "text": [
      "5\n",
      "-1\n",
      "4\n"
     ]
    }
   ],
   "source": [
    "def binary_search_recursive(x: int, A: List[int]) -> int:\n",
    "    L, U = 0, len(A) - 1    # lower and upper bounds respectively\n",
    "\n",
    "    M = (L + U) // 2        # midpoint \n",
    "\n",
    "    if A[M] == x:\n",
    "        return M \n",
    "\n",
    "    # search upper half\n",
    "    elif A[M] < x:     \n",
    "        L = M + 1\n",
    "        if L > U:\n",
    "            return -1\n",
    "        else:\n",
    "            binary_search(x, A[L:])\n",
    "\n",
    "    # search lower half\n",
    "    else: \n",
    "        U = M - 1      \n",
    "        if U > L:\n",
    "            return -1\n",
    "        else:\n",
    "            binary_search(x, A[:U+1])\n",
    "    \n",
    "\n",
    "\n",
    "A = list(range(10))\n",
    "print(binary_search(5, A))\n",
    "print(binary_search(20, A))\n",
    "A = [1, 4, 5, 10, 11, 30, 45]\n",
    "print(binary_search(11, A))"
   ]
  },
  {
   "cell_type": "markdown",
   "metadata": {},
   "source": [
    "## Libraries\n",
    "bisect module"
   ]
  },
  {
   "cell_type": "code",
   "execution_count": 5,
   "metadata": {},
   "outputs": [
    {
     "name": "stdout",
     "output_type": "stream",
     "text": [
      "bisect search: 5\n",
      "bisect left: 4\n",
      "bisect right: 5\n"
     ]
    }
   ],
   "source": [
    "# binary search algorithm\n",
    "# Note: returns index of where to insert element, i.e., one plus above solution\n",
    "print('bisect search:', bisect.bisect(A, 11))\n",
    "\n",
    "# find first element not less than target\n",
    "print('bisect left:', bisect.bisect_left(A, 11))\n",
    "\n",
    "# find first element that is greater than target\n",
    "print('bisect right:', bisect.bisect_right(A, 11))"
   ]
  },
  {
   "cell_type": "code",
   "execution_count": null,
   "metadata": {},
   "outputs": [],
   "source": [
    "Student = collections.namedtuple('Student', ('name', 'gpa'))\n",
    "\n",
    "def comp_gpa(student: Student) -> Tuple[float, str]:\n",
    "    return (-student.gpa, student.name)\n",
    "\n",
    "def search_student(students: List[Student], target: Student, comp_gpa: Callable[[Student], Tuple[float, str]]):\n",
    "    i = bisect.bisect_left([comp_gpa(s) for s in students], comp_gpa(target))\n",
    "    return 0 <= i < len(students) and students[i] == target"
   ]
  },
  {
   "cell_type": "markdown",
   "metadata": {},
   "source": [
    "### 11.1: Return *first* index equal to specified element"
   ]
  },
  {
   "cell_type": "code",
   "execution_count": 6,
   "metadata": {},
   "outputs": [],
   "source": [
    "def search_first_k(A: List[int], x: int) -> int:\n",
    "    L, U, result = 0, len(A) - 1, -1\n",
    "\n",
    "    while L <= U:\n",
    "        M = (L + U) // 2\n",
    "        if A[M] == x:\n",
    "            result = M \n",
    "            U = M - 1    # nothing to right of M can be solution\n",
    "        elif A[M] < x:   # search upper half\n",
    "            L = M + 1\n",
    "        else:            # search lower half\n",
    "            U = M - 1\n",
    "    \n",
    "    return result\n",
    "\n",
    "A = [-14, -10, 2, 108, 108, 243, 285, 285, 285, 401]\n",
    "assert search_first_k(A, 108) == 3\n",
    "assert search_first_k(A, 285) == 6"
   ]
  },
  {
   "cell_type": "markdown",
   "metadata": {},
   "source": [
    "Time complexity $(\\log n)$ since each iteration reduces the sizee of the candidate set by half"
   ]
  },
  {
   "cell_type": "markdown",
   "metadata": {},
   "source": [
    "#### Variant: Find *first* occurence of element greater than key"
   ]
  },
  {
   "cell_type": "code",
   "execution_count": 7,
   "metadata": {},
   "outputs": [],
   "source": [
    "def search_first_greater_k(A: List[int], x: int) -> int:\n",
    "    L, U, result = 0, len(A) - 1, -1\n",
    "\n",
    "    while L <= U:\n",
    "        M = (L + U) // 2\n",
    "        if A[M] <= x:   # search upper half\n",
    "            L = M + 1\n",
    "        # A[m] > x\n",
    "        else:            # search lower half\n",
    "            result = M \n",
    "            U = M - 1    # nothing to right of M can be solution\n",
    "    \n",
    "    return result\n",
    "\n",
    "assert search_first_greater_k(A, 108) == 5\n",
    "assert search_first_greater_k(A, 285) == 9\n",
    "assert search_first_greater_k(A, -13) == 1"
   ]
  },
  {
   "cell_type": "markdown",
   "metadata": {},
   "source": [
    "#### Variant: Unsorted Array"
   ]
  },
  {
   "cell_type": "markdown",
   "metadata": {},
   "source": [
    "#### Variant: Return interval enclosing key, i.e. all values equal to key"
   ]
  },
  {
   "cell_type": "code",
   "execution_count": 8,
   "metadata": {},
   "outputs": [],
   "source": [
    "def search_all_k(A: List[int], x: int) -> int:\n",
    "    L, U, result = 0, len(A) - 1, [-1, -1]\n",
    "\n",
    "    while L <= U:\n",
    "        M = (L + U) // 2\n",
    "        if A[M] == x:\n",
    "            \n",
    "            start_idx = end_idx = M\n",
    "\n",
    "            # search to left of M\n",
    "            while start_idx - 1 >= 0 and A[start_idx - 1] == x:\n",
    "                start_idx -= 1\n",
    "            \n",
    "            # search to right of M\n",
    "            while end_idx + 1 <= len(A) and A[end_idx + 1] == x:\n",
    "                end_idx += 1\n",
    "\n",
    "            result[0], result[1] = start_idx, end_idx\n",
    "            return result\n",
    "\n",
    "        elif A[M] < x:   # search upper half\n",
    "            L = M + 1\n",
    "        else:            # search lower half\n",
    "            U = M - 1\n",
    "    \n",
    "    return result\n",
    "\n",
    "A = [1, 2, 2, 4, 4, 4, 7, 11, 11, 13]\n",
    "assert search_all_k(A, 11) == [7, 8]\n",
    "assert search_all_k(A, 2) == [1, 2]\n",
    "assert search_all_k(A, 4) == [3, 5]\n",
    "assert search_all_k(A, 7) == [6, 6]\n",
    "assert search_all_k(A, 5) == [-1, -1]"
   ]
  },
  {
   "cell_type": "markdown",
   "metadata": {},
   "source": [
    "#### Variant: Write a program which tests if *p* is a prefix of a string in an array of sorted strings"
   ]
  },
  {
   "cell_type": "markdown",
   "metadata": {},
   "source": [
    "### 11.2: Search a sorted array of distinct integers for entry equal to its index"
   ]
  },
  {
   "cell_type": "code",
   "execution_count": 9,
   "metadata": {},
   "outputs": [
    {
     "name": "stdout",
     "output_type": "stream",
     "text": [
      "3\n",
      "2\n"
     ]
    }
   ],
   "source": [
    "def search_entry_equal_to_index(A: List[int]) -> int:\n",
    "    L, U = 0, len(A) - 1\n",
    "\n",
    "    while L <= U:\n",
    "        M = (L + U) // 2\n",
    "\n",
    "        if A[M] == M:\n",
    "            return M\n",
    "        elif A[M] > M: # value greater than index so know all values to right will be greater than index\n",
    "            U = M - 1\n",
    "        else:          # value less than index\n",
    "            L = M + 1\n",
    "    return -1\n",
    "\n",
    "A = [-2, 0, 2, 3, 6, 7, 9]\n",
    "print(search_entry_equal_to_index(A))\n",
    "A = [-2, 0, 2, 4, 5, 9]\n",
    "print(search_entry_equal_to_index(A))"
   ]
  },
  {
   "cell_type": "markdown",
   "metadata": {},
   "source": [
    "Time complexity $(\\log n)$"
   ]
  },
  {
   "cell_type": "markdown",
   "metadata": {},
   "source": [
    "#### Variant: Search a sorted array of integers with duplicates for entry equal to its index\n",
    "- if $A[M] < M$ search to right of M\n",
    "- if $A[M] > len(A)$ search to right\n",
    "- if $A[M] > M and A[m] < len(A)$ need to search both sides"
   ]
  },
  {
   "cell_type": "markdown",
   "metadata": {},
   "source": [
    "### 11.3: Search a cyclically sorted array for minimum\n",
    "an array is cyclically sorted if it is possible to cyclically shift its entries s.t. the array is sorted\n",
    "\n",
    "e.g. $[70, 85, 100, 120, 20, 30, 34, 50, 68]$"
   ]
  },
  {
   "cell_type": "code",
   "execution_count": 10,
   "metadata": {},
   "outputs": [],
   "source": [
    "# assume unique integers in array\n",
    "def search_min_cyclic_array(A: List[int]) -> int:\n",
    "    L, U = 0, len(A) - 1\n",
    "\n",
    "    while L < U:\n",
    "        M = (L + U) // 2\n",
    "        if A[M] < A[U]:   # minimum cannot be in A[M+1, U]\n",
    "            U = M\n",
    "        # A[M] > A[U]\n",
    "        else:             # minimum cannot be in A[:, M]\n",
    "            L = M + 1\n",
    "    \n",
    "    # L == U\n",
    "    return L\n",
    "\n",
    "assert search_min_cyclic_array([70, 85, 100, 120, 20, 30, 34, 50, 68]) == 4"
   ]
  },
  {
   "cell_type": "markdown",
   "metadata": {},
   "source": [
    "Time complexity $(\\log n)$.\n",
    "Time complexity is $(n)$ if elements can repeat"
   ]
  },
  {
   "cell_type": "markdown",
   "metadata": {},
   "source": [
    "### Variant: Find maximum in strictly ascending then strictly descending array\n",
    "e.g. $[1, 2, 3, 5, 7, 8, 4, 2]$"
   ]
  },
  {
   "cell_type": "code",
   "execution_count": 11,
   "metadata": {},
   "outputs": [],
   "source": [
    "def search_max_asc_desc_array(A: List[int]) -> int:\n",
    "    L, U = 0, len(A) - 1\n",
    "\n",
    "    while L < U:\n",
    "        M = (L + U) // 2\n",
    "        if A[M] < A[M+1]:   # still ascending to the right of M\n",
    "            L = M + 1\n",
    "        # A[M] > A[M+1]     # descending to right of M\n",
    "        else:\n",
    "            U = M\n",
    "    \n",
    "    # L == U \n",
    "    return L\n",
    "\n",
    "assert search_max_asc_desc_array([1, 2, 3, 5, 7, 8, 4, 2]) == 5\n",
    "assert search_max_asc_desc_array([1, 2, 3, 5, 7, 8, 4, 2, 1]) == 5\n",
    "assert search_max_asc_desc_array([1, 100, 95, 80]) == 1"
   ]
  },
  {
   "cell_type": "markdown",
   "metadata": {},
   "source": [
    "#### Variant: Search a cyclically sorted array for key"
   ]
  },
  {
   "cell_type": "markdown",
   "metadata": {},
   "source": [
    "### 11.4: Compute the integer squre root\n",
    "e.g. $\\sqrt{16} = 4$  and $\\sqrt{300} = 17$ because $17^2 = 289 < 300$ and $18^2 = 324 > 300$"
   ]
  },
  {
   "cell_type": "code",
   "execution_count": 12,
   "metadata": {},
   "outputs": [],
   "source": [
    "def integer_square_root(x: int) -> int:\n",
    "    L, U = 0, x \n",
    "\n",
    "    # careful with the bounds especially for when integer square exists\n",
    "    while L <= U:\n",
    "        M = (L + U) // 2\n",
    "        square = M * M\n",
    "\n",
    "        if square > x:\n",
    "            U = M - 1\n",
    "        else:\n",
    "            L = M + 1\n",
    "   \n",
    "\n",
    "    return L - 1\n",
    "\n",
    "assert integer_square_root(16) == 4\n",
    "assert integer_square_root(100) == 10\n",
    "assert integer_square_root(120) == 10\n",
    "assert integer_square_root(300) == 17"
   ]
  },
  {
   "cell_type": "markdown",
   "metadata": {},
   "source": [
    "### 11.5 Compute Square Root"
   ]
  },
  {
   "cell_type": "code",
   "execution_count": 13,
   "metadata": {},
   "outputs": [
    {
     "name": "stdout",
     "output_type": "stream",
     "text": [
      "9.999999997380655\n",
      "3.999999999301508\n",
      "17.320508067845367\n"
     ]
    }
   ],
   "source": [
    "def square_root(x: int) -> float:\n",
    "\n",
    "    # decide the search range according to x's value relative to 1.0\n",
    "    L, U = (1.0, x) if x >= 1 else (x, 1.0)\n",
    "\n",
    "    while not math.isclose(L, U):\n",
    "        M = (L + U) * 0.5\n",
    "        square = M * M\n",
    "        if square < x:\n",
    "            L = M \n",
    "        else:\n",
    "            U = M \n",
    "\n",
    "    return L\n",
    "\n",
    "print(square_root(100))\n",
    "print(square_root(16))\n",
    "print(square_root(300))"
   ]
  },
  {
   "cell_type": "markdown",
   "metadata": {},
   "source": [
    "Time complexity is $O(\\log \\frac{x}{s})$ where $s$ is the tolerance"
   ]
  },
  {
   "cell_type": "markdown",
   "metadata": {},
   "source": [
    "## Generalized Search\n",
    "Do not use the binary search principle. Focus on tradeoffs between RAM and computation time, avoid wasted comparisions when searching for the minimum and maximum simultaneously, use randomization to perform elimination efficiently, use bit-level manipulation to identify missing elements, ect."
   ]
  },
  {
   "cell_type": "markdown",
   "metadata": {},
   "source": [
    "### 11.6: Search in a 2D Sorted Array\n",
    "A 2D array is sorted if botuh its rows and column are non-decreasing"
   ]
  },
  {
   "cell_type": "code",
   "execution_count": 15,
   "metadata": {},
   "outputs": [],
   "source": [
    "def search_k_2d(A: List[List[int]], k) -> True:\n",
    "\n",
    "    # start in upper-right corner\n",
    "    row, col = 0, len(A[0]) - 1\n",
    "\n",
    "    while row < len(A) and col >= 0:\n",
    "\n",
    "        if A[row][col] == k:\n",
    "            return True\n",
    "        elif A[row][col] < k:  # eliminate row\n",
    "            row += 1\n",
    "        else:                  # A[row][col] > k\n",
    "            col -= 1           # eliminate column\n",
    "    \n",
    "    # key not found\n",
    "    return False\n",
    "\n",
    "\n",
    "A = [\n",
    "        [-1, 2, 4, 4, 6],\n",
    "        [1, 5, 5, 9, 21],\n",
    "        [3, 6, 6, 9, 22],\n",
    "        [3, 6, 8, 10, 24],\n",
    "        [6, 8, 9, 12, 25],\n",
    "        [8, 10, 12, 13, 40]\n",
    "    ]\n",
    "\n",
    "assert search_k_2d(A, 8) == True\n",
    "assert search_k_2d(A, 7) == False\n",
    "assert search_k_2d(A, 6) == True\n",
    "assert search_k_2d(A, 40) == True\n",
    "assert search_k_2d(A, -1) == True"
   ]
  },
  {
   "cell_type": "markdown",
   "metadata": {},
   "source": [
    "Time complexity is $O(m + n)$ since eliminate row or column at every iteration"
   ]
  },
  {
   "cell_type": "markdown",
   "metadata": {},
   "source": [
    "### 11.7: "
   ]
  }
 ],
 "metadata": {
  "kernelspec": {
   "display_name": "Python 3.10.6 ('data-structures-algorithms')",
   "language": "python",
   "name": "python3"
  },
  "language_info": {
   "codemirror_mode": {
    "name": "ipython",
    "version": 3
   },
   "file_extension": ".py",
   "mimetype": "text/x-python",
   "name": "python",
   "nbconvert_exporter": "python",
   "pygments_lexer": "ipython3",
   "version": "3.10.6"
  },
  "orig_nbformat": 4,
  "vscode": {
   "interpreter": {
    "hash": "893eabf024544e5e4ccd37f92d923a15afaa2331429d096efe9b57dc3359fd4e"
   }
  }
 },
 "nbformat": 4,
 "nbformat_minor": 2
}
