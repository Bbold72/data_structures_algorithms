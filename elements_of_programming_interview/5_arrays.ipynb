{
 "cells": [
  {
   "attachments": {},
   "cell_type": "markdown",
   "metadata": {},
   "source": [
    "# Arrays\n",
    "- contiguous block of memory\n",
    "- retreiving/updating: O(1)\n",
    "- insertion: amoritized O(1) since resizing infrequent\n",
    "- deletion: O(n-index) since have to shift elements\n",
    "- resizing: \n",
    "\n",
    "## Tips\n",
    "- Array problems often have simple brute-force solutions that use $O(n)$ space, but there are solutions that **use the array itself to reduce space** complexity to $O(1)$\n",
    "- Filling an array from the front is slow, so see if it is possible to **write the values from the back**\n",
    "- Instead of deleting an entry (which requires moving all entries to its left), consider **overwriting** it\n",
    "- When dealing with integers encoded by an array, consider **processing the digits from the back** of the array. Alternatively, reverse the array so that the **least-significant digit is the first entry**\n",
    "- Be comfortable with writing code that operates on subarrays\n",
    "- It's easy to make **off-by-1** errors\n",
    "- Don't worry about preserving the integrity of the array (sortedness, keeping equal entries together) until its time to return\n",
    "- When operating on 2D arrays, **use parallel logic** for rows and columns\n",
    "- Sometimes it's easier to **simulate the specification**, than to analytically solve for the result. For example, rather than writing a formula for the *i*-th entry in the spiral order for an $n\\times n$ matrix, just compute the output from the beginning.\n",
    "- An array can serve as a good data structure when you know the distribution of the elements in advance. For example, a Boolean array of length *W* is a good choice for representing a **subset of** $\\{0, 1,...,W-1\\}$.\n",
    "\n"
   ]
  },
  {
   "cell_type": "code",
   "execution_count": 1,
   "metadata": {},
   "outputs": [],
   "source": [
    "from typing import List, Iterator, Tuple\n",
    "import bisect\n",
    "import collections\n",
    "import itertools\n",
    "import math\n",
    "import random"
   ]
  },
  {
   "cell_type": "markdown",
   "metadata": {},
   "source": [
    "## Libraries"
   ]
  },
  {
   "cell_type": "code",
   "execution_count": 2,
   "metadata": {},
   "outputs": [
    {
     "name": "stdout",
     "output_type": "stream",
     "text": [
      "Instantiating a List:\n",
      "[1] + [0]*10    -> [1, 0, 0, 0, 0, 0, 0, 0, 0, 0]\n",
      "list(range(10)) -> [0, 1, 2, 3, 4, 5, 6, 7, 8, 9]\n",
      "\n",
      "List Methods:\n",
      "A               -> [0, 1, 2, 3, 4]\n",
      "len(A)          -> 5\n",
      "A.append(13)    -> [0, 1, 2, 3, 4, 13]\n",
      "A.remove(2)     -> [0, 1, 3, 4, 13]\n",
      "A.insert(4, -5) -> [0, 1, 3, 4, -5, 13]\n",
      "\n",
      "Instantiating 2D Arrays:\n",
      "[[1, 2, 3], [4, 5, 6], [7, 8, 9]]\n",
      "[[1, 2, 3], [4, 5], [6]]\n"
     ]
    }
   ],
   "source": [
    "print('Instantiating a List:')\n",
    "print('[1] + [0]*10    ->', [1] + [0]*9)\n",
    "print('list(range(10)) ->', list(range(10)))\n",
    "\n",
    "\n",
    "print('\\nList Methods:')\n",
    "A = list(range(5))\n",
    "print('A               ->', A)\n",
    "\n",
    "print('len(A)          ->', len(A))\n",
    "\n",
    "A.append(13)\n",
    "print('A.append(13)    ->', A)\n",
    "\n",
    "A.remove(2)\n",
    "print('A.remove(2)     ->', A)\n",
    "\n",
    "A.insert(4, -5)                # index, object\n",
    "# like putting to left of index in old Array\n",
    "# index parameter is index in new array\n",
    "print('A.insert(4, -5) ->', A) \n",
    "\n",
    "\n",
    "print('\\nInstantiating 2D Arrays:')\n",
    "print([[1, 2, 3], [4, 5, 6], [7, 8, 9]])  # makes rows first\n",
    "print([[1, 2, 3], [4, 5], [6]])\n"
   ]
  },
  {
   "attachments": {},
   "cell_type": "markdown",
   "metadata": {},
   "source": [
    "### Even-Odd Array\n",
    "sort an array s.t. the elements at the front are even"
   ]
  },
  {
   "cell_type": "code",
   "execution_count": 3,
   "metadata": {},
   "outputs": [
    {
     "name": "stdout",
     "output_type": "stream",
     "text": [
      "[4, 2, 3, 1, 5]\n",
      "[2, 2, 4, 4, 4, 7, 3, 5, 5, 3, 1]\n"
     ]
    }
   ],
   "source": [
    "def even_odd_array(A: List[int]) -> List[int]:\n",
    "    i, j = 0, len(A) - 1\n",
    "    i_odd, j_even = False, False\n",
    "\n",
    "    while i < j:           # cannot be != because since increment indexes simultaneosuly, possible to jump over each other\n",
    "        if A[i] % 2 == 0:  # if even, then number already in right spot\n",
    "            i += 1\n",
    "        else:\n",
    "            i_odd = True\n",
    "        if A[j] % 2 == 1:  # if odd, then number already in right spot\n",
    "            j -= 1\n",
    "        else:\n",
    "            j_even = True \n",
    "        if i_odd and j_even:   # only need to exchange when odd-even\n",
    "            A[j], A[i] = A[i], A[j]\n",
    "            i_odd, j_even = False, False\n",
    "            i += 1\n",
    "            j -= 1\n",
    "    \n",
    "\n",
    "A = [1, 2, 3, 4, 5]\n",
    "even_odd_array(A)\n",
    "print(A)\n",
    "A = [1, 2, 3, 4, 5, 7, 3, 4, 5, 4, 2]\n",
    "even_odd_array(A)\n",
    "print(A)"
   ]
  },
  {
   "cell_type": "code",
   "execution_count": 4,
   "metadata": {},
   "outputs": [
    {
     "name": "stdout",
     "output_type": "stream",
     "text": [
      "[4, 2, 3, 1, 5]\n",
      "[2, 2, 4, 4, 4, 7, 3, 5, 5, 3, 1]\n"
     ]
    }
   ],
   "source": [
    "def even_odd_array_v2(A: List[int]) -> None:\n",
    "    ''' \n",
    "    iterate through from front and back simultaneosly\n",
    "    '''\n",
    "    \n",
    "    # postition for next even, odd number\n",
    "    next_even, next_odd = 0, len(A) - 1\n",
    "\n",
    "    while next_even < next_odd:\n",
    "        if A[next_even] % 2 == 0:    # even number already in right place\n",
    "            next_even += 1\n",
    "        # puts odd number at end\n",
    "        else:\n",
    "            A[next_odd], A[next_even] = A[next_even], A[next_odd]\n",
    "            next_odd -= 1\n",
    "\n",
    "A = [1, 2, 3, 4, 5]\n",
    "even_odd_array(A)\n",
    "print(A)\n",
    "A = [1, 2, 3, 4, 5, 7, 3, 4, 5, 4, 2]\n",
    "even_odd_array(A)\n",
    "print(A)"
   ]
  },
  {
   "cell_type": "markdown",
   "metadata": {},
   "source": [
    "O(n) time and O(1) space complexity"
   ]
  },
  {
   "attachments": {},
   "cell_type": "markdown",
   "metadata": {},
   "source": [
    "### Tip: Looping from end of array to front"
   ]
  },
  {
   "cell_type": "code",
   "execution_count": 5,
   "metadata": {},
   "outputs": [
    {
     "name": "stdout",
     "output_type": "stream",
     "text": [
      "4\n",
      "3\n",
      "2\n",
      "1\n",
      "0\n"
     ]
    }
   ],
   "source": [
    "for i in reversed(range(5)):\n",
    "    print(i)"
   ]
  },
  {
   "cell_type": "code",
   "execution_count": 6,
   "metadata": {},
   "outputs": [
    {
     "name": "stdout",
     "output_type": "stream",
     "text": [
      "4\n",
      "3\n",
      "2\n",
      "1\n"
     ]
    }
   ],
   "source": [
    "for i in reversed(range(1, 5)):\n",
    "    print(i)"
   ]
  },
  {
   "attachments": {},
   "cell_type": "markdown",
   "metadata": {},
   "source": [
    "### 4.1: Dutch National Flag Problem\n",
    "Arrange elements of array s.t. elements less than the pivot appear at the beginning of the array, element equal to the pivot appear in the middle, and elements larger than the pivot appear at the end."
   ]
  },
  {
   "cell_type": "code",
   "execution_count": 56,
   "metadata": {},
   "outputs": [
    {
     "name": "stdout",
     "output_type": "stream",
     "text": [
      "[1, 2, 1, 3, 3, 3, 3, 5, 7, 8]\n"
     ]
    }
   ],
   "source": [
    "def dutch_flag_partition(A: List[int], pivot_index: int) -> List[int]:\n",
    "    ''' \n",
    "    use additional space\n",
    "    '''\n",
    "    pivot_value = A[pivot_index]\n",
    "    less_array, equal_array, greater_array = [], [], []\n",
    "\n",
    "    for x in A:\n",
    "        if x < pivot_value:\n",
    "            less_array.append(x)\n",
    "        elif x == pivot_value:\n",
    "            equal_array.append(x)\n",
    "        else:\n",
    "            greater_array.append(x)\n",
    "\n",
    "    return less_array + equal_array + greater_array\n",
    "\n",
    "\n",
    "A = [3, 1, 5, 2, 7, 8, 3, 1, 3, 3]\n",
    "A = dutch_flag_partition(A, 0)\n",
    "print(A)"
   ]
  },
  {
   "attachments": {},
   "cell_type": "markdown",
   "metadata": {},
   "source": [
    "$O(n)$ time and space complexity"
   ]
  },
  {
   "cell_type": "code",
   "execution_count": 8,
   "metadata": {},
   "outputs": [
    {
     "name": "stdout",
     "output_type": "stream",
     "text": [
      "[1, 2, 1, 3, 3, 3, 3, 7, 8, 5]\n"
     ]
    }
   ],
   "source": [
    "def dutch_flag_partition(A: List[int], pivot_index: int) -> None:\n",
    "    '''\n",
    "    two passes\n",
    "    '''\n",
    "    pivot = A[pivot_index]\n",
    "\n",
    "    # First pass: group elements smaller than pivot\n",
    "    for i in range(len(A)):\n",
    "        # look for a smaller element\n",
    "        for j in range(i+1, len(A)):\n",
    "            if A[j] < pivot:\n",
    "                A[i], A[j] = A[j], A[i]\n",
    "                break\n",
    "\n",
    "    # second pass: group elements larger than pivot\n",
    "    for i in reversed(range(len(A))):\n",
    "        # look for a larger element\n",
    "        for j in reversed(range(i)):\n",
    "            if A[j] > pivot:\n",
    "                A[i], A[j] = A[j], A[i]\n",
    "                break\n",
    "     \n",
    "\n",
    "A = [3, 1, 5, 2, 7, 8, 3, 1, 3, 3]\n",
    "dutch_flag_partition(A, 0)\n",
    "print(A)"
   ]
  },
  {
   "cell_type": "markdown",
   "metadata": {},
   "source": [
    "$O(n^2)$ time and $O(1)$ space complexity"
   ]
  },
  {
   "cell_type": "code",
   "execution_count": 9,
   "metadata": {},
   "outputs": [
    {
     "name": "stdout",
     "output_type": "stream",
     "text": [
      "[1, 2, 1, 3, 3, 3, 3, 7, 8, 5]\n"
     ]
    }
   ],
   "source": [
    "def dutch_flag_partition(A: List[int], pivot_index: int) -> None:\n",
    "    '''\n",
    "    make a single pass\n",
    "    '''\n",
    "    pivot = A[pivot_index]\n",
    "\n",
    "     # First pass: group elements smaller than pivot\n",
    "    smaller = 0\n",
    "    for i in range(len(A)):\n",
    "        if A[i] < pivot:\n",
    "            A[i], A[smaller] = A[smaller], A[i]\n",
    "            smaller += 1\n",
    "\n",
    "    # second pass: group elements larger than pivot\n",
    "    larger = len(A) - 1\n",
    "    for i in reversed(range(len(A))):\n",
    "        if A[i] > pivot:\n",
    "            A[i], A[larger] = A[larger], A[i]\n",
    "            larger -= 1\n",
    "\n",
    "A = [3, 1, 5, 2, 7, 8, 3, 1, 3, 3]\n",
    "dutch_flag_partition(A, 0)\n",
    "print(A)"
   ]
  },
  {
   "cell_type": "markdown",
   "metadata": {},
   "source": [
    "$O(n)$ time and $O(1)$ space complexity"
   ]
  },
  {
   "cell_type": "code",
   "execution_count": 57,
   "metadata": {},
   "outputs": [
    {
     "name": "stdout",
     "output_type": "stream",
     "text": [
      "[1, 2, 1, 3, 3, 3, 3, 8, 7, 5]\n"
     ]
    }
   ],
   "source": [
    "def dutch_flag_partition(A: List[int], pivot_index: int) -> None:\n",
    "    ''' \n",
    "    only iterate through array once by maintaining four subarray:\n",
    "    less than pivot, equal to pivot, unclassified, greater than pivot\n",
    "    '''\n",
    "    pivot_value = A[pivot_index]\n",
    "\n",
    "    # less_idx - everything to left is smaller than pivot\n",
    "    # greater_idx - everyting to right is larger than pivot\n",
    "    # equal_idx - [less_idx, equal_idx) is equal to pivot\n",
    "    less_idx, equal_idx, greater_idx = 0, 0, len(A) - 1\n",
    "\n",
    "    while equal_idx < greater_idx:\n",
    "        if A[equal_idx] < pivot_value:\n",
    "            A[less_idx], A[equal_idx] = A[equal_idx], A[less_idx]\n",
    "            less_idx += 1\n",
    "            equal_idx += 1\n",
    "        elif A[equal_idx] == pivot_value:\n",
    "            equal_idx += 1\n",
    "        else:  # larger than pivot \n",
    "            A[equal_idx], A[greater_idx] = A[greater_idx], A[equal_idx]\n",
    "            greater_idx -= 1\n",
    "\n",
    "A = [3, 1, 5, 2, 7, 8, 3, 1, 3, 3]\n",
    "dutch_flag_partition(A, 0)\n",
    "print(A)"
   ]
  },
  {
   "attachments": {},
   "cell_type": "markdown",
   "metadata": {},
   "source": [
    "$O(n)$ time and $O(1)$ space complexity"
   ]
  },
  {
   "attachments": {},
   "cell_type": "markdown",
   "metadata": {},
   "source": [
    "#### Variant 4.1.A: \n",
    "Reorder Array that has three distinct values s.t. the values group together"
   ]
  },
  {
   "cell_type": "code",
   "execution_count": 62,
   "metadata": {},
   "outputs": [
    {
     "name": "stdout",
     "output_type": "stream",
     "text": [
      "[3, 3, 3, 3, 1, 1, 1, 2, 2, 2]\n",
      "[3, 3, 3, 3, 2, 2, 1, 1, 1]\n"
     ]
    }
   ],
   "source": [
    "def group_3_distinct(A: List[int]) -> None:\n",
    "    ''' \n",
    "    only iterate through array once by maintaining four subarray:\n",
    "    less than pivot, equal to pivot, unclassified, greater than pivot\n",
    "    '''\n",
    "    # g1_idx - everything to left is equal to g1_val\n",
    "    # g3_idx - everyting to right is not equal to g1_val and g2_val\n",
    "    # g1_idx - [less_idx, equal_idx) is equal to gt_val\n",
    "    g1_idx = 0\n",
    "    g1_val = A[g1_idx]\n",
    "    # find next value not equal to g1\n",
    "    while A[g1_idx] == g1_val:\n",
    "        g1_idx += 1\n",
    "\n",
    "    g2_idx = g1_idx + 1\n",
    "    g2_val = A[g1_idx]\n",
    "\n",
    "    g3_idx = len(A) - 1\n",
    "\n",
    "    while g2_idx <= g3_idx:\n",
    "        if A[g2_idx] == g1_val:\n",
    "            A[g1_idx], A[g2_idx] = A[g2_idx], A[g1_idx]\n",
    "            g1_idx += 1\n",
    "            g2_idx += 1\n",
    "        elif A[g2_idx] == g2_val:\n",
    "            g2_idx += 1\n",
    "        else:  # other value\n",
    "            A[g2_idx], A[g3_idx] = A[g3_idx], A[g2_idx]\n",
    "            g3_idx -= 1\n",
    "\n",
    "A = [3, 1, 2, 2, 2, 1, 3, 1, 3, 3]\n",
    "group_3_distinct(A)\n",
    "print(A)\n",
    "\n",
    "A = [3, 2, 3, 3, 1, 1, 2, 1, 3]\n",
    "group_3_distinct(A)\n",
    "print(A)"
   ]
  },
  {
   "attachments": {},
   "cell_type": "markdown",
   "metadata": {},
   "source": [
    "$O(n)$ time and $O(1)$ space complexity"
   ]
  },
  {
   "attachments": {},
   "cell_type": "markdown",
   "metadata": {},
   "source": [
    "#### Variant 4.1.B:\n",
    "Four Distinct"
   ]
  },
  {
   "attachments": {},
   "cell_type": "markdown",
   "metadata": {},
   "source": [
    "#### Variant 4.1.C:\n",
    "Given an array of n objects with boolean-valued keys, re-order the array s.t. objects that have a false key appear first"
   ]
  },
  {
   "cell_type": "code",
   "execution_count": 63,
   "metadata": {},
   "outputs": [
    {
     "name": "stdout",
     "output_type": "stream",
     "text": [
      "[Obj(key=False, val=4), Obj(key=False, val=3), Obj(key=False, val=1), Obj(key=False, val=2), Obj(key=True, val=3), Obj(key=True, val=4), Obj(key=True, val=2), Obj(key=True, val=1)]\n"
     ]
    }
   ],
   "source": [
    "Obj = collections.namedtuple('Obj', ('key', 'val'))\n",
    "\n",
    "def bool_partition(A: List[Obj]) -> None:\n",
    "\n",
    "    # false_idx: elements to left are false\n",
    "    # true_idx: elements to right are true\n",
    "    false_idx, true_idx = 0, len(A) - 1\n",
    "\n",
    "    while false_idx < true_idx:\n",
    "        if A[false_idx].key:    # key is true\n",
    "            A[false_idx], A[true_idx] = A[true_idx], A[false_idx]\n",
    "            true_idx -= 1\n",
    "        else:                   # key is false \n",
    "            false_idx += 1\n",
    "\n",
    "A = [Obj(True, 1), Obj(True, 2), Obj(False, 1), Obj(True, 3), Obj(False, 2), Obj(False, 3), Obj(True, 4), Obj(False, 4)]\n",
    "bool_partition(A)\n",
    "print(A)"
   ]
  },
  {
   "attachments": {},
   "cell_type": "markdown",
   "metadata": {},
   "source": [
    "$O(n)$ time and $O(1)$ space complexity"
   ]
  },
  {
   "attachments": {},
   "cell_type": "markdown",
   "metadata": {},
   "source": [
    "#### Variant 4.1.D:\n",
    "Given an array of n objects with boolean-valued keys, re-order the array s.t. objects that have a false key appear first. Maintain objects with a true key in the same order in which they appeared."
   ]
  },
  {
   "attachments": {},
   "cell_type": "markdown",
   "metadata": {},
   "source": [
    "### 4.2: Increment an Arbitrary Integer\n",
    "Update array to represent $D+1$              \n",
    "e.g. $[1, 2, 9]$ -> $[1, 3, 0]$"
   ]
  },
  {
   "cell_type": "code",
   "execution_count": 10,
   "metadata": {},
   "outputs": [],
   "source": [
    "def run_tests(f, inputs: Tuple, answers: Tuple):\n",
    "    for input, ans in zip(inputs, answers):\n",
    "        result = f(input)\n",
    "        assert result == ans, f'Error. Expected {ans} for input {input}. Got {result}'"
   ]
  },
  {
   "cell_type": "code",
   "execution_count": 11,
   "metadata": {},
   "outputs": [],
   "source": [
    "def add_one(A: List[int]) -> List[int]:\n",
    "\n",
    "    carry = 0\n",
    "    A[-1] += 1\n",
    "    for i in reversed(range(len(A))):\n",
    "        d = A[i] + carry\n",
    "        if d == 10:\n",
    "            A[i], carry = 0, 1\n",
    "        else:\n",
    "            A[i], carry = d, 0\n",
    "        if carry == 0:\n",
    "            break\n",
    "    if carry > 0:\n",
    "        A.insert(0, carry)\n",
    "    \n",
    "    return A\n",
    "\n",
    "inputs, outputs = ([1, 2, 9], [1, 2, 8], [9, 9, 9]), ([1, 3, 0], [1, 2, 9], [1, 0, 0, 0])\n",
    "run_tests(add_one, inputs, outputs)\n"
   ]
  },
  {
   "cell_type": "code",
   "execution_count": 12,
   "metadata": {},
   "outputs": [],
   "source": [
    "def add_one(A: List[int]) -> List[int]:\n",
    "    ''' \n",
    "    iterate from end\n",
    "    only check if need to carry\n",
    "    '''\n",
    "    # add one\n",
    "    A[-1] += 1\n",
    "    \n",
    "    # check if need to carry\n",
    "    for i in reversed(range(1, len(A))):\n",
    "        if A[i] != 10:\n",
    "            break\n",
    "        # need to carry\n",
    "        A[i]= 0\n",
    "        A[i-1] += 1\n",
    "\n",
    "    # resize array if first element is 10\n",
    "    if A[0] == 10:\n",
    "        # much faster to append to end of array\n",
    "        A[0] = 1\n",
    "        A.append(0)      \n",
    "    \n",
    "    return A\n",
    "\n",
    "inputs, outputs = ([1, 2, 9], [1, 2, 8], [9, 9, 9]), ([1, 3, 0], [1, 2, 9], [1, 0, 0, 0])\n",
    "run_tests(add_one, inputs, outputs)\n"
   ]
  },
  {
   "attachments": {},
   "cell_type": "markdown",
   "metadata": {},
   "source": [
    "$O(n)$ time and $O(1)$ space complexity"
   ]
  },
  {
   "cell_type": "markdown",
   "metadata": {},
   "source": [
    "### Variant\n",
    "Write a program which takes as input two strings $s$ and $t$ of bits encoding binary numbers, and returns a new string of bits representing their sum"
   ]
  },
  {
   "cell_type": "code",
   "execution_count": 13,
   "metadata": {},
   "outputs": [],
   "source": [
    "def add_binary_string(x: str, y: str) -> str:\n",
    "\n",
    "    # find which string is smallest\n",
    "    # these are just references; not making copies \n",
    "    if len(x) < len(y):\n",
    "        smaller, larger = x, y\n",
    "    else:\n",
    "        smaller, larger = y, x\n",
    "\n",
    "    result = ['' for i in range(len(larger)+1)]\n",
    "    carry = '0'\n",
    "    for index_larger in reversed(range(len(larger))):\n",
    "        index_smaller = index_larger - (len(larger) - len(smaller))\n",
    "        if index_smaller >= 0:\n",
    "            digit_larger, digit_smaller = larger[index_larger], smaller[index_smaller]\n",
    "\n",
    "            num_ones = sum([1 for i in [digit_larger, digit_smaller, carry] if i == '1'])\n",
    "            if num_ones == 0:\n",
    "                result[index_larger+1], carry = '0', '0'\n",
    "            elif num_ones == 1:\n",
    "                result[index_larger+1], carry = '1', '0'\n",
    "            elif num_ones == 2:\n",
    "                result[index_larger+1], carry = '0', '1'\n",
    "            # num ones = 3\n",
    "            else:\n",
    "                result[index_larger+1], carry = '1', '1'\n",
    "\n",
    "        else:\n",
    "            digit_larger = larger[index_larger+1]\n",
    "            \n",
    "            num_ones = sum([1 for i in [digit_larger, carry]])\n",
    "            if num_ones == 0:\n",
    "                result[index_larger+1], carry = '0', '0'\n",
    "            elif num_ones == 1:\n",
    "                result[index_larger+1], carry = '1', '0'\n",
    "            # num ones = 2\n",
    "            else:\n",
    "                result[index_larger+1], carry = '0', '1'\n",
    "\n",
    "    # check if value to carry still\n",
    "    if carry == '1':\n",
    "        result[0] = '1'\n",
    "\n",
    "    return ''.join(result)\n",
    "\n",
    "\n",
    "inputs, outputs = (('100', '101'), ('111', '111'), ('111', '1'), ('10101', '11001'), ('1110101', '11010')), ('1001', '1110', '1000', '101110', '10001111')\n",
    "for input, ans in zip(inputs, outputs):\n",
    "    s1, s2 = input\n",
    "    result = add_binary_string(s1, s2)\n",
    "    assert result == ans, f'Error. Expected {ans} for input {s1} + {s2} but got {result}'\n"
   ]
  },
  {
   "cell_type": "code",
   "execution_count": 14,
   "metadata": {},
   "outputs": [],
   "source": [
    "def add_binary_string_cache(x: str, y: str) -> str:\n",
    "\n",
    "    def helper(digits: List[str]) -> Tuple[str]:\n",
    "        key = ''.join(digits)\n",
    "        return LOOKUP[key]\n",
    "\n",
    "    # find which string is smallest\n",
    "    # these are just references; not making copies \n",
    "    if len(x) < len(y):\n",
    "        smaller, larger = x, y\n",
    "    else:\n",
    "        smaller, larger = y, x\n",
    "\n",
    "    # create lookup values\n",
    "    # result of sum, carry value\n",
    "    LOOKUP = {\n",
    "                '111': ('1', '1'),\n",
    "                '110': ('0', '1'),\n",
    "                '101': ('0', '1'),\n",
    "                '100': ('1', '0'),\n",
    "                '011': ('0', '1'),\n",
    "                '010': ('1', '0'),\n",
    "                '001': ('1', '0'),\n",
    "                '000': ('0', '0'),\n",
    "                '00': ('0', '0'),\n",
    "                '10': ('1', '0'),\n",
    "                '01': ('1', '0'),\n",
    "                '11': ('0', '1'),\n",
    "    }\n",
    "\n",
    "\n",
    "    result = ['' for i in range(len(larger)+1)]\n",
    "    carry = '0'\n",
    "    for index_larger in reversed(range(len(larger))):\n",
    "        index_smaller = index_larger - (len(larger) - len(smaller))\n",
    "        if index_smaller >= 0:\n",
    "            digit_larger, digit_smaller = larger[index_larger], smaller[index_smaller]\n",
    "            result[index_larger+1], carry = helper([digit_larger, digit_smaller, carry])\n",
    "\n",
    "        else:\n",
    "            digit_larger = larger[index_larger+1]\n",
    "            result[index_larger+1], carry = helper([digit_larger, carry])\n",
    "\n",
    "    # check if value to carry still\n",
    "    if carry == '1':\n",
    "        result[0] = '1'\n",
    "\n",
    "    # dont want to build string iteratively since immutable and would create many copies\n",
    "    return ''.join(result)\n",
    "\n",
    "\n",
    "inputs, outputs = (('100', '101'), ('111', '111'), ('111', '1'), ('10101', '11001'), ('1110101', '11010')), ('1001', '1110', '1000', '101110', '10001111')\n",
    "for input, ans in zip(inputs, outputs):\n",
    "    s1, s2 = input\n",
    "    result = add_binary_string_cache(s1, s2)\n",
    "    assert result == ans, f'Error. Expected {ans} for input {s1} + {s2} but got {result}'\n"
   ]
  },
  {
   "cell_type": "code",
   "execution_count": 15,
   "metadata": {},
   "outputs": [],
   "source": [
    "def run_tests_2_inputs(f, inputs, outputs):\n",
    "    for input, ans in zip(inputs, outputs):\n",
    "        A, B = input\n",
    "        result = f(A, B)\n",
    "        assert result == ans, f'Error. Expected {ans} for input ({A}, {B}) but got {result}'"
   ]
  },
  {
   "cell_type": "markdown",
   "metadata": {},
   "source": [
    "$O(n)$ time and $O(1)$ space complexity"
   ]
  },
  {
   "attachments": {},
   "cell_type": "markdown",
   "metadata": {},
   "source": [
    "### 4.3 Multiply Two Arbitrary-Precision Integers\n",
    "takes two integers as arrays and outputs their product as an array     \n",
    "e.g. $325 \\times 4523 = 1469975$ --> $[3, 2, 5] \\times [4, 5, 2, 3] = [1, 4, 6, 9, 9, 7, 5]$"
   ]
  },
  {
   "cell_type": "code",
   "execution_count": 16,
   "metadata": {},
   "outputs": [],
   "source": [
    "def product_arrays(A: List[int], B: List[int]) -> List[int]:\n",
    "    ''' \n",
    "    iterate from end of both arrays\n",
    "    just like calculating it by hand\n",
    "    '''\n",
    "\n",
    "    sign = -1 if (A[0] < 0) ^ (B[0] < 0) else 1        # neat XOR trick\n",
    "    A[0], B[0] = abs(A[0]), abs(B[0])\n",
    "\n",
    "    result = [0 for i in range(len(A)+len(B))]\n",
    "\n",
    "    for i in reversed(range(len(A))):\n",
    "        for j in reversed(range(len(B))):\n",
    "            result[i+j+1] += A[i] * B[j]\n",
    "            result[i+j] += result[i+j+1] // 10   # do carrying first\n",
    "            result[i+j+1] %= 10\n",
    "\n",
    "    # remove zeros from front of array\n",
    "    for start_idx, x in enumerate(result):\n",
    "        if x != 0:\n",
    "            break\n",
    "\n",
    "    # add sign to first digit if negative product     \n",
    "    result[start_idx] *= sign\n",
    "    \n",
    "    return result[start_idx:]\n",
    "\n",
    "inputs = (([1, 2, 3], [1, 2]), ([-1, 2, 3], [1, 2]), ([1, 2, 3], [-1, 2]), ([-1, 2, 3], [-1, 2]), ([1, 2, 3, 4], [5, 6, 7]), ([1, 9, 3, 7, 0, 7, 7, 2, 1], [-7, 6, 1, 8, 3, 8, 2, 5, 7, 2, 8, 7]), ([9, 9], [1]),  ([9, 9], [9, 9]), ([-9, 9], [9, 9]), ([-9, 9], [-9, 9]), ([9, 9], [-1]))\n",
    "outputs = ([1, 4, 7, 6], [-1, 4, 7, 6], [-1, 4, 7, 6], [1, 4, 7, 6], [6, 9, 9, 6, 7, 8], [-1, 4, 7, 5, 7, 3, 9, 5, 2, 5, 8, 9, 6, 7, 6, 4, 1, 2, 9, 2, 7], [9, 9], [9, 8, 0, 1], [-9, 8, 0, 1], [9, 8, 0, 1], [-9, 9])\n",
    "run_tests_2_inputs(product_arrays, inputs, outputs)"
   ]
  },
  {
   "cell_type": "markdown",
   "metadata": {},
   "source": [
    "$O(mn)$ time and $O(m+n)$ space complexity where *m* is the length of the first array and *n* is the length of the second array"
   ]
  },
  {
   "cell_type": "markdown",
   "metadata": {},
   "source": [
    "### 5.4 Advancing through an Array\n",
    "In a particular board game, a player has to advance through a sequence of positions. Each position has a nonegative integer associated with it, representing the maximum you can from that position in one move. You begin at the first position and win the game by getting to the last position.    \n",
    "e.g. A = [3, 3, 1, 0, 2, 0, 1]: A[0] to A[1] to A[4] to A[6]"
   ]
  },
  {
   "cell_type": "code",
   "execution_count": 17,
   "metadata": {},
   "outputs": [],
   "source": [
    "def advance_game(A: List[int]) -> bool:\n",
    "    ''' \n",
    "    use two indexes\n",
    "    '''\n",
    "    index_max = 0     # farthers position reached so far\n",
    "    i = 0             # iterating through every element of list\n",
    "\n",
    "    # if i is greater than max position reached, then not possible to get to end\n",
    "    while i <= index_max:\n",
    "\n",
    "        # see if advance further in array\n",
    "        index_max = max([index_max, i+A[i]])\n",
    "        \n",
    "        # check if reached end\n",
    "        if index_max >= len(A) - 1:\n",
    "            return True\n",
    "        \n",
    "        i += 1\n",
    "\n",
    "    return False\n",
    "\n",
    "\n",
    "inputs, outputs = ([3, 3, 1, 0, 2, 0, 1], [3, 3, 1, 0, 1, 0, 1], [3, 3, 1, 0, 10, 0, 1], [0, 3, 1, 0, 1, 0, 1], [20, 3, 1, 0, 1, 0, 1], [3, 2, 1, 0, 2, 0, 1]), (True, False, True, False, True, False)\n",
    "run_tests(advance_game, inputs, outputs)\n"
   ]
  },
  {
   "cell_type": "markdown",
   "metadata": {},
   "source": [
    "$O(n)$ time and $O(1)$ space"
   ]
  },
  {
   "cell_type": "markdown",
   "metadata": {},
   "source": [
    "#### Variant: Return minimum number of steps to get to end\n",
    "maybe keep track of minimum number of steps at each position"
   ]
  },
  {
   "cell_type": "markdown",
   "metadata": {},
   "source": [
    "### 5.5 Delete Duplicates from Sorted Array\n"
   ]
  },
  {
   "cell_type": "code",
   "execution_count": 18,
   "metadata": {},
   "outputs": [
    {
     "name": "stdout",
     "output_type": "stream",
     "text": [
      "[1, 2, 3]\n",
      "[1, 2, 3, 4, 5, 6]\n",
      "[1, 2, 3]\n",
      "[1]\n",
      "[1, 2]\n",
      "[1, 2, 4, 5, 6]\n"
     ]
    }
   ],
   "source": [
    "def sorted_array_remove_dups(A: List[int]) -> int:\n",
    "    ''' \n",
    "    use two indexes\n",
    "    '''\n",
    "    # empty array\n",
    "    if not A:\n",
    "        return 0\n",
    "\n",
    "    index_write = 1\n",
    "    for i in range(1, len(A)):\n",
    "        if A[i] != A[index_write - 1]:\n",
    "            A[index_write] = A[i]\n",
    "            index_write += 1\n",
    "    print(A[0:index_write])\n",
    "    return index_write\n",
    "\n",
    "inputs, outputs = ([1, 1, 1, 2, 3, 3], [1, 2, 3, 4, 5, 6], [1, 2, 3, 3, 3, 3, 3], [1, 1, 1, 1, 1], [1, 1, 1, 1, 1, 2], [1, 2, 4, 4, 5, 5, 6, 6]), (3, 6, 3, 1, 2, 5)\n",
    "run_tests(sorted_array_remove_dups, inputs, outputs)"
   ]
  },
  {
   "cell_type": "markdown",
   "metadata": {},
   "source": [
    "$O(n)$ time and $O(1)$ space"
   ]
  },
  {
   "cell_type": "markdown",
   "metadata": {},
   "source": [
    "#### Variant: \n",
    "Implement a function which takes an input array and a key, and removes the key from the array and shifts all remaining elements to the left."
   ]
  },
  {
   "cell_type": "code",
   "execution_count": 19,
   "metadata": {},
   "outputs": [
    {
     "name": "stdout",
     "output_type": "stream",
     "text": [
      "[1, 3]\n",
      "[1, 3]\n",
      "[1, 1, 1, 2]\n",
      "[1, 2, 3, 4, 5, 6]\n",
      "[1, 2]\n",
      "[]\n",
      "[1, 1, 1, 1, 1]\n",
      "[2, 4, 4, 5, 5, 6, 6]\n",
      "[4, 6, 7, 4, 7, 7, 1, 100]\n"
     ]
    }
   ],
   "source": [
    "def remove_array_key(A: List[int], key: int) -> int:\n",
    "    # empty array\n",
    "    if not A:\n",
    "        return 0\n",
    "\n",
    "    index_write = 0\n",
    "    for i, val in enumerate(A):\n",
    "        if val != key:\n",
    "            A[index_write] = val \n",
    "            index_write += 1\n",
    "    print(A[0:index_write])\n",
    "    return index_write\n",
    "\n",
    "remove_array_key([1, 2, 2, 2, 3, 2], 2)\n",
    "inputs = (([1, 2, 2, 2, 3, 2], 2), ([1, 1, 1, 2, 3, 3], 3), ([1, 2, 3, 4, 5, 6], 7), ([1, 2, 3, 3, 3, 3, 3], 3), ([1, 1, 1, 1, 1], 1), ([1, 1, 1, 1, 1, 2], 2), ([1, 2, 4, 4, 5, 5, 6, 6], 1), ([4, 2, 6, 2, 7, 4, 2, 7, 7, 1, 2, 100], 2))\n",
    "outputs = (2, 4, 6, 2, 0, 5, 7, 8)\n",
    "run_tests_2_inputs(remove_array_key, inputs, outputs)"
   ]
  },
  {
   "cell_type": "markdown",
   "metadata": {},
   "source": [
    "$O(n)$ time and $O(1)$ space"
   ]
  },
  {
   "attachments": {},
   "cell_type": "markdown",
   "metadata": {},
   "source": [
    "#### Variant:\n"
   ]
  },
  {
   "attachments": {},
   "cell_type": "markdown",
   "metadata": {},
   "source": [
    "### 5.6: Buy and Sell a Stock Once\n",
    "Give a sequence of prices, design an algorithm that determines the maximum profit that could have been made by buying and then selling a single share over a given day range\n",
    "e.g. [310, 315, 275, 295, 260, 270, 290, 230, 255, 250]: max profit = 30 -> buy at 260 and sell at 270"
   ]
  },
  {
   "cell_type": "code",
   "execution_count": 20,
   "metadata": {},
   "outputs": [],
   "source": [
    "def buy_sell_stock_brute_force(prices: List[int]) -> int:\n",
    "\n",
    "    max_profit = 0\n",
    "\n",
    "    for i_buy, buy_price in enumerate(prices):\n",
    "        for j_sell in range(i_buy+1, len(prices)):\n",
    "            max_profit = max([max_profit, prices[j_sell] - buy_price])\n",
    "    \n",
    "    return max_profit\n",
    "\n",
    "inputs, outputs = ([310, 315, 275, 295, 260, 270, 290, 230, 255, 250], [120, 100, 50], [20, 30], [30, 20], [30]), (30, 0, 10, 0, 0)\n",
    "run_tests(buy_sell_stock_brute_force, inputs, outputs)"
   ]
  },
  {
   "cell_type": "markdown",
   "metadata": {},
   "source": [
    "$O(n^2)$ time and $O(1)$ space complexity       \n",
    "         \n",
    "The max profit that can be made by selling on a specific day is determined by the minimum of the stock prices over the previous days\n",
    "- keep track of minimum price so far\n",
    "- calculate max profit so far\n",
    "e.g. [310, 315, 275, 295, 260, 270, 290, 230, 255, 250] --> max profits so far taking min price so far [0, 5, 0, 20, 0, 10, 30, 0, 25, 20]"
   ]
  },
  {
   "cell_type": "code",
   "execution_count": 21,
   "metadata": {},
   "outputs": [],
   "source": [
    "def buy_sell_stock(prices: List[int]) -> int:\n",
    "    ''' \n",
    "    The max profit that can be made by selling on a specific day \n",
    "    is determined by the minimum of the stock prices over the previous days\n",
    "        - keep track of minimum price so far\n",
    "        - calculate max profit so far\n",
    "    '''\n",
    "    max_profit, min_price = 0, float('inf')\n",
    "\n",
    "    for price in prices:\n",
    "        profit_today = price - min_price\n",
    "        max_profit = max([profit_today, max_profit])\n",
    "        min_price = min([price, min_price])\n",
    "\n",
    "    return max_profit\n",
    "\n",
    "inputs, outputs = ([310, 315, 275, 295, 260, 270, 290, 230, 255, 250], [120, 100, 50], [20, 30], [30, 20], [30]), (30, 0, 10, 0, 0)\n",
    "run_tests(buy_sell_stock, inputs, outputs)"
   ]
  },
  {
   "cell_type": "markdown",
   "metadata": {},
   "source": [
    "$O(n)$ time and $O(1)$ space"
   ]
  },
  {
   "attachments": {},
   "cell_type": "markdown",
   "metadata": {},
   "source": [
    "#### Variant: \n",
    "Write a program that takes an array of integers and finds the length of the longest subarray all of whose entries are equal"
   ]
  },
  {
   "cell_type": "code",
   "execution_count": 22,
   "metadata": {},
   "outputs": [],
   "source": [
    "def longest_sub_sequence(A: List[int]) -> int:\n",
    "\n",
    "    # base case\n",
    "    if len(A) == 0:\n",
    "        return 0 \n",
    "    \n",
    "    curr_seq_len = max_seq_len = 1\n",
    "    curr_num = A[0]\n",
    "    for num in A[1:]:\n",
    "        if curr_num == num:\n",
    "            curr_seq_len += 1\n",
    "        else:\n",
    "            max_seq_len = max([max_seq_len, curr_seq_len])\n",
    "            curr_seq_len = 1\n",
    "            curr_num = num \n",
    "    # checks is longest sequence at end\n",
    "    else:\n",
    "        max_seq_len = max([max_seq_len, curr_seq_len])\n",
    "\n",
    "    return max_seq_len\n",
    "\n",
    "inputs = ([1, 2, 3, 4, 5], [1, 1, 2, 2, 3], [1, 2, 2, 2], [1, 2, 2, 2, 3, 3], [1, 1, 1, 1, 3, 3, 4], [1, 2, 2, 4, 5, 6, 6, 6, 10, 10])\n",
    "outputs = (1, 2, 3, 3, 4, 3)\n",
    "run_tests(longest_sub_sequence, inputs, outputs)"
   ]
  },
  {
   "attachments": {},
   "cell_type": "markdown",
   "metadata": {},
   "source": [
    "$O(n)$ time and $O(1)$ space"
   ]
  },
  {
   "attachments": {},
   "cell_type": "markdown",
   "metadata": {},
   "source": [
    "### 5.7: Buy and Sell a Stock Twice\n",
    "Write a program that computes the maximum profit that can be made by buying and selling a stock at most twice. The second buy must be made after the first sale."
   ]
  },
  {
   "cell_type": "code",
   "execution_count": 23,
   "metadata": {},
   "outputs": [],
   "source": [
    "def buy_sell_stock_twice_brute_force(prices: List[int]) -> int:\n",
    "\n",
    "    max_profit = 0\n",
    "    \n",
    "    for i in range(len(prices)):\n",
    "        max_profit = max([max_profit, buy_sell_stock(prices[0:i]) + buy_sell_stock(prices[i:])])\n",
    "    return max_profit\n",
    "\n",
    "\n",
    "inputs, outputs = ([310, 315, 275, 295, 260, 270, 290, 230, 255, 250], [120, 100, 50], [240, 260, 290], [240, 260, 250, 300], [20, 30], [30, 20], [30], [12, 11, 13, 9, 12, 8, 14, 13, 15]), (55, 0, 50, 70, 10, 0, 0, 10)\n",
    "run_tests(buy_sell_stock_twice_brute_force, inputs, outputs)"
   ]
  },
  {
   "cell_type": "markdown",
   "metadata": {},
   "source": [
    "$O(n^2)$ time and $O(1)$ space"
   ]
  },
  {
   "attachments": {},
   "cell_type": "markdown",
   "metadata": {},
   "source": [
    "want max profit from $A[0:i]$ and $A[i:]$. Can iterate through the list forwards and backwards to get these   \n",
    "e.g. $[12, 11, 13, 9, 12, 8, 14, 13, 15]$    \n",
    "Forwards max profits so far: $ [0, 0, 2, 2,  3,  3, 6, 6, 7]$    \n",
    "Backwards max profits so far: $[7, 7, 7, 7,  7,  7, 2, 2, 0]$   \n",
    "Add forwards and backwards arrays            \n",
    "Max Total Profits:            $[7, 7, 9, 9, 10, 10, 8, 8, 7]$\n",
    "\n"
   ]
  },
  {
   "cell_type": "code",
   "execution_count": 24,
   "metadata": {},
   "outputs": [],
   "source": [
    "def buy_sell_stock_twice(prices: List[int]) -> int:\n",
    "\n",
    "    # forward pass\n",
    "    max_profit, min_price = 0, float('inf')\n",
    "    first_buy_sell_profits = [0] * len(prices)\n",
    "    for i, price in enumerate(prices):\n",
    "        profit_today = price - min_price\n",
    "        max_profit = max([profit_today, max_profit])\n",
    "        first_buy_sell_profits[i] = max_profit\n",
    "        min_price = min([price, min_price])\n",
    "\n",
    "    # backward pass\n",
    "    max_profit, max_price = 0, float('-inf')\n",
    "    second_buy_sell_profits = [0] * len(prices)\n",
    "    for i, price in reversed(list(enumerate(prices))):\n",
    "        profit_today = max_price - price\n",
    "        max_profit = max([profit_today, max_profit])\n",
    "        second_buy_sell_profits[i] = max_profit\n",
    "        max_price = max([price, max_price])\n",
    "\n",
    "    # find over all max profit\n",
    "    max_profit = 0\n",
    "    for i in range(len(prices)):\n",
    "        max_profit = max([max_profit, first_buy_sell_profits[i] + second_buy_sell_profits[i]])\n",
    "    return max_profit\n",
    "    \n",
    "run_tests(buy_sell_stock_twice, inputs, outputs)\n"
   ]
  },
  {
   "cell_type": "markdown",
   "metadata": {},
   "source": [
    "$O(n)$ time and $O(2n)$ space"
   ]
  },
  {
   "cell_type": "code",
   "execution_count": 25,
   "metadata": {},
   "outputs": [],
   "source": [
    "def buy_sell_stock_twice(prices: List[int]) -> int:\n",
    "    max_total_profit, min_price = 0, float('inf')\n",
    "\n",
    "    first_buy_sell_profits = [0] * len(prices)\n",
    "\n",
    "    # forward pass\n",
    "    for i, price in enumerate(prices):\n",
    "        profit_today = price - min_price\n",
    "        max_total_profit = max([profit_today, max_total_profit])\n",
    "        first_buy_sell_profits[i] = max_total_profit\n",
    "        min_price = min([price, min_price])\n",
    "\n",
    "    # backward pass\n",
    "    max_price = float('-inf')\n",
    "    for i, price in reversed(list(enumerate(prices[1:], 1))): # offset index by 1\n",
    "        max_total_profit = max([max_total_profit, max_price - price + first_buy_sell_profits[i]])\n",
    "        max_price = max([max_price, price])\n",
    "\n",
    "    return max_total_profit\n",
    "\n",
    "run_tests(buy_sell_stock_twice, inputs, outputs)"
   ]
  },
  {
   "cell_type": "code",
   "execution_count": 26,
   "metadata": {},
   "outputs": [
    {
     "data": {
      "text/plain": [
       "[(9, 250),\n",
       " (8, 255),\n",
       " (7, 230),\n",
       " (6, 290),\n",
       " (5, 270),\n",
       " (4, 260),\n",
       " (3, 295),\n",
       " (2, 275),\n",
       " (1, 315)]"
      ]
     },
     "execution_count": 26,
     "metadata": {},
     "output_type": "execute_result"
    }
   ],
   "source": [
    "p = [310, 315, 275, 295, 260, 270, 290, 230, 255, 250]\n",
    "list(reversed(list(enumerate(p[1:], 1))))"
   ]
  },
  {
   "cell_type": "markdown",
   "metadata": {},
   "source": [
    "$O(n)$ time and $O(n)$ space and better run time since only looping through twice instead of three times"
   ]
  },
  {
   "cell_type": "markdown",
   "metadata": {},
   "source": [
    "### 5.8 Compute an Alteration:\n",
    "Write a program that takes an array $A$ of $n$ numbers and rearranges $A$'s elements to get a new array $B$ having the property that $B[0] \\leq B[1] \\geq B[2] \\leq B[3] \\geq B[4] ...$"
   ]
  },
  {
   "cell_type": "code",
   "execution_count": 27,
   "metadata": {},
   "outputs": [],
   "source": [
    "def alternating_array(A: List[int]) -> None:\n",
    "\n",
    "    A.sort()\n",
    "    i = 2\n",
    "    while i < len(A):\n",
    "        A[i-1], A[i] = A[i], A[i-1]\n",
    "        i += 2\n",
    "\n",
    "def check_alternating(A: List[int]) -> bool:\n",
    "\n",
    "    for i in range(1, len(A)):\n",
    "        if i % 2 == 0:\n",
    "            if not A[i-1] >= A[i]:\n",
    "                return False        \n",
    "        else:\n",
    "            if not A[i-1] <= A[i]:\n",
    "                return False\n",
    "    return True\n",
    "\n",
    "for input in ([3, 1, 5, 3, 7, 9, 4, 8, 2], [5, 10, 8, 9, 4]):\n",
    "    alternating_array(input)\n",
    "    assert check_alternating(input) == True"
   ]
  },
  {
   "cell_type": "markdown",
   "metadata": {},
   "source": [
    "$O(n\\log n)$ time complexity because of the sort"
   ]
  },
  {
   "cell_type": "code",
   "execution_count": 28,
   "metadata": {},
   "outputs": [],
   "source": [
    "def alternating_array(A: List[int]) -> None:\n",
    "\n",
    "    for i in range(1, len(A)):\n",
    "        if i % 2 == 0:\n",
    "            if not A[i-1] >= A[i]:\n",
    "                A[i-1], A[i] = A[i], A[i-1]         \n",
    "        else:\n",
    "            if not A[i-1] <= A[i]:\n",
    "                A[i-1], A[i] = A[i], A[i-1]\n",
    "\n",
    "\n",
    "for input in ([3, 1, 5, 3, 7, 9, 4, 8, 2], [5, 10, 8, 9, 4]):\n",
    "    alternating_array(input)\n",
    "    assert check_alternating(input) == True\n",
    "  "
   ]
  },
  {
   "cell_type": "code",
   "execution_count": 29,
   "metadata": {},
   "outputs": [],
   "source": [
    "def alternating_array(A: List[int]) -> None:\n",
    "\n",
    "    for i in range(len(A)):\n",
    "        A[i:(i+2)] = sorted(A[i:(i+2)], reverse=bool(i % 2))\n",
    "\n",
    "\n",
    "\n",
    "for input in ([3, 1, 5, 3, 7, 9, 4, 8, 2], [5, 10, 8, 9, 4]):\n",
    "    alternating_array(input)\n",
    "    assert check_alternating(input) == True"
   ]
  },
  {
   "cell_type": "code",
   "execution_count": 30,
   "metadata": {},
   "outputs": [
    {
     "name": "stdout",
     "output_type": "stream",
     "text": [
      "[5]\n",
      "[]\n"
     ]
    }
   ],
   "source": [
    "A = [4, 2, 1, 4, 5]\n",
    "print(A[4:6])\n",
    "print(A[5:7])"
   ]
  },
  {
   "cell_type": "markdown",
   "metadata": {},
   "source": [
    "$O(n)$ time $O(1)$ space complexity"
   ]
  },
  {
   "cell_type": "markdown",
   "metadata": {},
   "source": [
    "### 5.9 Enumerate All Primes to n\n"
   ]
  },
  {
   "cell_type": "code",
   "execution_count": 31,
   "metadata": {},
   "outputs": [
    {
     "data": {
      "text/plain": [
       "[2, 3, 5, 7, 11, 13, 17, 19, 23, 29, 31, 37, 41, 43, 47]"
      ]
     },
     "execution_count": 31,
     "metadata": {},
     "output_type": "execute_result"
    }
   ],
   "source": [
    "def generate_primes_brute_force(n: int) -> List[int]:\n",
    "    primes = []\n",
    "\n",
    "    def is_prime(num: int) -> bool:\n",
    "        upper_limit = math.floor(math.sqrt(num))\n",
    "        for x in range(2, upper_limit+1):\n",
    "            if num % x == 0:\n",
    "                return False\n",
    "        return True\n",
    "    \n",
    "    for i in range(2, n+1):\n",
    "        if is_prime(i):\n",
    "            primes.append(i)\n",
    "\n",
    "    return primes\n",
    "\n",
    "generate_primes_brute_force(50)"
   ]
  },
  {
   "cell_type": "markdown",
   "metadata": {},
   "source": [
    "$O(n^{3/2})$ time complexity    \n",
    "\n",
    "First intialize an array will a boolean array of potential prime candidates (all true initially except for 0, 1)    \n",
    "Iterate through array and anytime come across True, it is a prime since nothing before it was a divisor     \n",
    "Then get rid of all multiple of that prime  \n",
    "e.g. n = 10    \n",
    "$[F, F, T, T, T, T, T, T, T, T, T]$           \n",
    "$[F, F, T, T, F, T, F, T, F, T, F]$ process 2; 2 is prime; remove multiples of 2            \n",
    "$[F, F, T, T, F, T, F, T, F, F, F]$ process 3; 3 is prime; remove multiples of 3\n",
    "\n",
    "\n",
    "\n"
   ]
  },
  {
   "cell_type": "code",
   "execution_count": 32,
   "metadata": {},
   "outputs": [],
   "source": [
    "def generate_primes(n: int) -> List[int]:\n",
    "\n",
    "    primes = []\n",
    "    is_prime = [False, False] + [True] * (n - 1)\n",
    "\n",
    "    for num in range(2, n+1):\n",
    "        if is_prime[num]:\n",
    "            primes.append(num)\n",
    "\n",
    "            # remove multiples of prime (sieving)\n",
    "            for multiple in range(2*num, n+1, num):\n",
    "                is_prime[multiple] = False\n",
    "    \n",
    "    return primes\n",
    "\n",
    "generate_primes(1)\n",
    "\n",
    "for input in [10, 50, 20, 1, 2, 100]:\n",
    "    brute_force, optimal = generate_primes_brute_force(input), generate_primes(input)\n",
    "    assert brute_force == optimal, f'Error: brute force return {brute_force} and optimal returned {optimal}'"
   ]
  },
  {
   "cell_type": "markdown",
   "metadata": {},
   "source": [
    "sieving multiples of primes is proportional to $n/p$, so overall time complexity is $O(n/2 + n/3 + n/5 + n/7 + n/11 + ...)$ = $O(n\\log \\log n)$. $O(n)$ space complexity        \n",
    "\n",
    "Can improve run time by sieving multiples from $p^2$ since all numbers from $kp$ where $k<p$ have already been sieved out. Storage can be reduced by ignoring even numbers"
   ]
  },
  {
   "cell_type": "code",
   "execution_count": 33,
   "metadata": {},
   "outputs": [],
   "source": [
    "def generate_primes(n: int) -> List[int]:\n",
    "    pass"
   ]
  },
  {
   "cell_type": "markdown",
   "metadata": {},
   "source": [
    "### 5.10: Permute the Elements of an Array\n",
    "e.g. $A=[a, b, c, d]$ and $P=[2, 0, 1, 3]$ -> $[b, c, a, d]$   \n",
    "$P[i]$ means the location at *i* is moved to $P[i]$        \n",
    "\n"
   ]
  },
  {
   "cell_type": "code",
   "execution_count": 34,
   "metadata": {},
   "outputs": [],
   "source": [
    "def apply_permutation_brute_force(A: List[str], P: List[int]) -> List[int]:\n",
    "    A_perm = [0] * len(A)\n",
    "    for i, pos, in enumerate(P):\n",
    "        A_perm[pos] = A[i]\n",
    "\n",
    "    return A_perm\n",
    "\n",
    "permutations = ([2, 0, 1, 3], [2, 0, 3, 1], [0, 1, 2, 3], [3, 2, 1, 0])\n",
    "input = ['a', 'b', 'c', 'd']\n",
    "outputs = (['b', 'c', 'a', 'd'], ['b', 'd', 'a', 'c'], ['a', 'b', 'c', 'd'], ['d', 'c', 'b', 'a'])\n",
    "for p, out in zip(permutations, outputs):\n",
    "    result = apply_permutation_brute_force(input, p)\n",
    "    assert out == result, f'Error: Expected {out} for input {input} and permutation {p} but got {result}'\n"
   ]
  },
  {
   "cell_type": "markdown",
   "metadata": {},
   "source": [
    "$O(n)$ time and space complexity    \n",
    " \n",
    "To solve without using additional space and can modify P, swap elements in A but also swap in P to keep track of where element was moved to. When position and index in P match, skip    \n",
    "e.g. $A=[a, b, c, d]$ and $P=[2, 0, 1, 3]$ -> $[b, c, a, d]$     \n",
    "$A=[c, b, a, d]$ and $P=[1, 0, 2, 3]$ swap at postion 0   \n",
    "$A=[b, c, a, d]$ and $P=[0, 1, 2, 3]$ swap at postion 1   \n",
    "stop since positions match indices\n"
   ]
  },
  {
   "cell_type": "code",
   "execution_count": 35,
   "metadata": {},
   "outputs": [],
   "source": [
    "def apply_permutation(A: List[str], P: List[int]) -> None:\n",
    "    '''\n",
    "    swap in both A and P\n",
    "    '''\n",
    "    for i in range(len(A)):\n",
    "        while i != P[i]:\n",
    "            A[P[i]], A[i] = A[i], A[P[i]]\n",
    "            P[P[i]], P[i] = P[i], P[P[i]]\n",
    "\n",
    "permutations = ([2, 0, 1, 3], [2, 0, 3, 1], [0, 1, 2, 3], [3, 2, 1, 0])\n",
    "outputs = (['b', 'c', 'a', 'd'], ['b', 'd', 'a', 'c'], ['a', 'b', 'c', 'd'], ['d', 'c', 'b', 'a'])\n",
    "for p, out in zip(permutations, outputs):\n",
    "    input = ['a', 'b', 'c', 'd']\n",
    "    original_input = input[0:]\n",
    "    apply_permutation(input, p)\n",
    "    assert out == input, f'Error: Expected {out} for input {original_input} and permutation {p} but got {input}'\n"
   ]
  },
  {
   "cell_type": "markdown",
   "metadata": {},
   "source": [
    "$O(n)$ time and space complexity. modify permuation array so $O(n)$ space   \n",
    "\n",
    "\n",
    "#### Variant: Use O(1) space\n"
   ]
  },
  {
   "cell_type": "code",
   "execution_count": 36,
   "metadata": {},
   "outputs": [],
   "source": [
    "def apply_permutation(A: List[str], P: List[int]) -> None:\n",
    "    pass"
   ]
  },
  {
   "cell_type": "markdown",
   "metadata": {},
   "source": [
    "#### Variant: Find Unique Inverse of Permutation"
   ]
  },
  {
   "cell_type": "code",
   "execution_count": 37,
   "metadata": {},
   "outputs": [],
   "source": [
    "def inverse_permutation(A: List[str], P: List[int]) -> None:\n",
    "    pass"
   ]
  },
  {
   "cell_type": "markdown",
   "metadata": {},
   "source": [
    "### 5.11: Compute the Next Permutation"
   ]
  },
  {
   "cell_type": "code",
   "execution_count": 38,
   "metadata": {},
   "outputs": [],
   "source": [
    "def next_permutation(P: List[int]) -> List[int]:\n",
    "    pass"
   ]
  },
  {
   "cell_type": "markdown",
   "metadata": {},
   "source": [
    "### 5.12: Sample Offline Data\n",
    "Implement and algorithm that takes as input an array of distinct elements and a size, and returns a subset of the given size of the array of elements. All subsets should be equally likely\n"
   ]
  },
  {
   "cell_type": "code",
   "execution_count": 39,
   "metadata": {},
   "outputs": [
    {
     "name": "stdout",
     "output_type": "stream",
     "text": [
      "[5, 8, 6, 4, 0, 1, 3, 9, 7, 2]\n",
      "[3, 9, 5, 6, 2, 1, 8, 0, 4, 7]\n",
      "[4, 7, 1, 5, 3, 8, 9, 0, 6, 2]\n",
      "[1, 9, 0, 2, 5, 6, 3, 8, 4, 7]\n",
      "[9, 0, 3, 8, 2, 7, 5, 1, 6, 4]\n"
     ]
    }
   ],
   "source": [
    "def my_shuffle(A: List[int]) -> None:\n",
    "\n",
    "    for i in range(len(A)):\n",
    "        j = int(i * random.random())\n",
    "        A[i], A[j] = A[j], A[i]\n",
    "\n",
    "for i in range(5):\n",
    "    A = [i for i in range(10)]  \n",
    "    my_shuffle(A)\n",
    "    print(A)"
   ]
  },
  {
   "cell_type": "code",
   "execution_count": 40,
   "metadata": {},
   "outputs": [
    {
     "name": "stdout",
     "output_type": "stream",
     "text": [
      "[7, 2, 3]\n",
      "[4, 3, 6]\n",
      "[1, 6, 8]\n",
      "[8, 0, 5]\n",
      "[2, 4, 9]\n"
     ]
    }
   ],
   "source": [
    "def sample_offline_brute_force(A: List[int], k: int) -> List[int]:\n",
    "    indexes = [i for i in range(len(A))]\n",
    "    random.shuffle(indexes)\n",
    "\n",
    "    # apply permutation\n",
    "    return [A[indexes[i]] for i in range(k)]\n",
    "\n",
    "A = [i for i in range(10)]  \n",
    "for i in range(5): \n",
    "    print(sample_offline_brute_force(A, 3))"
   ]
  },
  {
   "cell_type": "markdown",
   "metadata": {},
   "source": [
    "$O(n)$ time and space complexity\n",
    "\n",
    "Key to efficient algorithm, is first build a random subset of size $k-1$ first, then add one more element from *k* to *n* at random.   \n",
    "When k=1, this is trivial   \n",
    "k=2, search [1, n-1]"
   ]
  },
  {
   "cell_type": "code",
   "execution_count": 41,
   "metadata": {},
   "outputs": [
    {
     "name": "stdout",
     "output_type": "stream",
     "text": [
      "[5, 2, 6]\n",
      "[3, 1, 8]\n",
      "[8, 9, 1]\n",
      "[0, 4, 6]\n",
      "[9, 5, 1]\n",
      "[6, 8, 5, 1, 3, 4, 7, 0]\n",
      "[4, 9, 0, 2, 7, 6, 8, 5]\n",
      "[9, 5, 6, 4, 2, 7, 3, 8]\n",
      "[2, 3, 8, 1, 0, 7, 9, 4]\n",
      "[6, 0, 4, 1, 8, 2, 5, 3]\n"
     ]
    }
   ],
   "source": [
    "def sample_offline(A: List[int], k: int) -> List[int]:\n",
    "    ''' \n",
    "    swapping valid entries to front of list and \n",
    "    randomly selecting from upper part of list\n",
    "    '''\n",
    "    for i in range(k):\n",
    "        j = random.randint(i, len(A)-1)\n",
    "        A[i], A[j] = A[j], A[i]\n",
    "\n",
    "    return A[0:k]\n",
    "\n",
    "\n",
    "for size in [3, 8]:\n",
    "    for i in range(5): \n",
    "        A = [i for i in range(10)]  \n",
    "        print(sample_offline(A, size))"
   ]
  },
  {
   "attachments": {},
   "cell_type": "markdown",
   "metadata": {},
   "source": [
    "$O(k)$ time and O(1) space complexity   \n",
    "\n",
    "Can improve run time by recognizing that when $k > n/2$, instead of adding k elements to subset, can remove n - k elements from subset\n",
    "\n"
   ]
  },
  {
   "cell_type": "code",
   "execution_count": 42,
   "metadata": {},
   "outputs": [
    {
     "name": "stdout",
     "output_type": "stream",
     "text": [
      "[5, 7, 8]\n",
      "[2, 9, 5]\n",
      "[7, 3, 5]\n",
      "[7, 5, 3]\n",
      "[7, 8, 2]\n",
      "[2, 3, 4, 1, 0, 7, 8, 9]\n",
      "[2, 0, 4, 5, 6, 7, 1, 9]\n",
      "[2, 3, 4, 5, 0, 1, 8, 9]\n",
      "[1, 0, 4, 5, 6, 7, 8, 9]\n",
      "[2, 0, 4, 5, 6, 7, 1, 9]\n"
     ]
    }
   ],
   "source": [
    "def sample_offline(A: List[int], k: int) -> List[int]:\n",
    "\n",
    "    def helper_shuffle(A: List[int], size: int) -> None:\n",
    "        for i in range(size):\n",
    "            j = random.randint(i, len(A)-1)\n",
    "            A[i], A[j] = A[j], A[i]\n",
    "\n",
    "\n",
    "    # select k random elements to add to subset\n",
    "    if k < len(A)/2:\n",
    "        helper_shuffle(A, k)\n",
    "        return A[0:k]\n",
    "    # select n - k random elements to remove from subset\n",
    "    else:\n",
    "        size = len(A) - k\n",
    "        helper_shuffle(A, size)\n",
    "        return A[size:]\n",
    "\n",
    "    \n",
    "for size in [3, 8]:\n",
    "    for i in range(5): \n",
    "        A = [i for i in range(10)]  \n",
    "        print(sample_offline(A, size))"
   ]
  },
  {
   "cell_type": "markdown",
   "metadata": {},
   "source": [
    "### 5.13: Sample Online Data\n",
    "Design a program that takes as input a size *k* and read packets continuously maintaining uniform random subset of size k of the read packets    \n",
    "\n",
    "Suppose already have a random subset of k elements. Then the $(n+1)$ packet will belong to the new subset with probability $\\frac{k}{n+1}$"
   ]
  },
  {
   "cell_type": "code",
   "execution_count": 43,
   "metadata": {},
   "outputs": [
    {
     "name": "stdout",
     "output_type": "stream",
     "text": [
      "[66, 92, 28, 22, 42]\n",
      "[18, 91, 26, 82, 35]\n",
      "[13, 35, 72, 6, 45]\n",
      "[30, 55, 77, 74, 47]\n",
      "[6, 1, 90, 78, 94]\n"
     ]
    }
   ],
   "source": [
    "def random_online_sampling(stream: Iterator, k: int) -> List[int]:\n",
    "\n",
    "    # store first k elements\n",
    "    running_sample = list(itertools.islice(stream, k))\n",
    "\n",
    "    num_seen_so_far = k\n",
    "    for x in stream:\n",
    "        num_seen_so_far += 1\n",
    "\n",
    "        idx_to_replace = random.randrange(num_seen_so_far)  # randrange does not include endpoint\n",
    "        if idx_to_replace < k:\n",
    "            running_sample[idx_to_replace] = x\n",
    "\n",
    "    return running_sample \n",
    "\n",
    "for i in range(5):\n",
    "    stream = iter([i for i in range(100)])\n",
    "    print(random_online_sampling(stream, 5))\n"
   ]
  },
  {
   "cell_type": "markdown",
   "metadata": {},
   "source": [
    "The time complexity is proportional to the the number of elements in the stream, since spend $O(1)$ time per element. The space complexity is $O(k)$"
   ]
  },
  {
   "cell_type": "code",
   "execution_count": 44,
   "metadata": {},
   "outputs": [
    {
     "name": "stdout",
     "output_type": "stream",
     "text": [
      "[0, 1, 2]\n",
      "3\n",
      "4\n",
      "5\n",
      "6\n",
      "7\n",
      "8\n",
      "9\n"
     ]
    }
   ],
   "source": [
    "stream = iter([i for i in range(10)])\n",
    "print(list(itertools.islice(stream, 3)))    # slice first three elements from stream\n",
    "for i in stream:\n",
    "    print(i)\n"
   ]
  },
  {
   "cell_type": "markdown",
   "metadata": {},
   "source": [
    "### 5.14: Compute a Random Permutation"
   ]
  },
  {
   "cell_type": "code",
   "execution_count": 45,
   "metadata": {},
   "outputs": [
    {
     "name": "stdout",
     "output_type": "stream",
     "text": [
      "[1, 2, 3, 0, 4]\n",
      "[2, 3, 0, 1, 4]\n",
      "[3, 4, 2, 0, 1]\n",
      "[3, 2, 4, 0, 1]\n",
      "[3, 2, 1, 4, 0]\n"
     ]
    }
   ],
   "source": [
    "def random_permutation(size: int) -> List[int]:\n",
    "    permutation = list(range(size))\n",
    "\n",
    "    for i in range(size):\n",
    "        j = random.randint(i, size-1)\n",
    "        permutation[i], permutation[j] = permutation[j], permutation[i]\n",
    "    \n",
    "    return permutation\n",
    "\n",
    "for i in range(5):\n",
    "    print(random_permutation(5))"
   ]
  },
  {
   "attachments": {},
   "cell_type": "markdown",
   "metadata": {},
   "source": [
    "$O(n)$ time complexity\n"
   ]
  },
  {
   "cell_type": "markdown",
   "metadata": {},
   "source": [
    "### 5.15: Compute a Random Subset"
   ]
  },
  {
   "cell_type": "code",
   "execution_count": 46,
   "metadata": {},
   "outputs": [],
   "source": [
    "def random_subset(n: int, k:int) -> List[int]:\n",
    "    pass"
   ]
  },
  {
   "cell_type": "markdown",
   "metadata": {},
   "source": [
    "### 5.16: Non-Uniform Random Number Generation\n",
    "Given a list of values and probabilites, generate number from the list that follows the same distribution"
   ]
  },
  {
   "cell_type": "code",
   "execution_count": 47,
   "metadata": {},
   "outputs": [
    {
     "name": "stdout",
     "output_type": "stream",
     "text": [
      "Counter({7: 499221, 5: 249852, 11: 150250, 3: 100677})\n"
     ]
    }
   ],
   "source": [
    "def nonuniform_random_number_generation(values: List[int], probabilities: List[int]) -> int:\n",
    "\n",
    "    cummulative_probs = list(itertools.accumulate(probabilities))    # calculate cummulative sum of probabilities\n",
    "    index = bisect.bisect(cummulative_probs, random.random())        # bisection algorithm\n",
    "    return values[index]\n",
    "\n",
    "frequencies = collections.Counter([nonuniform_random_number_generation([3, 5, 7, 11], [0.1, 0.25, 0.5, 0.15]) for i in range(1000000)])\n",
    "print(frequencies)"
   ]
  },
  {
   "cell_type": "markdown",
   "metadata": {},
   "source": [
    "Take O(n) time to generate array of accumulative probabilites and thus O(n) space too. Once the array is created, take log(n) time to search."
   ]
  },
  {
   "cell_type": "markdown",
   "metadata": {},
   "source": [
    "### 5.17: The Suduko Puzzle Checker\n",
    "Given a partially completed Sudoku, check if it's valid"
   ]
  },
  {
   "cell_type": "code",
   "execution_count": 48,
   "metadata": {},
   "outputs": [
    {
     "name": "stdout",
     "output_type": "stream",
     "text": [
      "[5, 3, 0, 0, 7, 0, 0, 0, 0]\n",
      "[6, 0, 0, 1, 9, 5, 0, 0, 0]\n",
      "[0, 9, 8, 0, 0, 0, 0, 6, 0]\n",
      "[8, 0, 0, 0, 6, 0, 0, 0, 3]\n",
      "[4, 0, 0, 8, 0, 3, 0, 0, 1]\n",
      "[7, 0, 0, 0, 2, 0, 0, 0, 6]\n",
      "[0, 6, 0, 0, 0, 0, 2, 8, 0]\n",
      "[0, 0, 0, 4, 1, 9, 0, 0, 5]\n",
      "[0, 0, 0, 0, 8, 0, 0, 7, 9]\n",
      "True\n"
     ]
    }
   ],
   "source": [
    "def sudoku_validator(sudoku: List[List[int]]) -> bool:\n",
    "\n",
    "    def has_duplicate(nums: List[int]) -> bool:\n",
    "        nums = list(filter(lambda x: x != 0, nums))\n",
    "        return len(nums) != len(set(nums))\n",
    "\n",
    "    n = len(sudoku)\n",
    "\n",
    "    # check if rows\n",
    "    for row in sudoku:\n",
    "        if has_duplicate(row):\n",
    "            return False\n",
    "\n",
    "    # check columns\n",
    "    for c in range(n):\n",
    "        if has_duplicate([row[c] for row in sudoku]):\n",
    "            return False\n",
    "\n",
    "    # check blocks\n",
    "    block_size = int(math.sqrt(n))\n",
    "    for r in range(0, n-1, block_size):     # 0, 3, 9\n",
    "        for c in range(0, n-1, block_size):\n",
    "            if has_duplicate([sudoku[r+row][c+col] for col in range(block_size) for row in range(block_size)]):\n",
    "                return False\n",
    "    \n",
    "    return True\n",
    "\n",
    "\n",
    "sudoku = [[5, 3, 0, 0, 7, 0, 0, 0, 0], \n",
    "[6, 0, 0, 1, 9, 5, 0, 0, 0], \n",
    "[0, 9, 8, 0, 0, 0, 0, 6, 0], \n",
    "[8, 0, 0, 0, 6, 0, 0, 0, 3], \n",
    "[4, 0, 0, 8, 0, 3, 0, 0, 1], \n",
    "[7, 0, 0, 0, 2, 0, 0, 0, 6], \n",
    "[0, 6, 0, 0, 0, 0, 2, 8, 0], \n",
    "[0, 0, 0, 4, 1, 9, 0, 0, 5], \n",
    "[0, 0, 0, 0, 8, 0, 0, 7, 9]]\n",
    "\n",
    "for row in sudoku:\n",
    "    print(row)\n",
    "\n",
    "print(sudoku_validator(sudoku))"
   ]
  },
  {
   "cell_type": "code",
   "execution_count": 49,
   "metadata": {},
   "outputs": [
    {
     "name": "stdout",
     "output_type": "stream",
     "text": [
      "True\n",
      "[5, 3, 0, 0, 7, 0, 0, 0, 0]\n",
      "[6, 0, 0, 1, 9, 5, 0, 0, 0]\n",
      "[0, 9, 8, 0, 0, 0, 0, 6, 0]\n",
      "[8, 0, 0, 0, 6, 0, 0, 0, 3]\n",
      "[4, 0, 0, 8, 0, 3, 0, 0, 1]\n",
      "[7, 0, 0, 0, 2, 0, 0, 0, 6]\n",
      "[0, 6, 0, 0, 0, 0, 2, 8, 0]\n",
      "[0, 0, 0, 4, 1, 9, 0, 0, 5]\n",
      "[0, 0, 0, 0, 8, 0, 0, 7, 9]\n"
     ]
    }
   ],
   "source": [
    "def sudoku_validator(sudoku: List[List[int]]) -> bool:\n",
    "\n",
    "    def has_duplicate(nums: List[int]) -> bool:\n",
    "        nums = list(filter(lambda x: x != 0, nums))\n",
    "        return len(nums) != len(set(nums))\n",
    "\n",
    "    n = len(sudoku)\n",
    "\n",
    "    # check rows and columns\n",
    "    if any(\n",
    "            has_duplicate([sudoku[i][j] for j in range(n)]) # check rows\n",
    "            or\n",
    "            has_duplicate([sudoku[j][i] for j in range(n)])   # check cols\n",
    "            for i in range(n)\n",
    "            ):\n",
    "        print('bad roww/col')\n",
    "        return False\n",
    "\n",
    "\n",
    "    # check blocks\n",
    "    block_size = int(math.sqrt(n))\n",
    "\n",
    "    return all(not has_duplicate([\n",
    "        sudoku[a][b] \n",
    "            for a in range(block_size * I, block_size * (I + 1))\n",
    "            for b in range(block_size * J, block_size * (J + 1))\n",
    "            ])\n",
    "        for I in range(block_size)\n",
    "        for J in range(block_size)\n",
    "    )\n",
    "    \n",
    "\n",
    "\n",
    "sudoku = [[5, 3, 0, 0, 7, 0, 0, 0, 0], \n",
    "[6, 0, 0, 1, 9, 5, 0, 0, 0], \n",
    "[0, 9, 8, 0, 0, 0, 0, 6, 0], \n",
    "[8, 0, 0, 0, 6, 0, 0, 0, 3], \n",
    "[4, 0, 0, 8, 0, 3, 0, 0, 1], \n",
    "[7, 0, 0, 0, 2, 0, 0, 0, 6], \n",
    "[0, 6, 0, 0, 0, 0, 2, 8, 0], \n",
    "[0, 0, 0, 4, 1, 9, 0, 0, 5], \n",
    "[0, 0, 0, 0, 8, 0, 0, 7, 9]]\n",
    "print(sudoku_validator(sudoku))\n",
    "for row in sudoku:\n",
    "    print(row)\n",
    "\n"
   ]
  },
  {
   "cell_type": "markdown",
   "metadata": {},
   "source": [
    "$O(n^2)$ time complexity and $O(n)$ space for checking booleans"
   ]
  },
  {
   "cell_type": "markdown",
   "metadata": {},
   "source": [
    "### 5.18: Compute Spiral Ordering of a Matrix"
   ]
  },
  {
   "cell_type": "code",
   "execution_count": 50,
   "metadata": {},
   "outputs": [],
   "source": [
    "def matrix_in_spiral_order(square_matrix: List[List[int]]) -> List[int]:\n",
    "    # direction: Left | Down | Right | Up\n",
    "    # (shift in x, shift in y)\n",
    "    shift = ((0, 1), (1, 0), (0, -1), (-1, 0))\n",
    "    direction = x = y = 0\n",
    "    spiral_ordering = []\n",
    "\n",
    "    for _ in range(len(square_matrix)**2):\n",
    "        spiral_ordering.append(square_matrix[x][y])\n",
    "        square_matrix[x][y] = None     # indicates already been used\n",
    "        next_x, next_y = x + shift[direction][0], y + shift[direction][1]\n",
    "\n",
    "        if (next_x not in range(len(square_matrix)) \n",
    "            or next_y not in range(len(square_matrix))\n",
    "            or square_matrix[next_x][next_y] is None):\n",
    "\n",
    "            # if direction + 1 in [0, 3], then returns itself\n",
    "            # else direction + 1 is 4 so returns 0\n",
    "            direction = (direction + 1) & 3  \n",
    "            next_x, next_y = x + shift[direction][0], y + shift[direction][1]\n",
    "        \n",
    "        x, y = next_x, next_y\n",
    "    \n",
    "    return spiral_ordering"
   ]
  },
  {
   "cell_type": "code",
   "execution_count": 51,
   "metadata": {},
   "outputs": [],
   "source": [
    "def build_square_matrix(n: int) -> List[int]:\n",
    "    square_matrix = []\n",
    "    values = list(range(1, n**2 + 1))\n",
    "    for i in range(n):\n",
    "        square_matrix.append(values[(i * n):(n * i + n)])\n",
    "    \n",
    "    return square_matrix\n",
    "\n",
    "f = build_square_matrix\n",
    "inputs, outputs = (f(3), f(4)), ([1, 2, 3, 6, 9, 8, 7, 4, 5], [1, 2, 3, 4, 8, 12, 16, 15, 14, 13, 9, 5, 6, 7, 11, 10])\n",
    "run_tests(matrix_in_spiral_order, inputs, outputs)"
   ]
  },
  {
   "cell_type": "markdown",
   "metadata": {},
   "source": [
    "#### Variants"
   ]
  },
  {
   "cell_type": "markdown",
   "metadata": {},
   "source": [
    "### 5.19: Rotate a 2D Array"
   ]
  },
  {
   "cell_type": "code",
   "execution_count": 52,
   "metadata": {},
   "outputs": [
    {
     "name": "stdout",
     "output_type": "stream",
     "text": [
      "[[7, 4, 1], [8, 5, 2], [9, 6, 3]]\n",
      "\n",
      "[[13, 9, 5, 1], [14, 10, 6, 2], [15, 11, 7, 3], [16, 12, 8, 4]]\n",
      "\n"
     ]
    }
   ],
   "source": [
    "def rotate_matrix(square_matrix: List[List[int]]) -> None:\n",
    "    matrix_size = len(square_matrix) - 1\n",
    "\n",
    "    for i in range(len(square_matrix) // 2):   # process rings\n",
    "        for j in range(i, matrix_size - i):    # process elements in ring\n",
    "            # Perform a 4-way exchange\n",
    "            # A[~i] = A[-1(i+1)]\n",
    "            (square_matrix[i][j], square_matrix[~j][i], square_matrix[~i][~j], \n",
    "            square_matrix[j][~i]) = (square_matrix[~j][i], \n",
    "                                    square_matrix[~i][~j], \n",
    "                                    square_matrix[j][~i], \n",
    "                                    square_matrix[i][j]\n",
    "                                   )\n",
    "\n",
    "A = build_square_matrix(3)\n",
    "rotate_matrix(A)\n",
    "print(A)\n",
    "print()\n",
    "A = build_square_matrix(4)\n",
    "rotate_matrix(A)\n",
    "print(A)\n",
    "print()"
   ]
  },
  {
   "cell_type": "markdown",
   "metadata": {},
   "source": [
    "#### Variants: Reflections"
   ]
  },
  {
   "cell_type": "markdown",
   "metadata": {},
   "source": [
    "### 5.20: Compute Rows in Pascal's Triangle"
   ]
  },
  {
   "cell_type": "code",
   "execution_count": 53,
   "metadata": {},
   "outputs": [
    {
     "name": "stdout",
     "output_type": "stream",
     "text": [
      "1\n",
      "[1, 1]\n",
      "[1, 2, 1]\n",
      "[1, 3, 3, 1]\n",
      "[1, 4, 6, 4, 1]\n",
      "[1, 5, 10, 10, 5, 1]\n"
     ]
    }
   ],
   "source": [
    "def generate_pascals_triangle(n: int) -> List[List[int]]:\n",
    "    \n",
    "    triangle = [1]\n",
    "    if n == 0:\n",
    "        return triangle\n",
    "    \n",
    "    triangle.append([1, 1])\n",
    "    if n == 1:\n",
    "        return triangle\n",
    "\n",
    "    for i in range(2, n):\n",
    "        row = [0] * (i+1)\n",
    "        for j in range(1, i):\n",
    "            row[j] = triangle[i-1][j-1] + triangle[i-1][j]\n",
    "        row[0], row[-1] = 1, 1\n",
    "        triangle.append(row)\n",
    "    \n",
    "    return triangle\n",
    "\n",
    "triangle = generate_pascals_triangle(6)\n",
    "for row in triangle:\n",
    "    print(row)"
   ]
  },
  {
   "cell_type": "code",
   "execution_count": 54,
   "metadata": {},
   "outputs": [
    {
     "name": "stdout",
     "output_type": "stream",
     "text": [
      "[1]\n",
      "[1, 1]\n",
      "[1, 2, 1]\n",
      "[1, 3, 3, 1]\n",
      "[1, 4, 6, 4, 1]\n",
      "[1, 5, 10, 10, 5, 1]\n"
     ]
    }
   ],
   "source": [
    "def generate_pascals_triangle(n: int) -> List[List[int]]:\n",
    "\n",
    "    # intialize triangle with ones\n",
    "    triangle = [[1] * (i + 1) for i in range(n)]\n",
    "\n",
    "    for i in range(n):\n",
    "        for j in range(1, i):\n",
    "            triangle[i][j] = triangle[i-1][j-1] + triangle[i-1][j]\n",
    "    \n",
    "    return triangle\n",
    "\n",
    "triangle = generate_pascals_triangle(6)\n",
    "for row in triangle:\n",
    "    print(row)"
   ]
  },
  {
   "cell_type": "markdown",
   "metadata": {},
   "source": [
    "Each element takes $O(n)$ time to compute, so time complexity is $O(1 + 2 + 3 + ... + n) = O\\left(\\frac{n(n+1)}{2}\\right) = O(n^2)$. Similarly, space complexity is $O(n^2)$."
   ]
  },
  {
   "cell_type": "markdown",
   "metadata": {},
   "source": [
    "#### Variant: Calculate n-th row of Pascal's triangle using $O(n)$ space"
   ]
  },
  {
   "cell_type": "code",
   "execution_count": 55,
   "metadata": {},
   "outputs": [
    {
     "ename": "AttributeError",
     "evalue": "module 'math' has no attribute 'comb'",
     "output_type": "error",
     "traceback": [
      "\u001b[0;31m---------------------------------------------------------------------------\u001b[0m",
      "\u001b[0;31mAttributeError\u001b[0m                            Traceback (most recent call last)",
      "\u001b[0;32m<ipython-input-55-f298b2411457>\u001b[0m in \u001b[0;36m<module>\u001b[0;34m\u001b[0m\n\u001b[1;32m     19\u001b[0m \u001b[0;34m\u001b[0m\u001b[0m\n\u001b[1;32m     20\u001b[0m \u001b[0minputs\u001b[0m\u001b[0;34m,\u001b[0m \u001b[0moutputs\u001b[0m \u001b[0;34m=\u001b[0m \u001b[0;34m(\u001b[0m\u001b[0;36m7\u001b[0m\u001b[0;34m,\u001b[0m \u001b[0;36m8\u001b[0m\u001b[0;34m,\u001b[0m \u001b[0;36m5\u001b[0m\u001b[0;34m,\u001b[0m \u001b[0;36m4\u001b[0m\u001b[0;34m,\u001b[0m \u001b[0;36m0\u001b[0m\u001b[0;34m,\u001b[0m \u001b[0;36m1\u001b[0m\u001b[0;34m)\u001b[0m\u001b[0;34m,\u001b[0m \u001b[0;34m(\u001b[0m\u001b[0;34m[\u001b[0m\u001b[0;36m1\u001b[0m\u001b[0;34m,\u001b[0m \u001b[0;36m7\u001b[0m\u001b[0;34m,\u001b[0m \u001b[0;36m21\u001b[0m\u001b[0;34m,\u001b[0m \u001b[0;36m35\u001b[0m\u001b[0;34m,\u001b[0m \u001b[0;36m35\u001b[0m\u001b[0;34m,\u001b[0m \u001b[0;36m21\u001b[0m\u001b[0;34m,\u001b[0m \u001b[0;36m7\u001b[0m\u001b[0;34m,\u001b[0m \u001b[0;36m1\u001b[0m\u001b[0;34m]\u001b[0m\u001b[0;34m,\u001b[0m \u001b[0;34m[\u001b[0m\u001b[0;36m1\u001b[0m\u001b[0;34m,\u001b[0m \u001b[0;36m7\u001b[0m\u001b[0;34m,\u001b[0m \u001b[0;36m21\u001b[0m\u001b[0;34m,\u001b[0m \u001b[0;36m35\u001b[0m\u001b[0;34m,\u001b[0m \u001b[0;36m35\u001b[0m\u001b[0;34m,\u001b[0m \u001b[0;36m21\u001b[0m\u001b[0;34m,\u001b[0m \u001b[0;36m7\u001b[0m\u001b[0;34m,\u001b[0m \u001b[0;36m1\u001b[0m\u001b[0;34m]\u001b[0m\u001b[0;34m,\u001b[0m \u001b[0;34m[\u001b[0m\u001b[0;36m1\u001b[0m\u001b[0;34m,\u001b[0m \u001b[0;36m7\u001b[0m\u001b[0;34m,\u001b[0m \u001b[0;36m21\u001b[0m\u001b[0;34m,\u001b[0m \u001b[0;36m35\u001b[0m\u001b[0;34m,\u001b[0m \u001b[0;36m35\u001b[0m\u001b[0;34m,\u001b[0m \u001b[0;36m21\u001b[0m\u001b[0;34m,\u001b[0m \u001b[0;36m7\u001b[0m\u001b[0;34m,\u001b[0m \u001b[0;36m1\u001b[0m\u001b[0;34m]\u001b[0m\u001b[0;34m,\u001b[0m \u001b[0;34m[\u001b[0m\u001b[0;36m1\u001b[0m\u001b[0;34m,\u001b[0m \u001b[0;36m4\u001b[0m\u001b[0;34m,\u001b[0m \u001b[0;36m6\u001b[0m\u001b[0;34m,\u001b[0m \u001b[0;36m4\u001b[0m\u001b[0;34m,\u001b[0m \u001b[0;36m1\u001b[0m\u001b[0;34m]\u001b[0m\u001b[0;34m,\u001b[0m \u001b[0;34m[\u001b[0m\u001b[0;36m1\u001b[0m\u001b[0;34m]\u001b[0m\u001b[0;34m,\u001b[0m \u001b[0;34m[\u001b[0m\u001b[0;36m1\u001b[0m\u001b[0;34m,\u001b[0m \u001b[0;36m1\u001b[0m\u001b[0;34m]\u001b[0m\u001b[0;34m)\u001b[0m\u001b[0;34m\u001b[0m\u001b[0;34m\u001b[0m\u001b[0m\n\u001b[0;32m---> 21\u001b[0;31m \u001b[0mrun_tests\u001b[0m\u001b[0;34m(\u001b[0m\u001b[0mgenerate_nth_row_pascals_triangle\u001b[0m\u001b[0;34m,\u001b[0m \u001b[0minputs\u001b[0m\u001b[0;34m,\u001b[0m \u001b[0moutputs\u001b[0m\u001b[0;34m)\u001b[0m\u001b[0;34m\u001b[0m\u001b[0;34m\u001b[0m\u001b[0m\n\u001b[0m",
      "\u001b[0;32m<ipython-input-10-570385b5ef11>\u001b[0m in \u001b[0;36mrun_tests\u001b[0;34m(f, inputs, answers)\u001b[0m\n\u001b[1;32m      1\u001b[0m \u001b[0;32mdef\u001b[0m \u001b[0mrun_tests\u001b[0m\u001b[0;34m(\u001b[0m\u001b[0mf\u001b[0m\u001b[0;34m,\u001b[0m \u001b[0minputs\u001b[0m\u001b[0;34m:\u001b[0m \u001b[0mTuple\u001b[0m\u001b[0;34m,\u001b[0m \u001b[0manswers\u001b[0m\u001b[0;34m:\u001b[0m \u001b[0mTuple\u001b[0m\u001b[0;34m)\u001b[0m\u001b[0;34m:\u001b[0m\u001b[0;34m\u001b[0m\u001b[0;34m\u001b[0m\u001b[0m\n\u001b[1;32m      2\u001b[0m     \u001b[0;32mfor\u001b[0m \u001b[0minput\u001b[0m\u001b[0;34m,\u001b[0m \u001b[0mans\u001b[0m \u001b[0;32min\u001b[0m \u001b[0mzip\u001b[0m\u001b[0;34m(\u001b[0m\u001b[0minputs\u001b[0m\u001b[0;34m,\u001b[0m \u001b[0manswers\u001b[0m\u001b[0;34m)\u001b[0m\u001b[0;34m:\u001b[0m\u001b[0;34m\u001b[0m\u001b[0;34m\u001b[0m\u001b[0m\n\u001b[0;32m----> 3\u001b[0;31m         \u001b[0mresult\u001b[0m \u001b[0;34m=\u001b[0m \u001b[0mf\u001b[0m\u001b[0;34m(\u001b[0m\u001b[0minput\u001b[0m\u001b[0;34m)\u001b[0m\u001b[0;34m\u001b[0m\u001b[0;34m\u001b[0m\u001b[0m\n\u001b[0m\u001b[1;32m      4\u001b[0m         \u001b[0;32massert\u001b[0m \u001b[0mresult\u001b[0m \u001b[0;34m==\u001b[0m \u001b[0mans\u001b[0m\u001b[0;34m,\u001b[0m \u001b[0;34mf'Error. Expected {ans} for input {input}. Got {result}'\u001b[0m\u001b[0;34m\u001b[0m\u001b[0;34m\u001b[0m\u001b[0m\n",
      "\u001b[0;32m<ipython-input-55-f298b2411457>\u001b[0m in \u001b[0;36mgenerate_nth_row_pascals_triangle\u001b[0;34m(n)\u001b[0m\n\u001b[1;32m      9\u001b[0m     \u001b[0mmid_point\u001b[0m \u001b[0;34m=\u001b[0m  \u001b[0mmath\u001b[0m\u001b[0;34m.\u001b[0m\u001b[0mfloor\u001b[0m\u001b[0;34m(\u001b[0m\u001b[0;34m(\u001b[0m\u001b[0mn\u001b[0m\u001b[0;34m)\u001b[0m\u001b[0;34m/\u001b[0m\u001b[0;36m2\u001b[0m\u001b[0;34m)\u001b[0m   \u001b[0;31m# index of midpoint\u001b[0m\u001b[0;34m\u001b[0m\u001b[0;34m\u001b[0m\u001b[0m\n\u001b[1;32m     10\u001b[0m     \u001b[0;32mfor\u001b[0m \u001b[0mi\u001b[0m \u001b[0;32min\u001b[0m \u001b[0mrange\u001b[0m\u001b[0;34m(\u001b[0m\u001b[0;36m2\u001b[0m\u001b[0;34m,\u001b[0m \u001b[0mmid_point\u001b[0m\u001b[0;34m+\u001b[0m\u001b[0;36m1\u001b[0m\u001b[0;34m)\u001b[0m\u001b[0;34m:\u001b[0m\u001b[0;34m\u001b[0m\u001b[0;34m\u001b[0m\u001b[0m\n\u001b[0;32m---> 11\u001b[0;31m         \u001b[0mrow\u001b[0m\u001b[0;34m[\u001b[0m\u001b[0mi\u001b[0m\u001b[0;34m]\u001b[0m \u001b[0;34m=\u001b[0m \u001b[0mmath\u001b[0m\u001b[0;34m.\u001b[0m\u001b[0mcomb\u001b[0m\u001b[0;34m(\u001b[0m\u001b[0mn\u001b[0m\u001b[0;34m,\u001b[0m \u001b[0mi\u001b[0m\u001b[0;34m)\u001b[0m\u001b[0;34m\u001b[0m\u001b[0;34m\u001b[0m\u001b[0m\n\u001b[0m\u001b[1;32m     12\u001b[0m \u001b[0;34m\u001b[0m\u001b[0m\n\u001b[1;32m     13\u001b[0m     \u001b[0;31m# triangle is symmetric around midpoint so copy value to second half\u001b[0m\u001b[0;34m\u001b[0m\u001b[0;34m\u001b[0m\u001b[0;34m\u001b[0m\u001b[0m\n",
      "\u001b[0;31mAttributeError\u001b[0m: module 'math' has no attribute 'comb'"
     ]
    }
   ],
   "source": [
    "def generate_nth_row_pascals_triangle(n: int) -> List[int]:\n",
    "    if n == 0:\n",
    "        return [1]\n",
    "    \n",
    "    row = [1] * (n + 1)     # no need to calculate combination of choose 0\n",
    "    row[1], row[-2] = n, n \n",
    "\n",
    "    # calculate first half of combinations\n",
    "    mid_point =  math.floor((n)/2)   # index of midpoint\n",
    "    for i in range(2, mid_point+1):\n",
    "        row[i] = math.comb(n, i)\n",
    "        \n",
    "    # triangle is symmetric around midpoint so copy value to second half\n",
    "    shift = 1 if n % 2 == 0 else 0\n",
    "    for i in range(n-mid_point-2):\n",
    "        row[mid_point + 1 + i] = row[mid_point - i - shift]\n",
    "\n",
    "    return row \n",
    "\n",
    "inputs, outputs = (7, 8, 5, 4, 0, 1), ([1, 7, 21, 35, 35, 21, 7, 1], [1, 7, 21, 35, 35, 21, 7, 1], [1, 7, 21, 35, 35, 21, 7, 1], [1, 4, 6, 4, 1], [1], [1, 1])\n",
    "run_tests(generate_nth_row_pascals_triangle, inputs, outputs)"
   ]
  }
 ],
 "metadata": {
  "kernelspec": {
   "display_name": "Python 3.6.13 ('survtrace')",
   "language": "python",
   "name": "python3"
  },
  "language_info": {
   "codemirror_mode": {
    "name": "ipython",
    "version": 3
   },
   "file_extension": ".py",
   "mimetype": "text/x-python",
   "name": "python",
   "nbconvert_exporter": "python",
   "pygments_lexer": "ipython3",
   "version": "3.6.13 |Anaconda, Inc.| (default, Jun  4 2021, 14:25:59) \n[GCC 7.5.0]"
  },
  "orig_nbformat": 4,
  "vscode": {
   "interpreter": {
    "hash": "7350660d3aac55fe8c4b8dcc925e909d6449502b265d5ee80d6d6f39ced54ac7"
   }
  }
 },
 "nbformat": 4,
 "nbformat_minor": 2
}
