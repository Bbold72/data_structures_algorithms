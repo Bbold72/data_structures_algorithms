{
 "cells": [
  {
   "cell_type": "markdown",
   "metadata": {},
   "source": [
    "# Stacks and Queues"
   ]
  },
  {
   "cell_type": "code",
   "execution_count": 1,
   "metadata": {},
   "outputs": [],
   "source": [
    "from typing import Deque, List, Optional\n",
    "from collections import deque, namedtuple\n",
    "from dataclasses import dataclass\n",
    "\n",
    "from utils import run_tests"
   ]
  },
  {
   "cell_type": "markdown",
   "metadata": {},
   "source": [
    "## Stacks\n",
    "- have LIFO (last-in, first-out) structure\n",
    "\n",
    "### Tips\n",
    "- Learn to recognize when the stack **LIFO** property is **applicable**. For example, **parsing** typically benefits from a stack.\n",
    "- Consider **augmenting** the basic stack or queue data structure to support additional operations, such as finding the maximum element.\n",
    "\n",
    "### Libraries\n",
    "Use a list if not required to implement your own stack   \n",
    "Note: When called on an empty list, both stack[-1] and stack.pop() raise an IndexError exception"
   ]
  },
  {
   "cell_type": "code",
   "execution_count": 2,
   "metadata": {},
   "outputs": [
    {
     "name": "stdout",
     "output_type": "stream",
     "text": [
      "stack:                                           [1, 2, 3]\n",
      "push an element on to the stack: stack.append(): None\n",
      "retrieve without removing from stack: stack[-1]: 5\n",
      "remove top element from stack: stack.pop():      5\n",
      "test if stack is empty: len(stack) == 0          False\n"
     ]
    }
   ],
   "source": [
    "stack = [1, 2, 3]\n",
    "print('stack:                                          ', stack)\n",
    "\n",
    "print('push an element on to the stack: stack.append():', stack.append(5))\n",
    "\n",
    "print('retrieve without removing from stack: stack[-1]:', stack[-1])\n",
    "\n",
    "print('remove top element from stack: stack.pop():     ', stack.pop())\n",
    "\n",
    "print('test if stack is empty: len(stack) == 0         ', len(stack) == 0)\n"
   ]
  },
  {
   "cell_type": "markdown",
   "metadata": {},
   "source": [
    "## Queues\n",
    "- have FIFO (First-in, first-out) structure\n",
    "\n",
    "### Tips\n",
    "- Learn to recognize when the stack **LIFO** property is **applicable**. For example, queues are ideal when **order** needs to be **preserved**\n",
    "\n",
    "### Libraries\n",
    "Use a collections.deque class"
   ]
  },
  {
   "cell_type": "code",
   "execution_count": 5,
   "metadata": {},
   "outputs": [
    {
     "name": "stdout",
     "output_type": "stream",
     "text": [
      "Queue:                                                   deque([0, 1, 2, 3, 4])\n",
      "push an element on to queue: queue.append():             None\n",
      "retrieve but not remove: queue[0]:                       0\n",
      "retrieve and remove element from queue: queue.popleft(): 0\n",
      "Queue:                                                   deque([1, 2, 3, 4, 10])\n",
      "to remove from end: pop():                               10\n",
      "add to front: appendleft():                              None\n",
      "Queue:                                                   deque([100, 1, 2, 3, 4])\n"
     ]
    }
   ],
   "source": [
    "queue = deque(range(5))\n",
    "print('Queue:                                                  ', queue)\n",
    "\n",
    "print('push an element on to queue: queue.append():            ', queue.append(10))   # adds to end\n",
    "\n",
    "print('retrieve but not remove: queue[0]:                      ', queue[0])\n",
    "\n",
    "print('retrieve and remove element from queue: queue.popleft():', queue.popleft())   # remove from front\n",
    "\n",
    "print('Queue:                                                  ', queue)\n",
    "\n",
    "print('to remove from end: pop():                              ', queue.pop())       # remove from end\n",
    "\n",
    "print('add to front: appendleft():                             ', queue.appendleft(100))\n",
    "\n",
    "print('Queue:                                                  ', queue)\n"
   ]
  },
  {
   "cell_type": "markdown",
   "metadata": {},
   "source": [
    "### Queue Class"
   ]
  },
  {
   "cell_type": "code",
   "execution_count": 7,
   "metadata": {},
   "outputs": [],
   "source": [
    "class Queue:\n",
    "\n",
    "    def __init__(self) -> None:\n",
    "        self._queue: Deque[int] = deque()\n",
    "    \n",
    "    def is_empty(self) -> bool:\n",
    "        return len(self._queue) == 0\n",
    "\n",
    "    def enqueue(self, data: int) -> None:\n",
    "        self._queue.append(data)\n",
    "\n",
    "    def dequeue(self) -> int:\n",
    "        return self._queue.popleft()\n",
    "\n",
    "    def max(self) -> int:\n",
    "        return max(self._queue)"
   ]
  },
  {
   "cell_type": "code",
   "execution_count": 8,
   "metadata": {},
   "outputs": [
    {
     "name": "stdout",
     "output_type": "stream",
     "text": [
      "True\n",
      "max: 1\n",
      "max: 4\n",
      "max: 5\n",
      "max: 6\n",
      "max: 6\n",
      "max: 6\n",
      "max: 10\n",
      "1\n",
      "10\n",
      "4\n"
     ]
    }
   ],
   "source": [
    "q = Queue()\n",
    "print(q.is_empty())\n",
    "for i in [1, 4, 5, 6, 1, 2, 10]:\n",
    "    q.enqueue(i)\n",
    "    print('max:', q.max())\n",
    "print(q.dequeue())\n",
    "print(q.max())\n",
    "print(q.dequeue())"
   ]
  },
  {
   "cell_type": "markdown",
   "metadata": {},
   "source": [
    "## Stack Problems"
   ]
  },
  {
   "cell_type": "markdown",
   "metadata": {},
   "source": [
    "### 8.1: Implement a Stack with a Max API"
   ]
  },
  {
   "cell_type": "code",
   "execution_count": 15,
   "metadata": {},
   "outputs": [],
   "source": [
    "class StackMax:\n",
    "\n",
    "    ElementWithCachedMax = namedtuple('ElementWithCachedMax', ['element', 'max'])\n",
    "\n",
    "    def __init__(self) -> None:\n",
    "        self._stack: List[StackMax.ElementWithCachedMax] = []\n",
    "\n",
    "    def is_empty(self) -> bool:\n",
    "        return len(self._stack) == 0\n",
    "\n",
    "    def pop(self) -> int:\n",
    "        return self._stack.pop().element\n",
    "\n",
    "    def max(self) -> int:\n",
    "        return self._stack[-1].max \n",
    "\n",
    "    def push(self, num: int) -> None:\n",
    "        self._stack.append(\n",
    "            self.ElementWithCachedMax(\n",
    "                num, num if self.is_empty() else max([num, self.max()])\n",
    "                )\n",
    "        )\n"
   ]
  },
  {
   "cell_type": "markdown",
   "metadata": {},
   "source": [
    "Each method is $O(1)$ time complexity. $O(n)$ space complexity."
   ]
  },
  {
   "cell_type": "code",
   "execution_count": 19,
   "metadata": {},
   "outputs": [
    {
     "name": "stdout",
     "output_type": "stream",
     "text": [
      "True\n",
      "[]\n",
      "[ElementWithCachedMax(element=9, max=9), ElementWithCachedMax(element=8, max=9), ElementWithCachedMax(element=7, max=9), ElementWithCachedMax(element=6, max=9), ElementWithCachedMax(element=5, max=9), ElementWithCachedMax(element=4, max=9), ElementWithCachedMax(element=3, max=9), ElementWithCachedMax(element=2, max=9), ElementWithCachedMax(element=1, max=9), ElementWithCachedMax(element=0, max=9)]\n",
      "9\n",
      "0\n",
      "9\n",
      "\n",
      "True\n",
      "[]\n",
      "[ElementWithCachedMax(element=2, max=2), ElementWithCachedMax(element=2, max=2), ElementWithCachedMax(element=1, max=2), ElementWithCachedMax(element=1, max=2), ElementWithCachedMax(element=5, max=5), ElementWithCachedMax(element=3, max=5), ElementWithCachedMax(element=2, max=5), ElementWithCachedMax(element=0, max=5)]\n",
      "5\n",
      "0\n",
      "5\n"
     ]
    }
   ],
   "source": [
    "s = StackMax()\n",
    "print(s.is_empty())\n",
    "print(s._stack)\n",
    "for i in reversed(range(10)):\n",
    "    s.push(i)\n",
    "print(s._stack)\n",
    "print(s.max())\n",
    "print(s.pop())\n",
    "print(s.max())\n",
    "\n",
    "print()\n",
    "\n",
    "s = StackMax()\n",
    "print(s.is_empty())\n",
    "print(s._stack)\n",
    "for i in [2, 2, 1, 1, 5, 3, 2, 0]:\n",
    "    s.push(i)\n",
    "print(s._stack)\n",
    "print(s.max())\n",
    "print(s.pop())\n",
    "print(s.max())"
   ]
  },
  {
   "cell_type": "markdown",
   "metadata": {},
   "source": [
    "#### Variant: Improve space complexity for many duplicate entries\n",
    "each element on stack has a max value in stack but this wastes space when there are a ton of duplicates"
   ]
  },
  {
   "cell_type": "code",
   "execution_count": 34,
   "metadata": {},
   "outputs": [],
   "source": [
    "class StackMaxDuplicates:\n",
    "\n",
    "\n",
    "    @dataclass\n",
    "    class CachedMaxCount:\n",
    "        max: int\n",
    "        count: int = 1\n",
    "\n",
    "        def increment(self) -> None:\n",
    "            self.count += 1\n",
    "        \n",
    "        def decrement(self) -> None:\n",
    "            self.count -= 1\n",
    "\n",
    "\n",
    "    def __init__(self) -> None:\n",
    "        self._stack: List[int] = []\n",
    "        self._max_stack: List[StackMaxDuplicates.CachedMaxCount] = []\n",
    "\n",
    "    def is_empty(self) -> bool:\n",
    "        return len(self._stack) == 0\n",
    "\n",
    "    def pop(self) -> int:\n",
    "        # update max stack count\n",
    "        self._max_stack[-1].decrement()\n",
    "        if self._max_stack[-1].count == 0:\n",
    "            self._max_stack.pop()\n",
    "        return self._stack.pop()\n",
    "\n",
    "    def max(self) -> int:\n",
    "        return self._max_stack[-1].max \n",
    "\n",
    "    def push(self, num: int) -> None:\n",
    "        # update max stack\n",
    "        if self.is_empty() or num > self._max_stack[-1].max:\n",
    "            self._max_stack.append(self.CachedMaxCount(num))\n",
    "        else:\n",
    "            self._max_stack[-1].increment()\n",
    "        \n",
    "        # add elemnt to stack\n",
    "        self._stack.append(num)\n"
   ]
  },
  {
   "cell_type": "code",
   "execution_count": 38,
   "metadata": {},
   "outputs": [
    {
     "name": "stdout",
     "output_type": "stream",
     "text": [
      "True\n",
      "[2, 2, 1, 1, 5, 3, 2, 0, 10]\n",
      "[StackMaxDuplicates.CachedMaxCount(max=2, count=4), StackMaxDuplicates.CachedMaxCount(max=5, count=4), StackMaxDuplicates.CachedMaxCount(max=10, count=1)]\n",
      "element: 10 max: 10\n",
      "element: 0 max: 5\n",
      "element: 2 max: 5\n",
      "element: 3 max: 5\n",
      "element: 5 max: 5\n",
      "element: 1 max: 2\n",
      "element: 1 max: 2\n",
      "element: 2 max: 2\n",
      "element: 2 max: 2\n"
     ]
    }
   ],
   "source": [
    "s = StackMaxDuplicates()\n",
    "print(s.is_empty())\n",
    "for i in [2, 2, 1, 1, 5, 3, 2, 0, 10]:\n",
    "    s.push(i)\n",
    "print(s._stack)\n",
    "print(s._max_stack)\n",
    "while not s.is_empty():\n",
    "    m = s.max()\n",
    "    num = s.pop()\n",
    "    print('element:', num, 'max:', m)"
   ]
  },
  {
   "cell_type": "markdown",
   "metadata": {},
   "source": [
    "### 8.2: Evaluate RPN Expressions\n",
    "Reverse Polish Notation:\n",
    "- Is is a single digit or a sequence of digits, prefixed with an option '-', e.g., '-5', '9', '123'\n",
    "- It is of the form \"A,B,@\" where @ is one of '+', '-', 'x', '/'\n",
    "e.g.: '1729', '3,4,+,2,x,1,+', '1,1,+,-2,x'   \n",
    "Can be evaluate uniquely to an integer   \n",
    "Divsion is floor division"
   ]
  },
  {
   "cell_type": "code",
   "execution_count": 39,
   "metadata": {},
   "outputs": [],
   "source": [
    "def evaluate_rpn(expression: str, delimiter: str=',') -> int:\n",
    "\n",
    "    operations = {\n",
    "                    '+': lambda x, y: x + y,\n",
    "                    '-': lambda x, y: x - y,\n",
    "                    'x': lambda x, y: x * y,\n",
    "                    '/': lambda x, y: x // y,\n",
    "    }\n",
    "\n",
    "    rpn = expression.split(delimiter)\n",
    "    stack = []\n",
    "    for s in rpn:\n",
    "        if s in operations:\n",
    "            x, y = stack.pop(), stack.pop()\n",
    "            stack.append(operations[s](x, y))\n",
    "        else:\n",
    "            stack.append(int(s))\n",
    "\n",
    "    return stack.pop()\n",
    "        \n",
    "inputs, outputs = ('1729', '5,3,+', '3,4,+,2,x,1,+', '1,1,+,-2,x'), (1729, 8, 15, -4)\n",
    "run_tests(evaluate_rpn, inputs, outputs)"
   ]
  },
  {
   "cell_type": "markdown",
   "metadata": {},
   "source": [
    "$O(n)$ time complexity"
   ]
  },
  {
   "cell_type": "markdown",
   "metadata": {},
   "source": [
    "#### Variant: Rule 2 operation is flipped\n",
    "i.e. *,A,B"
   ]
  },
  {
   "cell_type": "code",
   "execution_count": 41,
   "metadata": {},
   "outputs": [],
   "source": [
    "def evaluate_rpn_flipped(expression: str, delimiter: str=',') -> int:\n",
    "\n",
    "    operations = {\n",
    "                    '+': lambda x, y: x + y,\n",
    "                    '-': lambda x, y: x - y,\n",
    "                    'x': lambda x, y: x * y,\n",
    "                    '/': lambda x, y: x // y,\n",
    "    }\n",
    "\n",
    "    rpn = expression.split(delimiter)\n",
    "\n",
    "    if len(rpn) == 1:\n",
    "        return int(rpn[0])\n",
    "\n",
    "    operation, A, B = rpn[0:3]\n",
    "    result = operations[operation](int(A), int(B))\n",
    "\n",
    "    if len(rpn) > 3:\n",
    "        i = 3\n",
    "        while i < len(rpn):\n",
    "            operation, num = rpn[i], int(rpn[i+1])\n",
    "            result = operations[operation](result, num)\n",
    "            i += 2\n",
    "\n",
    "    return result\n",
    "        \n",
    "inputs, outputs = ('1729', '+,5,3', '+,3,4,x,2,+,1', '+,1,1,x,-2'), (1729, 8, 15, -4)\n",
    "run_tests(evaluate_rpn_flipped, inputs, outputs)"
   ]
  },
  {
   "cell_type": "markdown",
   "metadata": {},
   "source": [
    "### 8.3: Is a String Well-Formed?\n",
    "A string over the characters \"[](){}\" is well-formed if the different types of brackets match in the correct order"
   ]
  },
  {
   "cell_type": "code",
   "execution_count": 52,
   "metadata": {},
   "outputs": [],
   "source": [
    "def is_well_formed(s: str) -> int:\n",
    "\n",
    "    lookup = {\n",
    "                        '[': ']',\n",
    "                        '(': ')',\n",
    "                        '{': '}'\n",
    "    }\n",
    "    left_brackets = []\n",
    "    for token in s:\n",
    "        if token in lookup:\n",
    "            left_brackets.append(token)\n",
    "        else:\n",
    "            if len(left_brackets) == 0 or token != lookup[left_brackets.pop()]:\n",
    "                return False \n",
    "    return True \n",
    "\n",
    "inputs, outputs = ('[]{}()', '[{()}]', '][()', '[[)]', '([]){()}', '[()[]{()()}]'), (True, True, False, False, True, True)\n",
    "run_tests(is_well_formed, inputs, outputs)"
   ]
  },
  {
   "cell_type": "markdown",
   "metadata": {},
   "source": [
    "$O(n)$ time complexity"
   ]
  },
  {
   "cell_type": "code",
   "execution_count": 53,
   "metadata": {},
   "outputs": [
    {
     "data": {
      "text/plain": [
       "True"
      ]
     },
     "execution_count": 53,
     "metadata": {},
     "output_type": "execute_result"
    }
   ],
   "source": [
    "is_well_formed('[]()')"
   ]
  },
  {
   "cell_type": "markdown",
   "metadata": {},
   "source": [
    "### 8.4: Normalize Pathnames"
   ]
  },
  {
   "cell_type": "markdown",
   "metadata": {},
   "source": [
    "### 8.5: Compute Buildings with a Sunset View"
   ]
  },
  {
   "cell_type": "markdown",
   "metadata": {},
   "source": [
    "## Queue Problems"
   ]
  },
  {
   "cell_type": "markdown",
   "metadata": {},
   "source": [
    "### 8.6: Compute Binary Tree Nodes in Order of Increasing Depth"
   ]
  },
  {
   "cell_type": "markdown",
   "metadata": {},
   "source": [
    "### 8.7: Implement a Circular Queue"
   ]
  },
  {
   "cell_type": "code",
   "execution_count": 28,
   "metadata": {},
   "outputs": [],
   "source": [
    "class CircularQueue:\n",
    "    SCALE_FACTOR = 2\n",
    "\n",
    "    def __init__(self, capacity: int) -> None:\n",
    "        self.capacity: int = capacity\n",
    "        self.size: int = 0\n",
    "        self.head: int = 0\n",
    "        self.tail: int = 0\n",
    "        self.queue: List[int] = [-1] * capacity\n",
    "\n",
    "    def is_empty(self) -> bool:\n",
    "        return self.size == 0\n",
    "\n",
    "    def enqueue(self, data: int) -> None:\n",
    "        if self.size == self.capacity:\n",
    "            self._grow_array()\n",
    "\n",
    "        self.queue[self.tail] = data \n",
    "        self.tail = (self.tail + 1) % self.capacity\n",
    "        self.size += 1\n",
    "\n",
    "    def dequeue(self) -> int:\n",
    "        if self.size == 0:\n",
    "            raise IndexError('Queue is empty')\n",
    "        if self.size < self.capacity / (self.SCALE_FACTOR * self.SCALE_FACTOR):\n",
    "            self._shrink_array()\n",
    "        val = self.queue[self.head]\n",
    "        self.head = (self.head + 1) % self.capacity\n",
    "        self.size -= 1\n",
    "        return val\n",
    "\n",
    "\n",
    "    def _grow_array(self) -> None:\n",
    "        # put elements consequtively\n",
    "        # items at end could come before head\n",
    "        self.queue = self.queue[self.head:] + self.queue[:self.head]\n",
    "\n",
    "        # reset head and tail\n",
    "        self.head = 0\n",
    "        self.tail = self.size\n",
    "\n",
    "        self.capacity *= self.SCALE_FACTOR\n",
    "        self.queue += [-1] * (self.capacity // self.SCALE_FACTOR)\n",
    "        \n",
    "    \n",
    "    # def _shrink_array(self) -> None:\n",
    "    #     # put elements consequtively\n",
    "    #     # items at end could come before head\n",
    "    #     self.queue = self.queue[self.head:] + self.queue[:self.head]\n",
    "\n",
    "    #     # reset head and tail\n",
    "    #     self.head = 0\n",
    "    #     self.tail = self.size\n",
    "\n",
    "    #     self.capacity //= (self.SCALE_FACTOR * self.SCALE_FACTOR)\n",
    "    #     self.queue = self.queue[:self.capacity]\n",
    "        \n",
    "\n",
    "        \n"
   ]
  },
  {
   "cell_type": "markdown",
   "metadata": {},
   "source": [
    "Time complexity of dequeue is $O(1)$ and the amortized time of enqueue is $O(1)$"
   ]
  },
  {
   "cell_type": "code",
   "execution_count": 34,
   "metadata": {},
   "outputs": [
    {
     "name": "stdout",
     "output_type": "stream",
     "text": [
      "[0, 1, 2, 3, 4, 5, -1, -1]\n",
      "0\n",
      "1\n",
      "2\n",
      "3\n",
      "4\n",
      "5\n",
      "[5, -1]\n",
      "2\n"
     ]
    }
   ],
   "source": [
    "q = CircularQueue(4)\n",
    "for i in range(6):\n",
    "    q.enqueue(i)\n",
    "print(q.queue)\n",
    "for i in range(6):\n",
    "    print(q.dequeue())\n",
    "print(q.queue)\n",
    "print(q.capacity)"
   ]
  },
  {
   "cell_type": "markdown",
   "metadata": {},
   "source": [
    "### 8.8: Implement a Queue Using a Stack"
   ]
  },
  {
   "cell_type": "code",
   "execution_count": 43,
   "metadata": {},
   "outputs": [],
   "source": [
    "class QueueOfStacks:\n",
    "\n",
    "    def __init__(self) -> None:\n",
    "        self._enqueue_stack: List[int] = []\n",
    "        self._dequeue_stack: List[int] = []\n",
    "\n",
    "    def is_empty(self) -> bool:\n",
    "        return len(self._enqueue_stack) == 0 and len(self._dequeue_stack) == 0\n",
    "\n",
    "    def enqueue(self, data: int) -> None:\n",
    "        self._enqueue_stack.append(data)\n",
    "\n",
    "    def dequeue(self) -> int:\n",
    "\n",
    "        # transfer elements for enqueue to dequeue stack\n",
    "        if len(self._dequeue_stack) == 0:\n",
    "            while self._enqueue_stack:\n",
    "                self._dequeue_stack.append(self._enqueue_stack.pop())\n",
    "                \n",
    "        return self._dequeue_stack.pop()\n",
    "        "
   ]
  },
  {
   "cell_type": "code",
   "execution_count": 44,
   "metadata": {},
   "outputs": [
    {
     "name": "stdout",
     "output_type": "stream",
     "text": [
      "True\n",
      "0\n",
      "1\n",
      "2\n",
      "3\n",
      "4\n",
      "100\n"
     ]
    }
   ],
   "source": [
    "q = QueueOfStacks()\n",
    "print(q.is_empty())\n",
    "for i in range(5):\n",
    "    q.enqueue(i)\n",
    "print(q.dequeue())\n",
    "q.enqueue(100)\n",
    "while not q.is_empty():\n",
    "    print(q.dequeue())"
   ]
  },
  {
   "cell_type": "markdown",
   "metadata": {},
   "source": [
    "Takes $O(m)$ time where $m$ is number of operations since each element is pushed/popped no more than twice"
   ]
  },
  {
   "cell_type": "markdown",
   "metadata": {},
   "source": [
    "### 8.9: Queue with Max API"
   ]
  },
  {
   "cell_type": "code",
   "execution_count": null,
   "metadata": {},
   "outputs": [],
   "source": []
  }
 ],
 "metadata": {
  "kernelspec": {
   "display_name": "Python 3.10.6 ('data-structures-algorithms')",
   "language": "python",
   "name": "python3"
  },
  "language_info": {
   "codemirror_mode": {
    "name": "ipython",
    "version": 3
   },
   "file_extension": ".py",
   "mimetype": "text/x-python",
   "name": "python",
   "nbconvert_exporter": "python",
   "pygments_lexer": "ipython3",
   "version": "3.10.6"
  },
  "orig_nbformat": 4,
  "vscode": {
   "interpreter": {
    "hash": "893eabf024544e5e4ccd37f92d923a15afaa2331429d096efe9b57dc3359fd4e"
   }
  }
 },
 "nbformat": 4,
 "nbformat_minor": 2
}
