{
 "cells": [
  {
   "cell_type": "markdown",
   "metadata": {},
   "source": [
    "# Stacks and Queues\n",
    "\n",
    "## Stacks\n",
    "- have LIFO (last-in, first-out) structure\n",
    "\n",
    "### Tips\n",
    "- Learn to recognize when the stack **LIFO** property is **applicapble**. For example, **parsing** typically benefits from a stack.\n",
    "- Consider **augmenting** the basic stack or queue data structure to support additional operations, such as finding the maximum element."
   ]
  },
  {
   "cell_type": "code",
   "execution_count": 20,
   "metadata": {},
   "outputs": [],
   "source": [
    "from typing import List, Optional\n",
    "from collections import namedtuple\n",
    "from dataclasses import dataclass\n",
    "\n",
    "from utils import run_tests"
   ]
  },
  {
   "cell_type": "markdown",
   "metadata": {},
   "source": [
    "### Libraries\n",
    "Use a list if not required to implement your own stack   \n",
    "Note: When called on an empty list, both stack[-1] and stack.pop() raise an IndexError exception"
   ]
  },
  {
   "cell_type": "code",
   "execution_count": 2,
   "metadata": {},
   "outputs": [
    {
     "name": "stdout",
     "output_type": "stream",
     "text": [
      "stack:                                           [1, 2, 3]\n",
      "push an element on to the stack: stack.append(): None\n",
      "retrieve without removing from stack: stack[-1]: 5\n",
      "remove top element from stack: stack.pop():      5\n",
      "test if stack is empty: len(stack) == 0          False\n"
     ]
    }
   ],
   "source": [
    "stack = [1, 2, 3]\n",
    "print('stack:                                          ', stack)\n",
    "\n",
    "print('push an element on to the stack: stack.append():', stack.append(5))\n",
    "\n",
    "print('retrieve without removing from stack: stack[-1]:', stack[-1])\n",
    "\n",
    "print('remove top element from stack: stack.pop():     ', stack.pop())\n",
    "\n",
    "print('test if stack is empty: len(stack) == 0         ', len(stack) == 0)\n"
   ]
  },
  {
   "cell_type": "markdown",
   "metadata": {},
   "source": [
    "### Implement a Stack with a Max API"
   ]
  },
  {
   "cell_type": "code",
   "execution_count": 15,
   "metadata": {},
   "outputs": [],
   "source": [
    "class StackMax:\n",
    "\n",
    "    ElementWithCachedMax = namedtuple('ElementWithCachedMax', ['element', 'max'])\n",
    "\n",
    "    def __init__(self) -> None:\n",
    "        self._stack: List[StackMax.ElementWithCachedMax] = []\n",
    "\n",
    "    def is_empty(self) -> bool:\n",
    "        return len(self._stack) == 0\n",
    "\n",
    "    def pop(self) -> int:\n",
    "        return self._stack.pop().element\n",
    "\n",
    "    def max(self) -> int:\n",
    "        return self._stack[-1].max \n",
    "\n",
    "    def push(self, num: int) -> None:\n",
    "        self._stack.append(\n",
    "            self.ElementWithCachedMax(\n",
    "                num, num if self.is_empty() else max([num, self.max()])\n",
    "                )\n",
    "        )\n"
   ]
  },
  {
   "cell_type": "markdown",
   "metadata": {},
   "source": [
    "Each method is $O(1)$ time complexity. $O(n)$ space complexity."
   ]
  },
  {
   "cell_type": "code",
   "execution_count": 19,
   "metadata": {},
   "outputs": [
    {
     "name": "stdout",
     "output_type": "stream",
     "text": [
      "True\n",
      "[]\n",
      "[ElementWithCachedMax(element=9, max=9), ElementWithCachedMax(element=8, max=9), ElementWithCachedMax(element=7, max=9), ElementWithCachedMax(element=6, max=9), ElementWithCachedMax(element=5, max=9), ElementWithCachedMax(element=4, max=9), ElementWithCachedMax(element=3, max=9), ElementWithCachedMax(element=2, max=9), ElementWithCachedMax(element=1, max=9), ElementWithCachedMax(element=0, max=9)]\n",
      "9\n",
      "0\n",
      "9\n",
      "\n",
      "True\n",
      "[]\n",
      "[ElementWithCachedMax(element=2, max=2), ElementWithCachedMax(element=2, max=2), ElementWithCachedMax(element=1, max=2), ElementWithCachedMax(element=1, max=2), ElementWithCachedMax(element=5, max=5), ElementWithCachedMax(element=3, max=5), ElementWithCachedMax(element=2, max=5), ElementWithCachedMax(element=0, max=5)]\n",
      "5\n",
      "0\n",
      "5\n"
     ]
    }
   ],
   "source": [
    "s = StackMax()\n",
    "print(s.is_empty())\n",
    "print(s._stack)\n",
    "for i in reversed(range(10)):\n",
    "    s.push(i)\n",
    "print(s._stack)\n",
    "print(s.max())\n",
    "print(s.pop())\n",
    "print(s.max())\n",
    "\n",
    "print()\n",
    "\n",
    "s = StackMax()\n",
    "print(s.is_empty())\n",
    "print(s._stack)\n",
    "for i in [2, 2, 1, 1, 5, 3, 2, 0]:\n",
    "    s.push(i)\n",
    "print(s._stack)\n",
    "print(s.max())\n",
    "print(s.pop())\n",
    "print(s.max())"
   ]
  },
  {
   "cell_type": "markdown",
   "metadata": {},
   "source": [
    "#### Variant: Improve space complexity for many duplicate entries\n",
    "each element on stack has a max value in stack but this wastes space when there are a ton of duplicates"
   ]
  },
  {
   "cell_type": "code",
   "execution_count": 34,
   "metadata": {},
   "outputs": [],
   "source": [
    "class StackMaxDuplicates:\n",
    "\n",
    "\n",
    "    @dataclass\n",
    "    class CachedMaxCount:\n",
    "        max: int\n",
    "        count: int = 1\n",
    "\n",
    "        def increment(self) -> None:\n",
    "            self.count += 1\n",
    "        \n",
    "        def decrement(self) -> None:\n",
    "            self.count -= 1\n",
    "\n",
    "\n",
    "    def __init__(self) -> None:\n",
    "        self._stack: List[int] = []\n",
    "        self._max_stack: List[StackMaxDuplicates.CachedMaxCount] = []\n",
    "\n",
    "    def is_empty(self) -> bool:\n",
    "        return len(self._stack) == 0\n",
    "\n",
    "    def pop(self) -> int:\n",
    "        # update max stack count\n",
    "        self._max_stack[-1].decrement()\n",
    "        if self._max_stack[-1].count == 0:\n",
    "            self._max_stack.pop()\n",
    "        return self._stack.pop()\n",
    "\n",
    "    def max(self) -> int:\n",
    "        return self._max_stack[-1].max \n",
    "\n",
    "    def push(self, num: int) -> None:\n",
    "        # update max stack\n",
    "        if self.is_empty() or num > self._max_stack[-1].max:\n",
    "            self._max_stack.append(self.CachedMaxCount(num))\n",
    "        else:\n",
    "            self._max_stack[-1].increment()\n",
    "        \n",
    "        # add elemnt to stack\n",
    "        self._stack.append(num)\n"
   ]
  },
  {
   "cell_type": "code",
   "execution_count": 38,
   "metadata": {},
   "outputs": [
    {
     "name": "stdout",
     "output_type": "stream",
     "text": [
      "True\n",
      "[2, 2, 1, 1, 5, 3, 2, 0, 10]\n",
      "[StackMaxDuplicates.CachedMaxCount(max=2, count=4), StackMaxDuplicates.CachedMaxCount(max=5, count=4), StackMaxDuplicates.CachedMaxCount(max=10, count=1)]\n",
      "element: 10 max: 10\n",
      "element: 0 max: 5\n",
      "element: 2 max: 5\n",
      "element: 3 max: 5\n",
      "element: 5 max: 5\n",
      "element: 1 max: 2\n",
      "element: 1 max: 2\n",
      "element: 2 max: 2\n",
      "element: 2 max: 2\n"
     ]
    }
   ],
   "source": [
    "s = StackMaxDuplicates()\n",
    "print(s.is_empty())\n",
    "for i in [2, 2, 1, 1, 5, 3, 2, 0, 10]:\n",
    "    s.push(i)\n",
    "print(s._stack)\n",
    "print(s._max_stack)\n",
    "while not s.is_empty():\n",
    "    m = s.max()\n",
    "    num = s.pop()\n",
    "    print('element:', num, 'max:', m)"
   ]
  },
  {
   "cell_type": "markdown",
   "metadata": {},
   "source": [
    "### 8.2: Evaluate RPN Expressions\n",
    "Reverse Polish Notation:\n",
    "- Is is a single digit or a sequence of digits, prefixed with an option '-', e.g., '-5', '9', '123'\n",
    "- It is of the form \"A,B,@\" where @ is one of '+', '-', 'x', '/'\n",
    "e.g.: '1729', '3,4,+,2,x,1,+', '1,1,+,-2,x'   \n",
    "Can be evaluate uniquely to an integer   \n",
    "Divsion is floor division"
   ]
  },
  {
   "cell_type": "code",
   "execution_count": 39,
   "metadata": {},
   "outputs": [],
   "source": [
    "def evaluate_rpn(expression: str, delimiter: str=',') -> int:\n",
    "\n",
    "    operations = {\n",
    "                    '+': lambda x, y: x + y,\n",
    "                    '-': lambda x, y: x - y,\n",
    "                    'x': lambda x, y: x * y,\n",
    "                    '/': lambda x, y: x // y,\n",
    "    }\n",
    "\n",
    "    rpn = expression.split(delimiter)\n",
    "    stack = []\n",
    "    for s in rpn:\n",
    "        if s in operations:\n",
    "            x, y = stack.pop(), stack.pop()\n",
    "            stack.append(operations[s](x, y))\n",
    "        else:\n",
    "            stack.append(int(s))\n",
    "\n",
    "    return stack.pop()\n",
    "        \n",
    "inputs, outputs = ('1729', '5,3,+', '3,4,+,2,x,1,+', '1,1,+,-2,x'), (1729, 8, 15, -4)\n",
    "run_tests(evaluate_rpn, inputs, outputs)"
   ]
  },
  {
   "cell_type": "markdown",
   "metadata": {},
   "source": [
    "$O(n)$ time complexity"
   ]
  },
  {
   "cell_type": "markdown",
   "metadata": {},
   "source": [
    "#### Variant: Rule 2 operation is flipped\n",
    "i.e. *,A,B"
   ]
  },
  {
   "cell_type": "code",
   "execution_count": 41,
   "metadata": {},
   "outputs": [],
   "source": [
    "def evaluate_rpn_flipped(expression: str, delimiter: str=',') -> int:\n",
    "\n",
    "    operations = {\n",
    "                    '+': lambda x, y: x + y,\n",
    "                    '-': lambda x, y: x - y,\n",
    "                    'x': lambda x, y: x * y,\n",
    "                    '/': lambda x, y: x // y,\n",
    "    }\n",
    "\n",
    "    rpn = expression.split(delimiter)\n",
    "\n",
    "    if len(rpn) == 1:\n",
    "        return int(rpn[0])\n",
    "\n",
    "    operation, A, B = rpn[0:3]\n",
    "    result = operations[operation](int(A), int(B))\n",
    "\n",
    "    if len(rpn) > 3:\n",
    "        i = 3\n",
    "        while i < len(rpn):\n",
    "            operation, num = rpn[i], int(rpn[i+1])\n",
    "            result = operations[operation](result, num)\n",
    "            i += 2\n",
    "\n",
    "    return result\n",
    "        \n",
    "inputs, outputs = ('1729', '+,5,3', '+,3,4,x,2,+,1', '+,1,1,x,-2'), (1729, 8, 15, -4)\n",
    "run_tests(evaluate_rpn_flipped, inputs, outputs)"
   ]
  },
  {
   "cell_type": "markdown",
   "metadata": {},
   "source": [
    "### 8.3: Is a String Well-Formed?\n",
    "A string over the characters \"[](){}\" is well-formed if the different types of brackets match in the correct order"
   ]
  },
  {
   "cell_type": "code",
   "execution_count": 52,
   "metadata": {},
   "outputs": [],
   "source": [
    "def is_well_formed(s: str) -> int:\n",
    "\n",
    "    lookup = {\n",
    "                        '[': ']',\n",
    "                        '(': ')',\n",
    "                        '{': '}'\n",
    "    }\n",
    "    left_brackets = []\n",
    "    for token in s:\n",
    "        if token in lookup:\n",
    "            left_brackets.append(token)\n",
    "        else:\n",
    "            if len(left_brackets) == 0 or token != lookup[left_brackets.pop()]:\n",
    "                return False \n",
    "    return True \n",
    "\n",
    "inputs, outputs = ('[]{}()', '[{()}]', '][()', '[[)]', '([]){()}', '[()[]{()()}]'), (True, True, False, False, True, True)\n",
    "run_tests(is_well_formed, inputs, outputs)"
   ]
  },
  {
   "cell_type": "markdown",
   "metadata": {},
   "source": [
    "$O(n)$ time complexity"
   ]
  },
  {
   "cell_type": "code",
   "execution_count": 53,
   "metadata": {},
   "outputs": [
    {
     "data": {
      "text/plain": [
       "True"
      ]
     },
     "execution_count": 53,
     "metadata": {},
     "output_type": "execute_result"
    }
   ],
   "source": [
    "is_well_formed('[]()')"
   ]
  },
  {
   "cell_type": "markdown",
   "metadata": {},
   "source": [
    "### 8.4: Normalize Pathnames"
   ]
  }
 ],
 "metadata": {
  "kernelspec": {
   "display_name": "Python 3.10.6 ('data-structures-algorithms')",
   "language": "python",
   "name": "python3"
  },
  "language_info": {
   "codemirror_mode": {
    "name": "ipython",
    "version": 3
   },
   "file_extension": ".py",
   "mimetype": "text/x-python",
   "name": "python",
   "nbconvert_exporter": "python",
   "pygments_lexer": "ipython3",
   "version": "3.10.6"
  },
  "orig_nbformat": 4,
  "vscode": {
   "interpreter": {
    "hash": "893eabf024544e5e4ccd37f92d923a15afaa2331429d096efe9b57dc3359fd4e"
   }
  }
 },
 "nbformat": 4,
 "nbformat_minor": 2
}
