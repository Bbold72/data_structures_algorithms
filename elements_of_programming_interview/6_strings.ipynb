{
 "cells": [
  {
   "cell_type": "markdown",
   "metadata": {},
   "source": [
    "# Strings\n",
    "- A string is like a special kind of array but is immutable\n",
    "\n",
    "## Tips\n",
    "- Similar to arrays, string problems often have simple brute-force solutions that use $O(n)$ space, but subtler solutions that use the string itself to **reduce the complexity** to $O(1)$\n",
    "- Understand the **implications** of a string type which is **immutable**, e.g., the need to allocate a new string when concatenating immutable strings. Know **alternatives** to immutable strings, e.g., a **list** in Python\n",
    "- Updating a mutable string from the font is slow, so see if it's possible to **write values from the back**\n",
    "- indexing works the same as lists"
   ]
  },
  {
   "cell_type": "code",
   "execution_count": 1,
   "metadata": {},
   "outputs": [],
   "source": [
    "from typing import List, Iterator, Tuple\n",
    "import bisect\n",
    "import collections\n",
    "import math\n",
    "import functools\n",
    "import itertools\n",
    "import random\n",
    "\n",
    "from utils import run_tests"
   ]
  },
  {
   "cell_type": "markdown",
   "metadata": {},
   "source": [
    "## Libraries"
   ]
  },
  {
   "cell_type": "code",
   "execution_count": 2,
   "metadata": {},
   "outputs": [
    {
     "name": "stdout",
     "output_type": "stream",
     "text": [
      "The cow jumped over the moon\n",
      "The moon is made of cheese\n",
      "\n",
      "s.startswith(\"The\"):        True\n",
      "\n",
      "s.endswith((\"moo\", \"moon\"): True\n",
      "\n",
      "s + t:                      The cow jumped over the moonThe moon is made of cheese\n",
      "\n",
      " ['the', 'cat', 'and', 'the', 'hat']\n",
      "\" \".join(strings):            the cat and the hat\n"
     ]
    }
   ],
   "source": [
    "s = 'The cow jumped over the moon'\n",
    "t = 'The moon is made of cheese'\n",
    "print(s)\n",
    "print(t)\n",
    "\n",
    "print('\\ns.startswith(\"The\"):       ', s.startswith(\"The\"))\n",
    "\n",
    "print('\\ns.endswith((\"moo\", \"moon\"):', s.endswith((\"moo\", \"moon\")))     # tuple of string to try\n",
    "\n",
    "print('\\ns + t:                     ', s + t)\n",
    "\n",
    "strings = ['the', 'cat', 'and', 'the', 'hat']\n",
    "print('\\n', strings)\n",
    "print('\" \".join(strings):           ' , \" \".join(strings))"
   ]
  },
  {
   "cell_type": "markdown",
   "metadata": {},
   "source": [
    "### Is Palindrome?\n",
    "A palindrome is a string the reads the same forwards and backwards.  \n",
    "Key to optimal solution is to traverse string forward and backwards to simultaneously"
   ]
  },
  {
   "cell_type": "code",
   "execution_count": 3,
   "metadata": {},
   "outputs": [],
   "source": [
    "def is_palindrome(s: str) -> bool:\n",
    "    ''' \n",
    "    run time half that of reversing string\n",
    "    '''\n",
    "    # note: ~i = -(i+1)\n",
    "    return all(s[i] == s[~i] for i in range(len(s) // 2))\n",
    "\n",
    "inputs, outputs = ('cat', 'aabbaa', 'aba', 'abca'), (False, True, True, False)\n",
    "run_tests(is_palindrome, inputs, outputs)"
   ]
  },
  {
   "cell_type": "markdown",
   "metadata": {},
   "source": [
    "Time complexity is $O(n)$ and space complexity $O(1)$"
   ]
  },
  {
   "cell_type": "markdown",
   "metadata": {},
   "source": [
    "### 6.1: Interconvert Strings and Integers"
   ]
  },
  {
   "cell_type": "code",
   "execution_count": 4,
   "metadata": {},
   "outputs": [],
   "source": [
    "def int_to_string(num: int) -> str:\n",
    "\n",
    "    if num < 0:\n",
    "        is_negative, num = True, abs(num)\n",
    "    else:\n",
    "        is_negative = False\n",
    "    \n",
    "    digits = []\n",
    "    # process one digit at a time\n",
    "    # processing digits in reverse order\n",
    "    while True:\n",
    "        num, digit = num // 10, num % 10\n",
    "        digits.append(chr(ord('0') + digit))   # get code 0, add digit, then convert to character\n",
    "        if num == 0:\n",
    "            break\n",
    "\n",
    "    if is_negative:\n",
    "        digits.append('-')\n",
    "\n",
    "    return ''.join(reversed(digits))\n",
    "\n",
    "\n",
    "# sould be able to handle '314', '+314' or '-314'\n",
    "def string_to_int(s: str) -> int:\n",
    "    string_digits = {s:d for s, d, in zip(['0', '1', '2', '3', '4', '5', '6', '7', '8', '9'], range(10))}\n",
    "\n",
    "    sign = -1 if s[0] == '-' else 1\n",
    "\n",
    "    running_sum = 0\n",
    "    for i in s[s[0] in '+-':]:             # this skips first entry if has symbol\n",
    "        running_sum = running_sum * 10 + string_digits[i]  # mutliplying by 10 shift place value to left\n",
    "\n",
    "    return sign * running_sum\n",
    "\n",
    "\n",
    "def string_to_int_v2(s: str) -> int:\n",
    "    string_digits = {s:d for s, d, in zip(['0', '1', '2', '3', '4', '5', '6', '7', '8', '9'], range(10))}\n",
    "    return (-1 if s[0] == '-' else 1) * functools.reduce(\n",
    "        lambda running_sum, c: running_sum * 10 + string_digits[c],\n",
    "        s[s[0] in '+-':], 0\n",
    "    )\n",
    "\n",
    "inputs, outputs = (123, -123, 4, -4, 0), ('123', '-123', '4', '-4', '0')\n",
    "run_tests(int_to_string, inputs, outputs)\n",
    "\n",
    "inputs, outputs = ('123', '-123', '+123', '4', '-4', '+4', '0'), (123, -123, 123, 4, -4, 4, 0)\n",
    "run_tests(string_to_int, inputs, outputs)\n",
    "\n",
    "run_tests(string_to_int_v2, inputs, outputs)"
   ]
  },
  {
   "cell_type": "markdown",
   "metadata": {},
   "source": [
    "$O(n)$ time and space complexity"
   ]
  },
  {
   "cell_type": "code",
   "execution_count": 5,
   "metadata": {},
   "outputs": [
    {
     "name": "stdout",
     "output_type": "stream",
     "text": [
      "ord(\"0\") - returns Unicode code point one-character string,      e.g.: 48\n",
      "chr(ord(\"0\")) - returns Unicode string for one-character string, e.g.: 0\n",
      "ord(\"0\") + 5:      53\n",
      "chr(ord(\"0\") + 5): 5\n"
     ]
    }
   ],
   "source": [
    "print('ord(\"0\") - returns Unicode code point one-character string,      e.g.:',  ord('0'))\n",
    "print('chr(ord(\"0\")) - returns Unicode string for one-character string, e.g.:',  chr(ord('0')))\n",
    "print('ord(\"0\") + 5:     ',  ord('0') + 5)\n",
    "print('chr(ord(\"0\") + 5):',  chr(ord('0') + 5))\n"
   ]
  },
  {
   "cell_type": "code",
   "execution_count": 6,
   "metadata": {},
   "outputs": [
    {
     "data": {
      "text/plain": [
       "{'0': 0,\n",
       " '1': 1,\n",
       " '2': 2,\n",
       " '3': 3,\n",
       " '4': 4,\n",
       " '5': 5,\n",
       " '6': 6,\n",
       " '7': 7,\n",
       " '8': 8,\n",
       " '9': 9}"
      ]
     },
     "execution_count": 6,
     "metadata": {},
     "output_type": "execute_result"
    }
   ],
   "source": [
    "{s:d for s, d, in zip(['0', '1', '2', '3', '4', '5', '6', '7', '8', '9'], range(10))}"
   ]
  },
  {
   "cell_type": "markdown",
   "metadata": {},
   "source": [
    "### 6.2: Base Conversion\n",
    "Generalized decimal number system: $a_{k-1}a_{k-2}\\cdots a_1a_0$, where $0 \\leq a_i < b$, denotes in base-*b* the integer $a \\times b^0 + a_1 \\times b^1 + a_2 \\times b^2 + \\cdot + a_{k-1} \\times b^{k-1}$          \n",
    "\n",
    "Write a function that converts a string integer in $b_1$ to $b_2$   \n",
    "e.g.: '615', $b_1 = 7$ and $b_2 = 13$ --> '1A7'    \n",
    "\n",
    "Assume $b_1 \\geq 2$ and $b_2 \\leq 16$"
   ]
  },
  {
   "cell_type": "code",
   "execution_count": 7,
   "metadata": {},
   "outputs": [],
   "source": [
    "def base_conversion(num_as_str: str, b1: int, b2: int) -> str:\n",
    "    string_int_map = {s:d for s, d, in zip(['0', '1', '2', '3', '4', '5', '6', '7', '8', '9', 'A', 'B', 'C', 'D', 'E', 'F'], range(17))}\n",
    "    int_string_map = {d:s for s, d in string_int_map.items()}\n",
    "\n",
    "    # convert each digit to integer\n",
    "    is_negative = num_as_str[0] == '-'\n",
    "    num_as_int = functools.reduce(\n",
    "        lambda sum_so_far, c: sum_so_far * b1 + string_int_map[c],\n",
    "        num_as_str[is_negative:], 0\n",
    "    )\n",
    "\n",
    "    # process integers in revese order converting to b2\n",
    "    digits_as_string = []\n",
    "    while True:\n",
    "        num_as_int, d = num_as_int // b2, num_as_int % b2 \n",
    "        digits_as_string.append(int_string_map[d])\n",
    "        if num_as_int == 0:\n",
    "            break\n",
    "    \n",
    "    if is_negative:\n",
    "        digits_as_string.append('-')\n",
    "\n",
    "    return ''.join(reversed(digits_as_string))\n",
    "\n",
    "\n",
    "assert base_conversion('615', b1=7, b2=13) == '1A7'\n",
    "assert base_conversion('-615', b1=7, b2=13) == '-1A7'\n",
    "\n"
   ]
  },
  {
   "cell_type": "code",
   "execution_count": 8,
   "metadata": {},
   "outputs": [
    {
     "data": {
      "text/plain": [
       "306"
      ]
     },
     "execution_count": 8,
     "metadata": {},
     "output_type": "execute_result"
    }
   ],
   "source": [
    "# 615 Base-7 as decimal\n",
    "5 + (1 * 7) + (6 * 7**2)"
   ]
  },
  {
   "cell_type": "markdown",
   "metadata": {},
   "source": [
    "$Time complexity in $O(n(1 + \\log_{b_2}{b_1}))$   \n",
    "First, perform $n$ multply-and-adds to get $x$ from s.   \n",
    "Then, perform $\\log_{b_2}x$ multiply-and-adds.   \n",
    "$x$ is upper-bounded by $b_1^n$, so $\\log_{b_2}(b_1^n)$\n"
   ]
  },
  {
   "attachments": {},
   "cell_type": "markdown",
   "metadata": {},
   "source": [
    "### 6.3: Compute the Spreadsheet Column Encoding"
   ]
  },
  {
   "cell_type": "code",
   "execution_count": 9,
   "metadata": {},
   "outputs": [],
   "source": [
    "def spreadsheet_column_decoder(s: str) -> int:\n",
    "    num_letters = 26\n",
    "    string_int_map = {chr(ord('A') + i):i+1 for i in range(num_letters)}\n",
    "\n",
    "    return functools.reduce(\n",
    "        lambda sum_so_far, c: sum_so_far * num_letters + string_int_map[c],\n",
    "        s, 0\n",
    "    )\n",
    "\n",
    "inputs, outputs = ('A', 'D', 'Z', 'AA', 'AC', 'DB', 'AZ', 'EZ', 'ZZ'), (1, 4, 26, 27, 29, 26*4+2, 52, 26*5+26, 702)\n",
    "run_tests(spreadsheet_column_decoder, inputs, outputs)\n",
    "\n",
    "\n",
    "def spreadsheet_column_decoder_v2(s: str) -> int:\n",
    "    '''\n",
    "    essentially string to integer conversion with base 26\n",
    "    '''\n",
    "    return functools.reduce(\n",
    "        lambda sum_so_far, c: sum_so_far * 26 + ord(c) - ord('A') + 1,\n",
    "        s, 0\n",
    "    )\n",
    "\n",
    "inputs, outputs = ('A', 'D', 'Z', 'AA', 'AC', 'DB', 'AZ', 'EZ', 'ZZ'), (1, 4, 26, 27, 29, 26*4+2, 52, 26*5+26, 702)\n",
    "run_tests(spreadsheet_column_decoder_v2, inputs, outputs)"
   ]
  },
  {
   "cell_type": "markdown",
   "metadata": {},
   "source": [
    "$O(n)$ time complexity"
   ]
  },
  {
   "cell_type": "markdown",
   "metadata": {},
   "source": [
    "#### Variant: Solve the same problem  with \"A\" corresponding to 0"
   ]
  },
  {
   "cell_type": "code",
   "execution_count": 10,
   "metadata": {},
   "outputs": [],
   "source": [
    "# i think this is right\n",
    "def spreadsheet_column_decoder_A0(s: str) -> int:\n",
    "\n",
    "    return spreadsheet_column_decoder_v2(s) - 1\n",
    "\n",
    "inputs, outputs = ('A', 'D', 'Z', 'AA', 'AC', 'DB', 'AZ', 'EZ', 'ZZ'), (0, 3, 25, 26, 28, 25+(26*3)+2, 51, 25+26*4+26, 701)\n",
    "run_tests(spreadsheet_column_decoder_A0, inputs, outputs)"
   ]
  },
  {
   "cell_type": "markdown",
   "metadata": {},
   "source": [
    "#### Variant: Convert Integer to Spreadsheet Index"
   ]
  },
  {
   "cell_type": "code",
   "execution_count": 11,
   "metadata": {},
   "outputs": [],
   "source": [
    "def spreadsheet_column_encoder(num: int) -> str:\n",
    "\n",
    "    encoding = []\n",
    "    # process in reverse order\n",
    "    while True:\n",
    "        digit = num % 26\n",
    "        if digit == 0:           # handle case for Z separately\n",
    "            encoding.append('Z')\n",
    "            num = num // 26 - 1   \n",
    "        else:\n",
    "            encoding.append(chr(ord('A') + digit - 1))\n",
    "            num = num // 26\n",
    "        if num == 0:\n",
    "            break\n",
    "    \n",
    "    return ''.join(reversed(encoding))\n",
    "\n",
    "inputs, outputs = (1, 4, 26, 27, 29, 26*4+2, 52, 26*5+26, 702), ('A', 'D', 'Z', 'AA', 'AC', 'DB', 'AZ', 'EZ', 'ZZ')\n",
    "run_tests(spreadsheet_column_encoder, inputs, outputs)"
   ]
  },
  {
   "cell_type": "code",
   "execution_count": 12,
   "metadata": {},
   "outputs": [
    {
     "name": "stdout",
     "output_type": "stream",
     "text": [
      "A\n",
      "B\n",
      "C\n",
      "D\n",
      "E\n",
      "F\n",
      "G\n",
      "H\n",
      "I\n",
      "J\n",
      "K\n",
      "L\n",
      "M\n",
      "N\n",
      "O\n",
      "P\n",
      "Q\n",
      "R\n",
      "S\n",
      "T\n",
      "U\n",
      "V\n",
      "W\n",
      "X\n",
      "Y\n",
      "Z\n"
     ]
    }
   ],
   "source": [
    "ord('A')\n",
    "for i in range(26):\n",
    "    print(chr(ord('A') + i))"
   ]
  },
  {
   "cell_type": "code",
   "execution_count": 13,
   "metadata": {},
   "outputs": [
    {
     "data": {
      "text/plain": [
       "'B'"
      ]
     },
     "execution_count": 13,
     "metadata": {},
     "output_type": "execute_result"
    }
   ],
   "source": [
    "chr(ord('A') + 1)"
   ]
  },
  {
   "cell_type": "markdown",
   "metadata": {},
   "source": [
    "### 6.4: Replace and Remove"
   ]
  },
  {
   "cell_type": "markdown",
   "metadata": {},
   "source": [
    "### 6.5: Palindrome with Punctuation\n",
    "Check if a string is a palindrome after removing punctuation"
   ]
  },
  {
   "cell_type": "code",
   "execution_count": 14,
   "metadata": {},
   "outputs": [],
   "source": [
    "def is_palindrome_punct(s: str) -> bool:\n",
    "\n",
    "    i, j = 0, len(s) - 1\n",
    "\n",
    "    while i < j:      # cannot use // 2 because may need to skip punctuation\n",
    "\n",
    "        # skip punctuation\n",
    "        while not s[i].isalnum():\n",
    "            i += 1\n",
    "        while not s[j].isalnum():\n",
    "            j -= 1\n",
    "        \n",
    "        if s[i].lower() != s[j].lower():\n",
    "            return False\n",
    "        \n",
    "        i += 1\n",
    "        j -= 1\n",
    "\n",
    "    return True\n",
    "    \n",
    "inputs, outputs = ('aabbaa', 'abc', 'a,b,.a', 'A man, a plan, a canal, Panama', 'Able was I, ere I saw Elba', 'Ray a Ray'), (True, False, True, True, True, False)\n",
    "run_tests(is_palindrome_punct, inputs, outputs)\n",
    "\n",
    "def is_palindrome_punct_pythonic(s: str) -> bool:\n",
    "    return all(\n",
    "        a == b\n",
    "        for a, b in zip(map(str.lower, filter(str.isalnum, s)),\n",
    "                        map(str.lower, filter(str.isalnum, reversed(s)))\n",
    "                        )\n",
    "    )\n",
    "\n",
    "run_tests(is_palindrome_punct_pythonic, inputs, outputs)\n"
   ]
  },
  {
   "attachments": {},
   "cell_type": "markdown",
   "metadata": {},
   "source": [
    "$O(n)$ time and $O(1)$ space complexity"
   ]
  },
  {
   "attachments": {},
   "cell_type": "markdown",
   "metadata": {},
   "source": [
    "### 6.6: Reverse All the Words in a Sentence\n",
    "e.g. 'Bob likes Alice' --> 'Alice likes Bob'  "
   ]
  },
  {
   "cell_type": "code",
   "execution_count": 25,
   "metadata": {},
   "outputs": [
    {
     "data": {
      "text/plain": [
       "'Alice likes Bob'"
      ]
     },
     "execution_count": 25,
     "metadata": {},
     "output_type": "execute_result"
    }
   ],
   "source": [
    "def reverse_words(s: List[chr]) -> None:\n",
    "    '''\n",
    "    - reversing the string first will put the words in reverse order except with their character reversed\n",
    "    - then just reverse the characters in each word     \n",
    "    '''\n",
    "    def reverse_range(s: List[chr], start: int, finish: int) -> None:\n",
    "        while start < finish:\n",
    "            s[start], s[finish] = s[finish], s[start]\n",
    "            start += 1\n",
    "            finish -= 1\n",
    "\n",
    "    # reverse string\n",
    "    s.reverse()\n",
    "\n",
    "    # find space to figure out range of word\n",
    "    start = finish = 0\n",
    "    while finish < len(s):\n",
    "        if s[finish] == ' ':\n",
    "            reverse_range(s, start, finish-1)\n",
    "            start = finish + 1\n",
    "        finish += 1\n",
    "\n",
    "    # reverse last word\n",
    "    reverse_range(s, start, len(s) - 1)\n",
    "\n",
    "    return ''.join(s)\n",
    "\n",
    "s = list('Bob likes Alice')\n",
    "s = reverse_words(s)\n",
    "s\n"
   ]
  },
  {
   "cell_type": "markdown",
   "metadata": {},
   "source": [
    "$O(n)$ time and $O(1)$ space complexity"
   ]
  },
  {
   "cell_type": "code",
   "execution_count": 16,
   "metadata": {},
   "outputs": [
    {
     "data": {
      "text/plain": [
       "['e', 'c', 'i', 'l', 'A', ' ', 's', 'e', 'k', 'i', 'l', ' ', 'b', 'o', 'B']"
      ]
     },
     "execution_count": 16,
     "metadata": {},
     "output_type": "execute_result"
    }
   ],
   "source": [
    "s = 'Bob likes Alice'\n",
    "s = list(s)\n",
    "s.reverse()\n",
    "s"
   ]
  },
  {
   "attachments": {},
   "cell_type": "markdown",
   "metadata": {},
   "source": [
    "### 6.7: The Look-and-Say Problem\n",
    "Subsequent numbers are derived by describing the previous number in terms of consecutive digits.   \n",
    "$<1, 11, 21, 1211, 111221, 312211, 13112221, 1113213211>$"
   ]
  },
  {
   "cell_type": "code",
   "execution_count": 17,
   "metadata": {},
   "outputs": [
    {
     "name": "stdout",
     "output_type": "stream",
     "text": [
      "['1', '11', '21', '1211', '111221', '312211', '13112221', '1113213211']\n",
      "['1', '11', '21', '1211', '111221', '312211', '13112221', '1113213211']\n"
     ]
    }
   ],
   "source": [
    "def look_and_say(n: int) -> str:\n",
    "\n",
    "    def next_number(s: str) -> str:\n",
    "        result = []\n",
    "        i = 0\n",
    "        while i < len(s):\n",
    "\n",
    "            # iterate through duplicates\n",
    "            count = 1\n",
    "            while i + 1 < len(s) and s[i] == s[i+1]:\n",
    "                count += 1\n",
    "                i += 1\n",
    "            result.append(str(count) + s[i])\n",
    "            i += 1\n",
    "            \n",
    "        return ''.join(result)\n",
    "    \n",
    "    s = '1'\n",
    "    for _ in range(n-1):\n",
    "        s = next_number(s)\n",
    "    return s\n",
    "\n",
    "# power of itertools groupby\n",
    "def look_and_say_pythonic(n: int) -> str:\n",
    "    s = '1'\n",
    "    for _ in range(n-1):\n",
    "        s = [str(len(list(group))) + key for key, group in itertools.groupby(s)]\n",
    "        s = ''.join(s)\n",
    "    return s\n",
    "\n",
    "print([look_and_say(i) for i in range(1, 9)])\n",
    "print([look_and_say_pythonic(i) for i in range(1, 9)])"
   ]
  },
  {
   "cell_type": "markdown",
   "metadata": {},
   "source": [
    "Each successiven number can be at most twice as many digits as the previous number --> $2^n$ and there are $n$ iterations    \n",
    "$O(n2^n)$ time complexity"
   ]
  },
  {
   "cell_type": "code",
   "execution_count": 18,
   "metadata": {},
   "outputs": [
    {
     "name": "stdout",
     "output_type": "stream",
     "text": [
      "1 ['1', '1', '1']\n",
      "3 ['3']\n",
      "2 ['2']\n",
      "1 ['1']\n",
      "3 ['3']\n",
      "2 ['2']\n",
      "1 ['1', '1']\n"
     ]
    }
   ],
   "source": [
    "for key, group in itertools.groupby('1113213211'):\n",
    "    print(key, list(group))"
   ]
  },
  {
   "cell_type": "markdown",
   "metadata": {},
   "source": [
    "### 6.8: Convert from Roman to Decimal"
   ]
  },
  {
   "cell_type": "code",
   "execution_count": 19,
   "metadata": {},
   "outputs": [],
   "source": [
    "def roman_to_decimal(roman: str) -> int:\n",
    "    roman_int_map = {   \n",
    "                        'I': 1,\n",
    "                        'V': 5,\n",
    "                        'X': 10,\n",
    "                        'L': 50,\n",
    "                        'C': 100,\n",
    "                        'D': 500,\n",
    "                        'M': 1000\n",
    "                    }\n",
    "\n",
    "    i = 0\n",
    "    sum_so_far = 0\n",
    "    while i < len(roman):\n",
    "        # check if small numeral precedes larger numeral\n",
    "        # dont forget to skip extra index\n",
    "        if i + 1 < len(roman) and roman_int_map[roman[i]] < roman_int_map[roman[i+1]]:\n",
    "            sum_so_far += (roman_int_map[roman[i+1]] - roman_int_map[roman[i]])\n",
    "            i += 1\n",
    "        else:\n",
    "            sum_so_far += roman_int_map[roman[i]]\n",
    "        i += 1\n",
    "    \n",
    "    return sum_so_far\n",
    "\n",
    "\n",
    "# process in reverse order\n",
    "def roman_to_decimal_pythonic(roman: str) -> int:\n",
    "    roman_int_map = {   \n",
    "                        'I': 1,\n",
    "                        'V': 5,\n",
    "                        'X': 10,\n",
    "                        'L': 50,\n",
    "                        'C': 100,\n",
    "                        'D': 500,\n",
    "                        'M': 1000\n",
    "                    }\n",
    "    return functools.reduce(\n",
    "        lambda val, i: val + (-roman_int_map[roman[i]] if roman_int_map[roman[i]] < roman_int_map[roman[i+1]] else roman_int_map[roman[i]]),\n",
    "        reversed(range(len(roman) - 1)), roman_int_map[roman[-1]]\n",
    "    )\n",
    "\n",
    "inputs, outputs = ('I', \"II\", 'IV', 'V', 'VIII', 'IX', 'X', 'XIV', 'XV', 'XVI', 'XXXV', 'XLI', 'XLV', 'LXIV', 'XXXXXIIIIIIIII', 'LVIIII', 'LIX'), (1, 2, 4, 5, 8, 9, 10, 14, 15, 16, 35, 41, 45, 64, 59, 59, 59)\n",
    "run_tests(roman_to_decimal, inputs, outputs)\n",
    "run_tests(roman_to_decimal_pythonic, inputs, outputs)"
   ]
  },
  {
   "cell_type": "markdown",
   "metadata": {},
   "source": [
    "$O(n) time complexity"
   ]
  },
  {
   "cell_type": "markdown",
   "metadata": {},
   "source": [
    "#### Variant: Check whether the roman numeral is valid"
   ]
  },
  {
   "cell_type": "code",
   "execution_count": null,
   "metadata": {},
   "outputs": [],
   "source": []
  },
  {
   "cell_type": "markdown",
   "metadata": {},
   "source": [
    "#### Variant: Convert integer to shortest valid roman numeral"
   ]
  },
  {
   "cell_type": "code",
   "execution_count": 20,
   "metadata": {},
   "outputs": [],
   "source": [
    "def int_to_roman(num: int) -> str:\n",
    "\n",
    "    int_roman_map = {   \n",
    "                        100: 'C',\n",
    "                        90:  'XC',\n",
    "                        50:  'L',\n",
    "                        40:  'XL',\n",
    "                        10:  'X',\n",
    "                        9:   'IX',\n",
    "                        5:   'V',\n",
    "                        4:   'IV',\n",
    "                        1:   'I'\n",
    "                    }\n",
    "    roman_numerals = []\n",
    "    for base in int_roman_map.keys():\n",
    "        digit, num = num // base, num % base \n",
    "        roman_numerals.append(int_roman_map[base] * digit)  # note: a string * 0 is an empty character\n",
    "\n",
    "    return ''.join(roman_numerals)\n",
    "\n",
    "outputs, inputs = ('I', \"II\", 'IV', 'V', 'VIII', 'IX', 'X', 'XIV', 'XV', 'XVI', 'XXXV', 'XLI', 'XLV', 'LXIV', 'LIX'), (1, 2, 4, 5, 8, 9, 10, 14, 15, 16, 35, 41, 45, 64, 59)\n",
    "run_tests(int_to_roman, inputs, outputs)\n"
   ]
  },
  {
   "attachments": {},
   "cell_type": "markdown",
   "metadata": {},
   "source": [
    "### 6.9: Compute all valid IP addresses"
   ]
  },
  {
   "attachments": {},
   "cell_type": "markdown",
   "metadata": {},
   "source": [
    "#### Variant"
   ]
  },
  {
   "attachments": {},
   "cell_type": "markdown",
   "metadata": {},
   "source": [
    "### 6.10: Write a String Sinusoidally\n",
    "\n",
    "      "
   ]
  },
  {
   "cell_type": "code",
   "execution_count": 21,
   "metadata": {},
   "outputs": [
    {
     "name": "stdout",
     "output_type": "stream",
     "text": [
      "e_lHloWrdlo!\n",
      "e_lHloWrdlo!\n"
     ]
    }
   ],
   "source": [
    "# e.g. s = 'Hello_World!    \n",
    "#   e       _       l      s[1], s[5], s[9]\n",
    "# H   l   o   W   r   d    s[0], s[2], s[4], s[6], s[8], s[10]\n",
    "#       l       o      !   s[3], s[7], s[11]\n",
    "\n",
    "def snake_string(s: str) -> str:\n",
    "\n",
    "    result = []\n",
    "\n",
    "    # top row\n",
    "    for i in range(1, len(s), 4):\n",
    "        result.append(s[i])\n",
    "\n",
    "    # middle row\n",
    "    for i in range(0, len(s), 2):\n",
    "        result.append(s[i])\n",
    "\n",
    "    for i in range(3, len(s), 4):\n",
    "        result.append(s[i])\n",
    "\n",
    "    return ''.join(result)\n",
    "\n",
    "print(snake_string('Hello_World!'))\n",
    "\n",
    "def snake_string_pythonic(s: str) -> str:\n",
    "    return s[1::4] + s[0::2] + s[3::4]      # start:stop:step -> start::step\n",
    "\n",
    "print(snake_string_pythonic('Hello_World!'))\n"
   ]
  },
  {
   "cell_type": "markdown",
   "metadata": {},
   "source": [
    "$O(n)$ time complexity"
   ]
  },
  {
   "attachments": {},
   "cell_type": "markdown",
   "metadata": {},
   "source": [
    "### 6.11: Implement Run Length Encoding (RLE)\n",
    "encode successive repeated characters by the repetition count and that character     \n",
    "e.g. aaaabcccaa -> 4a1b3c2a | 3e4f2e -> eeeffffee"
   ]
  },
  {
   "cell_type": "code",
   "execution_count": 22,
   "metadata": {},
   "outputs": [
    {
     "name": "stdout",
     "output_type": "stream",
     "text": [
      "4a1b3c2a\n",
      "4a2b4c3a\n",
      "4a1b3c2a\n",
      "3e4f2e\n",
      "\n",
      "eeeffffee\n",
      "aaaabcccaa\n",
      "aaaabcccaaaaaaaaaaaa\n",
      "aaaabcccccccccccccccccccccccccccccccccccaaaaaaaaaaaa\n"
     ]
    }
   ],
   "source": [
    "def rle_encode(s: str) -> str:\n",
    "    start = 0\n",
    "    size = 1\n",
    "    result = []\n",
    "    while start < len(s):\n",
    "        while start + size < len(s) and s[start + size] == s[start]:\n",
    "            size += 1\n",
    "        result.append(str(size) + s[start])\n",
    "        start += size\n",
    "        size = 1\n",
    "\n",
    "    return ''.join(result)\n",
    "\n",
    "def rle_encode_v2(s: str) -> str:\n",
    "    size = 1\n",
    "    result = []\n",
    "    for i in range(1, len(s) + 1):\n",
    "        # found a different character\n",
    "        if i == len(s) or s[i] != s[i - 1]:\n",
    "            result.append(str(size) + s[i - 1])\n",
    "            size = 1\n",
    "\n",
    "        size += 1\n",
    "\n",
    "    return ''.join(result)\n",
    "\n",
    "\n",
    "def rle_encode_pythonic(s: str) -> str:\n",
    "    return ''.join([str(len(list(group))) + key for key, group in itertools.groupby(s)])\n",
    "\n",
    "print(rle_encode('aaaabcccaa'))\n",
    "print(rle_encode_v2('aaaabcccaa'))\n",
    "print(rle_encode_pythonic('aaaabcccaa'))\n",
    "print(rle_encode_pythonic('eeeffffee'))\n",
    "print()\n",
    "\n",
    "\n",
    "def rle_decode(s: str) -> str:\n",
    "    result = []\n",
    "    count = 0\n",
    "    for c in s:\n",
    "        if c.isdigit():\n",
    "            count = count * 10 + int(c)  # if count more than 0, need to move place value\n",
    "        # c is a character\n",
    "        else:\n",
    "            result.append(c * count)\n",
    "            count = 0\n",
    "    return ''.join(result)\n",
    "\n",
    "print(rle_decode('3e4f2e'))\n",
    "print(rle_decode('4a1b3c2a'))\n",
    "print(rle_decode('4a1b3c12a'))\n",
    "print(rle_decode('4a1b35c12a'))"
   ]
  },
  {
   "cell_type": "markdown",
   "metadata": {},
   "source": [
    "$O(n)$ time complexity"
   ]
  },
  {
   "attachments": {},
   "cell_type": "markdown",
   "metadata": {},
   "source": [
    "### 6.12: Find the first Occurrence of a Substring\n",
    "A brute force algorithm is $O(n^2)$   \n"
   ]
  },
  {
   "cell_type": "code",
   "execution_count": 23,
   "metadata": {},
   "outputs": [],
   "source": [
    "def robin_karp(t: str, s: str) -> int:\n",
    "    pass"
   ]
  }
 ],
 "metadata": {
  "kernelspec": {
   "display_name": "data-structures-algorithms",
   "language": "python",
   "name": "python3"
  },
  "language_info": {
   "codemirror_mode": {
    "name": "ipython",
    "version": 3
   },
   "file_extension": ".py",
   "mimetype": "text/x-python",
   "name": "python",
   "nbconvert_exporter": "python",
   "pygments_lexer": "ipython3",
   "version": "3.10.6"
  },
  "orig_nbformat": 4,
  "vscode": {
   "interpreter": {
    "hash": "893eabf024544e5e4ccd37f92d923a15afaa2331429d096efe9b57dc3359fd4e"
   }
  }
 },
 "nbformat": 4,
 "nbformat_minor": 2
}
