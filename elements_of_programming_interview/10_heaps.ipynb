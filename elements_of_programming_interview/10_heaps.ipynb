{
 "cells": [
  {
   "cell_type": "markdown",
   "metadata": {},
   "source": [
    "# Heaps\n",
    "A special, complete binary tree that satisfies the heap property - the key at each node is at least as great as the keys stored at its children (max-heap)   \n",
    "AKA a priority queue\n",
    "\n",
    "When implemented as array:   \n",
    "- left child index = $2i + 1$\n",
    "- right child index = $2i + 2$   \n",
    "\n",
    "Time Complexity:   \n",
    "- look up max/min: $O(1)$\n",
    "- insertion/extraction: $O(\\log n)$"
   ]
  },
  {
   "cell_type": "markdown",
   "metadata": {},
   "source": [
    "## Tips:\n",
    "- Use a heap when **all you care about** is the **largest** or **smallest** elements, and you **do not need** to support fast lookup, delete, or search operations for arbitrary elements\n",
    "- A heap is a good choice when you need to compute the $k$ **largest** or $k$ **smallest** elements in a collection. For the former, use a min-heap, for the latter, use a max-heap"
   ]
  },
  {
   "cell_type": "code",
   "execution_count": 2,
   "metadata": {},
   "outputs": [],
   "source": [
    "import heapq\n",
    "import itertools\n",
    "import math\n",
    "import random\n",
    "from typing import Iterator, List, Tuple"
   ]
  },
  {
   "cell_type": "markdown",
   "metadata": {},
   "source": [
    "## Libraries\n",
    "- heapq provides a min-heap\n",
    "- for a max-heap, take negative of values to get same effect"
   ]
  },
  {
   "cell_type": "code",
   "execution_count": 3,
   "metadata": {},
   "outputs": [
    {
     "name": "stdout",
     "output_type": "stream",
     "text": [
      "L:                           [12, 11, 3, 17, 12, 20, 15, 17, 6, 7]\n",
      "heapq.heapify(L):            [3, 6, 12, 11, 7, 20, 15, 17, 17, 12]\n",
      "heapq.nlargest(k, L):        [20, 17, 17]\n",
      "heapq.nsmallest(k, L):       [3, 6, 7]\n",
      "heapq.heappush(L, value):    [3, 6, 12, 11, 7, 20, 15, 17, 17, 12, 10]\n",
      "heapq.heappop(L):            3\n",
      "heapq.heappushpop(L, value): 6  -->  [7, 10, 12, 11, 12, 20, 15, 17, 17, 15]\n",
      "L[0]:                        7  -->  [7, 10, 12, 11, 12, 20, 15, 17, 17, 15]\n"
     ]
    }
   ],
   "source": [
    "L = [random.randint(0, 20) for i in range(10)]\n",
    "print('L:                          ', L)\n",
    "\n",
    "# tranform collection, L, into heap in place\n",
    "heapq.heapify(L)\n",
    "print('heapq.heapify(L):           ', L)\n",
    "\n",
    "# k largest\n",
    "print('heapq.nlargest(k, L):       ', heapq.nlargest(3, L))\n",
    "\n",
    "# k smallest\n",
    "print('heapq.nsmallest(k, L):      ', heapq.nsmallest(3, L))\n",
    "\n",
    "# push new element on heap\n",
    "heapq.heappush(L, 10)\n",
    "print('heapq.heappush(L, value):   ', L)\n",
    "\n",
    "# extract smallest element on heap\n",
    "print('heapq.heappop(L):           ', heapq.heappop(L))\n",
    "\n",
    "# push value on to heap then extract smallest element\n",
    "print('heapq.heappushpop(L, value):', heapq.heappushpop(L, 15), ' --> ', L)\n",
    "\n",
    "# lookup min value without extracting\n",
    "print('L[0]:                       ', L[0], ' --> ', L)"
   ]
  },
  {
   "cell_type": "markdown",
   "metadata": {},
   "source": [
    "### Process Stream of Strings and keep K largest"
   ]
  },
  {
   "cell_type": "code",
   "execution_count": 4,
   "metadata": {},
   "outputs": [],
   "source": [
    "def top_k(k: int, stream: Iterator[str]) -> List[str]:\n",
    "\n",
    "    # entries are compared by their length\n",
    "    min_heap = [(len(s), s) for s in itertools.islice(stream, k)]\n",
    "    heapq.heapify(min_heap)\n",
    "\n",
    "    for next_string in stream:\n",
    "        # push next string and pop shortest string\n",
    "        heapq.heappushpop(min_heap, (len(next_string), next_string))\n",
    "    \n",
    "    # elements in heap are tuples\n",
    "    return [t[1] for t in heapq.nsmallest(k, min_heap)]"
   ]
  },
  {
   "cell_type": "code",
   "execution_count": 5,
   "metadata": {},
   "outputs": [
    {
     "name": "stdout",
     "output_type": "stream",
     "text": [
      "[(3, 'cat'), (6, 'banana'), (6, 'george')]\n"
     ]
    }
   ],
   "source": [
    "k, stream = 3, ['cat', 'banana', 'george', 'aaaaaaaaaaaaa', 'I', 'couat', 'afgeareas']\n",
    "s = [(len(s), s) for s in itertools.islice(stream, k)]\n",
    "print(s)"
   ]
  },
  {
   "cell_type": "code",
   "execution_count": 6,
   "metadata": {},
   "outputs": [
    {
     "data": {
      "text/plain": [
       "['george', 'afgeareas', 'aaaaaaaaaaaaa']"
      ]
     },
     "execution_count": 6,
     "metadata": {},
     "output_type": "execute_result"
    }
   ],
   "source": [
    "top_k(k, stream)"
   ]
  },
  {
   "attachments": {},
   "cell_type": "markdown",
   "metadata": {},
   "source": [
    "Time complexity is $O(n\\log k)$ because takes $\\log k$ to process each string and there are $n$ strings"
   ]
  },
  {
   "attachments": {},
   "cell_type": "markdown",
   "metadata": {},
   "source": [
    "### 10.1: Merge Sorted Files\n",
    "Write a program that takes as input a set of sorted sequences and computes the union of those sequences as a sorted sequence   \n",
    "e.g.: $[3, 5, 7], [0, 6], [0, 6, 28]$ --> $[0, 0, 3, 5, 6, 6, 7, 28]$\n"
   ]
  },
  {
   "cell_type": "code",
   "execution_count": 7,
   "metadata": {},
   "outputs": [],
   "source": [
    "def merge_sorted_arrays(sorted_arrays = List[List[int]]) -> List[int]:\n",
    "    \n",
    "    min_heap: List[Tuple[int, int]] = []  # value, array index\n",
    "\n",
    "    # build a list of iterators for each array in sorted_arrays\n",
    "    sorted_array_iters = [iter(x) for x in sorted_arrays]\n",
    "\n",
    "    # put first element from each iterator in min_heap\n",
    "    for i, it in enumerate(sorted_array_iters):\n",
    "        first_element = next(it, None)   # default value of None if iterator is exhausted\n",
    "        if first_element is not None:\n",
    "            heapq.heappush(min_heap, (first_element, i))\n",
    "\n",
    "    result = []\n",
    "    while min_heap:\n",
    "        min_value, array_index = heapq.heappop(min_heap)           # get smallest value\n",
    "        result.append(min_value)\n",
    "        next_element = next(sorted_array_iters[array_index], None) # get next element from array with smallest element\n",
    "        if next_element is not None:\n",
    "            heapq.heappush(min_heap, (next_element, array_index))\n",
    "\n",
    "    return result\n",
    "\n",
    "def merge_sorted_arrays_pythonic(sorted_arrays = List[List[int]]) -> List[int]:\n",
    "    return list(heapq.merge(*sorted_arrays))"
   ]
  },
  {
   "cell_type": "markdown",
   "metadata": {},
   "source": [
    "Time complexity is $O(n\\log k)$ and space complexity is $O(k)$ where $k < n$"
   ]
  },
  {
   "cell_type": "code",
   "execution_count": 8,
   "metadata": {},
   "outputs": [
    {
     "name": "stdout",
     "output_type": "stream",
     "text": [
      "[3, 5, 7] [0, 6] [0, 6, 28]\n"
     ]
    }
   ],
   "source": [
    "sorted_array_list, ans = [[3, 5, 7], [0, 6], [0, 6, 28]], [0, 0, 3, 5, 6, 6, 7, 28]\n",
    "print(*sorted_array_list)\n",
    "assert merge_sorted_arrays(sorted_array_list) == ans\n",
    "assert merge_sorted_arrays_pythonic(sorted_array_list) == ans"
   ]
  },
  {
   "attachments": {},
   "cell_type": "markdown",
   "metadata": {},
   "source": [
    "### 10.2 Sort and Increasing-Decreasing Array\n",
    "alternates between increasing and decreasing k times       \n",
    "e.g.: $[57, 131, 493, 294, 221, 339, 418, 452, 442, 190]$ where $k=4$\n"
   ]
  },
  {
   "cell_type": "code",
   "execution_count": 24,
   "metadata": {},
   "outputs": [],
   "source": [
    "def sort_k_increasing_decreasing_array(A: List[int]) -> List[int]:\n",
    "    # decompose A into list of sorted subarrays\n",
    "    sorted_arrays = []\n",
    "    increasing, decreasing = range(2)\n",
    "    subarray_type = increasing\n",
    "    start_idx = 0\n",
    "\n",
    "    for i in range(1, len(A)+1):\n",
    "        # reached end of subarray\n",
    "        if (i == len(A) or\n",
    "            (A[i-1] < A[i] and subarray_type == decreasing) or\n",
    "            (A[i-1] >= A[i] and subarray_type == increasing)\n",
    "        ):\n",
    "            sorted_arrays.append(A[start_idx:i] if subarray_type == increasing else A[i-1:start_idx-1:-1])  # reverse subarray when decreasing\n",
    "            start_idx = i\n",
    "            subarray_type = decreasing if subarray_type == increasing else increasing\n",
    "    \n",
    "    # sort sequence of sorted arrays\n",
    "    return merge_sorted_arrays(sorted_arrays)\n",
    "\n",
    "assert sort_k_increasing_decreasing_array([57, 131, 493, 294, 221, 339, 418, 452, 442, 190]) == [57, 131, 190, 221, 294, 339, 418, 442, 452, 493]"
   ]
  },
  {
   "cell_type": "code",
   "execution_count": 25,
   "metadata": {},
   "outputs": [],
   "source": [
    "def sort_k_increasing_decreasing_array(A: List[int]) -> List[int]:\n",
    "    # decompose A into list of sorted subarrays\n",
    "    sorted_arrays = []\n",
    "    increasing = 1\n",
    "    start_idx = 0\n",
    "    end_idx = 1\n",
    "\n",
    "    while end_idx < len(A) + 1:\n",
    "        # find end of increasing/decreasing sub array\n",
    "        if end_idx != len(A):\n",
    "            if increasing:\n",
    "                while A[end_idx-1] < A[end_idx]:\n",
    "                    end_idx += 1\n",
    "            else: \n",
    "                while A[end_idx-1] < A[end_idx]:\n",
    "                    end_idx += 1\n",
    "        # extract subarray\n",
    "        if increasing:\n",
    "            sorted_arrays.append(A[start_idx:end_idx])\n",
    "        else:\n",
    "            sorted_arrays.append(A[end_idx-1:start_idx-1:-1])\n",
    "\n",
    "        start_idx = end_idx\n",
    "        end_idx += 1      \n",
    "    \n",
    "    # sort sequence of sorted arrays\n",
    "    return merge_sorted_arrays(sorted_arrays)\n",
    "\n",
    "assert sort_k_increasing_decreasing_array([57, 131, 493, 294, 221, 339, 418, 452, 442, 190]) == [57, 131, 190, 221, 294, 339, 418, 442, 452, 493]"
   ]
  },
  {
   "cell_type": "markdown",
   "metadata": {},
   "source": [
    "Time complexity is $O(n\\log k)$ and space complexity is $O(k)$ where $k < n$"
   ]
  },
  {
   "attachments": {},
   "cell_type": "markdown",
   "metadata": {},
   "source": [
    "### 10.3: Sort Almost Sorted Array\n",
    "Sort an array where each element is at most $k$ away from its correct position     \n",
    "e.g.: $[3, -1, 2, 6, 4, 5, 8]$, each element is no more than 2 spots away from correct position"
   ]
  },
  {
   "cell_type": "code",
   "execution_count": 26,
   "metadata": {},
   "outputs": [],
   "source": [
    "def sort_almost_sorted_array(sequence: Iterator[int], k: int) -> List[int]:\n",
    "    ''' \n",
    "    guaranteed to find next smallest value by checking k+1 values\n",
    "    '''\n",
    "    min_heap: List[int] = []\n",
    "\n",
    "    # add first k element\n",
    "    for x in itertools.islice(sequence, k):\n",
    "        heapq.heappush(min_heap, x)\n",
    "\n",
    "    result: List[int] = []\n",
    "    for next_element in sequence:\n",
    "        smallest = heapq.heappushpop(min_heap, next_element)\n",
    "        result.append(smallest)\n",
    "\n",
    "    # sequence exhausted\n",
    "    while min_heap:\n",
    "        smallest = heapq.heappop(min_heap)  # guarantees check k+1 elements\n",
    "        result.append(smallest)\n",
    "    \n",
    "    return result"
   ]
  },
  {
   "cell_type": "markdown",
   "metadata": {},
   "source": [
    "Time complexity is $O(n\\log k)$ and space complexity is $O(k)$ where $k < n$"
   ]
  },
  {
   "cell_type": "code",
   "execution_count": 27,
   "metadata": {},
   "outputs": [],
   "source": [
    "assert sort_almost_sorted_array(iter([3, -1, 2, 6, 4, 5, 8]), k=2) == [-1, 2, 3, 4, 5, 6, 8]"
   ]
  },
  {
   "attachments": {},
   "cell_type": "markdown",
   "metadata": {},
   "source": [
    "### 10.4: Compute K Closest Starts"
   ]
  },
  {
   "cell_type": "code",
   "execution_count": null,
   "metadata": {},
   "outputs": [],
   "source": [
    "class Star:\n",
    "    def __init__(self, x: float, y:float, z: float) -> None:\n",
    "        self.x, self.y, self.z = x, y, z \n",
    "    \n",
    "    @property\n",
    "    def disance(self) -> float:\n",
    "        return math.sqrt(self.x**2 + self.y**2 + self.z**2)\n",
    "\n",
    "    def __lt__(self, rhs: 'Star') -> bool:\n",
    "        return self.disance < rhs.disance\n",
    "\n",
    "    def __str__(self) -> str:\n",
    "        return f'Star at position ({self.x}, {self.y}, {self.z}) is {self.disance} from Earth'\n",
    "\n",
    "\n",
    "def closest_k_stars(stars: Iterator[Star], k: int) -> List[Star]:\n",
    "\n",
    "    max_heap: List[Tuple[float, Star]] = [] # -distance, start\n",
    "\n",
    "    # add first k stars to heap\n",
    "    for star in stars:\n",
    "        heapq.heappush(max_heap, (-star.disance, star))  # python only has min-heap so sort in reversed distance order\n",
    "        if len(max_heap) == k+1:                         # if more than k elements on heap, pop\n",
    "            heapq.heappop(max_heap)\n",
    "\n",
    "    # iteratively extract from the max-heap, which yields the stars sorted from furthest to closest\n",
    "    return [s[1] for s in heapq.nlargest(k, max_heap)]\n",
    "\n"
   ]
  },
  {
   "cell_type": "markdown",
   "metadata": {},
   "source": [
    "Time complexity is $O(n\\log k)$ and space complexity is $O(k)$ where $k < n$"
   ]
  },
  {
   "cell_type": "code",
   "execution_count": null,
   "metadata": {},
   "outputs": [
    {
     "name": "stdout",
     "output_type": "stream",
     "text": [
      "Star at position (1, 1, 1) is 1.7320508075688772 from Earth\n",
      "Star at position (2, 10, 5) is 11.357816691600547 from Earth\n",
      "Star at position (13.346258568203258, 5.598600386328984, 0.6712975026057189) is 14.488532858510782 from Earth\n"
     ]
    }
   ],
   "source": [
    "stars = [Star(1, 1, 1), Star(2, 10, 5)]\n",
    "for i in range(10):\n",
    "    stars.append(Star(*[random.random()*20 for i in range(3)]))\n",
    "k_closest = closest_k_stars(iter(stars), k=3)\n",
    "for star in k_closest:\n",
    "    print(star)"
   ]
  },
  {
   "attachments": {},
   "cell_type": "markdown",
   "metadata": {},
   "source": [
    "#### Variant: \n",
    "Design an $O(n\\log k) algorithm that reads a sequence of $n$ elements and for each element, starting with the $k$th element, prints the $k$th largest elements read up to that point.   \n",
    "e.g. = [5, 2, 10, 3, 4, 8, 1, 5] k = 3   \n",
    "5   \n",
    "5, 2    \n",
    "10, 5, **2**   \n",
    "10, 5, **3**, 2   \n",
    "10, 5, **4**, 3, 2   \n",
    "10, 8, **5**, 4, 3, 2   \n",
    "10, 8, **5**, 4, 3, 2, 1   \n",
    "10, 8, **5**, 5, 4, 3, 2, 1     "
   ]
  },
  {
   "cell_type": "code",
   "execution_count": 31,
   "metadata": {},
   "outputs": [
    {
     "data": {
      "text/plain": [
       "[2, 3, 4, 5, 5, 5]"
      ]
     },
     "execution_count": 31,
     "metadata": {},
     "output_type": "execute_result"
    }
   ],
   "source": [
    "def kth_largest(sequence: Iterator[int], k: int) -> List[int]:\n",
    "\n",
    "    min_heap = []\n",
    "\n",
    "    # add first k elements to min heap\n",
    "    for x in itertools.islice(sequence, k):\n",
    "        heapq.heappush(min_heap, x)\n",
    "\n",
    "    result = []\n",
    "    result.append(min_heap[0])\n",
    "\n",
    "    # iterate through rest of sequence\n",
    "    for x in sequence:\n",
    "        if x > min_heap[0]:\n",
    "            heapq.heappushpop(min_heap, x)\n",
    "        result.append(min_heap[0])\n",
    "    \n",
    "    return result\n",
    "\n",
    "kth_largest(iter([5, 2, 10, 3, 4, 8, 1, 5]), k=3)"
   ]
  },
  {
   "cell_type": "markdown",
   "metadata": {},
   "source": [
    "### 10.5: Compute the Median of Online Data"
   ]
  },
  {
   "cell_type": "code",
   "execution_count": 36,
   "metadata": {},
   "outputs": [],
   "source": [
    "def online_median(sequence: Iterator[int]) -> List[float]:\n",
    "    ''' \n",
    "    maintain a max heap for the lower half and min heap for the upper half\n",
    "    '''\n",
    "    min_heap: List[int] = []\n",
    "    max_heap: List[int] = []\n",
    "    result = []\n",
    "    for x in sequence:\n",
    "        heapq.heappush(max_heap, -heapq.heappushpop(min_heap, x))\n",
    "\n",
    "        if len(max_heap) > len(min_heap):\n",
    "            heapq.heappush(min_heap, -heapq.heappop(max_heap))\n",
    "\n",
    "        result.append((min_heap[0] + -max_heap[0]) / 2 if len(min_heap) == len(max_heap) else min_heap[0])\n",
    "\n",
    "    return result\n",
    "\n",
    "assert online_median(iter([1, 0, 3, 5, 2, 0, 1])) == [1, 0.5, 1, 2, 2, 1.5, 1]"
   ]
  },
  {
   "attachments": {},
   "cell_type": "markdown",
   "metadata": {},
   "source": [
    "Time complexity is $\\log n$ corresponding to insertion and extraction from heap"
   ]
  },
  {
   "attachments": {},
   "cell_type": "markdown",
   "metadata": {},
   "source": [
    "### 10.6: Compute K Largest Elements in a Max-Heap\n",
    "do not modify the heap   \n",
    "Brute force algorithm is to do k max-extracts but that has time complexity $O(k\\log n)$ and modifies array  \n",
    "\n"
   ]
  },
  {
   "cell_type": "code",
   "execution_count": null,
   "metadata": {},
   "outputs": [],
   "source": [
    "def largest_k_elements(heap: List[int], k: int) -> List[int]:\n",
    "\n",
    "    if k <= 0 or len(heap) == 0:\n",
    "        return []\n",
    "\n",
    "    candidate_max_heap: List[Tuple[int, int]] = [] # -value, index\n",
    "    candidate_max_heap.append((-heap[0], 0))       # largest element is first element\n",
    "\n",
    "    result: List[int] = []\n",
    "    for _ in range(k):\n",
    "        candidate_idx = candidate_max_heap[0][1]\n",
    "        result.append(-heapq.heappop(candidate_max_heap)[0])\n",
    "\n",
    "        left_child_idx = candidate_idx * 2 + 1\n",
    "        right_child_idx = left_child_idx + 1\n",
    "\n",
    "        if left_child_idx < len(heap):\n",
    "            heapq.heappush(candidate_max_heap, (-heap[left_child_idx], left_child_idx))\n",
    "\n",
    "        if right_child_idx < len(heap):\n",
    "            heapq.heappush(candidate_max_heap, (-heap[right_child_idx], right_child_idx))\n",
    "\n",
    "    return result\n",
    "\n",
    "\n"
   ]
  },
  {
   "cell_type": "markdown",
   "metadata": {},
   "source": [
    "Time complexity is $O(k \\log k)$  because k iterations and each push to candidate max heap take $\\log k$ time. Space complexity is $O(k)$ where $k < n$"
   ]
  },
  {
   "cell_type": "code",
   "execution_count": null,
   "metadata": {},
   "outputs": [],
   "source": [
    "assert largest_k_elements([561, 314, 401, 28, 156, 359, 271, 11, 3], 4) == [561, 401, 359, 314]"
   ]
  }
 ],
 "metadata": {
  "kernelspec": {
   "display_name": "Python 3.10.6 ('data-structures-algorithms')",
   "language": "python",
   "name": "python3"
  },
  "language_info": {
   "codemirror_mode": {
    "name": "ipython",
    "version": 3
   },
   "file_extension": ".py",
   "mimetype": "text/x-python",
   "name": "python",
   "nbconvert_exporter": "python",
   "pygments_lexer": "ipython3",
   "version": "3.10.6"
  },
  "orig_nbformat": 4,
  "vscode": {
   "interpreter": {
    "hash": "893eabf024544e5e4ccd37f92d923a15afaa2331429d096efe9b57dc3359fd4e"
   }
  }
 },
 "nbformat": 4,
 "nbformat_minor": 2
}
