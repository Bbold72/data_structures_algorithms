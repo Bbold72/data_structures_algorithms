{
 "cells": [
  {
   "attachments": {},
   "cell_type": "markdown",
   "metadata": {},
   "source": [
    "# Binary Search Trees\n",
    "The BST is a binary tree that respects the BST property where the key stored at a node is greater than or equal to the keys stored at the nodes of its left subtree, and less than or equal to the keys stored at the nodes in right subtree.\n",
    "\n",
    "## Tips:\n",
    "- With a BST you can **iterate** through elements in a **sorted order** in time $O(n)$ (regardless of whter it is balanced)\n",
    "- Some problems need a **combination of a BST and a hashable**. For example, if you insert student objects in a BST and entries are ordered by GPA, and then a student's GPA needs to be updated and all we have is the student's name and new GPA, we cannot find the student by name without a full traveral. However, with an additional hash table, we can directly go to the corresponding entry in the tree.\n",
    "- Sometimes it is necessary to **augment** a BST to make it possible to manipulate more complicated data, e.g., intervals, and efficiently support more complex queries, e.g., the number of elements in a range.\n",
    "- The BST property is a **global property** - a binary tree may have the property that each node's key is greater tan the ey at its left child and smaller than the key at its right child, but it may not be a BST."
   ]
  },
  {
   "cell_type": "code",
   "execution_count": 8,
   "metadata": {},
   "outputs": [],
   "source": [
    "from data_structures import trees\n",
    "from data_structures.trees.binary import BinaryTreeNode\n",
    "\n",
    "bst = trees.bst.make_tree_example()"
   ]
  },
  {
   "attachments": {},
   "cell_type": "markdown",
   "metadata": {},
   "source": [
    "### 14.1: Is a Binary Tree a BST?"
   ]
  },
  {
   "cell_type": "code",
   "execution_count": 10,
   "metadata": {},
   "outputs": [
    {
     "name": "stdout",
     "output_type": "stream",
     "text": [
      "False\n",
      "True\n"
     ]
    }
   ],
   "source": [
    "def is_bst(tree: BinaryTreeNode) -> bool:\n",
    "    ''' \n",
    "    check constraints at each node\n",
    "    parent node creates a global constraint on all its child nodes\n",
    "    '''\n",
    "    def are_keys_in_range(tree: BinaryTreeNode, low_range: float=float('-inf'), high_range: float=float('inf')) -> bool:\n",
    "        if tree is None:\n",
    "            return True \n",
    "        if not low_range <= tree.data <= high_range:\n",
    "            return False\n",
    "        return (are_keys_in_range(tree.left, low_range, tree.data) and are_keys_in_range(tree.right, tree.data, high_range)\n",
    "        )\n",
    "    return are_keys_in_range(tree)\n",
    "\n",
    "print(is_bst(trees.binary.make_tree_example()))\n",
    "print(is_bst(bst))"
   ]
  },
  {
   "attachments": {},
   "cell_type": "markdown",
   "metadata": {},
   "source": [
    "Time complexity is $O(n)$ and space complexity is $O(h)$ where $h$ is the height of the tree"
   ]
  },
  {
   "attachments": {},
   "cell_type": "markdown",
   "metadata": {},
   "source": [
    "#### Variant\n",
    "Use a queue"
   ]
  },
  {
   "attachments": {},
   "cell_type": "markdown",
   "metadata": {},
   "source": [
    "### 14.2: Find the First Key Greater than a Given Value"
   ]
  },
  {
   "cell_type": "code",
   "execution_count": 14,
   "metadata": {},
   "outputs": [
    {
     "name": "stdout",
     "output_type": "stream",
     "text": [
      "41\n",
      "53\n",
      "13\n"
     ]
    }
   ],
   "source": [
    "def find_first_greater_than_k(tree: BinaryTreeNode, key: int) -> BinaryTreeNode:\n",
    "    subtree, candidate = tree, None\n",
    "\n",
    "    while subtree:\n",
    "        if subtree.data <= key:\n",
    "            subtree = subtree.right\n",
    "        # node greater than key\n",
    "        else:\n",
    "            candidate = subtree\n",
    "            subtree = subtree.left\n",
    "    return candidate\n",
    "\n",
    "print(find_first_greater_than_k(bst, 40).data)\n",
    "print(find_first_greater_than_k(bst, 47).data)\n",
    "print(find_first_greater_than_k(bst, 12).data)\n"
   ]
  },
  {
   "attachments": {},
   "cell_type": "markdown",
   "metadata": {},
   "source": [
    "Time complexity is $O(h)$ where $h$ is the height of the tree and space complexity is $O(1)$"
   ]
  }
 ],
 "metadata": {
  "kernelspec": {
   "display_name": "data-structures-algorithms",
   "language": "python",
   "name": "python3"
  },
  "language_info": {
   "codemirror_mode": {
    "name": "ipython",
    "version": 3
   },
   "file_extension": ".py",
   "mimetype": "text/x-python",
   "name": "python",
   "nbconvert_exporter": "python",
   "pygments_lexer": "ipython3",
   "version": "3.10.6"
  },
  "orig_nbformat": 4,
  "vscode": {
   "interpreter": {
    "hash": "893eabf024544e5e4ccd37f92d923a15afaa2331429d096efe9b57dc3359fd4e"
   }
  }
 },
 "nbformat": 4,
 "nbformat_minor": 2
}
