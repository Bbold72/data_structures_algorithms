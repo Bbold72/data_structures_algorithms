{
 "cells": [
  {
   "attachments": {},
   "cell_type": "markdown",
   "metadata": {},
   "source": [
    "# Binary Search Trees\n",
    "The BST is a binary tree that respects the BST property where the key stored at a node is greater than or equal to the keys stored at the nodes of its left subtree, and less than or equal to the keys stored at the nodes in right subtree.\n",
    "\n",
    "## Tips:\n",
    "- With a BST you can **iterate** through elements in a **sorted order** in time $O(n)$ (regardless of whter it is balanced)\n",
    "- Some problems need a **combination of a BST and a hashable**. For example, if you insert student objects in a BST and entries are ordered by GPA, and then a student's GPA needs to be updated and all we have is the student's name and new GPA, we cannot find the student by name without a full traveral. However, with an additional hash table, we can directly go to the corresponding entry in the tree.\n",
    "- Sometimes it is necessary to **augment** a BST to make it possible to manipulate more complicated data, e.g., intervals, and efficiently support more complex queries, e.g., the number of elements in a range.\n",
    "- The BST property is a **global property** - a binary tree may have the property that each node's key is greater tan the ey at its left child and smaller than the key at its right child, but it may not be a BST."
   ]
  },
  {
   "cell_type": "code",
   "execution_count": 15,
   "metadata": {},
   "outputs": [],
   "source": [
    "from data_structures import trees\n",
    "from data_structures.trees.binary import BinaryTreeNode\n",
    "from typing import List\n",
    "\n",
    "bst = trees.bst.make_tree_example()"
   ]
  },
  {
   "attachments": {},
   "cell_type": "markdown",
   "metadata": {},
   "source": [
    "### 14.1: Is a Binary Tree a BST?"
   ]
  },
  {
   "cell_type": "code",
   "execution_count": 10,
   "metadata": {},
   "outputs": [
    {
     "name": "stdout",
     "output_type": "stream",
     "text": [
      "False\n",
      "True\n"
     ]
    }
   ],
   "source": [
    "def is_bst(tree: BinaryTreeNode) -> bool:\n",
    "    ''' \n",
    "    check constraints at each node\n",
    "    parent node creates a global constraint on all its child nodes\n",
    "    '''\n",
    "    def are_keys_in_range(tree: BinaryTreeNode, low_range: float=float('-inf'), high_range: float=float('inf')) -> bool:\n",
    "        if tree is None:\n",
    "            return True \n",
    "        if not low_range <= tree.data <= high_range:\n",
    "            return False\n",
    "        return (are_keys_in_range(tree.left, low_range, tree.data) and are_keys_in_range(tree.right, tree.data, high_range)\n",
    "        )\n",
    "    return are_keys_in_range(tree)\n",
    "\n",
    "print(is_bst(trees.binary.make_tree_example()))\n",
    "print(is_bst(bst))"
   ]
  },
  {
   "attachments": {},
   "cell_type": "markdown",
   "metadata": {},
   "source": [
    "Time complexity is $O(n)$ and space complexity is $O(h)$ where $h$ is the height of the tree"
   ]
  },
  {
   "attachments": {},
   "cell_type": "markdown",
   "metadata": {},
   "source": [
    "#### Variant\n",
    "Use a queue"
   ]
  },
  {
   "attachments": {},
   "cell_type": "markdown",
   "metadata": {},
   "source": [
    "### 14.2: Find the First Key Greater than a Given Value"
   ]
  },
  {
   "cell_type": "code",
   "execution_count": 14,
   "metadata": {},
   "outputs": [
    {
     "name": "stdout",
     "output_type": "stream",
     "text": [
      "41\n",
      "53\n",
      "13\n"
     ]
    }
   ],
   "source": [
    "def find_first_greater_than_k(tree: BinaryTreeNode, key: int) -> BinaryTreeNode:\n",
    "    subtree, candidate = tree, None\n",
    "\n",
    "    while subtree:\n",
    "        if subtree.data <= key:\n",
    "            subtree = subtree.right\n",
    "        # node greater than key\n",
    "        else:\n",
    "            candidate = subtree\n",
    "            subtree = subtree.left\n",
    "    return candidate\n",
    "\n",
    "print(find_first_greater_than_k(bst, 40).data)\n",
    "print(find_first_greater_than_k(bst, 47).data)\n",
    "print(find_first_greater_than_k(bst, 12).data)\n"
   ]
  },
  {
   "attachments": {},
   "cell_type": "markdown",
   "metadata": {},
   "source": [
    "Time complexity is $O(h)$ where $h$ is the height of the tree and space complexity is $O(1)$"
   ]
  },
  {
   "attachments": {},
   "cell_type": "markdown",
   "metadata": {},
   "source": [
    "#### Variant 14.2.A:\n",
    "Find the node in a BST whose key equals the input value and appears first in an in-order traversal. BST can contain duplicate keys"
   ]
  },
  {
   "cell_type": "code",
   "execution_count": 26,
   "metadata": {},
   "outputs": [
    {
     "name": "stdout",
     "output_type": "stream",
     "text": [
      "108 108 285 -10 108 243 285 -14 2 401 \n"
     ]
    }
   ],
   "source": [
    "class BinaryTreeNodeName(BinaryTreeNode):\n",
    "    def __init__(self, data=None, name=None, left=None, right=None) -> None:\n",
    "        self.data = data\n",
    "        self.name = name \n",
    "        self.left = left \n",
    "        self.right = right \n",
    "\n",
    "def find_first_key(tree: BinaryTreeNode, key: int) -> BinaryTreeNode:\n",
    "    subtree, candidate = tree, None \n",
    "\n",
    "    while subtree:\n",
    "        if subtree.data == key:\n",
    "            candidate = subtree\n",
    "            subtree = subtree.left \n",
    "        elif subtree.data < key:\n",
    "            subtree = subtree.right \n",
    "        # node less than key\n",
    "        else:\n",
    "            subtree = subtree.left\n",
    "\n",
    "    return candidate\n",
    "\n",
    "\n",
    "bst_duplicates = BinaryTreeNodeName(data=108, name='A',\n",
    "                    left=BinaryTreeNodeName(data=108, name='B',\n",
    "                            left=BinaryTreeNodeName(data=-10, name='C',\n",
    "                                    left=BinaryTreeNodeName(data=-14, name='D'),\n",
    "                                    right=BinaryTreeNodeName(data=2, name='E')\n",
    "                                    ),\n",
    "                            right=BinaryTreeNodeName(data=108, name='F')\n",
    "                            ),\n",
    "                    right=BinaryTreeNodeName(data=285, name='G',\n",
    "                            left=BinaryTreeNodeName(data=243, name='H'),\n",
    "                            right=BinaryTreeNodeName(data=285, name='I',\n",
    "                                    right=BinaryTreeNodeName(data=401, name='J')\n",
    "                            )\n",
    "                    )\n",
    "                )\n",
    "trees.binary.traversal_levelorder(bst_duplicates)\n",
    "print()\n",
    "\n",
    "assert find_first_key(bst_duplicates, 108).name == 'B'\n",
    "assert find_first_key(bst_duplicates, 285).name == 'G'\n",
    "assert find_first_key(bst_duplicates, 143) is None\n",
    "assert find_first_key(bst_duplicates, 243).name == 'H'"
   ]
  },
  {
   "attachments": {},
   "cell_type": "markdown",
   "metadata": {},
   "source": [
    "Time complexity is $O(h)$ where $h$ is the height of the tree and space complexity is $O(1)$"
   ]
  },
  {
   "attachments": {},
   "cell_type": "markdown",
   "metadata": {},
   "source": [
    "### 14.3: Find the K Largest Elemnts in a BST"
   ]
  },
  {
   "cell_type": "code",
   "execution_count": 20,
   "metadata": {},
   "outputs": [
    {
     "data": {
      "text/plain": [
       "[53, 47, 43, 41]"
      ]
     },
     "execution_count": 20,
     "metadata": {},
     "output_type": "execute_result"
    }
   ],
   "source": [
    "def find_k_largest(tree: BinaryTreeNode, k: int) -> List[int]:\n",
    "    ''' \n",
    "    do reverse in-order traveral to get nodes in descending sorted order\n",
    "    return once have k elements \n",
    "    '''\n",
    "    def helper(tree: BinaryTreeNode):\n",
    "\n",
    "        if tree and len(k_largest_nodes) < k:\n",
    "            if tree.right:\n",
    "                helper(tree.right)\n",
    "\n",
    "            if len(k_largest_nodes) < k:\n",
    "                k_largest_nodes.append(tree.data)\n",
    "\n",
    "                if tree.left:\n",
    "                    helper(tree.left)\n",
    "\n",
    "    k_largest_nodes: List[BinaryTreeNode] = []\n",
    "    helper(tree)\n",
    "    return k_largest_nodes\n",
    "\n",
    "find_k_largest(bst, 4)"
   ]
  },
  {
   "attachments": {},
   "cell_type": "markdown",
   "metadata": {},
   "source": [
    "Time complexity is $O(h+k)$. Must descend the height of tree and then ascend k times"
   ]
  },
  {
   "attachments": {},
   "cell_type": "markdown",
   "metadata": {},
   "source": [
    "### 14.4: Compute the LCA in a BST"
   ]
  },
  {
   "cell_type": "code",
   "execution_count": 32,
   "metadata": {},
   "outputs": [],
   "source": [
    "# assume key in a < b\n",
    "def find_lca(tree: BinaryTreeNode, a: BinaryTreeNode, b: BinaryTreeNode) -> BinaryTreeNode:\n",
    "    while tree.data < a.data or tree.data > b.data:\n",
    "\n",
    "        while tree.data < a.data:\n",
    "            tree = tree.right     # LCA must be in right subtree \n",
    "\n",
    "        while tree.data > b.data:\n",
    "            tree = tree.left      # LCA must be in left subtree \n",
    "\n",
    "    # now a.data <= tree.data && tree.data >= b.data\n",
    "    return tree \n",
    "\n",
    "assert find_lca(bst, a=bst.left.left.left, b=bst.left.left.right).data == 3\n",
    "assert find_lca(bst, a=bst.left.left.left, b=bst.right.left.right).data == 19\n",
    "assert find_lca(bst, a=bst.left.left.left, b=bst.left.right.right.left).data == 7\n",
    "assert find_lca(bst, a=bst.right.left, b=bst.right.right.right).data == 43\n",
    "assert find_lca(bst, a=bst.right.left, b=bst.right.left.right).data == 23"
   ]
  },
  {
   "attachments": {},
   "cell_type": "markdown",
   "metadata": {},
   "source": [
    "### 14.8: Build a Minimum Height BST from a Sorted Array"
   ]
  },
  {
   "cell_type": "code",
   "execution_count": 21,
   "metadata": {},
   "outputs": [
    {
     "name": "stdout",
     "output_type": "stream",
     "text": [
      "5 2 9 2 4 9 11 1 3 8 10 "
     ]
    }
   ],
   "source": [
    "def build_min_height_bst(A: List[int]) -> BinaryTreeNode:\n",
    "    def helper(start: int, end: int) -> BinaryTreeNode:\n",
    "        if start >= end:\n",
    "            return None\n",
    "\n",
    "        mid = (start + end) // 2\n",
    "\n",
    "        return BinaryTreeNode(data=A[mid], \n",
    "                    left=helper(start, mid),\n",
    "                    right=helper(mid+1, end)\n",
    "                    )\n",
    "    return helper(0, len(A))\n",
    "\n",
    "A = [4, 10, 9, 11, 2, 9, 3, 1, 5, 2, 8]\n",
    "A.sort()\n",
    "root = build_min_height_bst(A)\n",
    "trees.binary.traversal_levelorder(root)"
   ]
  },
  {
   "attachments": {},
   "cell_type": "markdown",
   "metadata": {},
   "source": [
    "$O(n)$ time complexity"
   ]
  }
 ],
 "metadata": {
  "kernelspec": {
   "display_name": "data-structures-algorithms",
   "language": "python",
   "name": "python3"
  },
  "language_info": {
   "codemirror_mode": {
    "name": "ipython",
    "version": 3
   },
   "file_extension": ".py",
   "mimetype": "text/x-python",
   "name": "python",
   "nbconvert_exporter": "python",
   "pygments_lexer": "ipython3",
   "version": "3.10.6"
  },
  "orig_nbformat": 4,
  "vscode": {
   "interpreter": {
    "hash": "893eabf024544e5e4ccd37f92d923a15afaa2331429d096efe9b57dc3359fd4e"
   }
  }
 },
 "nbformat": 4,
 "nbformat_minor": 2
}
