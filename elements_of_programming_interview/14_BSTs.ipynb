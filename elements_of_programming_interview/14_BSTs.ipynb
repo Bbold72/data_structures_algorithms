{
 "cells": [
  {
   "attachments": {},
   "cell_type": "markdown",
   "metadata": {},
   "source": [
    "# Binary Search Trees\n",
    "The BST is a binary tree that respects the BST property where the key stored at a node is greater than or equal to the keys stored at the nodes of its left subtree, and less than or equal to the keys stored at the nodes in right subtree.\n",
    "\n",
    "## Tips:\n",
    "- With a BST you can **iterate** through elements in a **sorted order** in time $O(n)$ (regardless of whter it is balanced)\n",
    "- Some problems need a **combination of a BST and a hashable**. For example, if you insert student objects in a BST and entries are ordered by GPA, and then a student's GPA needs to be updated and all we have is the student's name and new GPA, we cannot find the student by name without a full traveral. However, with an additional hash table, we can directly go to the corresponding entry in the tree.\n",
    "- Sometimes it is necessary to **augment** a BST to make it possible to manipulate more complicated data, e.g., intervals, and efficiently support more complex queries, e.g., the number of elements in a range.\n",
    "- The BST property is a **global property** - a binary tree may have the property that each node's key is greater tan the ey at its left child and smaller than the key at its right child, but it may not be a BST."
   ]
  },
  {
   "cell_type": "code",
   "execution_count": 23,
   "metadata": {},
   "outputs": [],
   "source": [
    "import bintrees\n",
    "from collections import namedtuple\n",
    "import math\n",
    "from typing import List\n",
    "\n",
    "from data_structures import trees\n",
    "from data_structures.trees.bst import make_tree_example\n",
    "from data_structures.trees.binary import BinaryTreeNode\n",
    "\n",
    "bst = make_tree_example()"
   ]
  },
  {
   "attachments": {},
   "cell_type": "markdown",
   "metadata": {},
   "source": [
    "### 14.1: Is a Binary Tree a BST?"
   ]
  },
  {
   "cell_type": "code",
   "execution_count": 24,
   "metadata": {},
   "outputs": [
    {
     "name": "stdout",
     "output_type": "stream",
     "text": [
      "False\n",
      "True\n"
     ]
    }
   ],
   "source": [
    "def is_bst(tree: BinaryTreeNode) -> bool:\n",
    "    ''' \n",
    "    check constraints at each node\n",
    "    parent node creates a global constraint on all its child nodes\n",
    "    '''\n",
    "    def are_keys_in_range(tree: BinaryTreeNode, low_range: float=float('-inf'), high_range: float=float('inf')) -> bool:\n",
    "        if tree is None:\n",
    "            return True \n",
    "        if not low_range <= tree.data <= high_range:\n",
    "            return False\n",
    "        return (are_keys_in_range(tree.left, low_range, tree.data) and are_keys_in_range(tree.right, tree.data, high_range)\n",
    "        )\n",
    "    return are_keys_in_range(tree)\n",
    "\n",
    "print(is_bst(trees.binary.make_tree_example()))\n",
    "print(is_bst(bst))"
   ]
  },
  {
   "attachments": {},
   "cell_type": "markdown",
   "metadata": {},
   "source": [
    "Time complexity is $O(n)$ and space complexity is $O(h)$ where $h$ is the height of the tree"
   ]
  },
  {
   "attachments": {},
   "cell_type": "markdown",
   "metadata": {},
   "source": [
    "#### Variant\n",
    "Use a queue"
   ]
  },
  {
   "attachments": {},
   "cell_type": "markdown",
   "metadata": {},
   "source": [
    "### 14.2: Find the First Key Greater than a Given Value"
   ]
  },
  {
   "cell_type": "code",
   "execution_count": 25,
   "metadata": {},
   "outputs": [
    {
     "name": "stdout",
     "output_type": "stream",
     "text": [
      "41\n",
      "53\n",
      "13\n"
     ]
    }
   ],
   "source": [
    "def find_first_greater_than_k(tree: BinaryTreeNode, key: int) -> BinaryTreeNode:\n",
    "    subtree, candidate = tree, None\n",
    "\n",
    "    while subtree:\n",
    "        if subtree.data <= key:\n",
    "            subtree = subtree.right\n",
    "        # node greater than key\n",
    "        else:\n",
    "            candidate = subtree\n",
    "            subtree = subtree.left\n",
    "    return candidate\n",
    "\n",
    "print(find_first_greater_than_k(bst, 40).data)\n",
    "print(find_first_greater_than_k(bst, 47).data)\n",
    "print(find_first_greater_than_k(bst, 12).data)\n"
   ]
  },
  {
   "attachments": {},
   "cell_type": "markdown",
   "metadata": {},
   "source": [
    "Time complexity is $O(h)$ where $h$ is the height of the tree and space complexity is $O(1)$"
   ]
  },
  {
   "attachments": {},
   "cell_type": "markdown",
   "metadata": {},
   "source": [
    "#### Variant 14.2.A:\n",
    "Find the node in a BST whose key equals the input value and appears first in an in-order traversal. BST can contain duplicate keys"
   ]
  },
  {
   "cell_type": "code",
   "execution_count": 26,
   "metadata": {},
   "outputs": [
    {
     "name": "stdout",
     "output_type": "stream",
     "text": [
      "108 108 285 -10 108 243 285 -14 2 401 \n"
     ]
    }
   ],
   "source": [
    "class BinaryTreeNodeName(BinaryTreeNode):\n",
    "    def __init__(self, data=None, name=None, left=None, right=None) -> None:\n",
    "        self.data = data\n",
    "        self.name = name \n",
    "        self.left = left \n",
    "        self.right = right \n",
    "\n",
    "def find_first_key(tree: BinaryTreeNode, key: int) -> BinaryTreeNode:\n",
    "    subtree, candidate = tree, None \n",
    "\n",
    "    while subtree:\n",
    "        if subtree.data == key:\n",
    "            candidate = subtree\n",
    "            subtree = subtree.left \n",
    "        elif subtree.data < key:\n",
    "            subtree = subtree.right \n",
    "        # node less than key\n",
    "        else:\n",
    "            subtree = subtree.left\n",
    "\n",
    "    return candidate\n",
    "\n",
    "\n",
    "bst_duplicates = BinaryTreeNodeName(data=108, name='A',\n",
    "                    left=BinaryTreeNodeName(data=108, name='B',\n",
    "                            left=BinaryTreeNodeName(data=-10, name='C',\n",
    "                                    left=BinaryTreeNodeName(data=-14, name='D'),\n",
    "                                    right=BinaryTreeNodeName(data=2, name='E')\n",
    "                                    ),\n",
    "                            right=BinaryTreeNodeName(data=108, name='F')\n",
    "                            ),\n",
    "                    right=BinaryTreeNodeName(data=285, name='G',\n",
    "                            left=BinaryTreeNodeName(data=243, name='H'),\n",
    "                            right=BinaryTreeNodeName(data=285, name='I',\n",
    "                                    right=BinaryTreeNodeName(data=401, name='J')\n",
    "                            )\n",
    "                    )\n",
    "                )\n",
    "trees.binary.traversal_levelorder(bst_duplicates)\n",
    "print()\n",
    "\n",
    "assert find_first_key(bst_duplicates, 108).name == 'B'\n",
    "assert find_first_key(bst_duplicates, 285).name == 'G'\n",
    "assert find_first_key(bst_duplicates, 143) is None\n",
    "assert find_first_key(bst_duplicates, 243).name == 'H'"
   ]
  },
  {
   "attachments": {},
   "cell_type": "markdown",
   "metadata": {},
   "source": [
    "Time complexity is $O(h)$ where $h$ is the height of the tree and space complexity is $O(1)$"
   ]
  },
  {
   "attachments": {},
   "cell_type": "markdown",
   "metadata": {},
   "source": [
    "### 14.3: Find the K Largest Elemnts in a BST"
   ]
  },
  {
   "cell_type": "code",
   "execution_count": 27,
   "metadata": {},
   "outputs": [
    {
     "data": {
      "text/plain": [
       "[53, 47, 43, 41]"
      ]
     },
     "execution_count": 27,
     "metadata": {},
     "output_type": "execute_result"
    }
   ],
   "source": [
    "def find_k_largest(tree: BinaryTreeNode, k: int) -> List[int]:\n",
    "    ''' \n",
    "    do reverse in-order traveral to get nodes in descending sorted order\n",
    "    return once have k elements \n",
    "    '''\n",
    "    def helper(tree: BinaryTreeNode):\n",
    "\n",
    "        if tree and len(k_largest_nodes) < k:\n",
    "            if tree.right:\n",
    "                helper(tree.right)\n",
    "\n",
    "            if len(k_largest_nodes) < k:\n",
    "                k_largest_nodes.append(tree.data)\n",
    "\n",
    "                if tree.left:\n",
    "                    helper(tree.left)\n",
    "\n",
    "    k_largest_nodes: List[BinaryTreeNode] = []\n",
    "    helper(tree)\n",
    "    return k_largest_nodes\n",
    "\n",
    "find_k_largest(bst, 4)"
   ]
  },
  {
   "attachments": {},
   "cell_type": "markdown",
   "metadata": {},
   "source": [
    "Time complexity is $O(h+k)$. Must descend the height of tree and then ascend k times"
   ]
  },
  {
   "attachments": {},
   "cell_type": "markdown",
   "metadata": {},
   "source": [
    "### 14.4: Compute the LCA in a BST"
   ]
  },
  {
   "cell_type": "code",
   "execution_count": 28,
   "metadata": {},
   "outputs": [],
   "source": [
    "# assume key in a < b\n",
    "def find_lca(tree: BinaryTreeNode, a: BinaryTreeNode, b: BinaryTreeNode) -> BinaryTreeNode:\n",
    "    while tree.data < a.data or tree.data > b.data:\n",
    "\n",
    "        while tree.data < a.data:\n",
    "            tree = tree.right     # LCA must be in right subtree \n",
    "\n",
    "        while tree.data > b.data:\n",
    "            tree = tree.left      # LCA must be in left subtree \n",
    "\n",
    "    # now a.data <= tree.data && tree.data >= b.data\n",
    "    return tree \n",
    "\n",
    "assert find_lca(bst, a=bst.left.left.left, b=bst.left.left.right).data == 3\n",
    "assert find_lca(bst, a=bst.left.left.left, b=bst.right.left.right).data == 19\n",
    "assert find_lca(bst, a=bst.left.left.left, b=bst.left.right.right.left).data == 7\n",
    "assert find_lca(bst, a=bst.right.left, b=bst.right.right.right).data == 43\n",
    "assert find_lca(bst, a=bst.right.left, b=bst.right.left.right).data == 23"
   ]
  },
  {
   "attachments": {},
   "cell_type": "markdown",
   "metadata": {},
   "source": [
    "### 14.5: Reconstruct a BST From Traversal Data"
   ]
  },
  {
   "cell_type": "code",
   "execution_count": 29,
   "metadata": {},
   "outputs": [
    {
     "name": "stdout",
     "output_type": "stream",
     "text": [
      "43 23 47 37 53 29 41 31 "
     ]
    }
   ],
   "source": [
    "def bst_from_preorder(preorder_sequence: List[int]) -> BinaryTreeNode:\n",
    "    ''' \n",
    "    a pre-order traversal provides a unique representation of a BST\n",
    "    the first node is the root\n",
    "    the subsequent nodes less than the root are part of the left subtree\n",
    "    the subsequent nodes greater than the root are part of the right subtree\n",
    "    '''\n",
    "    if not preorder_sequence:\n",
    "        return None \n",
    "\n",
    "    transition_point = next(\n",
    "        (i for i, a in enumerate(preorder_sequence) if a > preorder_sequence[0]), len(preorder_sequence)\n",
    "    )\n",
    "    return BinaryTreeNode(preorder_sequence[0],\n",
    "                left=bst_from_preorder(preorder_sequence[1:transition_point]),\n",
    "                right=bst_from_preorder(preorder_sequence[transition_point:])\n",
    "                )\n",
    "\n",
    "root = bst_from_preorder([43, 23, 37, 29, 31, 41, 47, 53])\n",
    "trees.binary.traversal_levelorder(root)"
   ]
  },
  {
   "attachments": {},
   "cell_type": "markdown",
   "metadata": {},
   "source": [
    "Worst case scenario is $O(n^2)$ and best case is $O(n)$. $O(n\\log n)$ in balanced BST"
   ]
  },
  {
   "attachments": {},
   "cell_type": "markdown",
   "metadata": {},
   "source": [
    "#### Variant"
   ]
  },
  {
   "attachments": {},
   "cell_type": "markdown",
   "metadata": {},
   "source": [
    "### 14.6: Find the Closest Entries in Three Sorted Arrays"
   ]
  },
  {
   "cell_type": "code",
   "execution_count": 30,
   "metadata": {},
   "outputs": [
    {
     "data": {
      "text/plain": [
       "1"
      ]
     },
     "execution_count": 30,
     "metadata": {},
     "output_type": "execute_result"
    }
   ],
   "source": [
    "def find_closest_elements_in_sorted_arrays(sorted_arrays: List[List[int]]) -> int:\n",
    "    ''' \n",
    "    need fast inserts and retrievals of minimum elements from each array\n",
    "    '''\n",
    "    # stores array iterators in each entry\n",
    "    iters = bintrees.RBTree()\n",
    "    for idx, subarray in enumerate(sorted_arrays):\n",
    "        it = iter(subarray)\n",
    "        first_min = next(it, None)\n",
    "        if first_min is not None:\n",
    "            iters.insert((first_min, idx), it)  # key value pair\n",
    "\n",
    "    # find min distance\n",
    "    min_distance = float('inf')\n",
    "    while True:\n",
    "        # min and max of three elements, one from each subarray, \n",
    "        # guarantees to find min interval containing each subarray\n",
    "        min_value, min_idx = iters.min_key()\n",
    "        max_value = iters.max_key()[0]\n",
    "        min_distance = min([min_distance, max_value - min_value])\n",
    "        \n",
    "        # get next min\n",
    "        it = iters.pop_min()[1]\n",
    "        next_min = next(it, None)\n",
    "        if next_min is None:\n",
    "            return int(min_distance)\n",
    "        else:\n",
    "            iters.insert((next_min, min_idx), it)\n",
    "\n",
    "find_closest_elements_in_sorted_arrays([[5, 10, 15], [3, 6, 9, 12, 15], [8, 16, 24]])"
   ]
  },
  {
   "attachments": {},
   "cell_type": "markdown",
   "metadata": {},
   "source": [
    "Time complexity is $O(n\\log k)$ where $n$ is the total number of elements in the $k$ subarray. In the special case where $k=3$, $O(n\\log 3) = O(n)$"
   ]
  },
  {
   "attachments": {},
   "cell_type": "markdown",
   "metadata": {},
   "source": [
    "### 14.7: Enumerate Extended Integers\n",
    "Design an algorithm for efficiently computing the $k$ smallest numbers of the form $a+b\\sqrt{2}$ where $a,b$ are non-negative integers"
   ]
  },
  {
   "cell_type": "code",
   "execution_count": 31,
   "metadata": {},
   "outputs": [
    {
     "data": {
      "text/plain": [
       "[0.0,\n",
       " 1.0,\n",
       " 1.4142135623730951,\n",
       " 2.0,\n",
       " 2.414213562373095,\n",
       " 2.8284271247461903,\n",
       " 3.0,\n",
       " 3.414213562373095,\n",
       " 3.8284271247461903,\n",
       " 4.0]"
      ]
     },
     "execution_count": 31,
     "metadata": {},
     "output_type": "execute_result"
    }
   ],
   "source": [
    "class Number:\n",
    "    def __init__(self, a: int, b: int) -> None:\n",
    "        self.a = a\n",
    "        self.b = b \n",
    "        self.value = a + b * math.sqrt(2)\n",
    "\n",
    "    def __lt__(self, other: 'Number') -> bool:\n",
    "        return self.value < other.value \n",
    "\n",
    "    def __eq__(self, other: 'Number') -> bool:\n",
    "        return self.value == other.value \n",
    "\n",
    "def generate_first_k(k: int) -> List[float]:\n",
    "    ''' \n",
    "    generate sequence initialized at a = b = 0\n",
    "    and store in bst \n",
    "    perform k extractions on minimum followed by\n",
    "    (a+1) + b, and a + (b+1) insertions\n",
    "    '''\n",
    "    candidates = bintrees.RBTree([(Number(0, 0), None)])\n",
    "    result: List[float] = []\n",
    "\n",
    "    while len(result) < k:\n",
    "        next_smallest = candidates.pop_min()[0]\n",
    "        result.append(next_smallest.value)\n",
    "        candidates.insert(Number(next_smallest.a + 1, next_smallest.b), None)\n",
    "        candidates.insert(Number(next_smallest.a, next_smallest.b + 1), None)\n",
    "\n",
    "    return result\n",
    "\n",
    "generate_first_k(10)"
   ]
  },
  {
   "attachments": {},
   "cell_type": "markdown",
   "metadata": {},
   "source": [
    "In each iteration, a deletion and two insertions in performed. There are $k$ such insertions, so the time complexitys is $O(k\\log k)$. The space complexity is $O(k)$ since there are not more than $2k$ insertions"
   ]
  },
  {
   "attachments": {},
   "cell_type": "markdown",
   "metadata": {},
   "source": [
    "#### Variant for $O(n)$"
   ]
  },
  {
   "attachments": {},
   "cell_type": "markdown",
   "metadata": {},
   "source": [
    "### 14.8: Build a Minimum Height BST from a Sorted Array"
   ]
  },
  {
   "cell_type": "code",
   "execution_count": 32,
   "metadata": {},
   "outputs": [
    {
     "name": "stdout",
     "output_type": "stream",
     "text": [
      "5 2 9 2 4 9 11 1 3 8 10 "
     ]
    }
   ],
   "source": [
    "def build_min_height_bst(A: List[int]) -> BinaryTreeNode:\n",
    "    def helper(start: int, end: int) -> BinaryTreeNode:\n",
    "        if start >= end:\n",
    "            return None\n",
    "\n",
    "        mid = (start + end) // 2\n",
    "\n",
    "        return BinaryTreeNode(data=A[mid], \n",
    "                    left=helper(start, mid),\n",
    "                    right=helper(mid+1, end)\n",
    "                    )\n",
    "    return helper(0, len(A))\n",
    "\n",
    "A = [4, 10, 9, 11, 2, 9, 3, 1, 5, 2, 8]\n",
    "A.sort()\n",
    "root = build_min_height_bst(A)\n",
    "trees.binary.traversal_levelorder(root)"
   ]
  },
  {
   "attachments": {},
   "cell_type": "markdown",
   "metadata": {},
   "source": [
    "$O(n)$ time complexity"
   ]
  },
  {
   "attachments": {},
   "cell_type": "markdown",
   "metadata": {},
   "source": [
    "### 14.9: Test if Three BST Nodes are Totally Ordered"
   ]
  },
  {
   "attachments": {},
   "cell_type": "markdown",
   "metadata": {},
   "source": [
    "### 14.10: The Range Lookup Problem\n"
   ]
  },
  {
   "cell_type": "code",
   "execution_count": 33,
   "metadata": {},
   "outputs": [
    {
     "name": "stdout",
     "output_type": "stream",
     "text": [
      "[17, 19, 23, 29, 31]\n"
     ]
    }
   ],
   "source": [
    "Interval = namedtuple('Interval', ('left', 'right'))\n",
    "\n",
    "def range_lookup_in_bst(tree: BinaryTreeNode, interval: Interval) -> List[int]:\n",
    "\n",
    "    def helper(tree: BinaryTreeNode) -> None:\n",
    "        if tree is None:\n",
    "            return \n",
    "\n",
    "        # node in interval\n",
    "        # need to check both subtrees\n",
    "        if interval.left <= tree.data <= interval.right:\n",
    "            # in-order traversal\n",
    "            helper(tree.left)\n",
    "            result.append(tree.data)\n",
    "            helper(tree.right)\n",
    "        elif tree.data < interval.left:\n",
    "            helper(tree.right)   # nodes in left subtree are outside interval\n",
    "        #  tree.data < interval.right:\n",
    "        else:\n",
    "            helper(tree.left)   # nodes in right subtree are outside interval\n",
    "\n",
    "    result: List[int] = []\n",
    "    helper(tree)\n",
    "    return result\n",
    "\n",
    "print(range_lookup_in_bst(bst, Interval(16, 31)))\n"
   ]
  },
  {
   "attachments": {},
   "cell_type": "markdown",
   "metadata": {},
   "source": [
    "### Modifying a BST"
   ]
  },
  {
   "attachments": {},
   "cell_type": "markdown",
   "metadata": {},
   "source": [
    "### 14.11: Add Credits Class"
   ]
  }
 ],
 "metadata": {
  "kernelspec": {
   "display_name": "data-structures-algorithms",
   "language": "python",
   "name": "python3"
  },
  "language_info": {
   "codemirror_mode": {
    "name": "ipython",
    "version": 3
   },
   "file_extension": ".py",
   "mimetype": "text/x-python",
   "name": "python",
   "nbconvert_exporter": "python",
   "pygments_lexer": "ipython3",
   "version": "3.10.6"
  },
  "orig_nbformat": 4,
  "vscode": {
   "interpreter": {
    "hash": "893eabf024544e5e4ccd37f92d923a15afaa2331429d096efe9b57dc3359fd4e"
   }
  }
 },
 "nbformat": 4,
 "nbformat_minor": 2
}
