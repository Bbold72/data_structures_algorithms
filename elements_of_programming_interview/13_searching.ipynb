{
 "cells": [
  {
   "attachments": {},
   "cell_type": "markdown",
   "metadata": {},
   "source": [
    "# Searching\n",
    "Sorting is used to preprocess the collection to make searching faster, as well as identify items that are similar. Naive sorting algorithms run in $O(n^2)$ time. The best sorting algorithms run in $O(n\\log n)$ time:\n",
    "- **heapsort**: in-place but not stable\n",
    "- **mergesort**: stable but not in place\n",
    "- **quicksort**: $O(n^2)$ worst-case run time, however, generally best choice\n",
    "\n",
    "For short arrays, e.g., 10 or fewer elements, insertion sort is easier to code and faster than aymptotically superior algorithms. If every element is known to be at most $k$ places from its final location, min-heap can be used to get $O(n\\log k)$ time. If there are a small number of distinct keys, counting sort, which records for each element, the number of elements less than it, works well."
   ]
  },
  {
   "cell_type": "code",
   "execution_count": 45,
   "metadata": {},
   "outputs": [],
   "source": [
    "from collections import Counter\n",
    "from typing import Dict, List\n",
    "\n",
    "from utils import run_tests"
   ]
  },
  {
   "attachments": {},
   "cell_type": "markdown",
   "metadata": {},
   "source": [
    "## Tips\n",
    "- Sorting problems come in two flavors: \n",
    "    1. **Use sorting to make subsequent steps in an algorithm simpler** - fine to use a library sort function, possibly with a custom comparator\n",
    "    1. Design a **custom sorting routine** - use a data structure like a heap, a BST, or an array indexed by values\n",
    "- Certain problems become easier to understand, as well as solve, when the input is sorted. The most natural reason to sort is if the inputs have a **natural ordering**, and sorting can be used as a preprocessing step to **speed up searching**\n",
    "- For **specialized input**, e.g., a very small range of values, or a small number of values, it's possible to sort in $O(n)$ time rather than $O(n\\log n)$ time.\n",
    "- It's often the case that sorting can be implemented in **less space** than required by a brute-force approach.\n",
    "- Sometimes it is not obvious what to sort on, e.g., should a collection of intervals be sorted on starting points or endpoints?"
   ]
  },
  {
   "attachments": {},
   "cell_type": "markdown",
   "metadata": {},
   "source": [
    "## Libraries\n",
    "- `sort()`: stable, in-place sort for list objects. \n",
    "    - Returns none\n",
    "    - takes two arguments:\n",
    "        1. `key=None`: a function that defines the sort order, taking a list element and mapping them to objects that are comparable\n",
    "        1. `reverse=False`\n",
    "- `sorted()`: takes an iterable and returns a new list containing all items from the iterable in ascending order"
   ]
  },
  {
   "attachments": {},
   "cell_type": "markdown",
   "metadata": {},
   "source": [
    "### Make a Class Sortable"
   ]
  },
  {
   "cell_type": "code",
   "execution_count": 13,
   "metadata": {},
   "outputs": [
    {
     "name": "stdout",
     "output_type": "stream",
     "text": [
      "Banana has a GPA of 2.75\n",
      "Freya has a GPA of 1.25\n",
      "Jack has a GPA of 3.7\n",
      "Jill has a GPA of 3.75\n",
      "\n",
      "Freya has a GPA of 1.25\n",
      "Banana has a GPA of 2.75\n",
      "Jack has a GPA of 3.7\n",
      "Jill has a GPA of 3.75\n"
     ]
    },
    {
     "data": {
      "text/plain": [
       "[None, None, None, None]"
      ]
     },
     "execution_count": 13,
     "metadata": {},
     "output_type": "execute_result"
    }
   ],
   "source": [
    "class Student:\n",
    "\n",
    "    def __init__(self, name: str, gpa: float) -> None:\n",
    "        self.name = name \n",
    "        self.gpa = gpa \n",
    "\n",
    "    def __lt__(self, other: 'Student') -> None:\n",
    "        return self.name < other.name \n",
    "\n",
    "    def __str__(self):\n",
    "        return f'{self.name} has a GPA of {self.gpa}'\n",
    "\n",
    "students = [\n",
    "    Student('Jack', 3.7),\n",
    "    Student('Jill', 3.75),\n",
    "    Student('Freya', 1.25),\n",
    "    Student('Banana', 2.75)\n",
    "]\n",
    "# sort according to __lt__\n",
    "students.sort()\n",
    "list(map(print, students))\n",
    "print()\n",
    "\n",
    "# sort in place by gpa\n",
    "students.sort(key=lambda student: student.gpa)\n",
    "list(map(print, students))"
   ]
  },
  {
   "attachments": {},
   "cell_type": "markdown",
   "metadata": {},
   "source": [
    "### 13.1: Compute the Intersection of Two Sorted Arrays\n",
    "e.g.: [2, 3, 3, 5, 5, 6, 7, 7, 8, 12] & [5, 5, 6, 8, 8, 9, 10, 10] -> [5, 6, 8]"
   ]
  },
  {
   "cell_type": "code",
   "execution_count": 15,
   "metadata": {},
   "outputs": [
    {
     "name": "stdout",
     "output_type": "stream",
     "text": [
      "[5, 6, 8]\n"
     ]
    }
   ],
   "source": [
    "def intersection_sorted_arrays_bf(A: List[int], B: List[int]) -> List[int]:\n",
    "    return [a for i, a in enumerate(A) if (i == 0 or a != A[i - 1]) and a in B]  # prevent duplicates by checking with previous value\n",
    "\n",
    "print(intersection_sorted_arrays_bf([2, 3, 3, 5, 5, 6, 7, 7, 8, 12], [5, 5, 6, 8, 8, 9, 10, 10]))\n"
   ]
  },
  {
   "attachments": {},
   "cell_type": "markdown",
   "metadata": {},
   "source": [
    "$O(nm)$ time complexity because two loops"
   ]
  },
  {
   "cell_type": "code",
   "execution_count": 24,
   "metadata": {},
   "outputs": [
    {
     "name": "stdout",
     "output_type": "stream",
     "text": [
      "[5, 6, 8]\n"
     ]
    }
   ],
   "source": [
    "def intersection_sorted_arrays(A: List[int], B: List[int]) -> List[int]:\n",
    "    ''' \n",
    "    take advantage of the fact that both arrays are sorted\n",
    "    '''\n",
    "    i, j = 0, 0\n",
    "    intersection = []\n",
    "\n",
    "    while i < len(A) and j < len(B):  # once get to end of one list, elements cannot intersect \n",
    "        if A[i] == B[j]:\n",
    "            if (i == 0 or A[i] != A[i - 1]): \n",
    "                intersection.append(A[i])\n",
    "            i += 1\n",
    "            j += 1\n",
    "        elif A[i] < B[j]:\n",
    "            i += 1\n",
    "        else:         # A[i] > B[j]\n",
    "            j += 1\n",
    "\n",
    "    return intersection\n",
    "\n",
    "print(intersection_sorted_arrays([2, 3, 3, 5, 5, 6, 7, 7, 8, 12], [5, 5, 6, 8, 8, 9, 10, 10]))\n"
   ]
  },
  {
   "attachments": {},
   "cell_type": "markdown",
   "metadata": {},
   "source": [
    "$O(n + m)$ time complexity"
   ]
  },
  {
   "attachments": {},
   "cell_type": "markdown",
   "metadata": {},
   "source": [
    "### 13.2: Merge Two Sorted Arrays\n",
    "Assume the first array has enough empty spaces at the end for the elements of the second array   \n",
    "e.g.: [3, 13, 17, _, _, _, _] & [3, 7, 11, 19] -> [3, 3, 7, 11, 13, 17, 19]"
   ]
  },
  {
   "cell_type": "code",
   "execution_count": 35,
   "metadata": {},
   "outputs": [
    {
     "name": "stdout",
     "output_type": "stream",
     "text": [
      "[3, 3, 7, 11, 13, 17, 19]\n",
      "[3, 3, 7, 11, 13, 17, 19, 20]\n",
      "[3, 7, 11, 13, 17, 19, 20]\n"
     ]
    }
   ],
   "source": [
    "def merge_two_sorted_arrays(A: List[int], n:int, B: List[int], m: int) -> None:\n",
    "    ''' \n",
    "    n,m: number of elements in resepective arrays \n",
    "    updates array A\n",
    "    '''\n",
    "    a, b, write_index = n-1, m-1, n+m-1\n",
    "\n",
    "    while a >= 0 and b >= 0:\n",
    "        if A[a] > B[b]:\n",
    "            A[write_index] = A[a]\n",
    "            a -= 1\n",
    "        else:\n",
    "            A[write_index] = B[b]\n",
    "            b -= 1\n",
    "\n",
    "        write_index -= 1 \n",
    "\n",
    "    # rest of entries in b\n",
    "    while b >= 0:\n",
    "        A[write_index] = B[b]\n",
    "        b -= 1\n",
    "\n",
    "A = [3, 13, 17, None, None, None, None]\n",
    "merge_two_sorted_arrays(A, 3, [3, 7, 11, 19], 4)\n",
    "print(A)\n",
    "\n",
    "A = [3, 13, 17, None, None, None, None, None]\n",
    "merge_two_sorted_arrays(A, 3, [3, 7, 11, 19, 20], 5)\n",
    "print(A)\n",
    "\n",
    "A = [3, 13, 17, None, None, None, None]\n",
    "merge_two_sorted_arrays(A, 3, [7, 11, 19, 20], 4)\n",
    "print(A)"
   ]
  },
  {
   "attachments": {},
   "cell_type": "markdown",
   "metadata": {},
   "source": [
    "### 13.3: Calculate H-Index\n",
    "The h-index is a metric that measures both the productivity and citation impact of a researcher. A researcher's h-index is the largest number $h$ s.t. the researcher has published $h$ papers that have been cited at least $h$ times"
   ]
  },
  {
   "cell_type": "code",
   "execution_count": 41,
   "metadata": {},
   "outputs": [
    {
     "name": "stdout",
     "output_type": "stream",
     "text": [
      "4\n"
     ]
    }
   ],
   "source": [
    "def calc_h_index_bf(citations: List[int]) -> int:\n",
    "    if len(citations) == 0:\n",
    "        return 0 \n",
    "    \n",
    "    h = 0\n",
    "    num_papers = 0\n",
    "    for h_test in range(len(citations)):\n",
    "        for c in citations:\n",
    "            if c >= h_test:\n",
    "                num_papers += 1\n",
    "        if num_papers >= h_test:\n",
    "            h = h_test \n",
    "        else:\n",
    "            return h\n",
    "        num_papers = 0\n",
    "\n",
    "print(calc_h_index_bf([1, 4, 1, 4, 2, 1, 3, 5, 6]))"
   ]
  },
  {
   "attachments": {},
   "cell_type": "markdown",
   "metadata": {},
   "source": [
    "$O(n^2)$ time complexity"
   ]
  },
  {
   "cell_type": "code",
   "execution_count": 42,
   "metadata": {},
   "outputs": [
    {
     "name": "stdout",
     "output_type": "stream",
     "text": [
      "4\n"
     ]
    }
   ],
   "source": [
    "def calc_h_index(citations: List[int]) -> int:\n",
    "\n",
    "    citations.sort() \n",
    "    for i, c in enumerate(citations):\n",
    "        if c >= len(citations) - i:\n",
    "            return len(citations) - i\n",
    "    return 0\n",
    "print(calc_h_index([1, 4, 1, 4, 2, 1, 3, 5, 6]))"
   ]
  },
  {
   "attachments": {},
   "cell_type": "markdown",
   "metadata": {},
   "source": [
    "#### Variant"
   ]
  },
  {
   "attachments": {},
   "cell_type": "markdown",
   "metadata": {},
   "source": [
    "#### Variant: H-Index but can use additional space "
   ]
  },
  {
   "cell_type": "code",
   "execution_count": 51,
   "metadata": {},
   "outputs": [
    {
     "name": "stdout",
     "output_type": "stream",
     "text": [
      "4\n"
     ]
    }
   ],
   "source": [
    "def calc_h_index_space(citations: List[int]) -> int:\n",
    "\n",
    "    citation_paper_count: Dict[int, int] = {}    # number of citations, number of papers\n",
    "    max_citations = 0\n",
    "    for c in citations:\n",
    "        if c in citation_paper_count:\n",
    "            citation_paper_count[c] += 1\n",
    "        else:\n",
    "            citation_paper_count[c] = 1\n",
    "        max_citations = max([max_citations, c])\n",
    "\n",
    "    # count citations from paper with most citations\n",
    "    citation_count = 0\n",
    "    for h in reversed(range(max_citations+1)):\n",
    "        if h in citation_paper_count:\n",
    "            citation_count += citation_paper_count[h]\n",
    "            if citation_count >= h:\n",
    "                return h\n",
    "\n",
    "print(calc_h_index_space([1, 4, 1, 4, 2, 1, 3, 5, 6]))"
   ]
  },
  {
   "attachments": {},
   "cell_type": "markdown",
   "metadata": {},
   "source": [
    "$O(n + h) = O(n)$ time and $O(n)$ space complexity"
   ]
  },
  {
   "attachments": {},
   "cell_type": "markdown",
   "metadata": {},
   "source": [
    "### 13.4: Remove First Name Dupicates"
   ]
  },
  {
   "cell_type": "code",
   "execution_count": 58,
   "metadata": {},
   "outputs": [
    {
     "name": "stdout",
     "output_type": "stream",
     "text": [
      "David Gower\n",
      "Ian Bell\n"
     ]
    },
    {
     "data": {
      "text/plain": [
       "[None, None]"
      ]
     },
     "execution_count": 58,
     "metadata": {},
     "output_type": "execute_result"
    }
   ],
   "source": [
    "class Name:\n",
    "    def __init__(self, first: str, last: str) -> None:\n",
    "        self.first = first \n",
    "        self.last = last \n",
    "\n",
    "    def __lt__(self, other: 'Name') -> bool:\n",
    "        return self.first < other.first if self.first != other.first else self.last < other.last \n",
    "\n",
    "    def __eq__(self, other: 'Name') -> bool:\n",
    "        return self.first == other.first\n",
    "\n",
    "    def __str__(self) -> str:\n",
    "        return f'{self.first} {self.last}'\n",
    "\n",
    "\n",
    "def eliminate_duplicates(names: List[Name]) -> None:\n",
    "    names.sort()\n",
    "    write_index = 1\n",
    "\n",
    "    for candidate in names[1:]:\n",
    "        if candidate != names[write_index-1]:\n",
    "            A[write_index] = candidate\n",
    "            write_index += 1\n",
    "\n",
    "    del names[write_index:]\n",
    "\n",
    "names = [\n",
    "    Name('Ian', 'Botham'),\n",
    "    Name('David', 'Gower'),\n",
    "    Name('Ian', 'Bell'),\n",
    "    Name('Ian', 'Cambell')\n",
    "]\n",
    "\n",
    "eliminate_duplicates(names)\n",
    "list(map(print, names))\n"
   ]
  },
  {
   "attachments": {},
   "cell_type": "markdown",
   "metadata": {},
   "source": [
    "$O(n\\log n)$ time complexity"
   ]
  },
  {
   "attachments": {},
   "cell_type": "markdown",
   "metadata": {},
   "source": [
    "### 13.5: \n"
   ]
  },
  {
   "attachments": {},
   "cell_type": "markdown",
   "metadata": {},
   "source": [
    "### 13.10: Team Photo Day\n",
    "Two teams line up for a photo where team 0 is in the front row and team 1 is in the back row. A photo is possilbe if the person in the back is taller than the person in the front"
   ]
  },
  {
   "cell_type": "code",
   "execution_count": 59,
   "metadata": {},
   "outputs": [
    {
     "data": {
      "text/plain": [
       "True"
      ]
     },
     "execution_count": 59,
     "metadata": {},
     "output_type": "execute_result"
    }
   ],
   "source": [
    "def valid_photo(team0: List[int], team1: List[int]) -> bool:\n",
    "    return all(\n",
    "        a < b for a, b in zip(sorted(team0), sorted(team1))\n",
    "    )\n",
    "\n",
    "valid_photo([1, 5, 2, 1, 0, 3, 1], [4, 2, 9, 4, 2, 8, 3])"
   ]
  }
 ],
 "metadata": {
  "kernelspec": {
   "display_name": "Python 3.10.6 ('data-structures-algorithms')",
   "language": "python",
   "name": "python3"
  },
  "language_info": {
   "codemirror_mode": {
    "name": "ipython",
    "version": 3
   },
   "file_extension": ".py",
   "mimetype": "text/x-python",
   "name": "python",
   "nbconvert_exporter": "python",
   "pygments_lexer": "ipython3",
   "version": "3.10.6"
  },
  "orig_nbformat": 4,
  "vscode": {
   "interpreter": {
    "hash": "893eabf024544e5e4ccd37f92d923a15afaa2331429d096efe9b57dc3359fd4e"
   }
  }
 },
 "nbformat": 4,
 "nbformat_minor": 2
}
