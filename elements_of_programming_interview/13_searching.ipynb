{
 "cells": [
  {
   "attachments": {},
   "cell_type": "markdown",
   "metadata": {},
   "source": [
    "# Searching\n",
    "Sorting is used to preprocess the collection to make searching faster, as well as identify items that are similar. Naive sorting algorithms run in $O(n^2)$ time. The best sorting algorithms run in $O(n\\log n)$ time:\n",
    "- **heapsort**: in-place but not stable\n",
    "- **mergesort**: stable but not in place\n",
    "- **quicksort**: $O(n^2)$ worst-case run time, however, generally best choice\n",
    "\n",
    "For short arrays, e.g., 10 or fewer elements, insertion sort is easier to code and faster than aymptotically superior algorithms. If every element is known to be at most $k$ places from its final location, min-heap can be used to get $O(n\\log k)$ time. If there are a small number of distinct keys, counting sort, which records for each element, the number of elements less than it, works well."
   ]
  },
  {
   "cell_type": "code",
   "execution_count": 13,
   "metadata": {},
   "outputs": [],
   "source": [
    "from collections import Counter, namedtuple\n",
    "from typing import Dict, List\n",
    "\n",
    "from utils import run_tests"
   ]
  },
  {
   "attachments": {},
   "cell_type": "markdown",
   "metadata": {},
   "source": [
    "## Tips\n",
    "- Sorting problems come in two flavors: \n",
    "    1. **Use sorting to make subsequent steps in an algorithm simpler** - fine to use a library sort function, possibly with a custom comparator\n",
    "    1. Design a **custom sorting routine** - use a data structure like a heap, a BST, or an array indexed by values\n",
    "- Certain problems become easier to understand, as well as solve, when the input is sorted. The most natural reason to sort is if the inputs have a **natural ordering**, and sorting can be used as a preprocessing step to **speed up searching**\n",
    "- For **specialized input**, e.g., a very small range of values, or a small number of values, it's possible to sort in $O(n)$ time rather than $O(n\\log n)$ time.\n",
    "- It's often the case that sorting can be implemented in **less space** than required by a brute-force approach.\n",
    "- Sometimes it is not obvious what to sort on, e.g., should a collection of intervals be sorted on starting points or endpoints?"
   ]
  },
  {
   "attachments": {},
   "cell_type": "markdown",
   "metadata": {},
   "source": [
    "## Libraries\n",
    "- `sort()`: stable, in-place sort for list objects. \n",
    "    - Returns none\n",
    "    - takes two arguments:\n",
    "        1. `key=None`: a function that defines the sort order, taking a list element and mapping them to objects that are comparable\n",
    "        1. `reverse=False`\n",
    "- `sorted()`: takes an iterable and returns a new list containing all items from the iterable in ascending order"
   ]
  },
  {
   "attachments": {},
   "cell_type": "markdown",
   "metadata": {},
   "source": [
    "### Make a Class Sortable"
   ]
  },
  {
   "cell_type": "code",
   "execution_count": 3,
   "metadata": {},
   "outputs": [
    {
     "name": "stdout",
     "output_type": "stream",
     "text": [
      "Banana has a GPA of 2.75\n",
      "Freya has a GPA of 1.25\n",
      "Jack has a GPA of 3.7\n",
      "Jill has a GPA of 3.75\n",
      "\n",
      "Freya has a GPA of 1.25\n",
      "Banana has a GPA of 2.75\n",
      "Jack has a GPA of 3.7\n",
      "Jill has a GPA of 3.75\n"
     ]
    },
    {
     "data": {
      "text/plain": [
       "[None, None, None, None]"
      ]
     },
     "execution_count": 3,
     "metadata": {},
     "output_type": "execute_result"
    }
   ],
   "source": [
    "class Student:\n",
    "\n",
    "    def __init__(self, name: str, gpa: float) -> None:\n",
    "        self.name = name \n",
    "        self.gpa = gpa \n",
    "\n",
    "    def __lt__(self, other: 'Student') -> None:\n",
    "        return self.name < other.name \n",
    "\n",
    "    def __str__(self):\n",
    "        return f'{self.name} has a GPA of {self.gpa}'\n",
    "\n",
    "students = [\n",
    "    Student('Jack', 3.7),\n",
    "    Student('Jill', 3.75),\n",
    "    Student('Freya', 1.25),\n",
    "    Student('Banana', 2.75)\n",
    "]\n",
    "# sort according to __lt__\n",
    "students.sort()\n",
    "list(map(print, students))\n",
    "print()\n",
    "\n",
    "# sort in place by gpa\n",
    "students.sort(key=lambda student: student.gpa)\n",
    "list(map(print, students))"
   ]
  },
  {
   "attachments": {},
   "cell_type": "markdown",
   "metadata": {},
   "source": [
    "### 13.1: Compute the Intersection of Two Sorted Arrays\n",
    "e.g.: [2, 3, 3, 5, 5, 6, 7, 7, 8, 12] & [5, 5, 6, 8, 8, 9, 10, 10] -> [5, 6, 8]"
   ]
  },
  {
   "cell_type": "code",
   "execution_count": 4,
   "metadata": {},
   "outputs": [
    {
     "name": "stdout",
     "output_type": "stream",
     "text": [
      "[5, 6, 8]\n"
     ]
    }
   ],
   "source": [
    "def intersection_sorted_arrays_bf(A: List[int], B: List[int]) -> List[int]:\n",
    "    return [a for i, a in enumerate(A) if (i == 0 or a != A[i - 1]) and a in B]  # prevent duplicates by checking with previous value\n",
    "\n",
    "print(intersection_sorted_arrays_bf([2, 3, 3, 5, 5, 6, 7, 7, 8, 12], [5, 5, 6, 8, 8, 9, 10, 10]))\n"
   ]
  },
  {
   "attachments": {},
   "cell_type": "markdown",
   "metadata": {},
   "source": [
    "$O(nm)$ time complexity because two loops"
   ]
  },
  {
   "cell_type": "code",
   "execution_count": 5,
   "metadata": {},
   "outputs": [
    {
     "name": "stdout",
     "output_type": "stream",
     "text": [
      "[5, 6, 8]\n"
     ]
    }
   ],
   "source": [
    "def intersection_sorted_arrays(A: List[int], B: List[int]) -> List[int]:\n",
    "    ''' \n",
    "    take advantage of the fact that both arrays are sorted\n",
    "    '''\n",
    "    i, j = 0, 0\n",
    "    intersection = []\n",
    "\n",
    "    while i < len(A) and j < len(B):  # once get to end of one list, elements cannot intersect \n",
    "        if A[i] == B[j]:\n",
    "            if (i == 0 or A[i] != A[i - 1]): \n",
    "                intersection.append(A[i])\n",
    "            i += 1\n",
    "            j += 1\n",
    "        elif A[i] < B[j]:\n",
    "            i += 1\n",
    "        else:         # A[i] > B[j]\n",
    "            j += 1\n",
    "\n",
    "    return intersection\n",
    "\n",
    "print(intersection_sorted_arrays([2, 3, 3, 5, 5, 6, 7, 7, 8, 12], [5, 5, 6, 8, 8, 9, 10, 10]))\n"
   ]
  },
  {
   "attachments": {},
   "cell_type": "markdown",
   "metadata": {},
   "source": [
    "$O(n + m)$ time complexity"
   ]
  },
  {
   "attachments": {},
   "cell_type": "markdown",
   "metadata": {},
   "source": [
    "### 13.2: Merge Two Sorted Arrays\n",
    "Assume the first array has enough empty spaces at the end for the elements of the second array   \n",
    "e.g.: [3, 13, 17, _, _, _, _] & [3, 7, 11, 19] -> [3, 3, 7, 11, 13, 17, 19]"
   ]
  },
  {
   "cell_type": "code",
   "execution_count": 6,
   "metadata": {},
   "outputs": [
    {
     "name": "stdout",
     "output_type": "stream",
     "text": [
      "[3, 3, 7, 11, 13, 17, 19]\n",
      "[3, 3, 7, 11, 13, 17, 19, 20]\n",
      "[3, 7, 11, 13, 17, 19, 20]\n"
     ]
    }
   ],
   "source": [
    "def merge_two_sorted_arrays(A: List[int], n:int, B: List[int], m: int) -> None:\n",
    "    ''' \n",
    "    n,m: number of elements in resepective arrays \n",
    "    updates array A\n",
    "    '''\n",
    "    a, b, write_index = n-1, m-1, n+m-1\n",
    "\n",
    "    while a >= 0 and b >= 0:\n",
    "        if A[a] > B[b]:\n",
    "            A[write_index] = A[a]\n",
    "            a -= 1\n",
    "        else:\n",
    "            A[write_index] = B[b]\n",
    "            b -= 1\n",
    "\n",
    "        write_index -= 1 \n",
    "\n",
    "    # rest of entries in b\n",
    "    while b >= 0:\n",
    "        A[write_index] = B[b]\n",
    "        b -= 1\n",
    "\n",
    "A = [3, 13, 17, None, None, None, None]\n",
    "merge_two_sorted_arrays(A, 3, [3, 7, 11, 19], 4)\n",
    "print(A)\n",
    "\n",
    "A = [3, 13, 17, None, None, None, None, None]\n",
    "merge_two_sorted_arrays(A, 3, [3, 7, 11, 19, 20], 5)\n",
    "print(A)\n",
    "\n",
    "A = [3, 13, 17, None, None, None, None]\n",
    "merge_two_sorted_arrays(A, 3, [7, 11, 19, 20], 4)\n",
    "print(A)"
   ]
  },
  {
   "attachments": {},
   "cell_type": "markdown",
   "metadata": {},
   "source": [
    "### 13.3: Calculate H-Index\n",
    "The h-index is a metric that measures both the productivity and citation impact of a researcher. A researcher's h-index is the largest number $h$ s.t. the researcher has published $h$ papers that have been cited at least $h$ times"
   ]
  },
  {
   "cell_type": "code",
   "execution_count": 7,
   "metadata": {},
   "outputs": [
    {
     "name": "stdout",
     "output_type": "stream",
     "text": [
      "4\n"
     ]
    }
   ],
   "source": [
    "def calc_h_index_bf(citations: List[int]) -> int:\n",
    "    if len(citations) == 0:\n",
    "        return 0 \n",
    "    \n",
    "    h = 0\n",
    "    num_papers = 0\n",
    "    for h_test in range(len(citations)):\n",
    "        for c in citations:\n",
    "            if c >= h_test:\n",
    "                num_papers += 1\n",
    "        if num_papers >= h_test:\n",
    "            h = h_test \n",
    "        else:\n",
    "            return h\n",
    "        num_papers = 0\n",
    "\n",
    "print(calc_h_index_bf([1, 4, 1, 4, 2, 1, 3, 5, 6]))"
   ]
  },
  {
   "attachments": {},
   "cell_type": "markdown",
   "metadata": {},
   "source": [
    "$O(n^2)$ time complexity"
   ]
  },
  {
   "cell_type": "code",
   "execution_count": 8,
   "metadata": {},
   "outputs": [
    {
     "name": "stdout",
     "output_type": "stream",
     "text": [
      "4\n"
     ]
    }
   ],
   "source": [
    "def calc_h_index(citations: List[int]) -> int:\n",
    "\n",
    "    citations.sort() \n",
    "    for i, c in enumerate(citations):\n",
    "        if c >= len(citations) - i:\n",
    "            return len(citations) - i\n",
    "    return 0\n",
    "print(calc_h_index([1, 4, 1, 4, 2, 1, 3, 5, 6]))"
   ]
  },
  {
   "attachments": {},
   "cell_type": "markdown",
   "metadata": {},
   "source": [
    "#### Variant"
   ]
  },
  {
   "attachments": {},
   "cell_type": "markdown",
   "metadata": {},
   "source": [
    "#### Variant: H-Index but can use additional space "
   ]
  },
  {
   "cell_type": "code",
   "execution_count": 9,
   "metadata": {},
   "outputs": [
    {
     "name": "stdout",
     "output_type": "stream",
     "text": [
      "4\n"
     ]
    }
   ],
   "source": [
    "def calc_h_index_space(citations: List[int]) -> int:\n",
    "\n",
    "    citation_paper_count: Dict[int, int] = {}    # number of citations, number of papers\n",
    "    max_citations = 0\n",
    "    for c in citations:\n",
    "        if c in citation_paper_count:\n",
    "            citation_paper_count[c] += 1\n",
    "        else:\n",
    "            citation_paper_count[c] = 1\n",
    "        max_citations = max([max_citations, c])\n",
    "\n",
    "    # count citations from paper with most citations\n",
    "    citation_count = 0\n",
    "    for h in reversed(range(max_citations+1)):\n",
    "        if h in citation_paper_count:\n",
    "            citation_count += citation_paper_count[h]\n",
    "            if citation_count >= h:\n",
    "                return h\n",
    "\n",
    "print(calc_h_index_space([1, 4, 1, 4, 2, 1, 3, 5, 6]))"
   ]
  },
  {
   "attachments": {},
   "cell_type": "markdown",
   "metadata": {},
   "source": [
    "$O(n + h) = O(n)$ time and $O(n)$ space complexity"
   ]
  },
  {
   "attachments": {},
   "cell_type": "markdown",
   "metadata": {},
   "source": [
    "### 13.4: Remove First Name Dupicates"
   ]
  },
  {
   "cell_type": "code",
   "execution_count": 10,
   "metadata": {},
   "outputs": [
    {
     "name": "stdout",
     "output_type": "stream",
     "text": [
      "David Gower\n",
      "Ian Bell\n"
     ]
    },
    {
     "data": {
      "text/plain": [
       "[None, None]"
      ]
     },
     "execution_count": 10,
     "metadata": {},
     "output_type": "execute_result"
    }
   ],
   "source": [
    "class Name:\n",
    "    def __init__(self, first: str, last: str) -> None:\n",
    "        self.first = first \n",
    "        self.last = last \n",
    "\n",
    "    def __lt__(self, other: 'Name') -> bool:\n",
    "        return self.first < other.first if self.first != other.first else self.last < other.last \n",
    "\n",
    "    def __eq__(self, other: 'Name') -> bool:\n",
    "        return self.first == other.first\n",
    "\n",
    "    def __str__(self) -> str:\n",
    "        return f'{self.first} {self.last}'\n",
    "\n",
    "\n",
    "def eliminate_duplicates(names: List[Name]) -> None:\n",
    "    names.sort()\n",
    "    write_index = 1\n",
    "\n",
    "    for candidate in names[1:]:\n",
    "        if candidate != names[write_index-1]:\n",
    "            A[write_index] = candidate\n",
    "            write_index += 1\n",
    "\n",
    "    del names[write_index:]\n",
    "\n",
    "names = [\n",
    "    Name('Ian', 'Botham'),\n",
    "    Name('David', 'Gower'),\n",
    "    Name('Ian', 'Bell'),\n",
    "    Name('Ian', 'Cambell')\n",
    "]\n",
    "\n",
    "eliminate_duplicates(names)\n",
    "list(map(print, names))\n"
   ]
  },
  {
   "attachments": {},
   "cell_type": "markdown",
   "metadata": {},
   "source": [
    "$O(n\\log n)$ time complexity"
   ]
  },
  {
   "attachments": {},
   "cell_type": "markdown",
   "metadata": {},
   "source": [
    "### *13.5: Smallest Nonconstructible Value\n",
    "Given a set of coins, there are some amounts of change that you may not be able to make with them. E.g., [1, 1, 1, 1, 1, 5, 10, 25], cannot make 21.  "
   ]
  },
  {
   "cell_type": "code",
   "execution_count": 11,
   "metadata": {},
   "outputs": [
    {
     "data": {
      "text/plain": [
       "21"
      ]
     },
     "execution_count": 11,
     "metadata": {},
     "output_type": "execute_result"
    }
   ],
   "source": [
    "def smallest_nonconstructible_value(A: List[int]) -> int:\n",
    "\n",
    "    max_constructible_value = 0\n",
    "    for a in A:\n",
    "        if a > max_constructible_value + 1:\n",
    "            break \n",
    "        max_constructible_value += a \n",
    "    return max_constructible_value + 1\n",
    "\n",
    "smallest_nonconstructible_value([1, 1, 1, 1, 1, 5, 10, 25])"
   ]
  },
  {
   "attachments": {},
   "cell_type": "markdown",
   "metadata": {},
   "source": [
    "$O(n\\log n)$ time complexity"
   ]
  },
  {
   "attachments": {},
   "cell_type": "markdown",
   "metadata": {},
   "source": [
    "### 13.6: Render a Calendar\n",
    "Write a program that takes a set of events and determines the maximum number of events that take place concurrently"
   ]
  },
  {
   "cell_type": "code",
   "execution_count": 15,
   "metadata": {},
   "outputs": [
    {
     "data": {
      "text/plain": [
       "3"
      ]
     },
     "execution_count": 15,
     "metadata": {},
     "output_type": "execute_result"
    }
   ],
   "source": [
    "Event = namedtuple('Event', ('start', 'end'))\n",
    "\n",
    "def max_simultaneous_events(E: List[Event]) -> int:\n",
    "    ''' \n",
    "    sort events then keep a counter that increments at\n",
    "    start times and decrements at end times \n",
    "    '''\n",
    "    # endpont is a tuple (start_time, 0) or (end_time, 1)\n",
    "    # so that if times are equal, start_time comes first\n",
    "    Endpoint = namedtuple('endpoint', ('time', 'is_start'))\n",
    "\n",
    "    # build an array of endpoints\n",
    "    Ends = [ \n",
    "        p for event in E for p in (Endpoint(event.start, True), Endpoint(event.end, False))\n",
    "    ]\n",
    "    # sort the endpoint array according to the time, breaking ties \n",
    "    # by putting start times before end time\n",
    "    Ends.sort(key=lambda e: (e.time, not e.is_start))   # false comes first when sorting\n",
    "\n",
    "    # track the number of simultaneous events\n",
    "    max_num_events = num_events = 0\n",
    "    for e in Ends:\n",
    "        if e.is_start:\n",
    "            num_events += 1\n",
    "            max_num_events = max([max_num_events, num_events])\n",
    "        else:\n",
    "            num_events -= 1\n",
    "    return max_num_events\n",
    "\n",
    "events = [Event(1, 5), Event(2, 7), Event(4, 5), Event(6, 10), Event(8, 9), Event(9, 17), Event(11, 13), Event(14, 15), Event(12, 15)]\n",
    "max_simultaneous_events(events)"
   ]
  },
  {
   "attachments": {},
   "cell_type": "markdown",
   "metadata": {},
   "source": [
    "$O(n\\log n)$ time complexity, and $O(n)$ space complexity for the endpoints array"
   ]
  },
  {
   "cell_type": "code",
   "execution_count": null,
   "metadata": {},
   "outputs": [],
   "source": [
    "# false comes first when sorting\n",
    "A = [True, False]\n",
    "A.sort()\n",
    "A"
   ]
  },
  {
   "attachments": {},
   "cell_type": "markdown",
   "metadata": {},
   "source": [
    "#### Variant 13.6.A: \n",
    "Users $1, 2, ..., n$ share and Internet connection. User $i$ uses $b_i$ bandwidth from time $s_i$ to $f_i$, inclusive. What is the peak bandwidth usage?"
   ]
  },
  {
   "cell_type": "code",
   "execution_count": 17,
   "metadata": {},
   "outputs": [
    {
     "data": {
      "text/plain": [
       "40"
      ]
     },
     "execution_count": 17,
     "metadata": {},
     "output_type": "execute_result"
    }
   ],
   "source": [
    "InternetUse = namedtuple('InternetUse', ('start', 'end', 'bandwidth'))\n",
    "\n",
    "def peak_bandwidth(A: List[InternetUse]) -> int:\n",
    "    # keep track of endpoints\n",
    "    Endpoint = namedtuple('Endpoint', ('time', 'is_start', 'bandwidth'))\n",
    "\n",
    "    # build endpoints array\n",
    "    # add one to end time since calculate is inclusive\n",
    "    E = [ \n",
    "        p for usage in A for p in (Endpoint(usage.start, True, usage.bandwidth), Endpoint(usage.end + 1, False, usage.bandwidth))\n",
    "    ]\n",
    "\n",
    "    # sort endpoints s.t. if tie, end time comes first \n",
    "    E.sort(key=lambda e: (e.time, e.is_start))\n",
    "\n",
    "    # calculate bandwidth\n",
    "    max_bandwidth = current_bandwidth = 0\n",
    "    for endpoint in E:\n",
    "        if endpoint.is_start:\n",
    "            current_bandwidth += endpoint.bandwidth\n",
    "            max_bandwidth = max([max_bandwidth, current_bandwidth])\n",
    "        else:\n",
    "            current_bandwidth -= endpoint.bandwidth\n",
    "    return max_bandwidth\n",
    "\n",
    "\n",
    "usages = [InternetUse(1, 3, 10), InternetUse(2, 3, 10), InternetUse(2, 4, 10), InternetUse(3, 5, 10)]\n",
    "peak_bandwidth(usages)"
   ]
  },
  {
   "attachments": {},
   "cell_type": "markdown",
   "metadata": {},
   "source": [
    "$O(n\\log n)$ time complexity, and $O(n)$ space complexity for the endpoints array"
   ]
  },
  {
   "attachments": {},
   "cell_type": "markdown",
   "metadata": {},
   "source": [
    "### 13.7: Merging Intervals\n",
    "Write a program which takes as input an array of disjoint closed intervals with integer indepoints, sorted by increasing order of left endpoint, and an interval to be added, and returns the union of the intervals in the array and the added interval.    \n",
    "e.g.: ([-4, -1], [0, 2], [3, 6], [7, 9], [11, 12], [14, 17]) -> ([-4, -1], [0, 9], [11, 12], [14, 17])"
   ]
  },
  {
   "cell_type": "code",
   "execution_count": 19,
   "metadata": {},
   "outputs": [
    {
     "data": {
      "text/plain": [
       "[Interval(left=4, right=-1),\n",
       " Interval(left=0, right=9),\n",
       " Interval(left=11, right=12),\n",
       " Interval(left=14, right=17)]"
      ]
     },
     "execution_count": 19,
     "metadata": {},
     "output_type": "execute_result"
    }
   ],
   "source": [
    "Interval = namedtuple('Interval', ('left', 'right'))\n",
    "\n",
    "def merge_intervals(disjoint_intervals: List[Interval], new_interval: Interval) -> List[Interval]:\n",
    "    i, result = 0, []\n",
    "\n",
    "    # process intervals that come before new interval\n",
    "    while i < len(disjoint_intervals) and new_interval.left > disjoint_intervals[i].right:\n",
    "        result.append(disjoint_intervals[i])\n",
    "        i += 1\n",
    "\n",
    "    # merge overlapping intervals\n",
    "    merged_interval = new_interval\n",
    "    while i < len(disjoint_intervals) and new_interval.right >= disjoint_intervals[i].left:\n",
    "        merged_interval = Interval(min([merged_interval.left, disjoint_intervals[i].left]), max([merged_interval.right, disjoint_intervals[i].right]))\n",
    "        i += 1\n",
    "\n",
    "    return result + [merged_interval] + disjoint_intervals[i:]\n",
    "\n",
    "merge_intervals([Interval(4, -1), Interval(0, 2), Interval(3, 6), Interval(7, 9), Interval(11, 12), Interval(14, 17)], new_interval=Interval(1, 8))"
   ]
  },
  {
   "attachments": {},
   "cell_type": "markdown",
   "metadata": {},
   "source": [
    "$O(n)$ time complexity since spends $O(1)$ time per Interval"
   ]
  },
  {
   "attachments": {},
   "cell_type": "markdown",
   "metadata": {},
   "source": [
    "### 13.8: Union of Intervals"
   ]
  },
  {
   "cell_type": "code",
   "execution_count": 22,
   "metadata": {},
   "outputs": [
    {
     "data": {
      "text/plain": [
       "[Interval(left=Endpoint(is_closed=False, value=0), right=Endpoint(is_closed=True, value=4)),\n",
       " Interval(left=Endpoint(is_closed=True, value=5), right=Endpoint(is_closed=True, value=11)),\n",
       " Interval(left=Endpoint(is_closed=True, value=12), right=Endpoint(is_closed=False, value=17))]"
      ]
     },
     "execution_count": 22,
     "metadata": {},
     "output_type": "execute_result"
    }
   ],
   "source": [
    "Endpoint = namedtuple('Endpoint', ('is_closed', 'value'))\n",
    "Interval = namedtuple('Interval', ('left', 'right'))\n",
    "\n",
    "def union_of_intervals(intervals: List[Interval]) -> List[Interval]:\n",
    "    ''' \n",
    "    when sorting, if two intervals have the same left-endpoint, \n",
    "    put intervals which are left closed first\n",
    "\n",
    "    Cases:\n",
    "        - The interval most recently added to the result does not \n",
    "            intersect the current interval, nor does its right endpoint\n",
    "            equal the left endpoint of the current interval. In this case, \n",
    "            we simply add the current interval to the end of the result array\n",
    "            as a new interval.\n",
    "        - The interval most recently added to the result intersects the current interval.\n",
    "            In this case, we update the most recently added interval to the union\n",
    "            of it with the current interval.\n",
    "        - The interval most recently added to the result has its right endpoint equal\n",
    "            to the left endpoint of the current interval, and one (or both) of these\n",
    "            endpoints are closed. In this case too, we update the most recently \n",
    "            added interval to the union of it with the current interval\n",
    "    '''\n",
    "    # sort endpoints according to left endpoint of intervals\n",
    "    intervals.sort(key=lambda i: (i.left.value, not i.left.is_closed))\n",
    "    result = [intervals[0]]\n",
    "    for i in intervals:\n",
    "        if intervals and (i.left.value < result[-1].right.value or\n",
    "                            (i.left.value == result[-1].right.value and \n",
    "                            (i.left.is_closed or result[-1].right.is_closed))):\n",
    "            if (i.right.value > result[-1].right.value or\n",
    "                (i.right.value == result[-1].right.value and i.right.is_closed)):\n",
    "                result[-1] = Interval(result[-1].left, i.right)\n",
    "        else:\n",
    "            result.append(i)\n",
    "\n",
    "    return result\n",
    "\n",
    "intervals = [\n",
    "    Interval(Endpoint(True, 3), Endpoint(True, 4)),\n",
    "    Interval(Endpoint(False, 0), Endpoint(False, 3)),\n",
    "    Interval(Endpoint(True, 1), Endpoint(True, 1)),\n",
    "    Interval(Endpoint(True, 2), Endpoint(True, 4)),\n",
    "    Interval(Endpoint(True, 5), Endpoint(False, 7)),\n",
    "    Interval(Endpoint(True, 7), Endpoint(False, 8)),\n",
    "    Interval(Endpoint(True, 8), Endpoint(False, 11)),\n",
    "    Interval(Endpoint(False, 9), Endpoint(True, 11)),\n",
    "    Interval(Endpoint(True, 12), Endpoint(True, 14)),\n",
    "    Interval(Endpoint(False, 12), Endpoint(True, 16)),\n",
    "    Interval(Endpoint(False, 13), Endpoint(False, 15)),\n",
    "    Interval(Endpoint(False, 16), Endpoint(False, 17))\n",
    "]\n",
    "union_of_intervals(intervals)"
   ]
  },
  {
   "attachments": {},
   "cell_type": "markdown",
   "metadata": {},
   "source": [
    "### *13.9: Partitioning and Sorting an Array with Many Repeated Elements"
   ]
  },
  {
   "cell_type": "code",
   "execution_count": null,
   "metadata": {},
   "outputs": [],
   "source": [
    "Person = namedtuple('Person', ('age', 'name'))\n",
    "\n",
    "def group_by_age(people: List[Person]) -> None:\n",
    "    ''' \n",
    "    maintain a subarray for each of the different elements.\n",
    "    use two hash tables to track subarrays\n",
    "    '''\n",
    "    age_to_count = Counter([person.age for person in people])\n",
    "    age_to_offset, offset = {}, 0\n",
    "    for age, count in age_to_count.items():\n",
    "        age_to_offset[age] = offset   # starting index for that age \n",
    "        offset += count\n",
    "\n",
    "    while age_to_offset:\n",
    "        from_age = next(iter(age_to_offset))\n",
    "        from_idx = age_to_offset[from_age]\n",
    "        to_age = people[from_idx].age\n",
    "        to_idx = age_to_offset[people[from_idx].age]\n",
    "\n",
    "        # switch\n",
    "        people[from_idx], people[to_idx] = people[to_idx], people[from_idx]\n",
    "\n",
    "        # use age_to_count to see when we are finished with a particular age\n",
    "        age_to_count[to_age] -= 1\n",
    "        if age_to_count[to_age]:\n",
    "            age_to_offset[to_age] = to_idx + 1\n",
    "        else:\n",
    "            del age_to_offset[to_age]"
   ]
  },
  {
   "attachments": {},
   "cell_type": "markdown",
   "metadata": {},
   "source": [
    "$O(n)$ time and $O(m)$ space complexity where $m$ is the unique number of ages"
   ]
  },
  {
   "attachments": {},
   "cell_type": "markdown",
   "metadata": {},
   "source": [
    "#### Variant 13.9.A: Maintain Ages in Sorted Order\n",
    "Use a BST"
   ]
  },
  {
   "attachments": {},
   "cell_type": "markdown",
   "metadata": {},
   "source": [
    "### 13.10: Team Photo Day\n",
    "Two teams line up for a photo where team 0 is in the front row and team 1 is in the back row. A photo is possilbe if the person in the back is taller than the person in the front"
   ]
  },
  {
   "cell_type": "code",
   "execution_count": 12,
   "metadata": {},
   "outputs": [
    {
     "data": {
      "text/plain": [
       "True"
      ]
     },
     "execution_count": 12,
     "metadata": {},
     "output_type": "execute_result"
    }
   ],
   "source": [
    "def valid_photo(team0: List[int], team1: List[int]) -> bool:\n",
    "    return all(\n",
    "        a < b for a, b in zip(sorted(team0), sorted(team1))\n",
    "    )\n",
    "\n",
    "valid_photo([1, 5, 2, 1, 0, 3, 1], [4, 2, 9, 4, 2, 8, 3])"
   ]
  },
  {
   "attachments": {},
   "cell_type": "markdown",
   "metadata": {},
   "source": [
    "### 13.11: Implement a Fast Sorting Algorithm for Lists\n",
    "Unlike arrays, lists can be merged in place, therefore, can use mergesort to create a fast, stable sort"
   ]
  },
  {
   "cell_type": "code",
   "execution_count": 25,
   "metadata": {},
   "outputs": [
    {
     "name": "stdout",
     "output_type": "stream",
     "text": [
      "2 5 7 \n",
      "3 11 \n",
      "2 3 5 7 11 \n",
      "\n",
      "-5 11 10 4 3 2 4 1 10 2 5 7 \n",
      "-5 1 2 2 3 4 4 5 7 10 10 11 \n"
     ]
    }
   ],
   "source": [
    "from data_structures.linked_lists.single_node import Node\n",
    "from data_structures.linked_lists import single_node\n",
    "\n",
    "def merge_sorted_lists(L1: Node, L2: Node) -> Node:\n",
    "\n",
    "    # base case\n",
    "    if L1 is None:\n",
    "        return L2 \n",
    "    if L2 is None:\n",
    "        return L1\n",
    "\n",
    "    dummy_head = tail = Node(0)\n",
    "\n",
    "    while L1 and L2:\n",
    "        if L1.data < L2.data:\n",
    "            tail.next = L1\n",
    "            L1 = L1.next\n",
    "        else: \n",
    "            tail.next = L2 \n",
    "            L2 = L2.next \n",
    "        tail = tail.next\n",
    "\n",
    "    # append remeaing nodes of L1 or L2\n",
    "    tail.next = L1 or L2\n",
    "\n",
    "    return dummy_head.next\n",
    "\n",
    "x = single_node.push_list([7, 5, 2])\n",
    "y = single_node.push_list([11, 3])\n",
    "single_node.print_list(x)\n",
    "single_node.print_list(y)\n",
    "merge_ll = merge_sorted_lists(x, y)\n",
    "single_node.print_list(merge_ll)\n",
    "\n",
    "def stable_sort_list(L: Node):\n",
    "\n",
    "    # base case\n",
    "    if L is None or L.next is None:\n",
    "        return L \n",
    "\n",
    "    # find midpoint of L using a slow and fast pointer \n",
    "    pre_slow, slow, fast = None, L, L \n",
    "    while fast and fast.next:\n",
    "        pre_slow = slow \n",
    "        fast, slow = fast.next.next, slow.next \n",
    "    \n",
    "    # split the list into two equal size lists\n",
    "    if pre_slow:\n",
    "        pre_slow.next = None\n",
    "\n",
    "    return merge_sorted_lists(stable_sort_list(L), stable_sort_list(slow))\n",
    "\n",
    "print()\n",
    "x = single_node.push_list([7, 5, 2, 10, 1, 4, 2, 3, 4, 10, 11, -5])\n",
    "single_node.print_list(x)\n",
    "x = stable_sort_list(x)\n",
    "single_node.print_list(x)\n"
   ]
  },
  {
   "attachments": {},
   "cell_type": "markdown",
   "metadata": {},
   "source": [
    "$O(n\\log n)$ time complexity. Though no memory is explicitly allocated, the space complexity is $O(\\log n)$, which is the maximum function call stack depth, since each recursive call is with and argument that is a half as long"
   ]
  },
  {
   "attachments": {},
   "cell_type": "markdown",
   "metadata": {},
   "source": [
    "### 13.12: Compute a Salary Threshold"
   ]
  },
  {
   "cell_type": "code",
   "execution_count": 27,
   "metadata": {},
   "outputs": [
    {
     "data": {
      "text/plain": [
       "60.0"
      ]
     },
     "execution_count": 27,
     "metadata": {},
     "output_type": "execute_result"
    }
   ],
   "source": [
    "def salary_threshold(salaries: List[int], target_payroll: int) -> int:\n",
    "    salaries.sort()\n",
    "    unadjusted_salary_sum = 0\n",
    "\n",
    "    for i, salary in enumerate(salaries):\n",
    "        num_people_adjusted = len(salaries) - i \n",
    "        adjusted_salary_sum = salary * num_people_adjusted\n",
    "        if adjusted_salary_sum + unadjusted_salary_sum >= target_payroll:\n",
    "            return (target_payroll - unadjusted_salary_sum) / num_people_adjusted\n",
    "        else:\n",
    "            unadjusted_salary_sum += salary\n",
    "    return -1\n",
    "\n",
    "salary_threshold([90, 30, 100, 40, 20], target_payroll=210)"
   ]
  },
  {
   "attachments": {},
   "cell_type": "markdown",
   "metadata": {},
   "source": [
    "$O(n\\log n)$ time complexity"
   ]
  },
  {
   "attachments": {},
   "cell_type": "markdown",
   "metadata": {},
   "source": [
    "#### Variant"
   ]
  }
 ],
 "metadata": {
  "kernelspec": {
   "display_name": "Python 3.10.6 ('data-structures-algorithms')",
   "language": "python",
   "name": "python3"
  },
  "language_info": {
   "codemirror_mode": {
    "name": "ipython",
    "version": 3
   },
   "file_extension": ".py",
   "mimetype": "text/x-python",
   "name": "python",
   "nbconvert_exporter": "python",
   "pygments_lexer": "ipython3",
   "version": "3.10.6"
  },
  "orig_nbformat": 4,
  "vscode": {
   "interpreter": {
    "hash": "893eabf024544e5e4ccd37f92d923a15afaa2331429d096efe9b57dc3359fd4e"
   }
  }
 },
 "nbformat": 4,
 "nbformat_minor": 2
}
