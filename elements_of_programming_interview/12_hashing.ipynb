{
 "cells": [
  {
   "attachments": {},
   "cell_type": "markdown",
   "metadata": {},
   "source": [
    "# Hashing  \n",
    "A hash table is a data structure used to store keys, optionally, with corresponding values. Inserts, deletes, and lookups run in $O(1)$ time on average.    \n",
    "   \n",
    "The underlying idea is to store keys in an array. A key is stored in the array locations (\"slots\") based on its \"hash code\". The hash code is an integer computed from the key by a hash function. If the hash function is chosen well, the objects are distributed uniformly across array locations.    \n",
    "   \n",
    "If two keys map to the same location, a \"collision\" has occurred. the standard mechansim to deal with collisions is to maintain a linked list of objects at each array location. If the hash function does a good job of spreading objects across the underlying array and takes $O(1)$ time to compute, on average, lokkups, insertions, and deletions have $O(1 + n/m)$ time complexity, where $n$ is the number of objects and $m$ is the length of the array.   \n",
    "   \n",
    "If the \"load\" $n/m$ grows large, rehashing can be applied, but is expensive $O(n + m)$    \n"
   ]
  },
  {
   "cell_type": "code",
   "execution_count": 9,
   "metadata": {},
   "outputs": [],
   "source": [
    "from collections import Counter, defaultdict, namedtuple\n",
    "import functools\n",
    "from typing import DefaultDict, List\n",
    "\n",
    "from utils import run_tests"
   ]
  },
  {
   "attachments": {},
   "cell_type": "markdown",
   "metadata": {},
   "source": [
    "## Tips\n",
    "- Hash tables have the **best theoretical and real-world performance** for lookup, insert and delete. Each of these operations has $O(1)$ time complexity. The $O(1)$ time complexity for insertions is for the average case - a single insert can take $O(n)$ if the hash table has to be resized.  \n",
    "- Consider using a hash code as a **signature** to enhance performance, e.g., to filter out candidates.  \n",
    "- Consider using a precomputed lookup table instead of boilerplate if-then code for mappings, e.g., from character to value or character to character.\n",
    "- When defining your own type that will be put in a hash table, be sure you understand the relationship between **logical equality** and the fields the hash function must inspect. Specifically, anytime equality is implemented, it is imperative that the correct hash function is also implemented, o/w when objects are placed in hash tables, logically equivalent objects may appear in different buckets, leading to lookups returning false, even when the searched item is present.\n",
    "- Somtimes you'll need a **multimap**, i.e., a map that contains multiple values for a single key, or a bi-directional map. "
   ]
  },
  {
   "attachments": {},
   "cell_type": "markdown",
   "metadata": {},
   "source": [
    "## Libraries"
   ]
  },
  {
   "cell_type": "code",
   "execution_count": null,
   "metadata": {},
   "outputs": [],
   "source": []
  },
  {
   "attachments": {},
   "cell_type": "markdown",
   "metadata": {},
   "source": [
    "### String Hash Function"
   ]
  },
  {
   "cell_type": "code",
   "execution_count": 7,
   "metadata": {},
   "outputs": [
    {
     "name": "stdout",
     "output_type": "stream",
     "text": [
      "2\n",
      "8\n"
     ]
    }
   ],
   "source": [
    "def string_hash(s: str, modulus: int) -> int:\n",
    "    mult = 997\n",
    "    return functools.reduce(lambda v, c: (v * mult + ord(c)) & modulus, s, 0)\n",
    "\n",
    "print(string_hash('cat', 10))\n",
    "print(string_hash('cats', 10))"
   ]
  },
  {
   "attachments": {},
   "cell_type": "markdown",
   "metadata": {},
   "source": [
    "### Finding Anagrams\n",
    "An anagram is a word formed by rearranging the letters of another word   \n",
    "Give a set of words, return groups of anagrams of these words   "
   ]
  },
  {
   "cell_type": "code",
   "execution_count": 11,
   "metadata": {},
   "outputs": [
    {
     "data": {
      "text/plain": [
       "[['debitcard', 'badcredit'], ['elvis', 'lives', 'levis'], ['silent', 'listen']]"
      ]
     },
     "execution_count": 11,
     "metadata": {},
     "output_type": "execute_result"
    }
   ],
   "source": [
    "def find_anagrams(words: List[str]) -> List[List[str]]:\n",
    "    ''' \n",
    "    key idea is to map a strings to a representative\n",
    "    the representative can be the sorted version of the string since \n",
    "    anagrams will have the same sorted representation\n",
    "    '''\n",
    "    sorted_string_to_anagram: DefaultDict[str, List[str]] = defaultdict(list)\n",
    "\n",
    "    for w in words:\n",
    "        w_sorted = ''.join(sorted(w))       # sorted returns a character array\n",
    "        sorted_string_to_anagram[w_sorted].append(w)\n",
    "\n",
    "    return [\n",
    "        group for group in sorted_string_to_anagram.values() if len(group) >= 2\n",
    "    ]\n",
    "\n",
    "words = ['debitcard', 'elvis', 'silent', 'badcredit', 'lives', 'freedom', 'listen', 'levis', 'money']\n",
    "find_anagrams(words)"
   ]
  },
  {
   "cell_type": "code",
   "execution_count": 10,
   "metadata": {},
   "outputs": [
    {
     "data": {
      "text/plain": [
       "['a', 'c', 't']"
      ]
     },
     "execution_count": 10,
     "metadata": {},
     "output_type": "execute_result"
    }
   ],
   "source": [
    "w = sorted('cat')\n",
    "w"
   ]
  }
 ],
 "metadata": {
  "kernelspec": {
   "display_name": "Python 3.10.6 ('data-structures-algorithms')",
   "language": "python",
   "name": "python3"
  },
  "language_info": {
   "codemirror_mode": {
    "name": "ipython",
    "version": 3
   },
   "file_extension": ".py",
   "mimetype": "text/x-python",
   "name": "python",
   "nbconvert_exporter": "python",
   "pygments_lexer": "ipython3",
   "version": "3.10.6"
  },
  "orig_nbformat": 4,
  "vscode": {
   "interpreter": {
    "hash": "893eabf024544e5e4ccd37f92d923a15afaa2331429d096efe9b57dc3359fd4e"
   }
  }
 },
 "nbformat": 4,
 "nbformat_minor": 2
}
