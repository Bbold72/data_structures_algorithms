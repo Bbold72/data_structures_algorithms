{
 "cells": [
  {
   "cell_type": "markdown",
   "metadata": {},
   "source": [
    "# Binary Trees\n",
    "Formally, a binary tree is either empty, or a *root* node $r$ together with a left binary tree and a right binary tree. The subtrees themselves are binary trees.\n",
    "\n",
    "### Tips\n",
    "- Learn to recognize when the stack **LIFO** property is **applicable**. For example, **parsing** typically benefits from a stack.\n",
    "- Consider **augmenting** the basic stack or queue data structure to support additional operations, such as finding the maximum element."
   ]
  },
  {
   "cell_type": "code",
   "execution_count": 2,
   "metadata": {},
   "outputs": [],
   "source": [
    "from typing import Deque, Iterator, List, Optional\n",
    "from collections import deque, namedtuple\n",
    "from dataclasses import dataclass\n",
    "\n",
    "from utils import run_tests"
   ]
  },
  {
   "cell_type": "markdown",
   "metadata": {},
   "source": [
    "### Class"
   ]
  },
  {
   "cell_type": "code",
   "execution_count": 17,
   "metadata": {},
   "outputs": [],
   "source": [
    "class BinaryTreeNode:\n",
    "\n",
    "    def __init__(self, data=None, left=None, right=None) -> None:\n",
    "        self.data = data\n",
    "        self.left = left \n",
    "        self.right = right \n",
    "\n",
    "\n",
    "def tree_traversal_preorder(root: BinaryTreeNode) -> None:\n",
    "    if root:\n",
    "        print(root.data, end=' ')\n",
    "        tree_traversal_preorder(root.left)\n",
    "        tree_traversal_preorder(root.right)\n",
    "\n",
    "def tree_traversal_inorder(root: BinaryTreeNode) -> None:\n",
    "    if root:\n",
    "        tree_traversal_inorder(root.left)\n",
    "        print(root.data, end=' ')\n",
    "        tree_traversal_inorder(root.right)\n",
    "\n",
    "def tree_traversal_postorder(root: BinaryTreeNode) -> None:\n",
    "    if root:\n",
    "        tree_traversal_postorder(root.left)\n",
    "        tree_traversal_postorder(root.right)\n",
    "        print(root.data, end=' ')\n",
    "\n",
    "\n",
    "def tree_traversal_levelorder(root: BinaryTreeNode) -> None:\n",
    "    '''\n",
    "    use a queue\n",
    "    '''\n",
    "    if root is None:\n",
    "        return \n",
    "\n",
    "    queue = Deque()\n",
    "    queue.append(root)\n",
    "\n",
    "    while queue:\n",
    "        node = queue.popleft()\n",
    "        print(node.data, end=' ')\n",
    "\n",
    "        # add children to queue\n",
    "        if node.left:\n",
    "            queue.append(node.left)\n",
    "        if node.right:\n",
    "            queue.append(node.right)\n",
    "\n",
    "\n",
    "\n",
    "def tree_height(root: BinaryTreeNode) -> int:\n",
    "    if root is None:\n",
    "        return 0\n",
    "\n",
    "    # depth first search/post order\n",
    "    return 1 + max([tree_height(root.left), tree_height(root.right)])\n",
    "\n",
    "\n",
    "def size(root: BinaryTreeNode) -> int:\n",
    "    if root is None:\n",
    "        return 0\n",
    "    \n",
    "    return 1 + size(root.left) + size(root.right)\n",
    "    \n",
    "# def tree_insert(root: BinaryTreeNode, data) -> None:\n",
    "#     node = BinaryTreeNode(data)\n",
    "\n",
    "#     # inorder traversal\n",
    "#     iter_node = root\n",
    "#     while iter_node.data:\n"
   ]
  },
  {
   "cell_type": "code",
   "execution_count": 3,
   "metadata": {},
   "outputs": [],
   "source": [
    "tree = BinaryTreeNode(314,\n",
    "    left=BinaryTreeNode(6,\n",
    "        left=BinaryTreeNode(271,\n",
    "            left=BinaryTreeNode(28),\n",
    "            right=BinaryTreeNode(0)\n",
    "            ),\n",
    "        right=BinaryTreeNode(561,\n",
    "            left=None,\n",
    "            right=BinaryTreeNode(3,\n",
    "                left=BinaryTreeNode(17),\n",
    "                right=None\n",
    "            )\n",
    "        )\n",
    "    ),\n",
    "    right=BinaryTreeNode(7,\n",
    "        left=BinaryTreeNode(2,\n",
    "            left=None,\n",
    "            right=BinaryTreeNode(1,\n",
    "                left=BinaryTreeNode(401,\n",
    "                    left=None,\n",
    "                    right=BinaryTreeNode(641)\n",
    "                ),\n",
    "                right=BinaryTreeNode(257)\n",
    "            )\n",
    "        ),\n",
    "        right=BinaryTreeNode(272,\n",
    "            left=None,\n",
    "            right=BinaryTreeNode(29)\n",
    "        )\n",
    "    )\n",
    ")"
   ]
  },
  {
   "cell_type": "code",
   "execution_count": 6,
   "metadata": {},
   "outputs": [
    {
     "name": "stdout",
     "output_type": "stream",
     "text": [
      "314 6 271 28 0 561 3 17 7 2 1 401 641 257 272 29 "
     ]
    }
   ],
   "source": [
    "# Pre-order\n",
    "tree_traversal_preorder(tree)"
   ]
  },
  {
   "cell_type": "code",
   "execution_count": 8,
   "metadata": {},
   "outputs": [
    {
     "name": "stdout",
     "output_type": "stream",
     "text": [
      "28 271 0 6 561 17 3 314 2 401 641 1 257 7 272 29 "
     ]
    }
   ],
   "source": [
    "# In Order\n",
    "tree_traversal_inorder(tree)"
   ]
  },
  {
   "cell_type": "code",
   "execution_count": 10,
   "metadata": {},
   "outputs": [
    {
     "name": "stdout",
     "output_type": "stream",
     "text": [
      "28 0 271 17 3 561 6 641 401 257 1 2 29 272 7 314 "
     ]
    }
   ],
   "source": [
    "# post-order\n",
    "tree_traversal_postorder(tree)"
   ]
  },
  {
   "cell_type": "code",
   "execution_count": 14,
   "metadata": {},
   "outputs": [
    {
     "data": {
      "text/plain": [
       "6"
      ]
     },
     "execution_count": 14,
     "metadata": {},
     "output_type": "execute_result"
    }
   ],
   "source": [
    "tree_height(tree)"
   ]
  },
  {
   "cell_type": "code",
   "execution_count": 16,
   "metadata": {},
   "outputs": [
    {
     "data": {
      "text/plain": [
       "16"
      ]
     },
     "execution_count": 16,
     "metadata": {},
     "output_type": "execute_result"
    }
   ],
   "source": [
    "size(tree)"
   ]
  },
  {
   "cell_type": "code",
   "execution_count": null,
   "metadata": {},
   "outputs": [],
   "source": [
    "tree_traversal_levelorder(tree)"
   ]
  }
 ],
 "metadata": {
  "kernelspec": {
   "display_name": "Python 3.10.6 ('data-structures-algorithms')",
   "language": "python",
   "name": "python3"
  },
  "language_info": {
   "codemirror_mode": {
    "name": "ipython",
    "version": 3
   },
   "file_extension": ".py",
   "mimetype": "text/x-python",
   "name": "python",
   "nbconvert_exporter": "python",
   "pygments_lexer": "ipython3",
   "version": "3.10.6"
  },
  "orig_nbformat": 4,
  "vscode": {
   "interpreter": {
    "hash": "893eabf024544e5e4ccd37f92d923a15afaa2331429d096efe9b57dc3359fd4e"
   }
  }
 },
 "nbformat": 4,
 "nbformat_minor": 2
}
