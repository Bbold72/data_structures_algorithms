{
 "cells": [
  {
   "attachments": {},
   "cell_type": "markdown",
   "metadata": {},
   "source": [
    "# Binary Trees\n",
    "Formally, a binary tree is either empty, or a *root* node $r$ together with a left binary tree and a right binary tree. The subtrees themselves are binary trees.\n",
    "\n",
    "## Tips\n",
    "- **Recursive algorithms** are well-suited to problems on trees. Remember to include space implicitly allocated on the **function call stack** when doing space complexity analysis. \n",
    "- Some tree problems have a simple brute-force solution that allocates $O(n)$ additional space, but a more sophisticated solution that uses $O(1)$.\n",
    "- Consider **left- and right-skewed trees** when doing complexity analysis. Note that $O(h)$ complexity, where $h$ is the tree height, translates into $O(\\log n)$ complexity for balanced trees, but $O(n)$ comlexity for skewed trees.\n",
    "- If each node has a **parent field**, use it to make your code simpler, and to reduce time and space complexity.\n",
    "- It's easy to make the **mistake** of treating a node that has a **single child** as a leaf."
   ]
  },
  {
   "cell_type": "code",
   "execution_count": 2,
   "metadata": {},
   "outputs": [],
   "source": [
    "from typing import Deque, Iterator, List, Optional\n",
    "from collections import deque, namedtuple\n",
    "from dataclasses import dataclass\n",
    "\n",
    "from utils import run_tests\n",
    "import trees\n",
    "from trees import BinaryTreeNode"
   ]
  },
  {
   "cell_type": "code",
   "execution_count": 3,
   "metadata": {},
   "outputs": [],
   "source": [
    "tree = trees.make_tree_example()"
   ]
  },
  {
   "cell_type": "markdown",
   "metadata": {},
   "source": [
    "### 9.1: Test if a Binary Tree is Height Balanced"
   ]
  },
  {
   "cell_type": "code",
   "execution_count": 4,
   "metadata": {},
   "outputs": [],
   "source": [
    "def is_height_balanced(root: BinaryTreeNode) -> bool:\n",
    "\n",
    "    def height_helper(node: BinaryTreeNode) -> int:\n",
    "        if not node:\n",
    "            return 0\n",
    "        else:\n",
    "            return max([height_helper(node.left), height_helper(node.right)]) + 1\n",
    "\n",
    "    # base condition\n",
    "    if root is None:\n",
    "        return True\n",
    "    \n",
    "    # get tree height of left and right subtree\n",
    "    left_height, right_height = height_helper(root.left), height_helper(root.right)\n",
    "    if abs(left_height - right_height) <= 1 and is_height_balanced(root.left) and is_height_balanced(root.right): \n",
    "        return True\n",
    "\n",
    "    return False\n",
    "    "
   ]
  },
  {
   "cell_type": "code",
   "execution_count": 5,
   "metadata": {},
   "outputs": [
    {
     "data": {
      "text/plain": [
       "False"
      ]
     },
     "execution_count": 5,
     "metadata": {},
     "output_type": "execute_result"
    }
   ],
   "source": [
    "is_height_balanced(tree)"
   ]
  },
  {
   "cell_type": "code",
   "execution_count": 6,
   "metadata": {},
   "outputs": [
    {
     "data": {
      "text/plain": [
       "True"
      ]
     },
     "execution_count": 6,
     "metadata": {},
     "output_type": "execute_result"
    }
   ],
   "source": [
    "tree_balanced = BinaryTreeNode(4, left=BinaryTreeNode(2), right=BinaryTreeNode(1))\n",
    "is_height_balanced(tree_balanced)"
   ]
  },
  {
   "attachments": {},
   "cell_type": "markdown",
   "metadata": {},
   "source": [
    "Time complexity is $O(n^2)$ because calling height function on each node while recursively checking if height balanced"
   ]
  },
  {
   "cell_type": "code",
   "execution_count": 7,
   "metadata": {},
   "outputs": [],
   "source": [
    "def is_height_balanced(root: BinaryTreeNode) -> bool:\n",
    "    BalancedStatusWithHeight = namedtuple('BalancedStatusWithHeight', ('balanced', 'height'))\n",
    "\n",
    "    def check_balance(tree: BinaryTreeNode):\n",
    "        if not tree:\n",
    "            return BalancedStatusWithHeight(balanced=True, height=-1)\n",
    "\n",
    "        left_result = check_balance(tree.left)\n",
    "        if not left_result.balanced:\n",
    "            return left_result\n",
    "        \n",
    "        right_result = check_balance(tree.right)\n",
    "        if not right_result.balanced:\n",
    "            return right_result\n",
    "        \n",
    "        is_balanced = abs(left_result.height - right_result.height) <= 1\n",
    "        height = max([left_result.height, right_result.height]) + 1\n",
    "        return BalancedStatusWithHeight(is_balanced, height)\n",
    "\n",
    "    return check_balance(root).balanced"
   ]
  },
  {
   "cell_type": "markdown",
   "metadata": {},
   "source": [
    "Time complxity is $O(n)$ (same as post-order traversal) and space complexity is $O(h)$"
   ]
  },
  {
   "cell_type": "code",
   "execution_count": 8,
   "metadata": {},
   "outputs": [
    {
     "data": {
      "text/plain": [
       "False"
      ]
     },
     "execution_count": 8,
     "metadata": {},
     "output_type": "execute_result"
    }
   ],
   "source": [
    "is_height_balanced(tree)"
   ]
  },
  {
   "cell_type": "code",
   "execution_count": 9,
   "metadata": {},
   "outputs": [
    {
     "data": {
      "text/plain": [
       "True"
      ]
     },
     "execution_count": 9,
     "metadata": {},
     "output_type": "execute_result"
    }
   ],
   "source": [
    "tree_balanced = BinaryTreeNode(4, left=BinaryTreeNode(2), right=BinaryTreeNode(1))\n",
    "is_height_balanced(tree_balanced)"
   ]
  },
  {
   "attachments": {},
   "cell_type": "markdown",
   "metadata": {},
   "source": [
    "### Check if a Binary Tree is Complete"
   ]
  },
  {
   "cell_type": "code",
   "execution_count": 10,
   "metadata": {},
   "outputs": [
    {
     "name": "stdout",
     "output_type": "stream",
     "text": [
      "False\n",
      "True\n"
     ]
    }
   ],
   "source": [
    "def is_complete(tree: BinaryTreeNode) -> bool:\n",
    "    ''' \n",
    "    level order\n",
    "    '''\n",
    "    if not tree:\n",
    "        return True \n",
    "\n",
    "    queue = deque()\n",
    "    queue.append(tree)\n",
    "\n",
    "    # flag to mark the end of full nodes\n",
    "    flag = False \n",
    "\n",
    "    # loop til queue is empty\n",
    "    while queue:\n",
    "\n",
    "        node = queue.popleft()\n",
    "\n",
    "        # if have encountered a non-full node before and the current node\n",
    "        # is not a leaf, cannot be complete\n",
    "        if flag and (node.left or node.right):\n",
    "            return False \n",
    "\n",
    "        # if left child is empty and right chiled exists,\n",
    "        # cannot be complete\n",
    "        if not node.left and node.right:\n",
    "            return False \n",
    "        \n",
    "        # if left child exists\n",
    "        if node.left:\n",
    "            queue.append(node.left)\n",
    "        # current node is non-full\n",
    "        else:\n",
    "            flag = True\n",
    "        \n",
    "         # if right child exists\n",
    "        if node.right:\n",
    "            queue.append(node.right)\n",
    "        # current node is non-full\n",
    "        else:\n",
    "            flag = True    \n",
    "\n",
    "    return True\n",
    "\n",
    "print(is_complete(tree))\n",
    "tree_complete_eg = BinaryTreeNode(5)\n",
    "tree_complete_eg.left = BinaryTreeNode(5)\n",
    "tree_complete_eg.right = BinaryTreeNode(10)\n",
    "print(is_complete(tree_complete_eg))   \n"
   ]
  },
  {
   "attachments": {},
   "cell_type": "markdown",
   "metadata": {},
   "source": [
    "$O(n)$ time and space complexity"
   ]
  },
  {
   "cell_type": "code",
   "execution_count": 11,
   "metadata": {},
   "outputs": [
    {
     "name": "stdout",
     "output_type": "stream",
     "text": [
      "False\n",
      "True\n"
     ]
    }
   ],
   "source": [
    "def is_complete(tree: BinaryTreeNode):\n",
    "    ''' \n",
    "    if binary tree is represented as an array, \n",
    "    all array postiions should be filled if complete\n",
    "    '''\n",
    "    def size(tree: BinaryTreeNode) -> int:\n",
    "        if not tree:\n",
    "            return 0\n",
    "        return 1 + size(tree.left) + size(tree.right)\n",
    "\n",
    "    def inorder(tree: BinaryTreeNode, A: List[int], i: int):\n",
    "        if not tree or i >= len(A):\n",
    "            return \n",
    "        \n",
    "        inorder(tree.left, A, 2*i + 1)\n",
    "        A[i] = True\n",
    "        inorder(tree.right, A, 2*i + 2)\n",
    "\n",
    "    \n",
    "    n = size(tree)\n",
    "    A = [False] * n\n",
    "\n",
    "    # fill in values of A\n",
    "    inorder(tree, A, 0)\n",
    "\n",
    "    # see if all postitions are filled \n",
    "    for e in A:\n",
    "        if not e:\n",
    "            return False \n",
    "    \n",
    "    return True\n",
    "\n",
    "    \n",
    "print(is_complete(tree))\n",
    "print(is_complete(tree_complete_eg))   "
   ]
  },
  {
   "attachments": {},
   "cell_type": "markdown",
   "metadata": {},
   "source": [
    "$O(n)$ time and space complexity"
   ]
  },
  {
   "cell_type": "code",
   "execution_count": 12,
   "metadata": {},
   "outputs": [
    {
     "name": "stdout",
     "output_type": "stream",
     "text": [
      "False\n",
      "True\n"
     ]
    }
   ],
   "source": [
    "def is_complete(tree: BinaryTreeNode):\n",
    "    ''' \n",
    "    if binary tree is represented as an array, \n",
    "    all array postiions should be filled if complete\n",
    "    '''\n",
    "    def size(tree: BinaryTreeNode) -> int:\n",
    "        if not tree:\n",
    "            return 0\n",
    "        return 1 + size(tree.left) + size(tree.right)\n",
    "    \n",
    "    def check_complete(tree: BinaryTreeNode, i: int, n: int) -> bool:\n",
    "\n",
    "        if not tree:\n",
    "            return True \n",
    "        \n",
    "        if (tree.left and 2*i + 1 >= n) or not check_complete(tree.left, 2*i + 1, n):\n",
    "            return False \n",
    "\n",
    "        if (tree.right and 2*i + 2 >= n) or not check_complete(tree.right, 2*i + 2, n):\n",
    "            return False \n",
    "\n",
    "        return True \n",
    "\n",
    "    n = size(tree)\n",
    "    return check_complete(tree, 0, n)\n",
    "\n",
    "print(is_complete(tree))\n",
    "print(is_complete(tree_complete_eg))   "
   ]
  },
  {
   "attachments": {},
   "cell_type": "markdown",
   "metadata": {},
   "source": [
    "$O(n)$ time and $O(h)$ space complexity"
   ]
  },
  {
   "attachments": {},
   "cell_type": "markdown",
   "metadata": {},
   "source": [
    "#### Variant: Return the size of the largest subtree that is complete"
   ]
  },
  {
   "cell_type": "markdown",
   "metadata": {},
   "source": [
    "### 9.2: Test if a Binary Tree is Symmetric"
   ]
  },
  {
   "cell_type": "code",
   "execution_count": 13,
   "metadata": {},
   "outputs": [],
   "source": [
    "def is_symmetric(tree: BinaryTreeNode) -> bool:\n",
    "\n",
    "    def is_symmetric_helper(sub_tree0: BinaryTreeNode, sub_tree1: BinaryTreeNode) -> bool:\n",
    "        if not sub_tree0 and not sub_tree1:\n",
    "            return True\n",
    "        elif sub_tree0 and sub_tree1:\n",
    "            return (sub_tree0.data == sub_tree1.data and\n",
    "                    is_symmetric_helper(sub_tree0.left, sub_tree1.right) and\n",
    "                    is_symmetric_helper(sub_tree0.right, sub_tree1.left)\n",
    "                    )\n",
    "        # one subtree is empty and the other is not\n",
    "        else:\n",
    "            return False\n",
    "    return not tree or is_symmetric_helper(tree.left, tree.right)"
   ]
  },
  {
   "cell_type": "markdown",
   "metadata": {},
   "source": [
    "Time and space complexity is $O(n)$ and $O(h)$ respectively"
   ]
  },
  {
   "cell_type": "code",
   "execution_count": 14,
   "metadata": {},
   "outputs": [
    {
     "data": {
      "text/plain": [
       "False"
      ]
     },
     "execution_count": 14,
     "metadata": {},
     "output_type": "execute_result"
    }
   ],
   "source": [
    "is_symmetric(tree)"
   ]
  },
  {
   "cell_type": "code",
   "execution_count": 15,
   "metadata": {},
   "outputs": [
    {
     "data": {
      "text/plain": [
       "True"
      ]
     },
     "execution_count": 15,
     "metadata": {},
     "output_type": "execute_result"
    }
   ],
   "source": [
    "is_symmetric(BinaryTreeNode(5, \n",
    "                left=BinaryTreeNode(10, \n",
    "                    left=None, \n",
    "                    right=BinaryTreeNode(100)\n",
    "                ),\n",
    "                right=BinaryTreeNode(10,\n",
    "                    left=BinaryTreeNode(100),\n",
    "                    right=None\n",
    "                )\n",
    "            )\n",
    "        )\n",
    "    "
   ]
  },
  {
   "cell_type": "markdown",
   "metadata": {},
   "source": [
    "### 9.3: Find the Least Common Ancestor of Two Nodes"
   ]
  },
  {
   "cell_type": "markdown",
   "metadata": {},
   "source": [
    "### 9.4: Find the Least Common Ancestor of Two Nodes with Parent Nodes"
   ]
  },
  {
   "cell_type": "code",
   "execution_count": 16,
   "metadata": {},
   "outputs": [],
   "source": [
    "class BinaryTreeNodeParent:\n",
    "\n",
    "    def __init__(self, data=None, left=None, right=None, parent=None) -> None:\n",
    "        self.data = data\n",
    "        self.left = left \n",
    "        self.right = right \n",
    "        self.parent = parent\n"
   ]
  },
  {
   "cell_type": "code",
   "execution_count": 17,
   "metadata": {},
   "outputs": [],
   "source": [
    "root = BinaryTreeNodeParent(data=100)\n",
    "ln = BinaryTreeNodeParent(parent=root, data=10)\n",
    "rn = BinaryTreeNodeParent(parent=root, data=15)\n",
    "root.left, root.right = ln, rn\n",
    "lln = BinaryTreeNodeParent(data=4, parent=ln)\n",
    "\n"
   ]
  },
  {
   "cell_type": "code",
   "execution_count": 18,
   "metadata": {},
   "outputs": [],
   "source": [
    "# walk up tree until get to lca\n",
    "def lca_parent(node0: BinaryTreeNodeParent, node1: BinaryTreeNodeParent) -> BinaryTreeNodeParent:\n",
    "\n",
    "    # calculate depth of each node; if there is a difference, need to walk up longer one\n",
    "    def get_depth(node: BinaryTreeNodeParent) -> int:\n",
    "        depth = 0\n",
    "        while node.parent:\n",
    "            depth += 1\n",
    "            node = node.parent\n",
    "        return depth \n",
    "    \n",
    "    depth_node0, depth_node1 = get_depth(node0), get_depth(node1)\n",
    "    # make node0 longer node to simplify code\n",
    "    if depth_node1 > depth_node0:\n",
    "        node0, node1 = node1, node0 \n",
    "    \n",
    "    depth_diff = abs(depth_node0 - depth_node1)\n",
    "    while depth_diff:\n",
    "        node0 = node0.parent\n",
    "        depth_diff -= 1\n",
    "    \n",
    "    # walk up tree til nodes same\n",
    "    while node0 is not node1:\n",
    "        node0, node1 = node0.parent, node1.parent\n",
    "    \n",
    "    return node0"
   ]
  },
  {
   "cell_type": "markdown",
   "metadata": {},
   "source": [
    "The time and space complexity are that of computing the depth, namely $O(h)$ and $O(1)$, respectively"
   ]
  },
  {
   "cell_type": "code",
   "execution_count": 19,
   "metadata": {},
   "outputs": [
    {
     "data": {
      "text/plain": [
       "100"
      ]
     },
     "execution_count": 19,
     "metadata": {},
     "output_type": "execute_result"
    }
   ],
   "source": [
    "lca_parent(lln, rn).data"
   ]
  },
  {
   "cell_type": "markdown",
   "metadata": {},
   "source": [
    "### 9.5: Sum the Root-to-Leaf Paths in a Binary Tree"
   ]
  },
  {
   "cell_type": "code",
   "execution_count": 20,
   "metadata": {},
   "outputs": [],
   "source": [
    "def sum_root_to_leaf(tree: BinaryTreeNode) -> int:\n",
    "\n",
    "    def helper(tree: BinaryTreeNode, partial_sum: int=0):\n",
    "        if not tree:\n",
    "            return 0\n",
    "        \n",
    "        partial_sum = partial_sum * 2 + tree.data \n",
    "\n",
    "        if not tree.left and not tree.right:  # leaf\n",
    "            return partial_sum\n",
    "        else:   # non-leaf\n",
    "            return helper(tree.left, partial_sum) + helper(tree.right, partial_sum)\n",
    "    \n",
    "    return helper(tree)"
   ]
  },
  {
   "cell_type": "code",
   "execution_count": 21,
   "metadata": {},
   "outputs": [
    {
     "name": "stdout",
     "output_type": "stream",
     "text": [
      "1 0 1 0 1 0 0 0 1 1 0 0 0 1 0 1 "
     ]
    }
   ],
   "source": [
    "binary_tree = BinaryTreeNode(1,\n",
    "                left=BinaryTreeNode(0,\n",
    "                    left=BinaryTreeNode(0,\n",
    "                        left=BinaryTreeNode(0),\n",
    "                        right=BinaryTreeNode(1)\n",
    "                        ),\n",
    "                    right=BinaryTreeNode(1,\n",
    "                        left=None,\n",
    "                        right=BinaryTreeNode(1,\n",
    "                            left=BinaryTreeNode(0),\n",
    "                            right=None\n",
    "                            )\n",
    "                        )\n",
    "                    ),\n",
    "                right=BinaryTreeNode(1,\n",
    "                    left=BinaryTreeNode(0,\n",
    "                        left=None,\n",
    "                        right=BinaryTreeNode(0,\n",
    "                            left=BinaryTreeNode(1,\n",
    "                                left=None,\n",
    "                                right=BinaryTreeNode(1)\n",
    "                                ),\n",
    "                            right=BinaryTreeNode(0)\n",
    "                            )\n",
    "                        ),\n",
    "                    right=BinaryTreeNode(0,\n",
    "                        left=None,\n",
    "                        right=BinaryTreeNode(0))\n",
    "                    )\n",
    "                )\n",
    "trees.traversal_levelorder(binary_tree)"
   ]
  },
  {
   "cell_type": "code",
   "execution_count": 22,
   "metadata": {},
   "outputs": [
    {
     "data": {
      "text/plain": [
       "126"
      ]
     },
     "execution_count": 22,
     "metadata": {},
     "output_type": "execute_result"
    }
   ],
   "source": [
    "sum_root_to_leaf(binary_tree)"
   ]
  },
  {
   "cell_type": "markdown",
   "metadata": {},
   "source": [
    "Time and space complexity is $O(n)$ and $O(h)$ respectively"
   ]
  },
  {
   "cell_type": "markdown",
   "metadata": {},
   "source": [
    "### 9.6: Find a Root to Leaf Path with Specified Sum"
   ]
  },
  {
   "cell_type": "code",
   "execution_count": 23,
   "metadata": {},
   "outputs": [],
   "source": [
    "def has_path_sum(tree: BinaryTreeNode, remaining_weight: int) -> bool:\n",
    "    if not tree:\n",
    "        return None\n",
    "\n",
    "    if not tree.left and not tree.right:   # leaf\n",
    "        return remaining_weight == tree.data\n",
    "\n",
    "    # non-leaf \n",
    "    return has_path_sum(tree.left, remaining_weight - tree.data) or has_path_sum(tree.right, remaining_weight - tree.data)"
   ]
  },
  {
   "cell_type": "markdown",
   "metadata": {},
   "source": [
    "Time and space complexity is $O(n)$ and $O(h)$ respectively"
   ]
  },
  {
   "cell_type": "code",
   "execution_count": 24,
   "metadata": {},
   "outputs": [
    {
     "data": {
      "text/plain": [
       "True"
      ]
     },
     "execution_count": 24,
     "metadata": {},
     "output_type": "execute_result"
    }
   ],
   "source": [
    "has_path_sum(tree, 591)"
   ]
  },
  {
   "cell_type": "markdown",
   "metadata": {},
   "source": [
    "### 9.7: Implement an Inorder Traversal without Recursion"
   ]
  },
  {
   "cell_type": "code",
   "execution_count": 25,
   "metadata": {},
   "outputs": [],
   "source": [
    "def inorder_traversal_no_recursion(tree: BinaryTreeNode) -> List[int]:\n",
    "    result = []\n",
    "\n",
    "    if not tree:\n",
    "        return result\n",
    "\n",
    "    in_process = [(tree, False)]   # used as stack\n",
    "    while in_process:\n",
    "        node, left_subtree_traversed = in_process.pop()\n",
    "        if node:\n",
    "            if left_subtree_traversed:\n",
    "                result.append(node.data)\n",
    "            else:\n",
    "                # process left subtree, print root, process right subtree\n",
    "                in_process.append((node.right, False))\n",
    "                in_process.append((node, True))\n",
    "                in_process.append((node.left, False))\n",
    "    \n",
    "    return result"
   ]
  },
  {
   "cell_type": "markdown",
   "metadata": {},
   "source": [
    "Time and space complexity is $O(n)$ and $O(h)$ respectively"
   ]
  },
  {
   "cell_type": "code",
   "execution_count": 26,
   "metadata": {},
   "outputs": [
    {
     "data": {
      "text/plain": [
       "[28, 271, 0, 6, 561, 17, 3, 314, 2, 401, 641, 1, 257, 7, 272, 29]"
      ]
     },
     "execution_count": 26,
     "metadata": {},
     "output_type": "execute_result"
    }
   ],
   "source": [
    "inorder_traversal_no_recursion(tree)"
   ]
  },
  {
   "cell_type": "markdown",
   "metadata": {},
   "source": [
    "#### Variant: Postorder Traversal without Recursion"
   ]
  },
  {
   "cell_type": "code",
   "execution_count": 27,
   "metadata": {},
   "outputs": [],
   "source": [
    "def postorder_traversal_no_recursion(tree: BinaryTreeNode) -> List[int]:\n",
    "    result = []\n",
    "\n",
    "    if not tree:\n",
    "        return result\n",
    "\n",
    "    in_process = [(tree, False)]    # used as stack\n",
    "    while in_process:\n",
    "        node, left_subtree_traversed = in_process.pop()\n",
    "        if node:\n",
    "            if left_subtree_traversed:\n",
    "                result.append(node.data)\n",
    "            else:\n",
    "                # process left subtree, right subtree, print root\n",
    "                in_process.append((node, True))\n",
    "                in_process.append((node.right, False))\n",
    "                in_process.append((node.left, False))\n",
    "    \n",
    "    return result"
   ]
  },
  {
   "cell_type": "code",
   "execution_count": 28,
   "metadata": {},
   "outputs": [
    {
     "data": {
      "text/plain": [
       "[28, 0, 271, 17, 3, 561, 6, 641, 401, 257, 1, 2, 29, 272, 7, 314]"
      ]
     },
     "execution_count": 28,
     "metadata": {},
     "output_type": "execute_result"
    }
   ],
   "source": [
    "postorder_traversal_no_recursion(tree)"
   ]
  },
  {
   "cell_type": "markdown",
   "metadata": {},
   "source": [
    "#### Variant: Preorder Traversal without Recursion"
   ]
  },
  {
   "cell_type": "code",
   "execution_count": 29,
   "metadata": {},
   "outputs": [],
   "source": [
    "def preorder_traversal_no_recursion(tree: BinaryTreeNode) -> List[int]:\n",
    "    result = []\n",
    "\n",
    "    if not tree:\n",
    "        return result\n",
    "\n",
    "    in_process = [(tree, False)]    # used as stack\n",
    "    while in_process:\n",
    "        node, left_subtree_traversed = in_process.pop()\n",
    "        if node:\n",
    "            if left_subtree_traversed:\n",
    "                result.append(node.data)\n",
    "            else:\n",
    "                # print node, process left subtree, right subtree\n",
    "                in_process.append((node.right, False))\n",
    "                in_process.append((node.left, False))\n",
    "                in_process.append((node, True))\n",
    "    \n",
    "    return result"
   ]
  },
  {
   "cell_type": "code",
   "execution_count": 30,
   "metadata": {},
   "outputs": [
    {
     "data": {
      "text/plain": [
       "[314, 6, 271, 28, 0, 561, 3, 17, 7, 2, 1, 401, 641, 257, 272, 29]"
      ]
     },
     "execution_count": 30,
     "metadata": {},
     "output_type": "execute_result"
    }
   ],
   "source": [
    "preorder_traversal_no_recursion(tree)"
   ]
  },
  {
   "attachments": {},
   "cell_type": "markdown",
   "metadata": {},
   "source": [
    "### *9.8: Find Kth Node in Binary Tree\n",
    "Kth node in an inorder traversal   \n",
    "Assume you have size of tree rooted at particular node"
   ]
  },
  {
   "cell_type": "code",
   "execution_count": 31,
   "metadata": {},
   "outputs": [
    {
     "ename": "NameError",
     "evalue": "name 'size' is not defined",
     "output_type": "error",
     "traceback": [
      "\u001b[0;31m---------------------------------------------------------------------------\u001b[0m",
      "\u001b[0;31mNameError\u001b[0m                                 Traceback (most recent call last)",
      "\u001b[1;32m/home/bxjxrx7/data_structures_algorithms/elements_of_programming_interview/9_binary_trees.ipynb Cell 53\u001b[0m in \u001b[0;36m<cell line: 9>\u001b[0;34m()\u001b[0m\n\u001b[1;32m      <a href='vscode-notebook-cell://wsl%2Bubuntu-18.04/home/bxjxrx7/data_structures_algorithms/elements_of_programming_interview/9_binary_trees.ipynb#Y102sdnNjb2RlLXJlbW90ZQ%3D%3D?line=5'>6</a>\u001b[0m     add_size(tree\u001b[39m.\u001b[39mleft)\n\u001b[1;32m      <a href='vscode-notebook-cell://wsl%2Bubuntu-18.04/home/bxjxrx7/data_structures_algorithms/elements_of_programming_interview/9_binary_trees.ipynb#Y102sdnNjb2RlLXJlbW90ZQ%3D%3D?line=6'>7</a>\u001b[0m     add_size(tree\u001b[39m.\u001b[39mright)\n\u001b[0;32m----> <a href='vscode-notebook-cell://wsl%2Bubuntu-18.04/home/bxjxrx7/data_structures_algorithms/elements_of_programming_interview/9_binary_trees.ipynb#Y102sdnNjb2RlLXJlbW90ZQ%3D%3D?line=8'>9</a>\u001b[0m add_size(tree)\n",
      "\u001b[1;32m/home/bxjxrx7/data_structures_algorithms/elements_of_programming_interview/9_binary_trees.ipynb Cell 53\u001b[0m in \u001b[0;36madd_size\u001b[0;34m(tree)\u001b[0m\n\u001b[1;32m      <a href='vscode-notebook-cell://wsl%2Bubuntu-18.04/home/bxjxrx7/data_structures_algorithms/elements_of_programming_interview/9_binary_trees.ipynb#Y102sdnNjb2RlLXJlbW90ZQ%3D%3D?line=1'>2</a>\u001b[0m \u001b[39mif\u001b[39;00m \u001b[39mnot\u001b[39;00m tree:\n\u001b[1;32m      <a href='vscode-notebook-cell://wsl%2Bubuntu-18.04/home/bxjxrx7/data_structures_algorithms/elements_of_programming_interview/9_binary_trees.ipynb#Y102sdnNjb2RlLXJlbW90ZQ%3D%3D?line=2'>3</a>\u001b[0m     \u001b[39mreturn\u001b[39;00m\n\u001b[0;32m----> <a href='vscode-notebook-cell://wsl%2Bubuntu-18.04/home/bxjxrx7/data_structures_algorithms/elements_of_programming_interview/9_binary_trees.ipynb#Y102sdnNjb2RlLXJlbW90ZQ%3D%3D?line=4'>5</a>\u001b[0m tree\u001b[39m.\u001b[39msize \u001b[39m=\u001b[39m size(tree)\n\u001b[1;32m      <a href='vscode-notebook-cell://wsl%2Bubuntu-18.04/home/bxjxrx7/data_structures_algorithms/elements_of_programming_interview/9_binary_trees.ipynb#Y102sdnNjb2RlLXJlbW90ZQ%3D%3D?line=5'>6</a>\u001b[0m add_size(tree\u001b[39m.\u001b[39mleft)\n\u001b[1;32m      <a href='vscode-notebook-cell://wsl%2Bubuntu-18.04/home/bxjxrx7/data_structures_algorithms/elements_of_programming_interview/9_binary_trees.ipynb#Y102sdnNjb2RlLXJlbW90ZQ%3D%3D?line=6'>7</a>\u001b[0m add_size(tree\u001b[39m.\u001b[39mright)\n",
      "\u001b[0;31mNameError\u001b[0m: name 'size' is not defined"
     ]
    }
   ],
   "source": [
    "def add_size(tree: BinaryTreeNode) -> None:\n",
    "    if not tree:\n",
    "        return\n",
    "\n",
    "    tree.size = size(tree)\n",
    "    add_size(tree.left)\n",
    "    add_size(tree.right)\n",
    "\n",
    "add_size(tree)"
   ]
  },
  {
   "cell_type": "code",
   "execution_count": null,
   "metadata": {},
   "outputs": [],
   "source": [
    "# if k is greater than the number of nodes in the left subtree, k cannot lie in the left subtree\n",
    "# if the left subtree contains L nodes, then kth node in the original tree is the (k-L)th node when skipping the left subtree\n",
    "def find_kth_node(tree: BinaryTreeNode, k: int) -> Optional[BinaryTreeNode]:\n",
    "    \n",
    "    while tree:\n",
    "        left_size = tree.left.size if tree.left else 0\n",
    "        if left_size + 1 < k:    # kth node in right sub tree\n",
    "            k -= left_size + 1   # + 1 for root node \n",
    "            tree = tree.right \n",
    "        elif left_size == k - 1: # kth node\n",
    "            return tree\n",
    "        else:                    # kth node in left subtree\n",
    "            tree = tree.left\n",
    "    \n",
    "    return None  # kth unreachable"
   ]
  },
  {
   "cell_type": "markdown",
   "metadata": {},
   "source": [
    "Time complexity is $O(h)$"
   ]
  },
  {
   "cell_type": "code",
   "execution_count": null,
   "metadata": {},
   "outputs": [
    {
     "name": "stdout",
     "output_type": "stream",
     "text": [
      "28 271 0 6 561 17 3 314 2 401 641 1 257 7 272 29 \n",
      "0\n",
      "401\n"
     ]
    }
   ],
   "source": [
    "trees.traversal_inorder(tree)\n",
    "print()\n",
    "print(find_kth_node(tree, 3).data)\n",
    "print(find_kth_node(tree, 10).data)"
   ]
  },
  {
   "cell_type": "markdown",
   "metadata": {},
   "source": [
    "### 9.9: Compute Successor"
   ]
  },
  {
   "attachments": {},
   "cell_type": "markdown",
   "metadata": {},
   "source": [
    "### 9.13: Compute Leaves of Binary Tree"
   ]
  },
  {
   "cell_type": "code",
   "execution_count": null,
   "metadata": {},
   "outputs": [
    {
     "data": {
      "text/plain": [
       "[28, 0, 17, 641, 257, 29]"
      ]
     },
     "execution_count": 10,
     "metadata": {},
     "output_type": "execute_result"
    }
   ],
   "source": [
    "def compute_leaves(tree: BinaryTreeNode) -> List[int]:\n",
    "    def leaves_helper(tree: BinaryTreeNode) -> None:\n",
    "        if tree:\n",
    "            leaves_helper(tree.left)\n",
    "            leaves_helper(tree.right)\n",
    "            if not tree.left and not tree.right:\n",
    "                result.append(tree.data)\n",
    "    \n",
    "    result = []\n",
    "\n",
    "    if not tree:\n",
    "        return result \n",
    "\n",
    "    leaves_helper(tree)\n",
    "    \n",
    "    return result\n",
    "    \n",
    "compute_leaves(tree) "
   ]
  },
  {
   "cell_type": "code",
   "execution_count": null,
   "metadata": {},
   "outputs": [
    {
     "data": {
      "text/plain": [
       "[28, 0, 17, 641, 257, 29]"
      ]
     },
     "execution_count": 12,
     "metadata": {},
     "output_type": "execute_result"
    }
   ],
   "source": [
    "def compute_leaves(tree: BinaryTreeNode) -> List[int]:\n",
    "    if not tree:\n",
    "        return []\n",
    "    if not tree.left and not tree.right:\n",
    "        return [tree.data]\n",
    "    return compute_leaves(tree.left) + compute_leaves(tree.right)\n",
    "\n",
    "compute_leaves(tree)"
   ]
  },
  {
   "attachments": {},
   "cell_type": "markdown",
   "metadata": {},
   "source": [
    "$O(n)$ time complexity "
   ]
  }
 ],
 "metadata": {
  "kernelspec": {
   "display_name": "Python 3.10.6 ('data-structures-algorithms')",
   "language": "python",
   "name": "python3"
  },
  "language_info": {
   "codemirror_mode": {
    "name": "ipython",
    "version": 3
   },
   "file_extension": ".py",
   "mimetype": "text/x-python",
   "name": "python",
   "nbconvert_exporter": "python",
   "pygments_lexer": "ipython3",
   "version": "3.10.6"
  },
  "orig_nbformat": 4,
  "vscode": {
   "interpreter": {
    "hash": "893eabf024544e5e4ccd37f92d923a15afaa2331429d096efe9b57dc3359fd4e"
   }
  }
 },
 "nbformat": 4,
 "nbformat_minor": 2
}
