{
 "cells": [
  {
   "cell_type": "markdown",
   "metadata": {},
   "source": [
    "# Binary Trees\n",
    "Formally, a binary tree is either empty, or a *root* node $r$ together with a left binary tree and a right binary tree. The subtrees themselves are binary trees.\n",
    "\n",
    "### Tips\n",
    "- Learn to recognize when the stack **LIFO** property is **applicable**. For example, **parsing** typically benefits from a stack.\n",
    "- Consider **augmenting** the basic stack or queue data structure to support additional operations, such as finding the maximum element."
   ]
  },
  {
   "cell_type": "code",
   "execution_count": 2,
   "metadata": {},
   "outputs": [],
   "source": [
    "from typing import Deque, Iterator, List, Optional\n",
    "from collections import deque, namedtuple\n",
    "from dataclasses import dataclass\n",
    "\n",
    "from utils import run_tests"
   ]
  },
  {
   "cell_type": "markdown",
   "metadata": {},
   "source": [
    "### Class"
   ]
  },
  {
   "cell_type": "code",
   "execution_count": null,
   "metadata": {},
   "outputs": [],
   "source": [
    "class BinaryTreeNode:\n",
    "\n",
    "    def __init__(self, data=None, left=None, right=None) -> None:\n",
    "        self.data = data\n",
    "        self.left = left \n",
    "        self.right = right \n",
    "\n",
    "def tree_traversal_preorder(root: BinaryTreeNode) -> None:\n",
    "    pass\n",
    "\n",
    "def tree_traversal_inorder(root: BinaryTreeNode) -> None:\n",
    "    pass\n",
    "\n",
    "def tree_traversal_postorder(root: BinaryTreeNode) -> None:\n",
    "    pass"
   ]
  },
  {
   "cell_type": "code",
   "execution_count": null,
   "metadata": {},
   "outputs": [],
   "source": [
    "tree = BinaryTreeNode(314,\n",
    "    left=BinaryTreeNode(6,\n",
    "        left=BinaryTreeNode(271,\n",
    "            left=BinaryTreeNode(28),\n",
    "            right=BinaryTreeNode(0)\n",
    "            ),\n",
    "        right=BinaryTreeNode(561,\n",
    "            left=None,\n",
    "            right=BinaryTreeNode(3,\n",
    "                left=BinaryTreeNode(17),\n",
    "                right=None\n",
    "            )\n",
    "        )\n",
    "    ),\n",
    "    right=BinaryTreeNode(7,\n",
    "        left=BinaryTreeNode(2,\n",
    "            left=None,\n",
    "            right=BinaryTreeNode(1,\n",
    "                left=BinaryTreeNode(401,\n",
    "                    left=None,\n",
    "                    BinaryTreeNode(641)\n",
    "                ),\n",
    "                right=BinaryTreeNode(257)\n",
    "            )\n",
    "        ),\n",
    "        right=BinaryTreeNode(272,\n",
    "            left=None,\n",
    "            right=BinaryTreeNode(29)\n",
    "        )\n",
    "    )\n",
    ")"
   ]
  }
 ],
 "metadata": {
  "kernelspec": {
   "display_name": "Python 3.10.6 ('data-structures-algorithms')",
   "language": "python",
   "name": "python3"
  },
  "language_info": {
   "codemirror_mode": {
    "name": "ipython",
    "version": 3
   },
   "file_extension": ".py",
   "mimetype": "text/x-python",
   "name": "python",
   "nbconvert_exporter": "python",
   "pygments_lexer": "ipython3",
   "version": "3.10.6"
  },
  "orig_nbformat": 4,
  "vscode": {
   "interpreter": {
    "hash": "893eabf024544e5e4ccd37f92d923a15afaa2331429d096efe9b57dc3359fd4e"
   }
  }
 },
 "nbformat": 4,
 "nbformat_minor": 2
}
