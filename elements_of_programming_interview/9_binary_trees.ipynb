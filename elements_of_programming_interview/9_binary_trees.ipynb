{
 "cells": [
  {
   "cell_type": "markdown",
   "metadata": {},
   "source": [
    "# Binary Trees\n",
    "Formally, a binary tree is either empty, or a *root* node $r$ together with a left binary tree and a right binary tree. The subtrees themselves are binary trees.\n",
    "\n",
    "### Tips\n",
    "- Learn to recognize when the stack **LIFO** property is **applicable**. For example, **parsing** typically benefits from a stack.\n",
    "- Consider **augmenting** the basic stack or queue data structure to support additional operations, such as finding the maximum element."
   ]
  },
  {
   "cell_type": "code",
   "execution_count": 1,
   "metadata": {},
   "outputs": [],
   "source": [
    "from typing import Deque, Iterator, List, Optional\n",
    "from collections import deque, namedtuple\n",
    "from dataclasses import dataclass\n",
    "\n",
    "from utils import run_tests"
   ]
  },
  {
   "cell_type": "markdown",
   "metadata": {},
   "source": [
    "### Class"
   ]
  },
  {
   "cell_type": "code",
   "execution_count": 11,
   "metadata": {},
   "outputs": [],
   "source": [
    "class BinaryTreeNode:\n",
    "\n",
    "    def __init__(self, data=None, left=None, right=None) -> None:\n",
    "        self.data = data\n",
    "        self.left = left \n",
    "        self.right = right \n",
    "\n",
    "\n",
    "def tree_traversal_preorder(root: BinaryTreeNode) -> None:\n",
    "    if root:\n",
    "        print(root.data, end=' ')\n",
    "        tree_traversal_preorder(root.left)\n",
    "        tree_traversal_preorder(root.right)\n",
    "\n",
    "def tree_traversal_inorder(root: BinaryTreeNode) -> None:\n",
    "    if root:\n",
    "        tree_traversal_inorder(root.left)\n",
    "        print(root.data, end=' ')\n",
    "        tree_traversal_inorder(root.right)\n",
    "\n",
    "def tree_traversal_postorder(root: BinaryTreeNode) -> None:\n",
    "    if root:\n",
    "        tree_traversal_postorder(root.left)\n",
    "        tree_traversal_postorder(root.right)\n",
    "        print(root.data, end=' ')\n",
    "\n",
    "\n",
    "def tree_traversal_levelorder(root: BinaryTreeNode) -> None:\n",
    "    '''\n",
    "    use a queue\n",
    "    '''\n",
    "    if root is None:\n",
    "        return \n",
    "\n",
    "    queue = Deque()\n",
    "    queue.append(root)\n",
    "\n",
    "    while queue:\n",
    "        node = queue.popleft()\n",
    "        print(node.data, end=' ')\n",
    "\n",
    "        # add children to queue\n",
    "        if node.left:\n",
    "            queue.append(node.left)\n",
    "        if node.right:\n",
    "            queue.append(node.right)\n",
    "\n",
    "\n",
    "\n",
    "def tree_height(root: BinaryTreeNode) -> int:\n",
    "    if root is None:\n",
    "        return 0\n",
    "\n",
    "    # depth first search/post order\n",
    "    return 1 + max([tree_height(root.left), tree_height(root.right)])\n",
    "\n",
    "\n",
    "def size(root: BinaryTreeNode) -> int:\n",
    "    if root is None:\n",
    "        return 0\n",
    "    \n",
    "    return 1 + size(root.left) + size(root.right)\n",
    "    \n",
    "\n",
    "def tree_insert(root: BinaryTreeNode, data) -> None:\n",
    "    node = BinaryTreeNode(data)\n",
    "\n",
    "    if root is None:\n",
    "        root = node\n",
    "        return\n",
    "\n",
    "    # level-order traversal\n",
    "    q = Deque()\n",
    "    q.append(root)\n",
    "\n",
    "    while q:\n",
    "        temp = q.popleft()\n",
    "\n",
    "        if temp.left:\n",
    "            q.append(temp.left)\n",
    "        else:\n",
    "            temp.left = node \n",
    "            return\n",
    "\n",
    "        if temp.right:\n",
    "            q.append(temp.right)\n",
    "        else:\n",
    "            temp.right = node \n",
    "            return\n"
   ]
  },
  {
   "cell_type": "code",
   "execution_count": 3,
   "metadata": {},
   "outputs": [],
   "source": [
    "tree = BinaryTreeNode(314,\n",
    "    left=BinaryTreeNode(6,\n",
    "        left=BinaryTreeNode(271,\n",
    "            left=BinaryTreeNode(28),\n",
    "            right=BinaryTreeNode(0)\n",
    "            ),\n",
    "        right=BinaryTreeNode(561,\n",
    "            left=None,\n",
    "            right=BinaryTreeNode(3,\n",
    "                left=BinaryTreeNode(17),\n",
    "                right=None\n",
    "            )\n",
    "        )\n",
    "    ),\n",
    "    right=BinaryTreeNode(7,\n",
    "        left=BinaryTreeNode(2,\n",
    "            left=None,\n",
    "            right=BinaryTreeNode(1,\n",
    "                left=BinaryTreeNode(401,\n",
    "                    left=None,\n",
    "                    right=BinaryTreeNode(641)\n",
    "                ),\n",
    "                right=BinaryTreeNode(257)\n",
    "            )\n",
    "        ),\n",
    "        right=BinaryTreeNode(272,\n",
    "            left=None,\n",
    "            right=BinaryTreeNode(29)\n",
    "        )\n",
    "    )\n",
    ")"
   ]
  },
  {
   "cell_type": "code",
   "execution_count": 4,
   "metadata": {},
   "outputs": [
    {
     "name": "stdout",
     "output_type": "stream",
     "text": [
      "314 6 271 28 0 561 3 17 7 2 1 401 641 257 272 29 "
     ]
    }
   ],
   "source": [
    "# Pre-order\n",
    "tree_traversal_preorder(tree)"
   ]
  },
  {
   "cell_type": "code",
   "execution_count": 5,
   "metadata": {},
   "outputs": [
    {
     "name": "stdout",
     "output_type": "stream",
     "text": [
      "28 271 0 6 561 17 3 314 2 401 641 1 257 7 272 29 "
     ]
    }
   ],
   "source": [
    "# In Order\n",
    "tree_traversal_inorder(tree)"
   ]
  },
  {
   "cell_type": "code",
   "execution_count": 6,
   "metadata": {},
   "outputs": [
    {
     "name": "stdout",
     "output_type": "stream",
     "text": [
      "28 0 271 17 3 561 6 641 401 257 1 2 29 272 7 314 "
     ]
    }
   ],
   "source": [
    "# post-order\n",
    "tree_traversal_postorder(tree)"
   ]
  },
  {
   "cell_type": "code",
   "execution_count": 7,
   "metadata": {},
   "outputs": [
    {
     "data": {
      "text/plain": [
       "6"
      ]
     },
     "execution_count": 7,
     "metadata": {},
     "output_type": "execute_result"
    }
   ],
   "source": [
    "tree_height(tree)"
   ]
  },
  {
   "cell_type": "code",
   "execution_count": 8,
   "metadata": {},
   "outputs": [
    {
     "data": {
      "text/plain": [
       "16"
      ]
     },
     "execution_count": 8,
     "metadata": {},
     "output_type": "execute_result"
    }
   ],
   "source": [
    "size(tree)"
   ]
  },
  {
   "cell_type": "code",
   "execution_count": 9,
   "metadata": {},
   "outputs": [
    {
     "name": "stdout",
     "output_type": "stream",
     "text": [
      "314 6 7 271 561 2 272 28 0 3 1 29 17 401 257 641 "
     ]
    }
   ],
   "source": [
    "tree_traversal_levelorder(tree)"
   ]
  },
  {
   "cell_type": "code",
   "execution_count": 10,
   "metadata": {},
   "outputs": [
    {
     "name": "stdout",
     "output_type": "stream",
     "text": [
      "314 6 7 271 561 2 272 28 0 1000 3 1 29 17 401 257 641 "
     ]
    }
   ],
   "source": [
    "tree_insert(tree, 1000)\n",
    "tree_traversal_levelorder(tree)"
   ]
  },
  {
   "cell_type": "markdown",
   "metadata": {},
   "source": [
    "### 9.1: Test if a Binary Tree is Height Balanced"
   ]
  },
  {
   "cell_type": "code",
   "execution_count": null,
   "metadata": {},
   "outputs": [],
   "source": [
    "def is_height_balanced(root: BinaryTreeNode) -> bool:\n",
    "\n",
    "    # base condition\n",
    "    if root is None:\n",
    "        return True\n",
    "    \n",
    "    # get tree height of left and right subtree\n",
    "    left_height, right_height = tree_height(root.left), tree_height(root.right)\n",
    "    if abs(left_height - right_height) <= 1 and is_height_balanced(root.left) and is_height_balanced(root.right): \n",
    "        return True\n",
    "\n",
    "    return False\n",
    "    "
   ]
  },
  {
   "cell_type": "markdown",
   "metadata": {},
   "source": [
    "Time complxity is $O(n)$ (same as post-order traversal) and space complexity is $O(h)$"
   ]
  },
  {
   "cell_type": "code",
   "execution_count": 12,
   "metadata": {},
   "outputs": [
    {
     "data": {
      "text/plain": [
       "False"
      ]
     },
     "execution_count": 12,
     "metadata": {},
     "output_type": "execute_result"
    }
   ],
   "source": [
    "is_height_balanced(tree)"
   ]
  },
  {
   "cell_type": "code",
   "execution_count": 16,
   "metadata": {},
   "outputs": [
    {
     "data": {
      "text/plain": [
       "True"
      ]
     },
     "execution_count": 16,
     "metadata": {},
     "output_type": "execute_result"
    }
   ],
   "source": [
    "tree_balanced = BinaryTreeNode(4, left=BinaryTreeNode(2), right=BinaryTreeNode(1))\n",
    "is_height_balanced(tree_balanced)"
   ]
  },
  {
   "cell_type": "markdown",
   "metadata": {},
   "source": [
    "### 9.2: Test if a Binary Tree is Symmetric"
   ]
  },
  {
   "cell_type": "code",
   "execution_count": 17,
   "metadata": {},
   "outputs": [],
   "source": [
    "def is_symmetric(tree: BinaryTreeNode) -> bool:\n",
    "\n",
    "    def is_symmetric_helper(sub_tree0: BinaryTreeNode, sub_tree1: BinaryTreeNode) -> bool:\n",
    "        if not sub_tree0 and not sub_tree1:\n",
    "            return True\n",
    "        elif sub_tree0 and sub_tree1:\n",
    "            return (sub_tree0.data == sub_tree1.data and\n",
    "                    is_symmetric_helper(sub_tree0.left, sub_tree1.right) and\n",
    "                    is_symmetric_helper(sub_tree0.right, sub_tree1.left)\n",
    "                    )\n",
    "        # one subtree is empty and the other is not\n",
    "        else:\n",
    "            return False\n",
    "    return not tree or is_symmetric_helper(tree.left, tree.right)"
   ]
  },
  {
   "cell_type": "markdown",
   "metadata": {},
   "source": [
    "Time and space complexity is $O(n)$ and $O(h)$ respectively"
   ]
  },
  {
   "cell_type": "code",
   "execution_count": 18,
   "metadata": {},
   "outputs": [
    {
     "data": {
      "text/plain": [
       "False"
      ]
     },
     "execution_count": 18,
     "metadata": {},
     "output_type": "execute_result"
    }
   ],
   "source": [
    "is_symmetric(tree)"
   ]
  },
  {
   "cell_type": "code",
   "execution_count": 21,
   "metadata": {},
   "outputs": [
    {
     "data": {
      "text/plain": [
       "True"
      ]
     },
     "execution_count": 21,
     "metadata": {},
     "output_type": "execute_result"
    }
   ],
   "source": [
    "is_symmetric(BinaryTreeNode(5, \n",
    "                left=BinaryTreeNode(10, \n",
    "                    left=None, \n",
    "                    right=BinaryTreeNode(100)\n",
    "                ),\n",
    "                right=BinaryTreeNode(10,\n",
    "                    left=BinaryTreeNode(100),\n",
    "                    right=None\n",
    "                )\n",
    "            )\n",
    "        )\n",
    "    "
   ]
  },
  {
   "cell_type": "markdown",
   "metadata": {},
   "source": [
    "### 9.3: Find the Least Common Ancestor of Two Nodes"
   ]
  },
  {
   "cell_type": "markdown",
   "metadata": {},
   "source": [
    "### 9.4: Find the Least Common Ancestor of Two Nodes with Parent Nodes"
   ]
  },
  {
   "cell_type": "code",
   "execution_count": 23,
   "metadata": {},
   "outputs": [],
   "source": [
    "class BinaryTreeNodeParent:\n",
    "\n",
    "    def __init__(self, data=None, left=None, right=None, parent=None) -> None:\n",
    "        self.data = data\n",
    "        self.left = left \n",
    "        self.right = right \n",
    "        self.parent = parent\n"
   ]
  },
  {
   "cell_type": "code",
   "execution_count": 36,
   "metadata": {},
   "outputs": [],
   "source": [
    "root = BinaryTreeNodeParent(data=100)\n",
    "ln = BinaryTreeNodeParent(parent=root, data=10)\n",
    "rn = BinaryTreeNodeParent(parent=root, data=15)\n",
    "root.left, root.right = ln, rn\n",
    "lln = BinaryTreeNodeParent(data=4, parent=ln)\n",
    "\n"
   ]
  },
  {
   "cell_type": "code",
   "execution_count": 37,
   "metadata": {},
   "outputs": [],
   "source": [
    "# walk up tree until get to lca\n",
    "def lca_parent(node0: BinaryTreeNodeParent, node1: BinaryTreeNodeParent) -> BinaryTreeNodeParent:\n",
    "\n",
    "    # calculate depth of each node; if there is a difference, need to walk up longer one\n",
    "    def get_depth(node: BinaryTreeNodeParent) -> int:\n",
    "        depth = 0\n",
    "        while node.parent:\n",
    "            depth += 1\n",
    "            node = node.parent\n",
    "        return depth \n",
    "    \n",
    "    depth_node0, depth_node1 = get_depth(node0), get_depth(node1)\n",
    "    # make node0 longer node to simplify code\n",
    "    if depth_node1 > depth_node0:\n",
    "        node0, node1 = node1, node0 \n",
    "    \n",
    "    depth_diff = abs(depth_node0 - depth_node1)\n",
    "    while depth_diff:\n",
    "        node0 = node0.parent\n",
    "        depth_diff -= 1\n",
    "    \n",
    "    # walk up tree til nodes same\n",
    "    while node0 is not node1:\n",
    "        node0, node1 = node0.parent, node1.parent\n",
    "    \n",
    "    return node0"
   ]
  },
  {
   "cell_type": "markdown",
   "metadata": {},
   "source": [
    "The time and space complexity are that of computing the depth, namely $O(h)$ and $O(1)$, respectively"
   ]
  },
  {
   "cell_type": "code",
   "execution_count": 40,
   "metadata": {},
   "outputs": [
    {
     "data": {
      "text/plain": [
       "100"
      ]
     },
     "execution_count": 40,
     "metadata": {},
     "output_type": "execute_result"
    }
   ],
   "source": [
    "lca_parent(lln, rn).data"
   ]
  },
  {
   "cell_type": "markdown",
   "metadata": {},
   "source": [
    "### 9.5: Sum the Root-to-Leaf Paths in a Binary Tree"
   ]
  },
  {
   "cell_type": "code",
   "execution_count": 43,
   "metadata": {},
   "outputs": [],
   "source": [
    "def sum_root_to_leaf(tree: BinaryTreeNode) -> int:\n",
    "\n",
    "    def helper(tree: BinaryTreeNode, partial_sum: int=0):\n",
    "        if not tree:\n",
    "            return 0\n",
    "        \n",
    "        partial_sum = partial_sum * 2 + tree.data \n",
    "\n",
    "        if not tree.left and not tree.right:  # leaf\n",
    "            return partial_sum\n",
    "        else:   # non-leaf\n",
    "            return helper(tree.left, partial_sum) + helper(tree.right, partial_sum)\n",
    "    \n",
    "    return helper(tree)"
   ]
  },
  {
   "cell_type": "code",
   "execution_count": 41,
   "metadata": {},
   "outputs": [
    {
     "name": "stdout",
     "output_type": "stream",
     "text": [
      "1 0 1 0 1 0 0 0 1 1 0 0 0 1 0 1 "
     ]
    }
   ],
   "source": [
    "binary_tree = BinaryTreeNode(1,\n",
    "                left=BinaryTreeNode(0,\n",
    "                    left=BinaryTreeNode(0,\n",
    "                        left=BinaryTreeNode(0),\n",
    "                        right=BinaryTreeNode(1)\n",
    "                        ),\n",
    "                    right=BinaryTreeNode(1,\n",
    "                        left=None,\n",
    "                        right=BinaryTreeNode(1,\n",
    "                            left=BinaryTreeNode(0),\n",
    "                            right=None\n",
    "                            )\n",
    "                        )\n",
    "                    ),\n",
    "                right=BinaryTreeNode(1,\n",
    "                    left=BinaryTreeNode(0,\n",
    "                        left=None,\n",
    "                        right=BinaryTreeNode(0,\n",
    "                            left=BinaryTreeNode(1,\n",
    "                                left=None,\n",
    "                                right=BinaryTreeNode(1)\n",
    "                                ),\n",
    "                            right=BinaryTreeNode(0)\n",
    "                            )\n",
    "                        ),\n",
    "                    right=BinaryTreeNode(0,\n",
    "                        left=None,\n",
    "                        right=BinaryTreeNode(0))\n",
    "                    )\n",
    "                )\n",
    "tree_traversal_levelorder(binary_tree)"
   ]
  },
  {
   "cell_type": "code",
   "execution_count": 44,
   "metadata": {},
   "outputs": [
    {
     "data": {
      "text/plain": [
       "126"
      ]
     },
     "execution_count": 44,
     "metadata": {},
     "output_type": "execute_result"
    }
   ],
   "source": [
    "sum_root_to_leaf(binary_tree)"
   ]
  },
  {
   "cell_type": "markdown",
   "metadata": {},
   "source": [
    "Time and space complexity is $O(n)$ and $O(h)$ respectively"
   ]
  },
  {
   "cell_type": "markdown",
   "metadata": {},
   "source": [
    "### 9.6: Find a Root to Leaf Path with Specified Sum"
   ]
  },
  {
   "cell_type": "code",
   "execution_count": 45,
   "metadata": {},
   "outputs": [],
   "source": [
    "def has_path_sum(tree: BinaryTreeNode, remaining_weight: int) -> bool:\n",
    "    if not tree:\n",
    "        return None\n",
    "\n",
    "    if not tree.left and not tree.right:   # leaf\n",
    "        return remaining_weight == tree.data\n",
    "\n",
    "    # non-leaf \n",
    "    return has_path_sum(tree.left, remaining_weight - tree.data) or has_path_sum(tree.right, remaining_weight - tree.data)"
   ]
  },
  {
   "cell_type": "markdown",
   "metadata": {},
   "source": [
    "Time and space complexity is $O(n)$ and $O(h)$ respectively"
   ]
  },
  {
   "cell_type": "code",
   "execution_count": 48,
   "metadata": {},
   "outputs": [
    {
     "data": {
      "text/plain": [
       "True"
      ]
     },
     "execution_count": 48,
     "metadata": {},
     "output_type": "execute_result"
    }
   ],
   "source": [
    "has_path_sum(tree, 591)"
   ]
  },
  {
   "cell_type": "code",
   "execution_count": null,
   "metadata": {},
   "outputs": [],
   "source": []
  }
 ],
 "metadata": {
  "kernelspec": {
   "display_name": "Python 3.10.6 ('data-structures-algorithms')",
   "language": "python",
   "name": "python3"
  },
  "language_info": {
   "codemirror_mode": {
    "name": "ipython",
    "version": 3
   },
   "file_extension": ".py",
   "mimetype": "text/x-python",
   "name": "python",
   "nbconvert_exporter": "python",
   "pygments_lexer": "ipython3",
   "version": "3.10.6"
  },
  "orig_nbformat": 4,
  "vscode": {
   "interpreter": {
    "hash": "893eabf024544e5e4ccd37f92d923a15afaa2331429d096efe9b57dc3359fd4e"
   }
  }
 },
 "nbformat": 4,
 "nbformat_minor": 2
}
