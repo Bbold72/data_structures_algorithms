{
 "cells": [
  {
   "cell_type": "markdown",
   "metadata": {},
   "source": [
    "# Linked Lists"
   ]
  },
  {
   "cell_type": "code",
   "execution_count": 33,
   "metadata": {},
   "outputs": [],
   "source": [
    "from typing import Optional\n",
    "from data_structures.linked_lists import single_node\n",
    "from data_structures.linked_lists.single_node import Node\n",
    "from utils import run_tests"
   ]
  },
  {
   "cell_type": "markdown",
   "metadata": {},
   "source": [
    "### 7.1: Merge Two Sorted Lists"
   ]
  },
  {
   "cell_type": "code",
   "execution_count": 2,
   "metadata": {},
   "outputs": [
    {
     "name": "stdout",
     "output_type": "stream",
     "text": [
      "2 5 7 \n",
      "3 11 \n",
      "2 3 5 7 11 \n"
     ]
    }
   ],
   "source": [
    "def merge_lists(L1: Node, L2: Node) -> Node:\n",
    "\n",
    "    dummy_head = tail = Node(0) \n",
    "\n",
    "    while L1 and L2:\n",
    "        if L1.data <= L2.data:\n",
    "            tail.next, L1 = L1, L1.next\n",
    "        else:\n",
    "            tail.next, L2 = L2, L2.next\n",
    "        tail = tail.next\n",
    "\n",
    "    # append remeaing nodes of L1 or L2\n",
    "    tail.next = L1 or L2\n",
    "\n",
    "    return dummy_head.next\n",
    "\n",
    "x = single_node.push_list([7, 5, 2])\n",
    "y = single_node.push_list([11, 3])\n",
    "single_node.print_list(x)\n",
    "single_node.print_list(y)\n",
    "merge_ll = merge_lists(x, y)\n",
    "single_node.print_list(merge_ll)"
   ]
  },
  {
   "cell_type": "markdown",
   "metadata": {},
   "source": [
    "#### Reverse a List"
   ]
  },
  {
   "cell_type": "code",
   "execution_count": 3,
   "metadata": {},
   "outputs": [
    {
     "name": "stdout",
     "output_type": "stream",
     "text": [
      "0 1 2 3 4 5 6 7 8 9 \n",
      "9 8 7 6 5 4 3 2 1 0 \n"
     ]
    }
   ],
   "source": [
    "def reverse_list(LL: Node) -> Optional[Node]:\n",
    "\n",
    "    prev = None\n",
    "\n",
    "    while LL:\n",
    "        next = LL.next  # get next node\n",
    "        LL.next = prev  # flip pointer\n",
    "        prev = LL       # set current node to previous\n",
    "        LL = next       # move to next node\n",
    "    return prev\n",
    "\n",
    "X = single_node.push_list(reversed(range(10)))\n",
    "single_node.print_list(X)\n",
    "rev_X = reverse_list(X)\n",
    "single_node.print_list(rev_X)\n"
   ]
  },
  {
   "cell_type": "markdown",
   "metadata": {},
   "source": [
    "### 7.2: Reverse a Single Sublist\n",
    "Reverse nodes in a linked list from integers *s* to *f* inclusive"
   ]
  },
  {
   "cell_type": "code",
   "execution_count": 4,
   "metadata": {},
   "outputs": [
    {
     "name": "stdout",
     "output_type": "stream",
     "text": [
      "0 1 2 3 4 5 6 7 8 9 \n",
      "0 1 7 6 5 4 3 2 8 9 \n"
     ]
    }
   ],
   "source": [
    "def reverse_sublist(LL: Node, start: int, finish: int) -> Node:\n",
    "\n",
    "    dummy_head = sublist_head = Node(0, LL)\n",
    "\n",
    "    for _ in range(1, start):\n",
    "        sublist_head = sublist_head.next\n",
    "\n",
    "    sublist_iter = sublist_head.next\n",
    "    for _ in range(finish - start):\n",
    "        temp = sublist_iter.next\n",
    "        sublist_iter.next, temp.next, sublist_head.next = temp.next, sublist_head.next, temp\n",
    "            \n",
    "    return dummy_head.next\n",
    "\n",
    "X = single_node.push_list(reversed(range(10)))\n",
    "single_node.print_list(X)\n",
    "rev_X = reverse_sublist(X,start=3, finish=8)\n",
    "single_node.print_list(rev_X)\n"
   ]
  },
  {
   "cell_type": "code",
   "execution_count": 5,
   "metadata": {},
   "outputs": [
    {
     "name": "stdout",
     "output_type": "stream",
     "text": [
      "0 1 2 3 4 5 6 7 8 9 \n",
      "0 1 7 6 5 4 3 2 8 9 \n",
      "\n",
      "0 1 2 3 4 5 6 7 8 9 \n",
      "3 2 1 0 4 5 6 7 8 9 \n",
      "\n",
      "0 1 2 3 4 5 6 7 8 9 \n",
      "0 1 2 3 4 9 8 7 6 5 \n"
     ]
    }
   ],
   "source": [
    "def reverse_sublist(head: Node, start: int, finish: int) -> Node:\n",
    "\n",
    "    # base case\n",
    "    if start > finish:\n",
    "        return head\n",
    "\n",
    "    current = head\n",
    "\n",
    "    prev = None\n",
    "\n",
    "    # skip nodes before start\n",
    "    i = 1\n",
    "    while current is not None and i < start:\n",
    "        prev = current\n",
    "        current = current.next\n",
    "        i += 1\n",
    "\n",
    "    # current pointing to node at start of sublist\n",
    "    # prev pointing to node before start of sublist\n",
    "\n",
    "    # print('current:', current.data)\n",
    "    # print('prev:', prev.data)\n",
    "\n",
    "    # traverse and reverse sublist from start to finish\n",
    "    sublist_start = current\n",
    "    sublist_end = None\n",
    "    while current is not None and i <= finish:\n",
    "\n",
    "        # get next node\n",
    "        next = current.next\n",
    "\n",
    "        # move current node on to end of sublist\n",
    "        current.next = sublist_end \n",
    "        sublist_end = current \n",
    "\n",
    "        # iterate\n",
    "        current = next \n",
    "        i += 1\n",
    "\n",
    "    # sublist_start points to start of sublist \n",
    "    # sublist_end points to end of sublist\n",
    "    # Note: sublist is reversed\n",
    "    # current points to finish + 1 node\n",
    "\n",
    "    # print('sublist start:', sublist_start.data)\n",
    "    # print('sublist end:', sublist_end.data)\n",
    "    # print('current:', current.data)\n",
    "\n",
    "    # fix pointers\n",
    "    if sublist_start:\n",
    "        # attach rest of list to reversed start of sublist\n",
    "        sublist_start.next = current\n",
    "        if prev is None:        \n",
    "            head = sublist_end        # when start = 1, prev is None\n",
    "        else:\n",
    "            # have node before start of sublist point to reversed end of sublist\n",
    "            prev.next = sublist_end\n",
    "\n",
    "    return head\n",
    "\n",
    "X = single_node.push_list(reversed(range(10)))\n",
    "single_node.print_list(X)\n",
    "rev_X = reverse_sublist(X, start=3, finish=8)\n",
    "single_node.print_list(rev_X)\n",
    "print()\n",
    "X = single_node.push_list(reversed(range(10)))\n",
    "single_node.print_list(X)\n",
    "rev_X = reverse_sublist(X, start=1, finish=4)\n",
    "single_node.print_list(rev_X)\n",
    "print()\n",
    "X = single_node.push_list(reversed(range(10)))\n",
    "single_node.print_list(X)\n",
    "rev_X = reverse_sublist(X, start=6, finish=10)\n",
    "single_node.print_list(rev_X)"
   ]
  },
  {
   "cell_type": "markdown",
   "metadata": {},
   "source": [
    "$O(n)$ time and $O(1)$ space complexity"
   ]
  },
  {
   "cell_type": "markdown",
   "metadata": {},
   "source": [
    "### Check for Cycle in List\n",
    "Using fast and slow pointer works in linear time because when fast pointer jumps over slow pointer, will meet at next iteration"
   ]
  },
  {
   "cell_type": "code",
   "execution_count": 6,
   "metadata": {},
   "outputs": [
    {
     "name": "stdout",
     "output_type": "stream",
     "text": [
      "0 1 2 3 4 \n",
      "False\n",
      "True\n"
     ]
    }
   ],
   "source": [
    "def has_cycle(head: Node) -> bool:\n",
    "\n",
    "    # base case \n",
    "    if head is None:\n",
    "        return False\n",
    "\n",
    "    # create a slow and fast pointer\n",
    "    slow = fast = head \n",
    "\n",
    "    while fast and fast.next:\n",
    "        slow, fast = slow.next, fast.next.next\n",
    "        if fast is slow:\n",
    "            return True \n",
    "\n",
    "    return False\n",
    "\n",
    "\n",
    "X = single_node.push_list(reversed(range(5)))\n",
    "single_node.print_list(X)\n",
    "print(has_cycle(X))\n",
    "\n",
    "\n",
    "second_node = X.next  # pointer to second node\n",
    "\n",
    "# make pointer to last node\n",
    "last_node = X\n",
    "while last_node.next is not None:\n",
    "    last_node = last_node.next\n",
    "\n",
    "# assign last node's next to point to second node\n",
    "last_node.next = second_node\n",
    "\n",
    "print(has_cycle(X))"
   ]
  },
  {
   "cell_type": "markdown",
   "metadata": {},
   "source": [
    "$O(n)$ time and $O(1)$ space complexity"
   ]
  },
  {
   "cell_type": "markdown",
   "metadata": {},
   "source": [
    "### 7.3: Test for Cyclicty\n",
    "If list has a cycle, return node at start of cycle"
   ]
  },
  {
   "cell_type": "code",
   "execution_count": 7,
   "metadata": {},
   "outputs": [
    {
     "name": "stdout",
     "output_type": "stream",
     "text": [
      "0 1 2 3 4 \n",
      "None\n",
      "1\n"
     ]
    }
   ],
   "source": [
    "def has_cycle_len(head: Node) -> Optional[Node]:\n",
    "\n",
    "    def cycle_len(start: Node) -> int:\n",
    "        end, step = start, 0\n",
    "\n",
    "        while True:\n",
    "            step += 1\n",
    "            start = start.next\n",
    "            if start is end:\n",
    "                return step\n",
    "\n",
    "    # base case \n",
    "    if head is None:\n",
    "        return None\n",
    "\n",
    "    # create a slow and fast pointer\n",
    "    slow = fast = head \n",
    "\n",
    "    while fast and fast.next:\n",
    "        slow, fast = slow.next, fast.next.next\n",
    "\n",
    "        # found cycle\n",
    "        if fast is slow:\n",
    "            \n",
    "            # advance iterator lenght of cycle ahead of head\n",
    "            cycle_size = cycle_len(slow)\n",
    "            cycle_len_advanced_iter = head \n",
    "            for _ in range(cycle_size):\n",
    "                cycle_len_advanced_iter = cycle_len_advanced_iter.next\n",
    "\n",
    "            # when meet that the beginning of the cycle\n",
    "            it = head \n",
    "            while it is not cycle_len_advanced_iter:\n",
    "                it = it.next \n",
    "                cycle_len_advanced_iter = cycle_len_advanced_iter.next \n",
    "            return it\n",
    "\n",
    "    return None\n",
    "\n",
    "\n",
    "X = single_node.push_list(reversed(range(5)))\n",
    "single_node.print_list(X)\n",
    "print(has_cycle_len(X))\n",
    "\n",
    "\n",
    "second_node = X.next  # pointer to second node\n",
    "\n",
    "# make pointer to last node\n",
    "last_node = X\n",
    "while last_node.next is not None:\n",
    "    last_node = last_node.next\n",
    "\n",
    "# assign last node's next to point to second node\n",
    "last_node.next = second_node\n",
    "\n",
    "print(has_cycle_len(X).data)"
   ]
  },
  {
   "cell_type": "markdown",
   "metadata": {},
   "source": [
    "Let $F$ be the number of nodes to start of the cycle, $C$ the number of nodes on the cycle, and $n$ the total number of nodes. Then the time complexity is $O(F) + O(C) = O(n) - O(F)$"
   ]
  },
  {
   "cell_type": "markdown",
   "metadata": {},
   "source": [
    "### Test for Overlapping Lists - Lists are Cycle Free\n",
    "Lists overlap if they have the same tail"
   ]
  },
  {
   "cell_type": "code",
   "execution_count": 8,
   "metadata": {},
   "outputs": [
    {
     "name": "stdout",
     "output_type": "stream",
     "text": [
      "0 1 2 3 4 \n",
      "9 8 7 6 5 \n",
      "False\n",
      "\n",
      "0 1 2 3 4 9 8 7 6 5 \n",
      "9 8 7 6 5 \n",
      "True\n",
      "True\n"
     ]
    }
   ],
   "source": [
    "def has_overlap(head1: Node, head2: Node) -> bool:\n",
    "\n",
    "    if head1 is None or head2 is None:\n",
    "        return False\n",
    "\n",
    "    # iterate until get to tail on one list\n",
    "    while head1.next and head2.next:\n",
    "        head1, head2 = head1.next, head2.next \n",
    "\n",
    "    # find tail\n",
    "    if head1.next is None:\n",
    "        tail, it = head1, head2 \n",
    "    else:\n",
    "        tail, it = head2, head1 \n",
    "\n",
    "    # advance through longer list\n",
    "    while it.next:\n",
    "        it = it.next \n",
    "\n",
    "    # if have same tail pointer, overlap\n",
    "    if tail is it:\n",
    "        return True \n",
    "    else:\n",
    "        return False \n",
    "\n",
    "\n",
    "X = single_node.push_list(reversed(range(5)))\n",
    "single_node.print_list(X)\n",
    "Y = single_node.push_list(range(5, 10))\n",
    "single_node.print_list(Y)\n",
    "print(has_overlap(X, Y))\n",
    "print()\n",
    "\n",
    "third_node_Y = Y\n",
    "for _ in range(3):\n",
    "    third_node_Y = third_node_Y.next \n",
    "last_node_X = X\n",
    "while last_node_X.next:\n",
    "    last_node_X = last_node_X.next \n",
    "last_node_X.next = Y\n",
    "single_node.print_list(X)\n",
    "single_node.print_list(Y)\n",
    "print(has_overlap(X, Y))\n",
    "print(has_overlap(Y, X))\n"
   ]
  },
  {
   "cell_type": "markdown",
   "metadata": {},
   "source": [
    "$O(n)$ time and $O(1)$ space complexity"
   ]
  },
  {
   "cell_type": "code",
   "execution_count": 9,
   "metadata": {},
   "outputs": [
    {
     "name": "stdout",
     "output_type": "stream",
     "text": [
      "0 1 2 3 4 \n",
      "9 8 7 6 5 \n",
      "None\n",
      "\n",
      "0 1 2 3 4 9 8 7 6 5 \n",
      "9 8 7 6 5 \n",
      "9\n",
      "9\n",
      "\n",
      "0 1 2 3 4 \n",
      "9 8 7 6 5 \n",
      "0 1 2 6 5 \n",
      "9 8 7 6 5 \n",
      "6\n",
      "6\n"
     ]
    }
   ],
   "source": [
    "def overlapping_no_cycle(head1: Node, head2: Node) -> Optional[Node]:\n",
    "\n",
    "    def list_len(start: Node) -> int:\n",
    "        size = 0\n",
    "        while start:\n",
    "            size += 1\n",
    "            start = start.next \n",
    "        return size \n",
    "\n",
    "    # get length of lists\n",
    "    head1_len, head2_len = list_len(head1), list_len(head2)\n",
    "\n",
    "    # head 2 is longer\n",
    "    # ensure head1 is longer list\n",
    "    if head1_len < head2_len:\n",
    "        head1, head2 = head2, head1\n",
    "\n",
    "    # advance through longer list \n",
    "    for _ in range(abs(head1_len - head2_len)):\n",
    "        head1 = head1.next\n",
    "\n",
    "    # advance through both lists until reach same node\n",
    "    while head1 and head2:\n",
    "        if head1 is head2:\n",
    "            return head1\n",
    "        else:\n",
    "            head1, head2 = head1.next, head2.next\n",
    "\n",
    "    return None\n",
    "\n",
    "\n",
    "X = single_node.push_list(reversed(range(5)))\n",
    "single_node.print_list(X)\n",
    "Y = single_node.push_list(range(5, 10))\n",
    "single_node.print_list(Y)\n",
    "print(overlapping_no_cycle(X, Y))\n",
    "print()\n",
    "\n",
    "third_node_Y = Y\n",
    "for _ in range(3):\n",
    "    third_node_Y = third_node_Y.next \n",
    "last_node_X = X\n",
    "while last_node_X.next:\n",
    "    last_node_X = last_node_X.next \n",
    "last_node_X.next = Y\n",
    "single_node.print_list(X)\n",
    "single_node.print_list(Y)\n",
    "print(overlapping_no_cycle(X, Y).data)\n",
    "print(overlapping_no_cycle(Y, X).data)\n",
    "\n",
    "print()\n",
    "X = single_node.push_list(reversed(range(5)))\n",
    "single_node.print_list(X)\n",
    "Y = single_node.push_list(range(5, 10))\n",
    "single_node.print_list(Y)\n",
    "third_node_Y = Y\n",
    "for _ in range(3):\n",
    "    third_node_Y = third_node_Y.next \n",
    "second_node_X = X\n",
    "for _ in range(2):\n",
    "    second_node_X = second_node_X.next \n",
    "second_node_X.next = third_node_Y\n",
    "single_node.print_list(X)\n",
    "single_node.print_list(Y)\n",
    "print(overlapping_no_cycle(X, Y).data)\n",
    "print(overlapping_no_cycle(Y, X).data)"
   ]
  },
  {
   "cell_type": "markdown",
   "metadata": {},
   "source": [
    "$O(n)$ time and $O(1)$ space complexity"
   ]
  },
  {
   "cell_type": "markdown",
   "metadata": {},
   "source": [
    "### Overlapping Lists - May Have Cycles\n",
    "Cases:\n",
    "- no cycles -> use previous function\n",
    "- 1 list has a cycle -> cannot overlap\n",
    "- both have cycles -> check if beginning of cycle mathches with a node in other list"
   ]
  },
  {
   "cell_type": "code",
   "execution_count": 10,
   "metadata": {},
   "outputs": [],
   "source": [
    "def overlapping_cycles(head1: Node, head2: Node) -> Optional[Node]:\n",
    "\n",
    "    # base case\n",
    "    if head1 is None or head2 is None:\n",
    "        return None\n",
    "\n",
    "    # check if list have cycles\n",
    "    list1_cycle_start, list2_cycle_start = has_cycle_len(head1), has_cycle_len(head2)\n",
    "    # no cycles in both lists -> use previous function to check for overlaps\n",
    "    if list1_cycle_start is None and list2_cycle_start is None:\n",
    "        return overlapping_no_cycle(head1, head2)\n",
    "    \n",
    "    # only one list has a cycle -> cannot overlap then\n",
    "    elif list1_cycle_start is None or list2_cycle_start is None:\n",
    "        return None \n",
    "\n",
    "    # both contain overlap\n",
    "    else:\n",
    "        # iterate until temp is at the beginning of cycles\n",
    "        temp = head1\n",
    "        while temp:\n",
    "            temp = temp.next\n",
    "            if temp is list1_cycle_start or temp is list2_cycle_start:\n",
    "                break\n",
    "    \n",
    "    return temp if temp is list2_cycle_start else None"
   ]
  },
  {
   "cell_type": "markdown",
   "metadata": {},
   "source": [
    "$O(n)$ time and $O(1)$ space complexity"
   ]
  },
  {
   "cell_type": "code",
   "execution_count": 11,
   "metadata": {},
   "outputs": [
    {
     "name": "stdout",
     "output_type": "stream",
     "text": [
      "0 1 2 3 4 \n",
      "9 8 7 6 5 \n",
      "None\n",
      "\n",
      "0 1 2 3 4 9 8 7 6 5 \n",
      "9 8 7 6 5 \n",
      "9\n",
      "9\n",
      "\n",
      "0 1 2 3 4 \n",
      "None\n",
      "1\n",
      "1\n",
      "1\n"
     ]
    }
   ],
   "source": [
    "X = single_node.push_list(reversed(range(5)))\n",
    "single_node.print_list(X)\n",
    "Y = single_node.push_list(range(5, 10))\n",
    "single_node.print_list(Y)\n",
    "print(overlapping_cycles(X, Y))\n",
    "print()\n",
    "\n",
    "third_node_Y = Y\n",
    "for _ in range(3):\n",
    "    third_node_Y = third_node_Y.next \n",
    "last_node_X = X\n",
    "while last_node_X.next:\n",
    "    last_node_X = last_node_X.next \n",
    "last_node_X.next = Y\n",
    "single_node.print_list(X)\n",
    "single_node.print_list(Y)\n",
    "print(overlapping_cycles(X, Y).data)\n",
    "print(overlapping_cycles(Y, X).data)\n",
    "\n",
    "\n",
    "# add cycles\n",
    "print()\n",
    "X = single_node.push_list(reversed(range(5)))\n",
    "single_node.print_list(X)\n",
    "\n",
    "\n",
    "second_node = X.next  # pointer to second node\n",
    "\n",
    "# make pointer to last node\n",
    "last_node = X\n",
    "while last_node.next is not None:\n",
    "    last_node = last_node.next\n",
    "\n",
    "# assign last node's next to point to second node\n",
    "last_node.next = second_node\n",
    "\n",
    "# only one cycle\n",
    "print(overlapping_cycles(X, Y))\n",
    "\n",
    "# both have cycles\n",
    "last_y_node = Y\n",
    "while last_y_node.next is not None:\n",
    "    last_y_node = last_y_node.next\n",
    "last_y_node.next = X\n",
    "print(overlapping_cycles(X, Y).data)\n",
    "print(overlapping_cycles(Y, X).data)\n",
    "print(overlapping_cycles(X, X).data)"
   ]
  },
  {
   "cell_type": "markdown",
   "metadata": {},
   "source": [
    "### 7.6: Delete Node from a Singly Linked List"
   ]
  },
  {
   "cell_type": "code",
   "execution_count": 12,
   "metadata": {},
   "outputs": [],
   "source": [
    "def delete_node(node_to_delete: Node) -> None:\n",
    "\n",
    "    # node is not tail\n",
    "    if node_to_delete.next:\n",
    "        # essentially overwriting this memory address with successor node\n",
    "        node_to_delete.data = node_to_delete.next.data\n",
    "        node_to_delete.next = node_to_delete.next.next\n"
   ]
  },
  {
   "cell_type": "code",
   "execution_count": 13,
   "metadata": {},
   "outputs": [
    {
     "name": "stdout",
     "output_type": "stream",
     "text": [
      "0 1 2 3 4 5 6 7 8 9 \n",
      "2\n",
      "0 1 3 4 5 6 7 8 9 \n"
     ]
    }
   ],
   "source": [
    "X = single_node.push_list(reversed(range(10)))\n",
    "single_node.print_list(X)\n",
    "\n",
    "third_node = X\n",
    "for _ in range(2):\n",
    "    third_node = third_node.next \n",
    "print(third_node.data)\n",
    "delete_node(third_node)\n",
    "single_node.print_list(X)"
   ]
  },
  {
   "cell_type": "markdown",
   "metadata": {},
   "source": [
    "### 7.7: Delete Kth-Last Node"
   ]
  },
  {
   "cell_type": "code",
   "execution_count": 14,
   "metadata": {},
   "outputs": [
    {
     "name": "stdout",
     "output_type": "stream",
     "text": [
      "0 1 2 3 4 5 6 7 8 9 \n",
      "0 1 2 3 4 5 6 8 9 \n",
      "0 1 2 3 4 5 6 8 \n"
     ]
    }
   ],
   "source": [
    "def delete_kth_last(head: Node, k: int) -> None:\n",
    "\n",
    "    first = second = head\n",
    "\n",
    "    # move fast node k+1 times\n",
    "    for _ in range(k+1):\n",
    "        if first is None:\n",
    "            return \n",
    "        first = first.next \n",
    "\n",
    "    # when fast node finishes, slow node will be at K+1 last node\n",
    "    while first:\n",
    "        first = first.next \n",
    "        second = second.next \n",
    "\n",
    "    # delete next node\n",
    "    second.next = second.next.next\n",
    "\n",
    "\n",
    "X = single_node.push_list(reversed(range(10)))\n",
    "single_node.print_list(X)\n",
    "delete_kth_last(X, 3)\n",
    "single_node.print_list(X)\n",
    "delete_kth_last(X, 1)\n",
    "single_node.print_list(X)\n"
   ]
  },
  {
   "cell_type": "markdown",
   "metadata": {},
   "source": [
    "$O(n)$ time and $O(1)$ space complexity"
   ]
  },
  {
   "cell_type": "markdown",
   "metadata": {},
   "source": [
    "### 7.8: Delete Duplicates"
   ]
  },
  {
   "cell_type": "code",
   "execution_count": 15,
   "metadata": {},
   "outputs": [
    {
     "name": "stdout",
     "output_type": "stream",
     "text": [
      "4 5 6 6 6 7 8 \n",
      "4 5 6 7 8 \n",
      "1 1 1 1 1 1 4 5 6 6 6 7 8 8 8 \n",
      "1 4 5 6 7 8 \n"
     ]
    }
   ],
   "source": [
    "def delete_duplicates(head: Node) -> None:\n",
    "\n",
    "    # base case\n",
    "    if head is None:\n",
    "        return\n",
    "\n",
    "    first = second = head \n",
    "    first = first.next \n",
    "\n",
    "    while first:\n",
    "\n",
    "        # delete duplicate\n",
    "        if second.data == first.data:\n",
    "            # delete node at second and keep node first is pointing to\n",
    "            # dont have to worry about tail node\n",
    "            second.data = second.next.data  \n",
    "            second.next = second.next.next\n",
    "            first = first.next\n",
    "        else:\n",
    "            first = first.next\n",
    "            second = second.next \n",
    "\n",
    "X = single_node.push_list([8, 7, 6, 6, 6, 5, 4])\n",
    "single_node.print_list(X)\n",
    "delete_duplicates(X)\n",
    "single_node.print_list(X)\n",
    "\n",
    "X = single_node.push_list([8, 8, 8, 7, 6, 6, 6, 5, 4, 1, 1, 1, 1, 1, 1])\n",
    "single_node.print_list(X)\n",
    "delete_duplicates(X)\n",
    "single_node.print_list(X)"
   ]
  },
  {
   "cell_type": "markdown",
   "metadata": {},
   "source": [
    "### 7.9: Implement Cyclic Right Shift for Singly Linked Lists\n",
    "2 -> 3 -> 5 -> 3 -> 2       \n",
    "Shift of 3         \n",
    "5 -> 3 -> 2 -> 2 -> 3"
   ]
  },
  {
   "cell_type": "code",
   "execution_count": 16,
   "metadata": {},
   "outputs": [
    {
     "name": "stdout",
     "output_type": "stream",
     "text": [
      "0 1 2 3 4 \n",
      "2 3 4 0 1 \n",
      "1 2 3 4 0 \n"
     ]
    }
   ],
   "source": [
    "def right_cyclic_shift(head: Node, k: int) -> Optional[Node]:\n",
    "\n",
    "    if head is None:\n",
    "        return head \n",
    "\n",
    "    # compute length of list and get the tail\n",
    "    tail, n = head, 1\n",
    "    while tail.next:\n",
    "        n += 1\n",
    "        tail = tail.next\n",
    "    \n",
    "    # since k > n, shift is k % n\n",
    "    k %= n\n",
    "    if k == 0:\n",
    "        return head\n",
    "\n",
    "    # make a cycle by connecting tail to head \n",
    "    tail.next = head\n",
    "\n",
    "    # original head is to become the kth node from te start of the new list\n",
    "    # new head is the n-k node in initial list\n",
    "    steps_to_new_head, new_tail = n - k, tail \n",
    "    while steps_to_new_head:\n",
    "        steps_to_new_head -= 1\n",
    "        new_tail = new_tail.next\n",
    "\n",
    "    new_head = new_tail.next\n",
    "    new_tail.next = None\n",
    "\n",
    "    return new_head\n",
    "\n",
    "X = single_node.push_list(reversed(range(5)))\n",
    "single_node.print_list(X)\n",
    "X = right_cyclic_shift(X, 3)\n",
    "single_node.print_list(X)\n",
    "X = right_cyclic_shift(X, 1)\n",
    "single_node.print_list(X)\n"
   ]
  },
  {
   "cell_type": "markdown",
   "metadata": {},
   "source": [
    "$O(n)$ time and $O(1)$ space complexity"
   ]
  },
  {
   "cell_type": "markdown",
   "metadata": {},
   "source": [
    "### Even-Odd Merge Example\n",
    "Consider a singly linked list nodes are numbered starting at 0. Define the even-odd merge of the list to be the list consisting of the even-numbered nodes followed by the odd-number nodes.    \n",
    "$l_0$ --> $l_1$ --> $l_2$ --> $l_3$ --> $l_4$   \n",
    "$l_0$ --> $l_2$ --> $l_4$ --> $l_1$ --> $l_3$\n"
   ]
  },
  {
   "cell_type": "code",
   "execution_count": 25,
   "metadata": {},
   "outputs": [],
   "source": [
    "def even_odd_merge(head: Node) -> Optional[Node]:\n",
    "    \n",
    "    # base case\n",
    "    if head is None:\n",
    "        return head \n",
    "\n",
    "    even_dummy_head, odd_dummy_head = Node(0), Node(0)\n",
    "    tails, turn = [even_dummy_head, odd_dummy_head], 0\n",
    "\n",
    "    while head:\n",
    "        print('Turn:', turn)\n",
    "        try:\n",
    "            tail_next = tails[turn].next.data\n",
    "        except AttributeError:\n",
    "            tail_next = tails[turn].next\n",
    "        print(f'before: tail = {tails[turn].data}', f'tail.next = {tail_next}')\n",
    "\n",
    "        tails[turn].next = head \n",
    "        head = head.next \n",
    "        tails[turn] = tails[turn].next\n",
    "\n",
    "        try:\n",
    "            tail_next = tails[turn].next.data\n",
    "        except AttributeError:\n",
    "            tail_next = tails[turn].next\n",
    "        print(f'after: tail = {tails[turn].data}', f'tail.next = {tail_next}')\n",
    "\n",
    "        turn ^= 1\n",
    "        print()\n",
    "\n",
    "    tails[1].next = None \n",
    "    tails[0].next = odd_dummy_head.next\n",
    "    \n",
    "    return even_dummy_head.next "
   ]
  },
  {
   "cell_type": "markdown",
   "metadata": {},
   "source": [
    "$O(n)$ time and $O(1)$ space complexity"
   ]
  },
  {
   "cell_type": "code",
   "execution_count": 28,
   "metadata": {},
   "outputs": [
    {
     "name": "stdout",
     "output_type": "stream",
     "text": [
      "2 3 4 5 6 7 8 9 \n",
      "Turn: 0\n",
      "before: tail = 0 tail.next = None\n",
      "after: tail = 2 tail.next = 3\n",
      "\n",
      "Turn: 1\n",
      "before: tail = 0 tail.next = None\n",
      "after: tail = 3 tail.next = 4\n",
      "\n",
      "Turn: 0\n",
      "before: tail = 2 tail.next = 3\n",
      "after: tail = 4 tail.next = 5\n",
      "\n",
      "Turn: 1\n",
      "before: tail = 3 tail.next = 4\n",
      "after: tail = 5 tail.next = 6\n",
      "\n",
      "Turn: 0\n",
      "before: tail = 4 tail.next = 5\n",
      "after: tail = 6 tail.next = 7\n",
      "\n",
      "Turn: 1\n",
      "before: tail = 5 tail.next = 6\n",
      "after: tail = 7 tail.next = 8\n",
      "\n",
      "Turn: 0\n",
      "before: tail = 6 tail.next = 7\n",
      "after: tail = 8 tail.next = 9\n",
      "\n",
      "Turn: 1\n",
      "before: tail = 7 tail.next = 8\n",
      "after: tail = 9 tail.next = None\n",
      "\n",
      "2 4 6 8 3 5 7 9 \n"
     ]
    }
   ],
   "source": [
    "X = single_node.push_list(reversed(range(2, 10)))\n",
    "single_node.print_list(X)\n",
    "X = even_odd_merge(X)\n",
    "single_node.print_list(X)"
   ]
  },
  {
   "cell_type": "markdown",
   "metadata": {},
   "source": [
    "### Is List a Palindrome"
   ]
  },
  {
   "cell_type": "code",
   "execution_count": 57,
   "metadata": {},
   "outputs": [],
   "source": [
    "def is_list_palindrome(head: Node) -> bool:\n",
    "    def reverse_list(head: Node) -> Node:\n",
    "        prev = None\n",
    "        while head:\n",
    "            next = head.next\n",
    "            head.next = prev \n",
    "            prev = head \n",
    "            head = next \n",
    "\n",
    "        return prev\n",
    "\n",
    "    # find second half of list\n",
    "    # cut processing time in half by not calculating lenght of list, then find second halp\n",
    "    slow = fast = head \n",
    "\n",
    "    while fast and fast.next:\n",
    "        slow = slow.next \n",
    "        fast = fast.next.next \n",
    "\n",
    "    # now slow separates halves \n",
    "    first_half_iter, second_half_iter = head, reverse_list(slow)\n",
    "    \n",
    "    # check if first half and reversed second half are equal\n",
    "    # note: if odd, second_iter_half will have one extra node; on the final interation will, point to each other\n",
    "    while first_half_iter and second_half_iter:\n",
    "        if first_half_iter.data != second_half_iter.data:\n",
    "            return False\n",
    "        first_half_iter, second_half_iter = first_half_iter.next, second_half_iter.next \n",
    "    \n",
    "    return True\n",
    "\n",
    "    "
   ]
  },
  {
   "cell_type": "markdown",
   "metadata": {},
   "source": [
    "$O(n)$ time and $O(1)$ space complexity"
   ]
  },
  {
   "cell_type": "code",
   "execution_count": 58,
   "metadata": {},
   "outputs": [],
   "source": [
    "def run_tests_list(f, inputs, outputs):\n",
    "\n",
    "    inputs = map(single_node.push_list, inputs)\n",
    "    run_tests(f, inputs, outputs)\n",
    "\n",
    "inputs, outputs = (('a', 'b', 'b', 'a'),  ('a', 'b', 'c', 'b', 'a'), ('c', 'a', 't')), (True, True, False)\n",
    "run_tests_list(is_list_palindrome, inputs, outputs)\n"
   ]
  }
 ],
 "metadata": {
  "kernelspec": {
   "display_name": "Python 3.10.6 ('data-structures-algorithms')",
   "language": "python",
   "name": "python3"
  },
  "language_info": {
   "codemirror_mode": {
    "name": "ipython",
    "version": 3
   },
   "file_extension": ".py",
   "mimetype": "text/x-python",
   "name": "python",
   "nbconvert_exporter": "python",
   "pygments_lexer": "ipython3",
   "version": "3.10.6"
  },
  "orig_nbformat": 4,
  "vscode": {
   "interpreter": {
    "hash": "893eabf024544e5e4ccd37f92d923a15afaa2331429d096efe9b57dc3359fd4e"
   }
  }
 },
 "nbformat": 4,
 "nbformat_minor": 2
}
