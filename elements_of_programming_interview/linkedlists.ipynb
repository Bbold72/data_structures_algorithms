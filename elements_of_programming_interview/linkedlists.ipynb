{
 "cells": [
  {
   "cell_type": "markdown",
   "metadata": {},
   "source": [
    "# Linked Lists"
   ]
  },
  {
   "cell_type": "code",
   "execution_count": 1,
   "metadata": {},
   "outputs": [],
   "source": [
    "from typing import Optional\n",
    "from data_structures.linked_lists import single_node\n",
    "from data_structures.linked_lists.single_node import Node"
   ]
  },
  {
   "cell_type": "markdown",
   "metadata": {},
   "source": [
    "### 7.1: Merge Two Sorted Lists"
   ]
  },
  {
   "cell_type": "code",
   "execution_count": 2,
   "metadata": {},
   "outputs": [
    {
     "name": "stdout",
     "output_type": "stream",
     "text": [
      "2 5 7 \n",
      "3 11 \n",
      "2 3 5 7 11 \n"
     ]
    }
   ],
   "source": [
    "def merge_lists(L1: Node, L2: Node) -> Node:\n",
    "\n",
    "    dummy_head = tail = Node(0) \n",
    "\n",
    "    while L1 and L2:\n",
    "        if L1.data <= L2.data:\n",
    "            tail.next, L1 = L1, L1.next\n",
    "        else:\n",
    "            tail.next, L2 = L2, L2.next\n",
    "        tail = tail.next\n",
    "\n",
    "    # append remeaing nodes of L1 or L2\n",
    "    tail.next = L1 or L2\n",
    "\n",
    "    return dummy_head.next\n",
    "\n",
    "x = single_node.push_list([7, 5, 2])\n",
    "y = single_node.push_list([11, 3])\n",
    "single_node.print_list(x)\n",
    "single_node.print_list(y)\n",
    "merge_ll = merge_lists(x, y)\n",
    "single_node.print_list(merge_ll)"
   ]
  },
  {
   "cell_type": "markdown",
   "metadata": {},
   "source": [
    "#### Reverse a List"
   ]
  },
  {
   "cell_type": "code",
   "execution_count": 3,
   "metadata": {},
   "outputs": [
    {
     "name": "stdout",
     "output_type": "stream",
     "text": [
      "0 1 2 3 4 5 6 7 8 9 \n",
      "9 8 7 6 5 4 3 2 1 0 \n"
     ]
    }
   ],
   "source": [
    "def reverse_list(LL: Node) -> Optional[Node]:\n",
    "\n",
    "    prev = None\n",
    "\n",
    "    while LL:\n",
    "        next = LL.next  # get next node\n",
    "        LL.next = prev  # flip pointer\n",
    "        prev = LL       # set current node to previous\n",
    "        LL = next       # move to next node\n",
    "    return prev\n",
    "\n",
    "X = single_node.push_list(reversed(range(10)))\n",
    "single_node.print_list(X)\n",
    "rev_X = reverse_list(X)\n",
    "single_node.print_list(rev_X)\n"
   ]
  },
  {
   "cell_type": "markdown",
   "metadata": {},
   "source": [
    "### 7.2: Reverse a Single Sublist\n",
    "Reverse nodes in a linked list from integers *s* to *f* inclusive"
   ]
  },
  {
   "cell_type": "code",
   "execution_count": 4,
   "metadata": {},
   "outputs": [
    {
     "name": "stdout",
     "output_type": "stream",
     "text": [
      "0 1 2 3 4 5 6 7 8 9 \n",
      "0 1 7 6 5 4 3 2 8 9 \n"
     ]
    }
   ],
   "source": [
    "def reverse_sublist(LL: Node, start: int, finish: int) -> Node:\n",
    "\n",
    "    dummy_head = sublist_head = Node(0, LL)\n",
    "\n",
    "    for _ in range(1, start):\n",
    "        sublist_head = sublist_head.next\n",
    "\n",
    "    sublist_iter = sublist_head.next\n",
    "    for _ in range(finish - start):\n",
    "        temp = sublist_iter.next\n",
    "        sublist_iter.next, temp.next, sublist_head.next = temp.next, sublist_head.next, temp\n",
    "            \n",
    "    return dummy_head.next\n",
    "\n",
    "X = single_node.push_list(reversed(range(10)))\n",
    "single_node.print_list(X)\n",
    "rev_X = reverse_sublist(X,start=3, finish=8)\n",
    "single_node.print_list(rev_X)\n"
   ]
  },
  {
   "cell_type": "code",
   "execution_count": 21,
   "metadata": {},
   "outputs": [
    {
     "name": "stdout",
     "output_type": "stream",
     "text": [
      "0 1 2 3 4 5 6 7 8 9 \n",
      "0 1 7 6 5 4 3 2 8 9 \n",
      "\n",
      "0 1 2 3 4 5 6 7 8 9 \n",
      "3 2 1 0 4 5 6 7 8 9 \n",
      "\n",
      "0 1 2 3 4 5 6 7 8 9 \n",
      "0 1 2 3 4 9 8 7 6 5 \n"
     ]
    }
   ],
   "source": [
    "def reverse_sublist(head: Node, start: int, finish: int) -> Node:\n",
    "\n",
    "    # base case\n",
    "    if start > finish:\n",
    "        return head\n",
    "\n",
    "    current = head\n",
    "\n",
    "    prev = None\n",
    "\n",
    "    # skip nodes before start\n",
    "    i = 1\n",
    "    while current is not None and i < start:\n",
    "        prev = current\n",
    "        current = current.next\n",
    "        i += 1\n",
    "\n",
    "    # current pointing to node at start of sublist\n",
    "    # prev pointing to node before start of sublist\n",
    "\n",
    "    # print('current:', current.data)\n",
    "    # print('prev:', prev.data)\n",
    "\n",
    "    # traverse and reverse sublist from start to finish\n",
    "    sublist_start = current\n",
    "    sublist_end = None\n",
    "    while current is not None and i <= finish:\n",
    "\n",
    "        # get next node\n",
    "        next = current.next\n",
    "\n",
    "        # move current node on to end of sublist\n",
    "        current.next = sublist_end \n",
    "        sublist_end = current \n",
    "\n",
    "        # iterate\n",
    "        current = next \n",
    "        i += 1\n",
    "\n",
    "    # sublist_start points to start of sublist \n",
    "    # sublist_end points to end of sublist\n",
    "    # Note: sublist is reversed\n",
    "    # current points to finish + 1 node\n",
    "\n",
    "    # print('sublist start:', sublist_start.data)\n",
    "    # print('sublist end:', sublist_end.data)\n",
    "    # print('current:', current.data)\n",
    "\n",
    "    # fix pointers\n",
    "    if sublist_start:\n",
    "        # attach rest of list to reversed start of sublist\n",
    "        sublist_start.next = current\n",
    "        if prev is None:        \n",
    "            head = sublist_end        # when start = 1, prev is None\n",
    "        else:\n",
    "            # have node before start of sublist point to reversed end of sublist\n",
    "            prev.next = sublist_end\n",
    "\n",
    "    return head\n",
    "\n",
    "X = single_node.push_list(reversed(range(10)))\n",
    "single_node.print_list(X)\n",
    "rev_X = reverse_sublist(X, start=3, finish=8)\n",
    "single_node.print_list(rev_X)\n",
    "print()\n",
    "X = single_node.push_list(reversed(range(10)))\n",
    "single_node.print_list(X)\n",
    "rev_X = reverse_sublist(X, start=1, finish=4)\n",
    "single_node.print_list(rev_X)\n",
    "print()\n",
    "X = single_node.push_list(reversed(range(10)))\n",
    "single_node.print_list(X)\n",
    "rev_X = reverse_sublist(X, start=6, finish=10)\n",
    "single_node.print_list(rev_X)"
   ]
  },
  {
   "cell_type": "markdown",
   "metadata": {},
   "source": [
    "$O(n)$ time and $O(1)$ space complexity"
   ]
  },
  {
   "cell_type": "markdown",
   "metadata": {},
   "source": [
    "### Check for Cycle in List\n",
    "Using fast and slow pointer works in linear time because when fast pointer jumps over slow pointer, will meet at next iteration"
   ]
  },
  {
   "cell_type": "code",
   "execution_count": 30,
   "metadata": {},
   "outputs": [
    {
     "name": "stdout",
     "output_type": "stream",
     "text": [
      "0 1 2 3 4 \n",
      "False\n",
      "True\n"
     ]
    }
   ],
   "source": [
    "def has_cycle(head: Node) -> bool:\n",
    "\n",
    "    # base case \n",
    "    if head is None:\n",
    "        return False\n",
    "\n",
    "    # create a slow and fast pointer\n",
    "    slow = fast = head \n",
    "\n",
    "    while fast and fast.next:\n",
    "        slow, fast = slow.next, fast.next.next\n",
    "        if fast is slow:\n",
    "            return True \n",
    "\n",
    "    return False\n",
    "\n",
    "\n",
    "X = single_node.push_list(reversed(range(5)))\n",
    "single_node.print_list(X)\n",
    "print(has_cycle(X))\n",
    "\n",
    "\n",
    "second_node = X.next  # pointer to second node\n",
    "\n",
    "# make pointer to last node\n",
    "last_node = X\n",
    "while last_node.next is not None:\n",
    "    last_node = last_node.next\n",
    "\n",
    "# assign last node's next to point to second node\n",
    "last_node.next = second_node\n",
    "\n",
    "print(has_cycle(X))"
   ]
  },
  {
   "cell_type": "markdown",
   "metadata": {},
   "source": [
    "$O(n)$ time and $O(1)$ space complexity"
   ]
  },
  {
   "cell_type": "markdown",
   "metadata": {},
   "source": [
    "### 7.3: Test for Cyclicty\n",
    "If list has a cycle, return node at start of cycle"
   ]
  },
  {
   "cell_type": "code",
   "execution_count": 34,
   "metadata": {},
   "outputs": [
    {
     "name": "stdout",
     "output_type": "stream",
     "text": [
      "0 1 2 3 4 \n",
      "None\n",
      "1\n"
     ]
    }
   ],
   "source": [
    "def has_cycle_len(head: Node) -> Optional[Node]:\n",
    "\n",
    "    def cycle_len(start: Node) -> int:\n",
    "        end, step = start, 0\n",
    "\n",
    "        while True:\n",
    "            step += 1\n",
    "            start = start.next\n",
    "            if start is end:\n",
    "                return step\n",
    "\n",
    "    # base case \n",
    "    if head is None:\n",
    "        return None\n",
    "\n",
    "    # create a slow and fast pointer\n",
    "    slow = fast = head \n",
    "\n",
    "    while fast and fast.next:\n",
    "        slow, fast = slow.next, fast.next.next\n",
    "\n",
    "        # found cycle\n",
    "        if fast is slow:\n",
    "            \n",
    "            # advance iterator lenght of cycle ahead of head\n",
    "            cycle_size = cycle_len(slow)\n",
    "            cycle_len_advanced_iter = head \n",
    "            for _ in range(cycle_size):\n",
    "                cycle_len_advanced_iter = cycle_len_advanced_iter.next\n",
    "\n",
    "            # when meet that the beginning of the cycle\n",
    "            it = head \n",
    "            while it is not cycle_len_advanced_iter:\n",
    "                it = it.next \n",
    "                cycle_len_advanced_iter = cycle_len_advanced_iter.next \n",
    "            return it\n",
    "\n",
    "    return None\n",
    "\n",
    "\n",
    "X = single_node.push_list(reversed(range(5)))\n",
    "single_node.print_list(X)\n",
    "print(has_cycle_len(X))\n",
    "\n",
    "\n",
    "second_node = X.next  # pointer to second node\n",
    "\n",
    "# make pointer to last node\n",
    "last_node = X\n",
    "while last_node.next is not None:\n",
    "    last_node = last_node.next\n",
    "\n",
    "# assign last node's next to point to second node\n",
    "last_node.next = second_node\n",
    "\n",
    "print(has_cycle_len(X).data)"
   ]
  },
  {
   "cell_type": "markdown",
   "metadata": {},
   "source": [
    "Let $F$ be the number of nodes to start of the cycle, $C$ the number of nodes on the cycle, and $n$ the total number of nodes. Then the time complexity is $O(F) + O(C) = O(n) - O(F)$"
   ]
  }
 ],
 "metadata": {
  "kernelspec": {
   "display_name": "Python 3.10.6 ('data-structures-algorithms')",
   "language": "python",
   "name": "python3"
  },
  "language_info": {
   "codemirror_mode": {
    "name": "ipython",
    "version": 3
   },
   "file_extension": ".py",
   "mimetype": "text/x-python",
   "name": "python",
   "nbconvert_exporter": "python",
   "pygments_lexer": "ipython3",
   "version": "3.10.6"
  },
  "orig_nbformat": 4,
  "vscode": {
   "interpreter": {
    "hash": "893eabf024544e5e4ccd37f92d923a15afaa2331429d096efe9b57dc3359fd4e"
   }
  }
 },
 "nbformat": 4,
 "nbformat_minor": 2
}
