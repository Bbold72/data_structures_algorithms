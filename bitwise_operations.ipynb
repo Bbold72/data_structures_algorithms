{
 "cells": [
  {
   "cell_type": "markdown",
   "metadata": {},
   "source": [
    "# Bitwise Operations"
   ]
  },
  {
   "cell_type": "code",
   "execution_count": 41,
   "metadata": {},
   "outputs": [],
   "source": [
    "from typing import Tuple\n",
    "a = 10    # 1010\n",
    "b = 13    # 1101"
   ]
  },
  {
   "cell_type": "markdown",
   "metadata": {},
   "source": [
    "### AND: &\n",
    "If both bits 1, then 1; else 0"
   ]
  },
  {
   "cell_type": "code",
   "execution_count": 4,
   "metadata": {},
   "outputs": [
    {
     "name": "stdout",
     "output_type": "stream",
     "text": [
      "1 0 1 0\n",
      "1 1 0 1\n",
      "1 0 0 0 = 8\n",
      "\n",
      "AND: a & b = 8\n",
      "a | b = 15\n",
      "~a = -11\n",
      "a ^ b = 7\n"
     ]
    }
   ],
   "source": [
    "# Example:\n",
    "# 1 0 1 0 = 10\n",
    "# 1 1 0 1 = 13\n",
    "\n",
    "# 1 0 0 0 = 8\n",
    "print('1 0 1 0\\n1 1 0 1\\n1 0 0 0 = 8\\n')\n",
    "print(\"AND: a & b =\", a & b) \n",
    "# print bitwise XOR operation\n",
    "print(\"a ^ b =\", a ^ b)"
   ]
  },
  {
   "cell_type": "markdown",
   "metadata": {},
   "source": [
    "### OR: |\n",
    "If both bits 0, then 0; else 1"
   ]
  },
  {
   "cell_type": "code",
   "execution_count": 5,
   "metadata": {},
   "outputs": [
    {
     "name": "stdout",
     "output_type": "stream",
     "text": [
      "1 0 1 0\n",
      "1 1 0 1\n",
      "1 1 1 1 = 15\n",
      "\n",
      "a | b = 15\n"
     ]
    }
   ],
   "source": [
    "# Example:\n",
    "# 1 0 1 0 = 10\n",
    "# 1 1 0 1 = 13\n",
    "\n",
    "# 1 1 1 1 = 15\n",
    "print('1 0 1 0\\n1 1 0 1\\n1 1 1 1 = 15\\n')\n",
    "print(\"OR: a | b =\", a | b)"
   ]
  },
  {
   "cell_type": "markdown",
   "metadata": {},
   "source": [
    "### NOT: ~\n",
    "One's Complement"
   ]
  },
  {
   "cell_type": "code",
   "execution_count": 9,
   "metadata": {},
   "outputs": [
    {
     "name": "stdout",
     "output_type": "stream",
     "text": [
      "1 0 1 0 = 10\n",
      "-(1 0 1 0 + 1)\n",
      " -1 0 1 1 = -11\n",
      "NOT: ~a = -11\n",
      "\n",
      "1 1 0 1 = 13\n",
      "-(1 1 0 1 + 1)\n",
      " -1 1 1 0 = -14\n",
      "NOT: ~b = -14\n"
     ]
    }
   ],
   "source": [
    "# Example:\n",
    "# 1 0 1 0 = 10\n",
    "# -(1 0 1 0 + 1)\n",
    "# - 1 0 1 1 = -11\n",
    "# 1 1 0 1 = 13 --> 0 0 1 0 = 2\n",
    "print('1 0 1 0 = 10\\n-(1 0 1 0 + 1)\\n -1 0 1 1 = -11')\n",
    "print(\"NOT: ~a =\", ~a)\n",
    "\n",
    "# Example:\n",
    "# 1 1 0 1 = 13\n",
    "# -(1 1 0 1 + 1)\n",
    "# -1 1 1 0 = -14\n",
    "print('\\n1 1 0 1 = 13\\n-(1 1 0 1 + 1)\\n -1 1 1 0 = -14')\n",
    "print(\"NOT: ~b =\", ~b)\n",
    " "
   ]
  },
  {
   "cell_type": "markdown",
   "metadata": {},
   "source": [
    "### XOR: ^\n",
    "If both bits in the compared position are 0 or 1, then 0; else 1\n"
   ]
  },
  {
   "cell_type": "code",
   "execution_count": 11,
   "metadata": {},
   "outputs": [
    {
     "name": "stdout",
     "output_type": "stream",
     "text": [
      "1 0 1 0\n",
      "1 1 0 1\n",
      "0 1 1 1 = 7\n",
      "\n",
      "a ^ b = 7\n"
     ]
    }
   ],
   "source": [
    "# Example:\n",
    "# 1 0 1 0 = 10\n",
    "# 1 1 0 1 = 13\n",
    "\n",
    "# 0 1 1 1 = 7\n",
    "print('1 0 1 0\\n1 1 0 1\\n0 1 1 1 = 7\\n')\n",
    "print(\"a ^ b =\", a ^ b)"
   ]
  },
  {
   "cell_type": "markdown",
   "metadata": {},
   "source": [
    "### Left Shift: <<\n",
    "Shifts bits to the left and appends 0 at the end.    \n",
    "Equivalent to multiplying by 2^k  if shifting by k bits"
   ]
  },
  {
   "cell_type": "code",
   "execution_count": 19,
   "metadata": {},
   "outputs": [
    {
     "name": "stdout",
     "output_type": "stream",
     "text": [
      "1 0 1 0 = 10 >> 1 --> 1 0 1 0 0 = 20\n",
      "a << 1 = 20\n",
      "\n",
      "1 1 0 1 = 13 << 1 --> 1 1 0 1 0 = 26\n",
      "b << 1 = 26\n",
      "\n",
      "13 << 3 --> 13 * 2^3 = 104\n",
      "b << 1 = 104\n"
     ]
    }
   ],
   "source": [
    "# Example:\n",
    "# 1 0 1 0 = 10 << 1 --> 1 0 1 0 0 = 20\n",
    "print('1 0 1 0 = 10 >> 1 --> 1 0 1 0 0 = 20')\n",
    "print(\"a << 1 =\", a << 1)\n",
    "\n",
    "# 1 1 0 1 = 13 << 1 --> 1 1 0 1 0 = 26\n",
    "print('\\n1 1 0 1 = 13 << 1 --> 1 1 0 1 0 = 26')\n",
    "print(\"b << 1 =\", b << 1)\n",
    "\n",
    "print('\\n13 << 3 --> 13 * 2^3 = 104')\n",
    "print(\"b << 3 =\", b << 3)"
   ]
  },
  {
   "cell_type": "markdown",
   "metadata": {},
   "source": [
    "# Right Shift >>\n",
    "Shifts bits to the right and appends 0 at the front (fills 1 in case of negative number).   \n",
    "Equivalent to dividing by 2k if shifting by k bits"
   ]
  },
  {
   "cell_type": "code",
   "execution_count": 21,
   "metadata": {},
   "outputs": [
    {
     "name": "stdout",
     "output_type": "stream",
     "text": [
      "1 0 1 0 = 10 >> 1 --> 0 1 0 1 = 5\n",
      "a >> 1 = 5\n",
      "\n",
      "1 1 0 1 = 13 >> 1 --> 1 1 0 1 0 = 26\n",
      "b >> 1 = 6\n",
      "\n",
      "13 >> 2 --> 13 * 2^2 = 3\n",
      "b >> 2 = 3\n"
     ]
    }
   ],
   "source": [
    "# Example:\n",
    "# 1 0 1 0 = 10 >> 1 --> 0 1 0 1 = 5\n",
    "print('1 0 1 0 = 10 >> 1 --> 0 1 0 1 = 5')\n",
    "print(\"a >> 1 =\", a >> 1)\n",
    "\n",
    "# 1 1 0 1 = 13 >> 1 --> 0 1 1 0 = 6\n",
    "print('\\n1 1 0 1 = 13 >> 1 --> 1 1 0 1 0 = 26')\n",
    "print(\"b >> 1 =\", b >> 1)\n",
    "\n",
    "print('\\n13 >> 2 --> 13 / 2^2 = 3')\n",
    "print(\"b >> 2 =\", b >> 2)"
   ]
  },
  {
   "cell_type": "markdown",
   "metadata": {},
   "source": [
    "## Count Bits\n",
    "Count number of bits that are 1  \n",
    "Page 25"
   ]
  },
  {
   "cell_type": "code",
   "execution_count": 54,
   "metadata": {},
   "outputs": [],
   "source": [
    "def count_bits(x: int) -> int:\n",
    "    '''\n",
    "    count number of bits that are 1\n",
    "    '''\n",
    "    num_bits = 0\n",
    "\n",
    "    while x:\n",
    "        # compare last bit with 1 \n",
    "        # if last bit is 1, adds 1 to count\n",
    "        # if last bit is 0, add 0 to count\n",
    "        num_bits += x & 1   \n",
    "        x >>= 1          # shift to right once\n",
    "\n",
    "    return num_bits\n",
    "\n",
    "# 10    1 0 1 0\n",
    "# 13    1 1 0 1\n",
    "# 1     0 0 0 1\n",
    "# 0     0 0 0 0\n",
    "# 4     0 1 0 0\n",
    "# 5     0 1 0 1\n",
    "\n",
    "def run_tests(f, inputs: Tuple, answers: Tuple):\n",
    "    for input, ans in zip(inputs, answers):\n",
    "        assert f(input) == ans   \n",
    "\n",
    "inputs, answers = (10, 13, 1, 0, 4, 5), (2, 3, 1, 0, 1, 2)\n",
    "run_tests(count_bits, inputs, answers)"
   ]
  },
  {
   "cell_type": "markdown",
   "metadata": {},
   "source": [
    "O(n) time complexity"
   ]
  },
  {
   "cell_type": "markdown",
   "metadata": {},
   "source": [
    "## Parity\n",
    "Parity of a word is 1 if number of bits is odd. Else 0"
   ]
  },
  {
   "cell_type": "code",
   "execution_count": 55,
   "metadata": {},
   "outputs": [],
   "source": [
    "def parity(x: int) -> int:\n",
    "    result = 0\n",
    "\n",
    "    while x:\n",
    "        # only count if last bit 1\n",
    "        # XOR:\n",
    "        # - if even number of bits (0) will return 1\n",
    "        # - if odd number of bits (1) will return 0\n",
    "        result ^= x & 1    \n",
    "        x >>= 1     # shift bits one to the right\n",
    "    return result\n",
    "\n",
    "answers = (0, 1, 1, 0, 1, 0)\n",
    "run_tests(parity, inputs, answers)"
   ]
  },
  {
   "cell_type": "markdown",
   "metadata": {},
   "source": [
    "O(n) run time"
   ]
  },
  {
   "cell_type": "markdown",
   "metadata": {},
   "source": [
    "### Bit Trick\n",
    "x & (x-1) = x with its lowest set bit dropped"
   ]
  },
  {
   "cell_type": "code",
   "execution_count": 50,
   "metadata": {},
   "outputs": [
    {
     "name": "stdout",
     "output_type": "stream",
     "text": [
      "8\n",
      "14\n"
     ]
    }
   ],
   "source": [
    "# 10:    1 0 1 0\n",
    "# 9:     1 0 0 1\n",
    "# 8:     1 0 0 0\n",
    "x = 10    \n",
    "print(x & (x-1))\n",
    "\n",
    "\n",
    "# 15:    1 1 1 1\n",
    "# 14:    1 1 1 0\n",
    "# 14:    1 1 1 0\n",
    "x = 15   \n",
    "print(x & (x-1))"
   ]
  },
  {
   "cell_type": "markdown",
   "metadata": {},
   "source": [
    "can improve results by using trick to drop last set bit"
   ]
  },
  {
   "cell_type": "code",
   "execution_count": 57,
   "metadata": {},
   "outputs": [],
   "source": [
    "def parity(x: int) -> int:\n",
    "    result = 0         # intialize to even count\n",
    "    while x:\n",
    "        result ^= 1    # flips whether even or odd count\n",
    "        x &= (x-1)     # drop last bit\n",
    "    return result\n",
    "\n",
    "run_tests(parity, inputs, answers)"
   ]
  },
  {
   "cell_type": "markdown",
   "metadata": {},
   "source": [
    "O(k) runtime where k is number of bits"
   ]
  }
 ],
 "metadata": {
  "kernelspec": {
   "display_name": "Python 3.6.13 ('survtrace')",
   "language": "python",
   "name": "python3"
  },
  "language_info": {
   "codemirror_mode": {
    "name": "ipython",
    "version": 3
   },
   "file_extension": ".py",
   "mimetype": "text/x-python",
   "name": "python",
   "nbconvert_exporter": "python",
   "pygments_lexer": "ipython3",
   "version": "3.6.13"
  },
  "orig_nbformat": 4,
  "vscode": {
   "interpreter": {
    "hash": "7350660d3aac55fe8c4b8dcc925e909d6449502b265d5ee80d6d6f39ced54ac7"
   }
  }
 },
 "nbformat": 4,
 "nbformat_minor": 2
}
