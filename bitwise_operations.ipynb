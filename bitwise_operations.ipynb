{
 "cells": [
  {
   "cell_type": "markdown",
   "metadata": {},
   "source": [
    "# Bitwise Operations"
   ]
  },
  {
   "cell_type": "code",
   "execution_count": 2,
   "metadata": {},
   "outputs": [],
   "source": [
    "from typing import Tuple\n",
    "import random\n",
    "import math\n",
    "a = 10    # 1010\n",
    "b = 13    # 1101"
   ]
  },
  {
   "cell_type": "markdown",
   "metadata": {},
   "source": [
    "### AND: &\n",
    "If both bits 1, then 1; else 0"
   ]
  },
  {
   "cell_type": "code",
   "execution_count": 3,
   "metadata": {},
   "outputs": [
    {
     "name": "stdout",
     "output_type": "stream",
     "text": [
      "1 0 1 0\n",
      "1 1 0 1\n",
      "1 0 0 0 = 8\n",
      "\n",
      "AND: a & b = 8\n",
      "a ^ b = 7\n"
     ]
    }
   ],
   "source": [
    "# Example:\n",
    "# 1 0 1 0 = 10\n",
    "# 1 1 0 1 = 13\n",
    "\n",
    "# 1 0 0 0 = 8\n",
    "print('1 0 1 0\\n1 1 0 1\\n1 0 0 0 = 8\\n')\n",
    "print(\"AND: a & b =\", a & b) \n",
    "# print bitwise XOR operation\n",
    "print(\"a ^ b =\", a ^ b)"
   ]
  },
  {
   "cell_type": "markdown",
   "metadata": {},
   "source": [
    "### OR: |\n",
    "If both bits 0, then 0; else 1"
   ]
  },
  {
   "cell_type": "code",
   "execution_count": 4,
   "metadata": {},
   "outputs": [
    {
     "name": "stdout",
     "output_type": "stream",
     "text": [
      "1 0 1 0\n",
      "1 1 0 1\n",
      "1 1 1 1 = 15\n",
      "\n",
      "OR: a | b = 15\n"
     ]
    }
   ],
   "source": [
    "# Example:\n",
    "# 1 0 1 0 = 10\n",
    "# 1 1 0 1 = 13\n",
    "\n",
    "# 1 1 1 1 = 15\n",
    "print('1 0 1 0\\n1 1 0 1\\n1 1 1 1 = 15\\n')\n",
    "print(\"OR: a | b =\", a | b)"
   ]
  },
  {
   "cell_type": "markdown",
   "metadata": {},
   "source": [
    "### NOT: ~\n",
    "One's Complement"
   ]
  },
  {
   "cell_type": "code",
   "execution_count": 5,
   "metadata": {},
   "outputs": [
    {
     "name": "stdout",
     "output_type": "stream",
     "text": [
      "1 0 1 0 = 10\n",
      "-(1 0 1 0 + 1)\n",
      " -1 0 1 1 = -11\n",
      "NOT: ~a = -11\n",
      "\n",
      "1 1 0 1 = 13\n",
      "-(1 1 0 1 + 1)\n",
      " -1 1 1 0 = -14\n",
      "NOT: ~b = -14\n"
     ]
    }
   ],
   "source": [
    "# Example:\n",
    "# 1 0 1 0 = 10\n",
    "# -(1 0 1 0 + 1)\n",
    "# - 1 0 1 1 = -11\n",
    "# 1 1 0 1 = 13 --> 0 0 1 0 = 2\n",
    "print('1 0 1 0 = 10\\n-(1 0 1 0 + 1)\\n -1 0 1 1 = -11')\n",
    "print(\"NOT: ~a =\", ~a)\n",
    "\n",
    "# Example:\n",
    "# 1 1 0 1 = 13\n",
    "# -(1 1 0 1 + 1)\n",
    "# -1 1 1 0 = -14\n",
    "print('\\n1 1 0 1 = 13\\n-(1 1 0 1 + 1)\\n -1 1 1 0 = -14')\n",
    "print(\"NOT: ~b =\", ~b)\n",
    " "
   ]
  },
  {
   "cell_type": "markdown",
   "metadata": {},
   "source": [
    "### XOR: ^\n",
    "If both bits in the compared position are 0 or 1, then 0; else 1\n"
   ]
  },
  {
   "cell_type": "code",
   "execution_count": 6,
   "metadata": {},
   "outputs": [
    {
     "name": "stdout",
     "output_type": "stream",
     "text": [
      "1 0 1 0\n",
      "1 1 0 1\n",
      "0 1 1 1 = 7\n",
      "\n",
      "a ^ b = 7\n"
     ]
    }
   ],
   "source": [
    "# Example:\n",
    "# 1 0 1 0 = 10\n",
    "# 1 1 0 1 = 13\n",
    "\n",
    "# 0 1 1 1 = 7\n",
    "print('1 0 1 0\\n1 1 0 1\\n0 1 1 1 = 7\\n')\n",
    "print(\"a ^ b =\", a ^ b)"
   ]
  },
  {
   "cell_type": "markdown",
   "metadata": {},
   "source": [
    "### Left Shift: <<\n",
    "Shifts bits to the left and appends 0 at the end.    \n",
    "Equivalent to multiplying by 2^k  if shifting by k bits"
   ]
  },
  {
   "cell_type": "code",
   "execution_count": 7,
   "metadata": {},
   "outputs": [
    {
     "name": "stdout",
     "output_type": "stream",
     "text": [
      "1 0 1 0 = 10 >> 1 --> 1 0 1 0 0 = 20\n",
      "a << 1 = 20\n",
      "\n",
      "1 1 0 1 = 13 << 1 --> 1 1 0 1 0 = 26\n",
      "b << 1 = 26\n",
      "\n",
      "13 << 3 --> 13 * 2^3 = 104\n",
      "b << 3 = 104\n"
     ]
    }
   ],
   "source": [
    "# Example:\n",
    "# 1 0 1 0 = 10 << 1 --> 1 0 1 0 0 = 20\n",
    "print('1 0 1 0 = 10 >> 1 --> 1 0 1 0 0 = 20')\n",
    "print(\"a << 1 =\", a << 1)\n",
    "\n",
    "# 1 1 0 1 = 13 << 1 --> 1 1 0 1 0 = 26\n",
    "print('\\n1 1 0 1 = 13 << 1 --> 1 1 0 1 0 = 26')\n",
    "print(\"b << 1 =\", b << 1)\n",
    "\n",
    "print('\\n13 << 3 --> 13 * 2^3 = 104')\n",
    "print(\"b << 3 =\", b << 3)"
   ]
  },
  {
   "cell_type": "markdown",
   "metadata": {},
   "source": [
    "# Right Shift >>\n",
    "Shifts bits to the right and appends 0 at the front (fills 1 in case of negative number).   \n",
    "Equivalent to dividing by 2k if shifting by k bits"
   ]
  },
  {
   "cell_type": "code",
   "execution_count": 8,
   "metadata": {},
   "outputs": [
    {
     "name": "stdout",
     "output_type": "stream",
     "text": [
      "1 0 1 0 = 10 >> 1 --> 0 1 0 1 = 5\n",
      "a >> 1 = 5\n",
      "\n",
      "1 1 0 1 = 13 >> 1 --> 1 1 0 1 0 = 26\n",
      "b >> 1 = 6\n",
      "\n",
      "13 >> 2 --> 13 / 2^2 = 3\n",
      "b >> 2 = 3\n"
     ]
    }
   ],
   "source": [
    "# Example:\n",
    "# 1 0 1 0 = 10 >> 1 --> 0 1 0 1 = 5\n",
    "print('1 0 1 0 = 10 >> 1 --> 0 1 0 1 = 5')\n",
    "print(\"a >> 1 =\", a >> 1)\n",
    "\n",
    "# 1 1 0 1 = 13 >> 1 --> 0 1 1 0 = 6\n",
    "print('\\n1 1 0 1 = 13 >> 1 --> 1 1 0 1 0 = 26')\n",
    "print(\"b >> 1 =\", b >> 1)\n",
    "\n",
    "print('\\n13 >> 2 --> 13 / 2^2 = 3')\n",
    "print(\"b >> 2 =\", b >> 2)"
   ]
  },
  {
   "cell_type": "markdown",
   "metadata": {},
   "source": [
    "## Count Bits\n",
    "Count number of bits that are 1  \n",
    "Page 25"
   ]
  },
  {
   "cell_type": "code",
   "execution_count": 9,
   "metadata": {},
   "outputs": [],
   "source": [
    "def count_bits(x: int) -> int:\n",
    "    '''\n",
    "    count number of bits that are 1\n",
    "    '''\n",
    "    num_bits = 0\n",
    "\n",
    "    while x:\n",
    "        # compare last bit with 1 \n",
    "        # if last bit is 1, adds 1 to count\n",
    "        # if last bit is 0, add 0 to count\n",
    "        num_bits += x & 1   \n",
    "        x >>= 1          # shift to right once\n",
    "\n",
    "    return num_bits\n",
    "\n",
    "# 10    1 0 1 0\n",
    "# 13    1 1 0 1\n",
    "# 1     0 0 0 1\n",
    "# 0     0 0 0 0\n",
    "# 4     0 1 0 0\n",
    "# 5     0 1 0 1\n",
    "\n",
    "def run_tests(f, inputs: Tuple, answers: Tuple):\n",
    "    for input, ans in zip(inputs, answers):\n",
    "        assert f(input) == ans   \n",
    "\n",
    "inputs, answers = (10, 13, 1, 0, 4, 5), (2, 3, 1, 0, 1, 2)\n",
    "run_tests(count_bits, inputs, answers)"
   ]
  },
  {
   "cell_type": "markdown",
   "metadata": {},
   "source": [
    "O(n) time complexity"
   ]
  },
  {
   "cell_type": "markdown",
   "metadata": {},
   "source": [
    "## Parity\n",
    "Parity of a word is 1 if number of bits is odd. Else 0"
   ]
  },
  {
   "cell_type": "code",
   "execution_count": 10,
   "metadata": {},
   "outputs": [],
   "source": [
    "def parity(x: int) -> int:\n",
    "    result = 0\n",
    "\n",
    "    while x:\n",
    "        # only count if last bit 1\n",
    "        # XOR:\n",
    "        # - if even number of bits (0) will return 1\n",
    "        # - if odd number of bits (1) will return 0\n",
    "        result ^= x & 1    \n",
    "        x >>= 1     # shift bits one to the right\n",
    "    return result\n",
    "\n",
    "answers = (0, 1, 1, 0, 1, 0)\n",
    "run_tests(parity, inputs, answers)"
   ]
  },
  {
   "cell_type": "markdown",
   "metadata": {},
   "source": [
    "O(n) run time"
   ]
  },
  {
   "cell_type": "markdown",
   "metadata": {},
   "source": [
    "### Bit Tricks\n",
    "x & (x-1) = x with its lowest set bit dropped"
   ]
  },
  {
   "cell_type": "code",
   "execution_count": 11,
   "metadata": {},
   "outputs": [
    {
     "name": "stdout",
     "output_type": "stream",
     "text": [
      "8\n",
      "14\n"
     ]
    }
   ],
   "source": [
    "# 10:    1 0 1 0\n",
    "# 9:     1 0 0 1\n",
    "# 8:     1 0 0 0\n",
    "x = 10    \n",
    "print(x & (x-1))\n",
    "\n",
    "\n",
    "# 15:    1 1 1 1\n",
    "# 14:    1 1 1 0\n",
    "# 14:    1 1 1 0\n",
    "x = 15   \n",
    "print(x & (x-1))"
   ]
  },
  {
   "cell_type": "markdown",
   "metadata": {},
   "source": [
    "x & ~(x-1): isolates lowest set bit in x"
   ]
  },
  {
   "cell_type": "code",
   "execution_count": 12,
   "metadata": {},
   "outputs": [
    {
     "name": "stdout",
     "output_type": "stream",
     "text": [
      "2\n",
      "1\n",
      "4\n"
     ]
    }
   ],
   "source": [
    "# 10:      1 0 1 0\n",
    "# -10:     \n",
    "# 2:       0 0 1 0\n",
    "x = 10    \n",
    "print(x & ~(x-1))\n",
    "\n",
    "\n",
    "# 15:     1 1 1 1\n",
    "# -15:    \n",
    "# 14:     0 0 0 1\n",
    "x = 15   \n",
    "print(x & ~(x-1))\n",
    "\n",
    "# 12:     1 1 0 0\n",
    "# -12:    \n",
    "# 4:      0 1 0 0\n",
    "x = 12  \n",
    "print(x & ~(x-1))"
   ]
  },
  {
   "cell_type": "markdown",
   "metadata": {},
   "source": [
    "~x & (x+1):  isolate lowest unset bit "
   ]
  },
  {
   "cell_type": "code",
   "execution_count": 54,
   "metadata": {},
   "outputs": [
    {
     "name": "stdout",
     "output_type": "stream",
     "text": [
      "1\n",
      "16\n",
      "1\n",
      "4\n"
     ]
    }
   ],
   "source": [
    "# 10:      1 0 1 0\n",
    "# 1:       0 0 0 1\n",
    "x = 10    \n",
    "print(~x & (x+1))\n",
    "\n",
    "\n",
    "# 15:    0 1 1 1 1\n",
    "# 16:    1 0 0 0 0\n",
    "x = 15   \n",
    "print(~x & (x+1))\n",
    "\n",
    "# 12:     1 1 0 0\n",
    "# 1:      0 0 0 1\n",
    "x = 12  \n",
    "print(~x & (x+1))\n",
    "\n",
    "# 11:     1 0 1 1\n",
    "# 4:      0 1 0 0\n",
    "x = 11  \n",
    "print(~x & (x+1))"
   ]
  },
  {
   "cell_type": "markdown",
   "metadata": {},
   "source": [
    "can improve results by using trick to drop last set bit"
   ]
  },
  {
   "cell_type": "code",
   "execution_count": 13,
   "metadata": {},
   "outputs": [],
   "source": [
    "def parity(x: int) -> int:\n",
    "    result = 0         # intialize to even count\n",
    "    while x:\n",
    "        result ^= 1    # flips whether even or odd count\n",
    "        x &= (x-1)     # drop last bit\n",
    "    return result\n",
    "\n",
    "run_tests(parity, inputs, answers)"
   ]
  },
  {
   "cell_type": "markdown",
   "metadata": {},
   "source": [
    "O(k) runtime where k is number of bits set to 1    \n",
    "O(n) is worst case run time if all all bits are 1"
   ]
  },
  {
   "cell_type": "markdown",
   "metadata": {},
   "source": [
    "can cache results for bits length 16 and use look up table  \n",
    "2^16 = 65,536  "
   ]
  },
  {
   "cell_type": "code",
   "execution_count": 14,
   "metadata": {},
   "outputs": [
    {
     "name": "stdout",
     "output_type": "stream",
     "text": [
      "3\n",
      "14\n",
      "2\n"
     ]
    }
   ],
   "source": [
    "# example using window of size 2 bits\n",
    "# cache: <(00): 0, (01): 1, (10): 1: (11): 0>\n",
    "# 11 10 10 10 = 234\n",
    "print(234 >> 6) # 11\n",
    "print(234 >> 4) # 1110\n",
    "\n",
    "# only want last two digits so compare it with 11 (3)\n",
    "print(234 >> 4 & 0x3) # 10\n"
   ]
  },
  {
   "cell_type": "code",
   "execution_count": 15,
   "metadata": {},
   "outputs": [],
   "source": [
    "# pre-compute parities from [0, 2^16)\n",
    "PRECOMPUTED_PARITY = {i:parity(i) for i in range(2**16)}"
   ]
  },
  {
   "cell_type": "code",
   "execution_count": 16,
   "metadata": {},
   "outputs": [],
   "source": [
    "def parity_cache(x: int) -> int:\n",
    "    '''\n",
    "    Check parity for digits up to 2^64 bits\n",
    "    2^64 = 16^4\n",
    "    '''\n",
    "    window = 16\n",
    "\n",
    "    # 16 bits of all 1s\n",
    "    # with &, gets last 16 bits\n",
    "    mask = 0xFFFF   \n",
    "\n",
    "    return (PRECOMPUTED_PARITY[x >> (3 * window)] ^             # first 16 bits\n",
    "                PRECOMPUTED_PARITY[x >> (2 * window) & mask] ^  # second set of 16 bits\n",
    "                PRECOMPUTED_PARITY[x >> (window) & mask] ^\n",
    "                PRECOMPUTED_PARITY[x & mask]                    # last 16 bits\n",
    "            )\n",
    "\n",
    "run_tests(parity_cache, inputs, answers)\n",
    "x = 2^63 + 1231\n",
    "assert parity_cache(x) == parity(x)\n",
    "tests = [random.randrange(0, 2**64) for i in range(int(1e4))]\n",
    "for i in tests:\n",
    "    assert parity_cache(i) == parity(i)\n"
   ]
  },
  {
   "cell_type": "markdown",
   "metadata": {},
   "source": [
    "O(n/L) run time where L is the window size"
   ]
  },
  {
   "cell_type": "markdown",
   "metadata": {},
   "source": [
    "Improvements exploiting associativity and commutativty of XOR"
   ]
  },
  {
   "cell_type": "code",
   "execution_count": null,
   "metadata": {},
   "outputs": [],
   "source": []
  },
  {
   "cell_type": "markdown",
   "metadata": {},
   "source": [
    "### Test if x is a power of 2"
   ]
  },
  {
   "cell_type": "code",
   "execution_count": 17,
   "metadata": {},
   "outputs": [],
   "source": [
    "# powers of two only have one bit set\n",
    "\n",
    "def power2(x: int) -> bool:\n",
    "    return x & (x - 1) == 0 and x != 0\n",
    "\n",
    "inputs, answers = (10, 13, 1, 0, 4, 5, 32), (False, False, True, False, True, False, True)\n",
    "run_tests(power2, inputs, answers)\n",
    "pows2 = [2**i for i in range(64)]\n",
    "for i in pows2:\n",
    "    assert power2(i) == True\n",
    "\n",
    "while i < 100:\n",
    "    x = random.randint(0, 2**64)\n",
    "    if x not in pows2:\n",
    "        assert power2(x) == False, f'Error: {x} returned True'"
   ]
  },
  {
   "cell_type": "markdown",
   "metadata": {},
   "source": [
    "### Right Propagate the rightmost set bit in x\n",
    "e.g. 01010000 --> 01011111\n"
   ]
  },
  {
   "cell_type": "code",
   "execution_count": 18,
   "metadata": {},
   "outputs": [],
   "source": [
    "# by subtracting one, removes lowest set bit and propagates all ones to the right of it\n",
    "# 20:  1 0 1 0 0\n",
    "# 19:  1 0 0 1 1\n",
    "# 23:  1 0 1 1 1\n",
    "x = 20\n",
    "def right_right_propagate(x: int) -> int:\n",
    "    return x | x-1"
   ]
  },
  {
   "cell_type": "markdown",
   "metadata": {},
   "source": [
    "### Compute x mod a power of two\n",
    "e.g. 77 d 64 = 13"
   ]
  },
  {
   "cell_type": "code",
   "execution_count": 19,
   "metadata": {},
   "outputs": [],
   "source": [
    "# 25: 1 1 0 0 1\n",
    "# 8:  0 1 0 0 0\n",
    "# 7:  0 0 1 1 1\n",
    "# 16: 1 0 0 0 0\n",
    "# 15: 0 1 1 1 1\n",
    "\n",
    "# everything to the right of the divisor in x is not divisible by d; everything else is\n",
    "\n",
    "def mod(x: int, d) -> int:\n",
    "    if not power2(d):\n",
    "        raise ValueError('Divsor is not a power of 2')\n",
    "\n",
    "    return x & (d - 1)\n",
    "\n",
    "inputs = ((25, 2), (25, 4), (25, 8), (25, 16), (77, 64), (134432424, 128), (123423, 32))\n",
    "for input in inputs:\n",
    "    x, m = input\n",
    "    assert mod(x, m) == x % m"
   ]
  },
  {
   "cell_type": "markdown",
   "metadata": {},
   "source": [
    "## Swap Bits"
   ]
  },
  {
   "cell_type": "code",
   "execution_count": 20,
   "metadata": {},
   "outputs": [],
   "source": [
    "def swap_bits(x: int, i: int, j: int) -> int:\n",
    "\n",
    "    # check if bits are different\n",
    "    # only need to swap if different\n",
    "    # right shift by index and use & 1 to isolate that bit\n",
    "    if (x >> i) & 1 != (x >> j) & 1:\n",
    "\n",
    "        # left shift 1 by index will return max at that index\n",
    "        bit_mask = 1 << i | 1 << j\n",
    "\n",
    "        # only flip bits where they are different\n",
    "        return x ^ bit_mask\n",
    "    \n",
    "    return x\n",
    "\n",
    "assert swap_bits(25, 3, 4) == 25\n",
    "assert swap_bits(25, 4, 3) == 25\n",
    "assert swap_bits(25, 2, 3) == 21\n",
    "assert swap_bits(25, 3, 2) == 21\n",
    "assert swap_bits(25, 3, 1) == 19\n",
    "assert swap_bits(25, 1, 3) == 19"
   ]
  },
  {
   "cell_type": "markdown",
   "metadata": {},
   "source": [
    "O(1) run time"
   ]
  },
  {
   "cell_type": "markdown",
   "metadata": {},
   "source": [
    "## Reverse Bits\n",
    "64 bit integer  \n",
    "use a cache"
   ]
  },
  {
   "cell_type": "code",
   "execution_count": 21,
   "metadata": {},
   "outputs": [
    {
     "name": "stdout",
     "output_type": "stream",
     "text": [
      "12\n",
      "8\n",
      "4\n",
      "7\n"
     ]
    }
   ],
   "source": [
    "def reverse_bit_naive(x: int, bit_size=4) -> int:\n",
    "    for i in range(math.floor(bit_size/2)):\n",
    "        x = swap_bits(x, i, bit_size-i-1)\n",
    "    return x\n",
    "\n",
    "print(reverse_bit_naive(3))\n",
    "print(reverse_bit_naive(1))\n",
    "print(reverse_bit_naive(2))\n",
    "print(reverse_bit_naive(14))\n"
   ]
  },
  {
   "cell_type": "code",
   "execution_count": 22,
   "metadata": {},
   "outputs": [],
   "source": [
    "REVERSE_BITS_CACHE = {i: reverse_bit_naive(i, bit_size=16) for i in range(2**16)}\n"
   ]
  },
  {
   "cell_type": "code",
   "execution_count": 24,
   "metadata": {},
   "outputs": [],
   "source": [
    "def reverse_bit_cache(x: int) -> int:    \n",
    "    mask_size = 16\n",
    "    mask = 0xFFFF   # 16 onese\n",
    "\n",
    "    return (REVERSE_BITS_CACHE[x & mask] << (mask_size * 3) |                 # get last 16 bits; the push to front of 64 bits\n",
    "            REVERSE_BITS_CACHE[(x >> mask_size) & mask] << (mask_size * 2) |  # get second to last 16 bits\n",
    "            REVERSE_BITS_CACHE[(x >> (mask_size* 2)) & mask] << (mask_size) |\n",
    "            REVERSE_BITS_CACHE[(x >> (mask_size* 3)) & mask]                  # get first 16 bits and put at end\n",
    "    )\n",
    "\n",
    "\n",
    "assert reverse_bit_cache(1) == 2**63\n",
    "assert reverse_bit_cache(2) == 2**62\n",
    "assert reverse_bit_cache(3) == 2**62 + 2**63\n",
    "for i in range(100):\n",
    "    ub = 2**63\n",
    "    input = random.randint(0, ub)\n",
    "    result, ans = reverse_bit_cache(input), reverse_bit_naive(input, bit_size=64)\n",
    "    assert result == ans, f'Error. reverse_bit_cache(input) = {result} != reverse_bit_naive(input, bit_size=64) = {ans}'"
   ]
  },
  {
   "cell_type": "markdown",
   "metadata": {},
   "source": [
    "O(N/L) run time where L is the length of the mask"
   ]
  },
  {
   "cell_type": "markdown",
   "metadata": {},
   "source": [
    "## Find the Closest Integer with the Same Weight\n",
    "weight of an integer is the number of bits set to one   \n",
    "e.g. 92 is 1011100 so has weight 4  \n",
    "next find a number with the same weight s.t. |y-x| is as small as possible\n",
    "e.g. x = 6 should return 5"
   ]
  },
  {
   "cell_type": "code",
   "execution_count": 56,
   "metadata": {},
   "outputs": [
    {
     "name": "stdout",
     "output_type": "stream",
     "text": [
      "5\n",
      "10\n",
      "36\n"
     ]
    }
   ],
   "source": [
    "# basically want to start from end and find first two bits that are different and then flip\n",
    "def closest_int_same_weight(x: int) -> int:\n",
    "    max_bits = 64\n",
    "    for i in range(max_bits-1):              # start from last bit\n",
    "        if (x >> i) & 1 != (x >> (i+1)) & 1: # if two consecutive bits are different\n",
    "            x ^= (1 << i) | (1 << (i+1))     # flip those bits   \n",
    "            return x\n",
    "\n",
    "    raise ValueError('Error. Input is all ones or all zeros')\n",
    "\n",
    "# 6: 1 1 0\n",
    "# 5: 1 0 1\n",
    "\n",
    "# 9:  1 0 0 1\n",
    "# 10: 1 0 1 0\n",
    "\n",
    "# 40: 1 0 1 0 0 0\n",
    "# 36: 1 0 0 1 0 0\n",
    "\n",
    "# 19: 1 0 0 1 1 \n",
    "# 21: 1 0 1 0 1\n",
    "inputs, answers = (6, 9, 40, 19), (5, 10, 36, 21)\n",
    "run_tests(closest_int_same_weight, inputs, answers)"
   ]
  },
  {
   "cell_type": "markdown",
   "metadata": {},
   "source": [
    "O(n) run time"
   ]
  },
  {
   "cell_type": "code",
   "execution_count": 58,
   "metadata": {},
   "outputs": [],
   "source": [
    "# note: not checking if entry is all ones or all zeros\n",
    "def closest_int_same_weight_O1(x: int) -> int:\n",
    "\n",
    "    lsb = x & ~(x-1)   # LSB\n",
    "    lusb = ~x & (x+1)  # lowest unset bit \n",
    "\n",
    "    mask = lsb if lsb > lusb else lusb    \n",
    "    mask |= mask >> 1            # set bit to right\n",
    "    \n",
    "    return x ^ mask\n",
    "run_tests(closest_int_same_weight_O1, inputs, answers)\n",
    "\n",
    "for i in range(1000):\n",
    "    ub = 2**64\n",
    "    input = random.randint(1, ub)\n",
    "    try: \n",
    "        ans = closest_int_same_weight(input)\n",
    "        result = closest_int_same_weight_O1(input)\n",
    "        assert ans == result, f'Error. closest_int_same_weight({input}) = {ans} != closest_int_same_weight_O1({input}) = {result}'\n",
    "    except ValueError:\n",
    "        pass"
   ]
  },
  {
   "cell_type": "markdown",
   "metadata": {},
   "source": [
    "O(1) time and space"
   ]
  },
  {
   "cell_type": "markdown",
   "metadata": {},
   "source": [
    "## Compute Addition w/o Arithmetical Operators\n"
   ]
  },
  {
   "cell_type": "code",
   "execution_count": 64,
   "metadata": {},
   "outputs": [],
   "source": [
    "# 26: 0 1 1 0 1 0\n",
    "# 12: 0 0 1 1 0 0\n",
    "# 38: 1 0 0 1 1 0     # working from right to left; apply XOR and carry when 1 1\n",
    "\n",
    "# x ^ y: implements XOR\n",
    "# (x & y) << 1: & will find places where need to carry, then move it to right once\n",
    "# keep adding in the carries until nothing left to carry\n",
    "\n",
    "#   x ^ y          (x & y) << 1\n",
    "# 0 1 0 1 1 0        1 0 0 0 0 0\n",
    "# 0 0 0 1 1 0      1 0 0 0 0 0 0\n",
    "# 1 0 0 1 1 0    0 0 0 0 0 0 0 0\n",
    "def add(x: int, y:int) -> int:\n",
    "    # since don't know length of values, use recursion\n",
    "    return x if y == 0 else add(x ^ y, (x & y) << 1)\n",
    "\n",
    "assert add(26, 12) == 38\n",
    "for i in range(1000):\n",
    "    input = [random.randint(0, 2**64) for i in range(2)]\n",
    "    assert add(input[0], input[1]) == sum(input)\n"
   ]
  },
  {
   "cell_type": "markdown",
   "metadata": {},
   "source": [
    "Time complexity if O(n)"
   ]
  },
  {
   "cell_type": "markdown",
   "metadata": {},
   "source": [
    "## Compute Product w/o Arithmetical Operators\n"
   ]
  },
  {
   "cell_type": "code",
   "execution_count": 71,
   "metadata": {},
   "outputs": [],
   "source": [
    "# work right to left\n",
    "# if bit in y is a one, copies the bits in x\n",
    "# move place values\n",
    "def multiply(x: int, y: int) -> int:\n",
    "\n",
    "    sum_so_far = 0\n",
    "    while y != 0:\n",
    "        if y & 1 == 1:   # check last bit\n",
    "            sum_so_far = add(sum_so_far, x)\n",
    "        x <<= 1         # shift place value to left one\n",
    "        y >>= 1         # process next bit of y working from right to left\n",
    "    \n",
    "    return sum_so_far\n",
    "            \n",
    "assert multiply(3, 100) == 300\n",
    "for i in range(1000):\n",
    "    input = [random.randint(0, 2**64) for i in range(2)]\n",
    "    assert multiply(input[0], input[1]) == input[0] * input[1]"
   ]
  },
  {
   "cell_type": "markdown",
   "metadata": {},
   "source": [
    "Time complexity is O(n^2)  \n",
    "O(n) for looping through each bit   \n",
    "O(n) for addition"
   ]
  },
  {
   "cell_type": "markdown",
   "metadata": {},
   "source": [
    "## Compute Quotient w/o Arithmetical Operators\n",
    "Use only addition subtraction and shifting operators\n"
   ]
  },
  {
   "cell_type": "code",
   "execution_count": null,
   "metadata": {},
   "outputs": [],
   "source": []
  }
 ],
 "metadata": {
  "kernelspec": {
   "display_name": "Python 3.6.13 ('survtrace')",
   "language": "python",
   "name": "python3"
  },
  "language_info": {
   "codemirror_mode": {
    "name": "ipython",
    "version": 3
   },
   "file_extension": ".py",
   "mimetype": "text/x-python",
   "name": "python",
   "nbconvert_exporter": "python",
   "pygments_lexer": "ipython3",
   "version": "3.6.13"
  },
  "orig_nbformat": 4,
  "vscode": {
   "interpreter": {
    "hash": "7350660d3aac55fe8c4b8dcc925e909d6449502b265d5ee80d6d6f39ced54ac7"
   }
  }
 },
 "nbformat": 4,
 "nbformat_minor": 2
}
